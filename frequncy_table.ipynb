{
 "cells": [
  {
   "cell_type": "markdown",
   "metadata": {},
   "source": [
    "#### consider a sports academy\n",
    "survey data contains mapping of gendet of a player to sport optes to play\n",
    "Gender = Male, Female\n",
    "#sports offered:baseball, Basketball;\n"
   ]
  },
  {
   "cell_type": "code",
   "execution_count": null,
   "metadata": {},
   "outputs": [],
   "source": [
    "players = rep(c('Male', 'Female'), each =10)\n",
    "players"
   ]
  },
  {
   "cell_type": "code",
   "execution_count": null,
   "metadata": {},
   "outputs": [],
   "source": [
    "sport = rep(c('Baseball', 'Basketball','Baseball', 'Basketball'), times = c(4,6,4,6))\n",
    "sport"
   ]
  },
  {
   "cell_type": "code",
   "execution_count": null,
   "metadata": {},
   "outputs": [],
   "source": [
    "academy = data.frame(players, sport)\n",
    "academy"
   ]
  },
  {
   "cell_type": "markdown",
   "metadata": {},
   "source": [
    "### This is data is syntehtic data we have created it for expreiment purposes"
   ]
  },
  {
   "cell_type": "code",
   "execution_count": null,
   "metadata": {},
   "outputs": [],
   "source": [
    "freqTable = table(academy)\n",
    "freqTable\n"
   ]
  },
  {
   "cell_type": "markdown",
   "metadata": {},
   "source": [
    "### Probalbility that a player id female given that the sport opted by her is baseball"
   ]
  },
  {
   "cell_type": "code",
   "execution_count": null,
   "metadata": {},
   "outputs": [],
   "source": [
    "freqTable = addmargins(freqTable)\n",
    "freqTable\n",
    "\n"
   ]
  },
  {
   "cell_type": "code",
   "execution_count": null,
   "metadata": {},
   "outputs": [],
   "source": [
    "print(freqTable[\"Female\", 'Baseball'])\n",
    "print(freqTable[\"Sum\", 'Baseball'])\n",
    "answer = freqTable[\"Female\", 'Baseball']/freqTable[\"Sum\", 'Baseball']\n",
    "answer\n"
   ]
  },
  {
   "cell_type": "code",
   "execution_count": null,
   "metadata": {},
   "outputs": [],
   "source": [
    "players = rep(c('Male', 'Female'), each =150)\n",
    "players"
   ]
  },
  {
   "cell_type": "code",
   "execution_count": null,
   "metadata": {},
   "outputs": [],
   "source": [
    "sport = rep(c('Baseball', 'Basketball','Football', 'Soccer','Baseball', 'Basketball','Football', 'Soccer'), times = c(34,40,58,18, 34,52,20,44))\n",
    "sport"
   ]
  },
  {
   "cell_type": "code",
   "execution_count": null,
   "metadata": {},
   "outputs": [],
   "source": [
    "Academy  = data.frame(players, sport)\n",
    "Academy"
   ]
  },
  {
   "cell_type": "code",
   "execution_count": null,
   "metadata": {},
   "outputs": [],
   "source": [
    "freqTable = table(Academy)\n",
    "freqTable\n"
   ]
  },
  {
   "cell_type": "code",
   "execution_count": null,
   "metadata": {},
   "outputs": [],
   "source": [
    "freqTable = addmargins(freqTable)\n",
    "freqTable"
   ]
  },
  {
   "cell_type": "code",
   "execution_count": null,
   "metadata": {},
   "outputs": [],
   "source": [
    "freqTable[\"Female\", \"Baseball\"]\n",
    "freqTable[\"Sum\", \"Baseball\"]\n",
    "answer = freqTable[\"Female\", \"Baseball\"]/freqTable[\"Sum\", \"Baseball\"]"
   ]
  },
  {
   "cell_type": "markdown",
   "metadata": {},
   "source": [
    "###### Probability that the playuer is male , given that the sport opted is soccer"
   ]
  },
  {
   "cell_type": "code",
   "execution_count": null,
   "metadata": {},
   "outputs": [],
   "source": [
    "freqTable[\"Male\", \"Soccer\"]\n",
    "freqTable[\"Sum\", \"Soccer\"]\n",
    "answer = freqTable[\"Male\", \"Soccer\"]/freqTable[\"Sum\", \"Soccer\"]\n",
    "answer"
   ]
  },
  {
   "cell_type": "markdown",
   "metadata": {},
   "source": [
    "Probability of prefferring basketball, given that individual is female"
   ]
  },
  {
   "cell_type": "code",
   "execution_count": null,
   "metadata": {},
   "outputs": [],
   "source": [
    "freqTable[\"Female\", \"Basketball\"]\n",
    "freqTable[\"Sum\", \"Basketball\"]\n",
    "answer = freqTable[\"Female\", \"Basketball\"]/freqTable[\"Sum\", \"Basketball\"]\n",
    "answer"
   ]
  },
  {
   "cell_type": "markdown",
   "metadata": {},
   "source": [
    "# Problem 3 -Homework\n",
    "## Raod accidents problem"
   ]
  },
  {
   "cell_type": "code",
   "execution_count": null,
   "metadata": {},
   "outputs": [],
   "source": [
    "type = rep(c('Accident', 'non-Accident'), times = (c(550,7000)))\n",
    "type"
   ]
  },
  {
   "cell_type": "code",
   "execution_count": null,
   "metadata": {},
   "outputs": [],
   "source": [
    "people = rep(c('do no follow rules','Follow rules', 'do no follow rules' ,'Follow rules'), times = c(500,50,5000,2000))\n",
    "people"
   ]
  },
  {
   "cell_type": "code",
   "execution_count": null,
   "metadata": {},
   "outputs": [],
   "source": [
    "cases = data.frame(type, people)\n",
    "cases\n"
   ]
  },
  {
   "cell_type": "code",
   "execution_count": 48,
   "metadata": {},
   "outputs": [
    {
     "data": {
      "text/plain": [
       "              people\n",
       "type           do no follow rules Follow rules\n",
       "  Accident                    500           50\n",
       "  non-Accident               5000         2000"
      ]
     },
     "metadata": {},
     "output_type": "display_data"
    }
   ],
   "source": [
    "freqTable = table(cases)\n",
    "freqTable\n"
   ]
  },
  {
   "cell_type": "code",
   "execution_count": 49,
   "metadata": {},
   "outputs": [],
   "source": [
    "freqTable= addmargins(freqTable)"
   ]
  },
  {
   "cell_type": "code",
   "execution_count": 50,
   "metadata": {},
   "outputs": [
    {
     "data": {
      "text/html": [
       "<table class=\"dataframe\">\n",
       "<caption>A table: 3 × 3 of type dbl</caption>\n",
       "<thead>\n",
       "\t<tr><th></th><th scope=col>do no follow rules</th><th scope=col>Follow rules</th><th scope=col>Sum</th></tr>\n",
       "</thead>\n",
       "<tbody>\n",
       "\t<tr><th scope=row>Accident</th><td> 500</td><td>  50</td><td> 550</td></tr>\n",
       "\t<tr><th scope=row>non-Accident</th><td>5000</td><td>2000</td><td>7000</td></tr>\n",
       "\t<tr><th scope=row>Sum</th><td>5500</td><td>2050</td><td>7550</td></tr>\n",
       "</tbody>\n",
       "</table>\n"
      ],
      "text/latex": [
       "A table: 3 × 3 of type dbl\n",
       "\\begin{tabular}{r|lll}\n",
       "  & do no follow rules & Follow rules & Sum\\\\\n",
       "\\hline\n",
       "\tAccident &  500 &   50 &  550\\\\\n",
       "\tnon-Accident & 5000 & 2000 & 7000\\\\\n",
       "\tSum & 5500 & 2050 & 7550\\\\\n",
       "\\end{tabular}\n"
      ],
      "text/markdown": [
       "\n",
       "A table: 3 × 3 of type dbl\n",
       "\n",
       "| <!--/--> | do no follow rules | Follow rules | Sum |\n",
       "|---|---|---|---|\n",
       "| Accident |  500 |   50 |  550 |\n",
       "| non-Accident | 5000 | 2000 | 7000 |\n",
       "| Sum | 5500 | 2050 | 7550 |\n",
       "\n"
      ],
      "text/plain": [
       "              people\n",
       "type           do no follow rules Follow rules Sum \n",
       "  Accident      500                 50          550\n",
       "  non-Accident 5000               2000         7000\n",
       "  Sum          5500               2050         7550"
      ]
     },
     "metadata": {},
     "output_type": "display_data"
    }
   ],
   "source": [
    "freqTable"
   ]
  },
  {
   "cell_type": "markdown",
   "metadata": {},
   "source": [
    "Problem - probability of accident given that the person follows traffic rules"
   ]
  },
  {
   "cell_type": "code",
   "execution_count": 51,
   "metadata": {},
   "outputs": [
    {
     "name": "stdout",
     "output_type": "stream",
     "text": [
      "[1] 50\n",
      "[1] 2050\n"
     ]
    },
    {
     "data": {
      "text/html": [
       "0.024390243902439"
      ],
      "text/latex": [
       "0.024390243902439"
      ],
      "text/markdown": [
       "0.024390243902439"
      ],
      "text/plain": [
       "[1] 0.02439024"
      ]
     },
     "metadata": {},
     "output_type": "display_data"
    }
   ],
   "source": [
    "print(freqTable[\"Accident\", 'Follow rules'])\n",
    "print(freqTable[\"Sum\", 'Follow rules'])\n",
    "answer = freqTable[\"Accident\", 'Follow rules']/freqTable[\"Sum\", 'Follow rules']\n",
    "answer\n"
   ]
  },
  {
   "cell_type": "code",
   "execution_count": null,
   "metadata": {},
   "outputs": [],
   "source": []
  }
 ],
 "metadata": {
  "interpreter": {
   "hash": "1fb457075518da48b6f10d6a89d1c79a5d3a8a4cce5ab48738750cf0a5c90cbc"
  },
  "kernelspec": {
   "display_name": "R",
   "language": "R",
   "name": "ir"
  },
  "language_info": {
   "codemirror_mode": "r",
   "file_extension": ".r",
   "mimetype": "text/x-r-source",
   "name": "R",
   "pygments_lexer": "r",
   "version": "4.1.2"
  },
  "orig_nbformat": 4
 },
 "nbformat": 4,
 "nbformat_minor": 2
}
