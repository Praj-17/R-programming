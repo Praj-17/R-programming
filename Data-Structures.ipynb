{
 "cells": [
  {
   "cell_type": "code",
   "execution_count": 2,
   "metadata": {},
   "outputs": [
    {
     "name": "stdout",
     "output_type": "stream",
     "text": [
      "[1] \"hello\"\n"
     ]
    }
   ],
   "source": [
    "print(\"hello\")"
   ]
  },
  {
   "cell_type": "code",
   "execution_count": 3,
   "metadata": {},
   "outputs": [
    {
     "name": "stdout",
     "output_type": "stream",
     "text": [
      "   id grade\n",
      "1   1    75\n",
      "3   3    54\n",
      "4   4    90\n",
      "5   5    86\n",
      "6   6    93\n",
      "8   8    71\n",
      "9   9    66\n",
      "10 10    99\n"
     ]
    }
   ],
   "source": [
    "x = 50\n",
    "# x <- as.integer(input[1])\n",
    "\n",
    "data <- data.frame(\n",
    "    \"id\" = c(1:10),\n",
    "    \"grade\" = c(75, 26, 54, 90, 86, 93, 48, 71, 66, 99)\n",
    ")\n",
    "\n",
    "a = data[data$grade>x, ]\n",
    "print(a)\n"
   ]
  },
  {
   "cell_type": "code",
   "execution_count": 4,
   "metadata": {},
   "outputs": [
    {
     "data": {
      "text/html": [
       "<table class=\"dataframe\">\n",
       "<caption>A data.frame: 10 × 1</caption>\n",
       "<thead>\n",
       "\t<tr><th scope=col>grade</th></tr>\n",
       "\t<tr><th scope=col>&lt;dbl&gt;</th></tr>\n",
       "</thead>\n",
       "<tbody>\n",
       "\t<tr><td>75</td></tr>\n",
       "\t<tr><td>26</td></tr>\n",
       "\t<tr><td>54</td></tr>\n",
       "\t<tr><td>90</td></tr>\n",
       "\t<tr><td>86</td></tr>\n",
       "\t<tr><td>93</td></tr>\n",
       "\t<tr><td>48</td></tr>\n",
       "\t<tr><td>71</td></tr>\n",
       "\t<tr><td>66</td></tr>\n",
       "\t<tr><td>99</td></tr>\n",
       "</tbody>\n",
       "</table>\n"
      ],
      "text/latex": [
       "A data.frame: 10 × 1\n",
       "\\begin{tabular}{l}\n",
       " grade\\\\\n",
       " <dbl>\\\\\n",
       "\\hline\n",
       "\t 75\\\\\n",
       "\t 26\\\\\n",
       "\t 54\\\\\n",
       "\t 90\\\\\n",
       "\t 86\\\\\n",
       "\t 93\\\\\n",
       "\t 48\\\\\n",
       "\t 71\\\\\n",
       "\t 66\\\\\n",
       "\t 99\\\\\n",
       "\\end{tabular}\n"
      ],
      "text/markdown": [
       "\n",
       "A data.frame: 10 × 1\n",
       "\n",
       "| grade &lt;dbl&gt; |\n",
       "|---|\n",
       "| 75 |\n",
       "| 26 |\n",
       "| 54 |\n",
       "| 90 |\n",
       "| 86 |\n",
       "| 93 |\n",
       "| 48 |\n",
       "| 71 |\n",
       "| 66 |\n",
       "| 99 |\n",
       "\n"
      ],
      "text/plain": [
       "   grade\n",
       "1  75   \n",
       "2  26   \n",
       "3  54   \n",
       "4  90   \n",
       "5  86   \n",
       "6  93   \n",
       "7  48   \n",
       "8  71   \n",
       "9  66   \n",
       "10 99   "
      ]
     },
     "metadata": {},
     "output_type": "display_data"
    }
   ],
   "source": [
    "a = data['grade']\n",
    "a"
   ]
  },
  {
   "cell_type": "code",
   "execution_count": 5,
   "metadata": {},
   "outputs": [
    {
     "name": "stderr",
     "output_type": "stream",
     "text": [
      "Warning message in if (i > x) {:\n",
      "\"the condition has length > 1 and only the first element will be used\"\n"
     ]
    }
   ],
   "source": [
    "count = 0\n",
    "for(i in a)\n",
    "{\n",
    "    if(i>x)\n",
    "    {\n",
    "        count = count +1\n",
    "    }\n",
    "}"
   ]
  },
  {
   "cell_type": "code",
   "execution_count": 6,
   "metadata": {},
   "outputs": [
    {
     "data": {
      "text/html": [
       "1"
      ],
      "text/latex": [
       "1"
      ],
      "text/markdown": [
       "1"
      ],
      "text/plain": [
       "[1] 1"
      ]
     },
     "metadata": {},
     "output_type": "display_data"
    }
   ],
   "source": [
    "count"
   ]
  },
  {
   "cell_type": "code",
   "execution_count": 7,
   "metadata": {},
   "outputs": [
    {
     "data": {
      "text/html": [
       "1"
      ],
      "text/latex": [
       "1"
      ],
      "text/markdown": [
       "1"
      ],
      "text/plain": [
       "[1] 1"
      ]
     },
     "metadata": {},
     "output_type": "display_data"
    }
   ],
   "source": [
    "length(subset(a, grade>x))"
   ]
  },
  {
   "cell_type": "code",
   "execution_count": 8,
   "metadata": {},
   "outputs": [],
   "source": [
    "pdf(file = \"Chart.pdf\")\n",
    "plot(1:10, main = \"My chart\", xlab = \"The x axis\", ylab = \"The y axis\")"
   ]
  },
  {
   "cell_type": "code",
   "execution_count": 9,
   "metadata": {},
   "outputs": [],
   "source": [
    "x = mtcars$wt\n",
    "y = mtcars$drat\n",
    "pdf(file = \"Chart2.pdf\")\n",
    "plot(x,y, main = \"My chart\", xlab = \"The x axis\", ylab = \"The y axis\")"
   ]
  },
  {
   "cell_type": "code",
   "execution_count": 10,
   "metadata": {},
   "outputs": [
    {
     "data": {
      "image/png": "[encoded data removed]",
      "text/plain": [
       "plot without title"
      ]
     },
     "metadata": {
      "image/png": {
       "height": 420,
       "width": 420
      }
     },
     "output_type": "display_data"
    }
   ],
   "source": [
    "barplot(mtcars$wt, names.arg = rownames(mtcars), horiz = TRUE, col = \"red\")"
   ]
  },
  {
   "cell_type": "code",
   "execution_count": 11,
   "metadata": {},
   "outputs": [
    {
     "data": {
      "image/png": "[encoded data removed]",
      "text/plain": [
       "plot without title"
      ]
     },
     "metadata": {
      "image/png": {
       "height": 420,
       "width": 420
      }
     },
     "output_type": "display_data"
    }
   ],
   "source": [
    "x = c(10, 30, 40 , 20 )\n",
    "y  = c(\"A\",\"B\", \"C\", \"D\")\n",
    "pie(x, label = y)"
   ]
  },
  {
   "cell_type": "code",
   "execution_count": null,
   "metadata": {},
   "outputs": [],
   "source": []
  },
  {
   "cell_type": "code",
   "execution_count": 12,
   "metadata": {},
   "outputs": [],
   "source": [
    "size = factor(c(\"small\", \"large\", \"small\", \n",
    "\"medium\"))"
   ]
  },
  {
   "cell_type": "code",
   "execution_count": 13,
   "metadata": {},
   "outputs": [
    {
     "data": {
      "text/html": [
       "<style>\n",
       ".list-inline {list-style: none; margin:0; padding: 0}\n",
       ".list-inline>li {display: inline-block}\n",
       ".list-inline>li:not(:last-child)::after {content: \"\\00b7\"; padding: 0 .5ex}\n",
       "</style>\n",
       "<ol class=list-inline><li>small</li><li>large</li><li>small</li><li>medium</li></ol>\n",
       "\n",
       "<details>\n",
       "\t<summary style=display:list-item;cursor:pointer>\n",
       "\t\t<strong>Levels</strong>:\n",
       "\t</summary>\n",
       "\t<style>\n",
       "\t.list-inline {list-style: none; margin:0; padding: 0}\n",
       "\t.list-inline>li {display: inline-block}\n",
       "\t.list-inline>li:not(:last-child)::after {content: \"\\00b7\"; padding: 0 .5ex}\n",
       "\t</style>\n",
       "\t<ol class=list-inline><li>'large'</li><li>'medium'</li><li>'small'</li></ol>\n",
       "</details>"
      ],
      "text/latex": [
       "\\begin{enumerate*}\n",
       "\\item small\n",
       "\\item large\n",
       "\\item small\n",
       "\\item medium\n",
       "\\end{enumerate*}\n",
       "\n",
       "\\emph{Levels}: \\begin{enumerate*}\n",
       "\\item 'large'\n",
       "\\item 'medium'\n",
       "\\item 'small'\n",
       "\\end{enumerate*}\n"
      ],
      "text/markdown": [
       "1. small\n",
       "2. large\n",
       "3. small\n",
       "4. medium\n",
       "\n",
       "\n",
       "\n",
       "**Levels**: 1. 'large'\n",
       "2. 'medium'\n",
       "3. 'small'\n",
       "\n",
       "\n"
      ],
      "text/plain": [
       "[1] small  large  small  medium\n",
       "Levels: large medium small"
      ]
     },
     "metadata": {},
     "output_type": "display_data"
    }
   ],
   "source": [
    "size"
   ]
  },
  {
   "cell_type": "code",
   "execution_count": null,
   "metadata": {},
   "outputs": [],
   "source": []
  },
  {
   "cell_type": "code",
   "execution_count": null,
   "metadata": {},
   "outputs": [
    {
     "name": "stdout",
     "output_type": "stream",
     "text": [
      "List of 4\n",
      " $ : int [1:3] 1 2 3\n",
      " $ : chr [1:2] \"a\" \"b\"\n",
      " $ : logi [1:3] TRUE FALSE TRUE\n",
      " $ : num [1:3] 12 13 45\n"
     ]
    }
   ],
   "source": [
    "myList <- list(1:3, c(\"a\", \"b\"), c(TRUE,\n",
    "FALSE, TRUE), c(12, 13, 45))\n",
    "str(myList)"
   ]
  },
  {
   "cell_type": "code",
   "execution_count": null,
   "metadata": {},
   "outputs": [],
   "source": [
    "m = matrix(data=1:8, nrow=4, ncol=2,byrow=0)"
   ]
  },
  {
   "cell_type": "code",
   "execution_count": null,
   "metadata": {},
   "outputs": [
    {
     "data": {
      "text/html": [
       "<table class=\"dataframe\">\n",
       "<caption>A matrix: 4 × 2 of type int</caption>\n",
       "<tbody>\n",
       "\t<tr><td>1</td><td>5</td></tr>\n",
       "\t<tr><td>2</td><td>6</td></tr>\n",
       "\t<tr><td>3</td><td>7</td></tr>\n",
       "\t<tr><td>4</td><td>8</td></tr>\n",
       "</tbody>\n",
       "</table>\n"
      ],
      "text/latex": [
       "A matrix: 4 × 2 of type int\n",
       "\\begin{tabular}{ll}\n",
       "\t 1 & 5\\\\\n",
       "\t 2 & 6\\\\\n",
       "\t 3 & 7\\\\\n",
       "\t 4 & 8\\\\\n",
       "\\end{tabular}\n"
      ],
      "text/markdown": [
       "\n",
       "A matrix: 4 × 2 of type int\n",
       "\n",
       "| 1 | 5 |\n",
       "| 2 | 6 |\n",
       "| 3 | 7 |\n",
       "| 4 | 8 |\n",
       "\n"
      ],
      "text/plain": [
       "     [,1] [,2]\n",
       "[1,] 1    5   \n",
       "[2,] 2    6   \n",
       "[3,] 3    7   \n",
       "[4,] 4    8   "
      ]
     },
     "metadata": {},
     "output_type": "display_data"
    }
   ],
   "source": [
    "m"
   ]
  },
  {
   "cell_type": "code",
   "execution_count": null,
   "metadata": {},
   "outputs": [],
   "source": []
  },
  {
   "cell_type": "code",
   "execution_count": null,
   "metadata": {},
   "outputs": [],
   "source": [
    "dimnames(m) = list(c(\"r1\", \"r2\",\"r3\",\"r4\"), c(\"c1\",\"c2\"))"
   ]
  },
  {
   "cell_type": "code",
   "execution_count": null,
   "metadata": {},
   "outputs": [
    {
     "data": {
      "text/html": [
       "<table class=\"dataframe\">\n",
       "<caption>A matrix: 4 × 2 of type int</caption>\n",
       "<thead>\n",
       "\t<tr><th></th><th scope=col>c1</th><th scope=col>c2</th></tr>\n",
       "</thead>\n",
       "<tbody>\n",
       "\t<tr><th scope=row>r1</th><td>1</td><td>5</td></tr>\n",
       "\t<tr><th scope=row>r2</th><td>2</td><td>6</td></tr>\n",
       "\t<tr><th scope=row>r3</th><td>3</td><td>7</td></tr>\n",
       "\t<tr><th scope=row>r4</th><td>4</td><td>8</td></tr>\n",
       "</tbody>\n",
       "</table>\n"
      ],
      "text/latex": [
       "A matrix: 4 × 2 of type int\n",
       "\\begin{tabular}{r|ll}\n",
       "  & c1 & c2\\\\\n",
       "\\hline\n",
       "\tr1 & 1 & 5\\\\\n",
       "\tr2 & 2 & 6\\\\\n",
       "\tr3 & 3 & 7\\\\\n",
       "\tr4 & 4 & 8\\\\\n",
       "\\end{tabular}\n"
      ],
      "text/markdown": [
       "\n",
       "A matrix: 4 × 2 of type int\n",
       "\n",
       "| <!--/--> | c1 | c2 |\n",
       "|---|---|---|\n",
       "| r1 | 1 | 5 |\n",
       "| r2 | 2 | 6 |\n",
       "| r3 | 3 | 7 |\n",
       "| r4 | 4 | 8 |\n",
       "\n"
      ],
      "text/plain": [
       "   c1 c2\n",
       "r1 1  5 \n",
       "r2 2  6 \n",
       "r3 3  7 \n",
       "r4 4  8 "
      ]
     },
     "metadata": {},
     "output_type": "display_data"
    }
   ],
   "source": [
    "m"
   ]
  },
  {
   "cell_type": "code",
   "execution_count": null,
   "metadata": {},
   "outputs": [
    {
     "data": {
      "text/html": [
       "<table class=\"dataframe\">\n",
       "<caption>A matrix: 2 × 3 of type int</caption>\n",
       "<tbody>\n",
       "\t<tr><td>1</td><td>2</td><td>3</td></tr>\n",
       "\t<tr><td>5</td><td>6</td><td>7</td></tr>\n",
       "</tbody>\n",
       "</table>\n"
      ],
      "text/latex": [
       "A matrix: 2 × 3 of type int\n",
       "\\begin{tabular}{lll}\n",
       "\t 1 & 2 & 3\\\\\n",
       "\t 5 & 6 & 7\\\\\n",
       "\\end{tabular}\n"
      ],
      "text/markdown": [
       "\n",
       "A matrix: 2 × 3 of type int\n",
       "\n",
       "| 1 | 2 | 3 |\n",
       "| 5 | 6 | 7 |\n",
       "\n"
      ],
      "text/plain": [
       "     [,1] [,2] [,3]\n",
       "[1,] 1    2    3   \n",
       "[2,] 5    6    7   "
      ]
     },
     "metadata": {},
     "output_type": "display_data"
    },
    {
     "data": {
      "text/html": [
       "<table class=\"dataframe\">\n",
       "<caption>A matrix: 3 × 2 of type int</caption>\n",
       "<tbody>\n",
       "\t<tr><td>1</td><td>5</td></tr>\n",
       "\t<tr><td>2</td><td>6</td></tr>\n",
       "\t<tr><td>3</td><td>7</td></tr>\n",
       "</tbody>\n",
       "</table>\n"
      ],
      "text/latex": [
       "A matrix: 3 × 2 of type int\n",
       "\\begin{tabular}{ll}\n",
       "\t 1 & 5\\\\\n",
       "\t 2 & 6\\\\\n",
       "\t 3 & 7\\\\\n",
       "\\end{tabular}\n"
      ],
      "text/markdown": [
       "\n",
       "A matrix: 3 × 2 of type int\n",
       "\n",
       "| 1 | 5 |\n",
       "| 2 | 6 |\n",
       "| 3 | 7 |\n",
       "\n"
      ],
      "text/plain": [
       "     [,1] [,2]\n",
       "[1,] 1    5   \n",
       "[2,] 2    6   \n",
       "[3,] 3    7   "
      ]
     },
     "metadata": {},
     "output_type": "display_data"
    }
   ],
   "source": [
    "a = rbind(1:3,5:7)\n",
    "b = cbind(1:3,5:7)\n",
    "a\n",
    "b"
   ]
  },
  {
   "cell_type": "code",
   "execution_count": null,
   "metadata": {},
   "outputs": [],
   "source": [
    "Names = c(\"Prajwal\", \"Sakshi\", \"Aditi\", \"Shreyash\", \"noops\", \"Rishi\")\n",
    "Roll_no = 1:6\n",
    "marks = c(15,10,3,5,9,4)\n",
    "picnic = factor(c(\"Yes\", \"No\",\"Yes\", \"No\",\"Yes\", \"No\"))"
   ]
  },
  {
   "cell_type": "code",
   "execution_count": null,
   "metadata": {},
   "outputs": [
    {
     "data": {
      "text/html": [
       "<table class=\"dataframe\">\n",
       "<caption>A data.frame: 6 × 4</caption>\n",
       "<thead>\n",
       "\t<tr><th scope=col>Roll_no</th><th scope=col>Names</th><th scope=col>marks</th><th scope=col>picnic</th></tr>\n",
       "\t<tr><th scope=col>&lt;int&gt;</th><th scope=col>&lt;chr&gt;</th><th scope=col>&lt;dbl&gt;</th><th scope=col>&lt;fct&gt;</th></tr>\n",
       "</thead>\n",
       "<tbody>\n",
       "\t<tr><td>1</td><td>Prajwal </td><td>15</td><td>Yes</td></tr>\n",
       "\t<tr><td>2</td><td>Sakshi  </td><td>10</td><td>No </td></tr>\n",
       "\t<tr><td>3</td><td>Aditi   </td><td> 3</td><td>Yes</td></tr>\n",
       "\t<tr><td>4</td><td>Shreyash</td><td> 5</td><td>No </td></tr>\n",
       "\t<tr><td>5</td><td>noops   </td><td> 9</td><td>Yes</td></tr>\n",
       "\t<tr><td>6</td><td>Rishi   </td><td> 4</td><td>No </td></tr>\n",
       "</tbody>\n",
       "</table>\n"
      ],
      "text/latex": [
       "A data.frame: 6 × 4\n",
       "\\begin{tabular}{llll}\n",
       " Roll\\_no & Names & marks & picnic\\\\\n",
       " <int> & <chr> & <dbl> & <fct>\\\\\n",
       "\\hline\n",
       "\t 1 & Prajwal  & 15 & Yes\\\\\n",
       "\t 2 & Sakshi   & 10 & No \\\\\n",
       "\t 3 & Aditi    &  3 & Yes\\\\\n",
       "\t 4 & Shreyash &  5 & No \\\\\n",
       "\t 5 & noops    &  9 & Yes\\\\\n",
       "\t 6 & Rishi    &  4 & No \\\\\n",
       "\\end{tabular}\n"
      ],
      "text/markdown": [
       "\n",
       "A data.frame: 6 × 4\n",
       "\n",
       "| Roll_no &lt;int&gt; | Names &lt;chr&gt; | marks &lt;dbl&gt; | picnic &lt;fct&gt; |\n",
       "|---|---|---|---|\n",
       "| 1 | Prajwal  | 15 | Yes |\n",
       "| 2 | Sakshi   | 10 | No  |\n",
       "| 3 | Aditi    |  3 | Yes |\n",
       "| 4 | Shreyash |  5 | No  |\n",
       "| 5 | noops    |  9 | Yes |\n",
       "| 6 | Rishi    |  4 | No  |\n",
       "\n"
      ],
      "text/plain": [
       "  Roll_no Names    marks picnic\n",
       "1 1       Prajwal  15    Yes   \n",
       "2 2       Sakshi   10    No    \n",
       "3 3       Aditi     3    Yes   \n",
       "4 4       Shreyash  5    No    \n",
       "5 5       noops     9    Yes   \n",
       "6 6       Rishi     4    No    "
      ]
     },
     "metadata": {},
     "output_type": "display_data"
    }
   ],
   "source": [
    "df = data.frame(Roll_no, Names, marks,picnic)\n",
    "df"
   ]
  },
  {
   "cell_type": "code",
   "execution_count": null,
   "metadata": {},
   "outputs": [],
   "source": [
    "df$Names[df$Names == \"Rishi\"] = \"Rishiskesh\"\n",
    "df$marks[df$Names == \"Rishiskesh\"] = 20\n",
    "df$Names[df$Names == \"Rishi\"] = \"Rishiskesh\""
   ]
  },
  {
   "cell_type": "code",
   "execution_count": null,
   "metadata": {},
   "outputs": [
    {
     "data": {
      "text/html": [
       "<table class=\"dataframe\">\n",
       "<caption>A data.frame: 6 × 4</caption>\n",
       "<thead>\n",
       "\t<tr><th scope=col>Roll_no</th><th scope=col>Names</th><th scope=col>marks</th><th scope=col>picnic</th></tr>\n",
       "\t<tr><th scope=col>&lt;int&gt;</th><th scope=col>&lt;chr&gt;</th><th scope=col>&lt;dbl&gt;</th><th scope=col>&lt;fct&gt;</th></tr>\n",
       "</thead>\n",
       "<tbody>\n",
       "\t<tr><td>1</td><td>Prajwal   </td><td>15</td><td>Yes</td></tr>\n",
       "\t<tr><td>2</td><td>Sakshi    </td><td>10</td><td>No </td></tr>\n",
       "\t<tr><td>3</td><td>Aditi     </td><td> 3</td><td>Yes</td></tr>\n",
       "\t<tr><td>4</td><td>Shreyash  </td><td> 5</td><td>No </td></tr>\n",
       "\t<tr><td>5</td><td>noops     </td><td> 9</td><td>Yes</td></tr>\n",
       "\t<tr><td>6</td><td>Rishiskesh</td><td>20</td><td>No </td></tr>\n",
       "</tbody>\n",
       "</table>\n"
      ],
      "text/latex": [
       "A data.frame: 6 × 4\n",
       "\\begin{tabular}{llll}\n",
       " Roll\\_no & Names & marks & picnic\\\\\n",
       " <int> & <chr> & <dbl> & <fct>\\\\\n",
       "\\hline\n",
       "\t 1 & Prajwal    & 15 & Yes\\\\\n",
       "\t 2 & Sakshi     & 10 & No \\\\\n",
       "\t 3 & Aditi      &  3 & Yes\\\\\n",
       "\t 4 & Shreyash   &  5 & No \\\\\n",
       "\t 5 & noops      &  9 & Yes\\\\\n",
       "\t 6 & Rishiskesh & 20 & No \\\\\n",
       "\\end{tabular}\n"
      ],
      "text/markdown": [
       "\n",
       "A data.frame: 6 × 4\n",
       "\n",
       "| Roll_no &lt;int&gt; | Names &lt;chr&gt; | marks &lt;dbl&gt; | picnic &lt;fct&gt; |\n",
       "|---|---|---|---|\n",
       "| 1 | Prajwal    | 15 | Yes |\n",
       "| 2 | Sakshi     | 10 | No  |\n",
       "| 3 | Aditi      |  3 | Yes |\n",
       "| 4 | Shreyash   |  5 | No  |\n",
       "| 5 | noops      |  9 | Yes |\n",
       "| 6 | Rishiskesh | 20 | No  |\n",
       "\n"
      ],
      "text/plain": [
       "  Roll_no Names      marks picnic\n",
       "1 1       Prajwal    15    Yes   \n",
       "2 2       Sakshi     10    No    \n",
       "3 3       Aditi       3    Yes   \n",
       "4 4       Shreyash    5    No    \n",
       "5 5       noops       9    Yes   \n",
       "6 6       Rishiskesh 20    No    "
      ]
     },
     "metadata": {},
     "output_type": "display_data"
    }
   ],
   "source": [
    "df"
   ]
  },
  {
   "cell_type": "code",
   "execution_count": null,
   "metadata": {},
   "outputs": [],
   "source": [
    "df$picnic[df$marks > 15] = \"Yes\"\n",
    "df$picnic[df$marks < 15] = \"No\""
   ]
  },
  {
   "cell_type": "code",
   "execution_count": null,
   "metadata": {},
   "outputs": [
    {
     "data": {
      "text/html": [
       "<table class=\"dataframe\">\n",
       "<caption>A data.frame: 6 × 4</caption>\n",
       "<thead>\n",
       "\t<tr><th scope=col>Roll_no</th><th scope=col>Names</th><th scope=col>marks</th><th scope=col>picnic</th></tr>\n",
       "\t<tr><th scope=col>&lt;int&gt;</th><th scope=col>&lt;chr&gt;</th><th scope=col>&lt;dbl&gt;</th><th scope=col>&lt;fct&gt;</th></tr>\n",
       "</thead>\n",
       "<tbody>\n",
       "\t<tr><td>1</td><td>Prajwal   </td><td>15</td><td>Yes</td></tr>\n",
       "\t<tr><td>2</td><td>Sakshi    </td><td>10</td><td>No </td></tr>\n",
       "\t<tr><td>3</td><td>Aditi     </td><td> 3</td><td>No </td></tr>\n",
       "\t<tr><td>4</td><td>Shreyash  </td><td> 5</td><td>No </td></tr>\n",
       "\t<tr><td>5</td><td>noops     </td><td> 9</td><td>No </td></tr>\n",
       "\t<tr><td>6</td><td>Rishiskesh</td><td>20</td><td>Yes</td></tr>\n",
       "</tbody>\n",
       "</table>\n"
      ],
      "text/latex": [
       "A data.frame: 6 × 4\n",
       "\\begin{tabular}{llll}\n",
       " Roll\\_no & Names & marks & picnic\\\\\n",
       " <int> & <chr> & <dbl> & <fct>\\\\\n",
       "\\hline\n",
       "\t 1 & Prajwal    & 15 & Yes\\\\\n",
       "\t 2 & Sakshi     & 10 & No \\\\\n",
       "\t 3 & Aditi      &  3 & No \\\\\n",
       "\t 4 & Shreyash   &  5 & No \\\\\n",
       "\t 5 & noops      &  9 & No \\\\\n",
       "\t 6 & Rishiskesh & 20 & Yes\\\\\n",
       "\\end{tabular}\n"
      ],
      "text/markdown": [
       "\n",
       "A data.frame: 6 × 4\n",
       "\n",
       "| Roll_no &lt;int&gt; | Names &lt;chr&gt; | marks &lt;dbl&gt; | picnic &lt;fct&gt; |\n",
       "|---|---|---|---|\n",
       "| 1 | Prajwal    | 15 | Yes |\n",
       "| 2 | Sakshi     | 10 | No  |\n",
       "| 3 | Aditi      |  3 | No  |\n",
       "| 4 | Shreyash   |  5 | No  |\n",
       "| 5 | noops      |  9 | No  |\n",
       "| 6 | Rishiskesh | 20 | Yes |\n",
       "\n"
      ],
      "text/plain": [
       "  Roll_no Names      marks picnic\n",
       "1 1       Prajwal    15    Yes   \n",
       "2 2       Sakshi     10    No    \n",
       "3 3       Aditi       3    No    \n",
       "4 4       Shreyash    5    No    \n",
       "5 5       noops       9    No    \n",
       "6 6       Rishiskesh 20    Yes   "
      ]
     },
     "metadata": {},
     "output_type": "display_data"
    }
   ],
   "source": [
    "df"
   ]
  },
  {
   "cell_type": "code",
   "execution_count": 15,
   "metadata": {},
   "outputs": [],
   "source": [
    "data = read.csv(\"data.csv\", header =TRUE, sep = \",\")"
   ]
  },
  {
   "cell_type": "code",
   "execution_count": 16,
   "metadata": {},
   "outputs": [
    {
     "data": {
      "text/html": [
       "<table class=\"dataframe\">\n",
       "<caption>A data.frame: 6 × 2</caption>\n",
       "<thead>\n",
       "\t<tr><th scope=col>Name</th><th scope=col>Roll_no</th></tr>\n",
       "\t<tr><th scope=col>&lt;chr&gt;</th><th scope=col>&lt;int&gt;</th></tr>\n",
       "</thead>\n",
       "<tbody>\n",
       "\t<tr><td>prajwal </td><td>1</td></tr>\n",
       "\t<tr><td>sakshi  </td><td>2</td></tr>\n",
       "\t<tr><td>saumya  </td><td>3</td></tr>\n",
       "\t<tr><td>aishu   </td><td>4</td></tr>\n",
       "\t<tr><td>shreyash</td><td>5</td></tr>\n",
       "\t<tr><td>avi     </td><td>6</td></tr>\n",
       "</tbody>\n",
       "</table>\n"
      ],
      "text/latex": [
       "A data.frame: 6 × 2\n",
       "\\begin{tabular}{ll}\n",
       " Name & Roll\\_no\\\\\n",
       " <chr> & <int>\\\\\n",
       "\\hline\n",
       "\t prajwal  & 1\\\\\n",
       "\t sakshi   & 2\\\\\n",
       "\t saumya   & 3\\\\\n",
       "\t aishu    & 4\\\\\n",
       "\t shreyash & 5\\\\\n",
       "\t avi      & 6\\\\\n",
       "\\end{tabular}\n"
      ],
      "text/markdown": [
       "\n",
       "A data.frame: 6 × 2\n",
       "\n",
       "| Name &lt;chr&gt; | Roll_no &lt;int&gt; |\n",
       "|---|---|\n",
       "| prajwal  | 1 |\n",
       "| sakshi   | 2 |\n",
       "| saumya   | 3 |\n",
       "| aishu    | 4 |\n",
       "| shreyash | 5 |\n",
       "| avi      | 6 |\n",
       "\n"
      ],
      "text/plain": [
       "  Name     Roll_no\n",
       "1 prajwal  1      \n",
       "2 sakshi   2      \n",
       "3 saumya   3      \n",
       "4 aishu    4      \n",
       "5 shreyash 5      \n",
       "6 avi      6      "
      ]
     },
     "metadata": {},
     "output_type": "display_data"
    }
   ],
   "source": [
    "data"
   ]
  },
  {
   "cell_type": "code",
   "execution_count": 17,
   "metadata": {},
   "outputs": [
    {
     "ename": "ERROR",
     "evalue": "Error in as.data.frame.default(x[[i]], optional = TRUE): cannot coerce class '\"function\"' to a data.frame\n",
     "output_type": "error",
     "traceback": [
      "Error in as.data.frame.default(x[[i]], optional = TRUE): cannot coerce class '\"function\"' to a data.frame\nTraceback:\n",
      "1. write.csv(df, \"data.csv\")",
      "2. eval.parent(Call)",
      "3. eval(expr, p)",
      "4. eval(expr, p)",
      "5. utils::write.table(df, \"data.csv\", col.names = NA, sep = \",\", \n .     dec = \".\", qmethod = \"double\")",
      "6. data.frame(x)",
      "7. as.data.frame(x[[i]], optional = TRUE)",
      "8. as.data.frame.default(x[[i]], optional = TRUE)",
      "9. stop(gettextf(\"cannot coerce class %s to a data.frame\", sQuote(deparse(class(x))[1L])), \n .     domain = NA)"
     ]
    }
   ],
   "source": []
  },
  {
   "cell_type": "code",
   "execution_count": null,
   "metadata": {},
   "outputs": [],
   "source": []
  }
 ],
 "metadata": {
  "interpreter": {
   "hash": "1fb457075518da48b6f10d6a89d1c79a5d3a8a4cce5ab48738750cf0a5c90cbc"
  },
  "kernelspec": {
   "display_name": "R",
   "language": "R",
   "name": "ir"
  },
  "language_info": {
   "codemirror_mode": "r",
   "file_extension": ".r",
   "mimetype": "text/x-r-source",
   "name": "R",
   "pygments_lexer": "r",
   "version": "4.1.2"
  },
  "orig_nbformat": 4
 },
 "nbformat": 4,
 "nbformat_minor": 2
}
