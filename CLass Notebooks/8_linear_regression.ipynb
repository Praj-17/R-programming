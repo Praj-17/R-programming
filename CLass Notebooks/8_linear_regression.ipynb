{
 "cells": [
  {
   "cell_type": "markdown",
   "metadata": {},
   "source": [
    "# Linear Regression in R"
   ]
  },
  {
   "cell_type": "markdown",
   "metadata": {},
   "source": [
    "We are using Salary Vs Experience Data in order th fit linear regression model."
   ]
  },
  {
   "cell_type": "code",
   "execution_count": 15,
   "metadata": {
    "vscode": {
     "languageId": "r"
    }
   },
   "outputs": [],
   "source": [
    "test = read.csv(\"test.csv\")\n",
    "train = read.csv(\"train.csv\")"
   ]
  },
  {
   "cell_type": "code",
   "execution_count": 16,
   "metadata": {
    "vscode": {
     "languageId": "r"
    }
   },
   "outputs": [],
   "source": [
    "x_test = test[,1]\n",
    "y_test = test[,2]\n",
    "x_train = train[,1]\n",
    "y_train = train[,2]\n"
   ]
  },
  {
   "cell_type": "code",
   "execution_count": 17,
   "metadata": {
    "vscode": {
     "languageId": "r"
    }
   },
   "outputs": [
    {
     "data": {
      "text/html": [
       "<table class=\"dataframe\">\n",
       "<caption>A data.frame: 7 × 2</caption>\n",
       "<thead>\n",
       "\t<tr><th scope=col>ï..YearsExperience</th><th scope=col>Salary</th></tr>\n",
       "\t<tr><th scope=col>&lt;dbl&gt;</th><th scope=col>&lt;int&gt;</th></tr>\n",
       "</thead>\n",
       "<tbody>\n",
       "\t<tr><td> 8.2</td><td>113812</td></tr>\n",
       "\t<tr><td> 8.7</td><td>109431</td></tr>\n",
       "\t<tr><td> 9.0</td><td>105582</td></tr>\n",
       "\t<tr><td> 9.5</td><td>116969</td></tr>\n",
       "\t<tr><td> 9.6</td><td>112635</td></tr>\n",
       "\t<tr><td>10.3</td><td>122391</td></tr>\n",
       "\t<tr><td>10.5</td><td>121872</td></tr>\n",
       "</tbody>\n",
       "</table>\n"
      ],
      "text/latex": [
       "A data.frame: 7 × 2\n",
       "\\begin{tabular}{ll}\n",
       " ï..YearsExperience & Salary\\\\\n",
       " <dbl> & <int>\\\\\n",
       "\\hline\n",
       "\t  8.2 & 113812\\\\\n",
       "\t  8.7 & 109431\\\\\n",
       "\t  9.0 & 105582\\\\\n",
       "\t  9.5 & 116969\\\\\n",
       "\t  9.6 & 112635\\\\\n",
       "\t 10.3 & 122391\\\\\n",
       "\t 10.5 & 121872\\\\\n",
       "\\end{tabular}\n"
      ],
      "text/markdown": [
       "\n",
       "A data.frame: 7 × 2\n",
       "\n",
       "| ï..YearsExperience &lt;dbl&gt; | Salary &lt;int&gt; |\n",
       "|---|---|\n",
       "|  8.2 | 113812 |\n",
       "|  8.7 | 109431 |\n",
       "|  9.0 | 105582 |\n",
       "|  9.5 | 116969 |\n",
       "|  9.6 | 112635 |\n",
       "| 10.3 | 122391 |\n",
       "| 10.5 | 121872 |\n",
       "\n"
      ],
      "text/plain": [
       "  ï..YearsExperience Salary\n",
       "1  8.2               113812\n",
       "2  8.7               109431\n",
       "3  9.0               105582\n",
       "4  9.5               116969\n",
       "5  9.6               112635\n",
       "6 10.3               122391\n",
       "7 10.5               121872"
      ]
     },
     "metadata": {},
     "output_type": "display_data"
    }
   ],
   "source": [
    "test "
   ]
  },
  {
   "cell_type": "code",
   "execution_count": 18,
   "metadata": {
    "vscode": {
     "languageId": "r"
    }
   },
   "outputs": [
    {
     "data": {
      "text/html": [
       "<table class=\"dataframe\">\n",
       "<caption>A data.frame: 23 × 2</caption>\n",
       "<thead>\n",
       "\t<tr><th scope=col>ï..YearsExperience</th><th scope=col>Salary</th></tr>\n",
       "\t<tr><th scope=col>&lt;dbl&gt;</th><th scope=col>&lt;int&gt;</th></tr>\n",
       "</thead>\n",
       "<tbody>\n",
       "\t<tr><td>1.1</td><td> 39343</td></tr>\n",
       "\t<tr><td>1.3</td><td> 46205</td></tr>\n",
       "\t<tr><td>1.5</td><td> 37731</td></tr>\n",
       "\t<tr><td>2.0</td><td> 43525</td></tr>\n",
       "\t<tr><td>2.2</td><td> 39891</td></tr>\n",
       "\t<tr><td>2.9</td><td> 56642</td></tr>\n",
       "\t<tr><td>3.0</td><td> 60150</td></tr>\n",
       "\t<tr><td>3.2</td><td> 54445</td></tr>\n",
       "\t<tr><td>3.2</td><td> 64445</td></tr>\n",
       "\t<tr><td>3.7</td><td> 57189</td></tr>\n",
       "\t<tr><td>3.9</td><td> 63218</td></tr>\n",
       "\t<tr><td>4.0</td><td> 55794</td></tr>\n",
       "\t<tr><td>4.0</td><td> 56957</td></tr>\n",
       "\t<tr><td>4.1</td><td> 57081</td></tr>\n",
       "\t<tr><td>4.5</td><td> 61111</td></tr>\n",
       "\t<tr><td>4.9</td><td> 67938</td></tr>\n",
       "\t<tr><td>5.1</td><td> 66029</td></tr>\n",
       "\t<tr><td>5.3</td><td> 83088</td></tr>\n",
       "\t<tr><td>5.9</td><td> 81363</td></tr>\n",
       "\t<tr><td>6.0</td><td> 93940</td></tr>\n",
       "\t<tr><td>6.8</td><td> 91738</td></tr>\n",
       "\t<tr><td>7.1</td><td> 98273</td></tr>\n",
       "\t<tr><td>7.9</td><td>101302</td></tr>\n",
       "</tbody>\n",
       "</table>\n"
      ],
      "text/latex": [
       "A data.frame: 23 × 2\n",
       "\\begin{tabular}{ll}\n",
       " ï..YearsExperience & Salary\\\\\n",
       " <dbl> & <int>\\\\\n",
       "\\hline\n",
       "\t 1.1 &  39343\\\\\n",
       "\t 1.3 &  46205\\\\\n",
       "\t 1.5 &  37731\\\\\n",
       "\t 2.0 &  43525\\\\\n",
       "\t 2.2 &  39891\\\\\n",
       "\t 2.9 &  56642\\\\\n",
       "\t 3.0 &  60150\\\\\n",
       "\t 3.2 &  54445\\\\\n",
       "\t 3.2 &  64445\\\\\n",
       "\t 3.7 &  57189\\\\\n",
       "\t 3.9 &  63218\\\\\n",
       "\t 4.0 &  55794\\\\\n",
       "\t 4.0 &  56957\\\\\n",
       "\t 4.1 &  57081\\\\\n",
       "\t 4.5 &  61111\\\\\n",
       "\t 4.9 &  67938\\\\\n",
       "\t 5.1 &  66029\\\\\n",
       "\t 5.3 &  83088\\\\\n",
       "\t 5.9 &  81363\\\\\n",
       "\t 6.0 &  93940\\\\\n",
       "\t 6.8 &  91738\\\\\n",
       "\t 7.1 &  98273\\\\\n",
       "\t 7.9 & 101302\\\\\n",
       "\\end{tabular}\n"
      ],
      "text/markdown": [
       "\n",
       "A data.frame: 23 × 2\n",
       "\n",
       "| ï..YearsExperience &lt;dbl&gt; | Salary &lt;int&gt; |\n",
       "|---|---|\n",
       "| 1.1 |  39343 |\n",
       "| 1.3 |  46205 |\n",
       "| 1.5 |  37731 |\n",
       "| 2.0 |  43525 |\n",
       "| 2.2 |  39891 |\n",
       "| 2.9 |  56642 |\n",
       "| 3.0 |  60150 |\n",
       "| 3.2 |  54445 |\n",
       "| 3.2 |  64445 |\n",
       "| 3.7 |  57189 |\n",
       "| 3.9 |  63218 |\n",
       "| 4.0 |  55794 |\n",
       "| 4.0 |  56957 |\n",
       "| 4.1 |  57081 |\n",
       "| 4.5 |  61111 |\n",
       "| 4.9 |  67938 |\n",
       "| 5.1 |  66029 |\n",
       "| 5.3 |  83088 |\n",
       "| 5.9 |  81363 |\n",
       "| 6.0 |  93940 |\n",
       "| 6.8 |  91738 |\n",
       "| 7.1 |  98273 |\n",
       "| 7.9 | 101302 |\n",
       "\n"
      ],
      "text/plain": [
       "   ï..YearsExperience Salary\n",
       "1  1.1                 39343\n",
       "2  1.3                 46205\n",
       "3  1.5                 37731\n",
       "4  2.0                 43525\n",
       "5  2.2                 39891\n",
       "6  2.9                 56642\n",
       "7  3.0                 60150\n",
       "8  3.2                 54445\n",
       "9  3.2                 64445\n",
       "10 3.7                 57189\n",
       "11 3.9                 63218\n",
       "12 4.0                 55794\n",
       "13 4.0                 56957\n",
       "14 4.1                 57081\n",
       "15 4.5                 61111\n",
       "16 4.9                 67938\n",
       "17 5.1                 66029\n",
       "18 5.3                 83088\n",
       "19 5.9                 81363\n",
       "20 6.0                 93940\n",
       "21 6.8                 91738\n",
       "22 7.1                 98273\n",
       "23 7.9                101302"
      ]
     },
     "metadata": {},
     "output_type": "display_data"
    }
   ],
   "source": [
    "train"
   ]
  },
  {
   "cell_type": "markdown",
   "metadata": {},
   "source": [
    "As you can see we already have a splitted data and now we will focus on fitting the model."
   ]
  },
  {
   "cell_type": "code",
   "execution_count": 19,
   "metadata": {
    "vscode": {
     "languageId": "r"
    }
   },
   "outputs": [],
   "source": [
    "model = lm(x_train ~ y_train)"
   ]
  },
  {
   "cell_type": "code",
   "execution_count": 20,
   "metadata": {
    "vscode": {
     "languageId": "r"
    }
   },
   "outputs": [
    {
     "data": {
      "text/plain": [
       "\n",
       "Call:\n",
       "lm(formula = x_train ~ y_train)\n",
       "\n",
       "Coefficients:\n",
       "(Intercept)      y_train  \n",
       " -1.949e+00    9.369e-05  \n"
      ]
     },
     "metadata": {},
     "output_type": "display_data"
    }
   ],
   "source": [
    "model"
   ]
  },
  {
   "cell_type": "code",
   "execution_count": 21,
   "metadata": {
    "vscode": {
     "languageId": "r"
    }
   },
   "outputs": [
    {
     "name": "stdout",
     "output_type": "stream",
     "text": [
      "\n",
      "Call:\n",
      "lm(formula = x_train ~ y_train)\n",
      "\n",
      "Residuals:\n",
      "     Min       1Q   Median       3Q      Max \n",
      "-1.08036 -0.49707  0.04763  0.44734  0.86233 \n",
      "\n",
      "Coefficients:\n",
      "              Estimate Std. Error t value Pr(>|t|)    \n",
      "(Intercept) -1.949e+00  4.480e-01   -4.35 0.000282 ***\n",
      "y_train      9.369e-05  6.701e-06   13.98 4.14e-12 ***\n",
      "---\n",
      "Signif. codes:  0 '***' 0.001 '**' 0.01 '*' 0.05 '.' 0.1 ' ' 1\n",
      "\n",
      "Residual standard error: 0.596 on 21 degrees of freedom\n",
      "Multiple R-squared:  0.903,\tAdjusted R-squared:  0.8984 \n",
      "F-statistic: 195.5 on 1 and 21 DF,  p-value: 4.136e-12\n",
      "\n"
     ]
    }
   ],
   "source": [
    "print(summary(model))"
   ]
  },
  {
   "cell_type": "code",
   "execution_count": 22,
   "metadata": {
    "vscode": {
     "languageId": "r"
    }
   },
   "outputs": [
    {
     "name": "stderr",
     "output_type": "stream",
     "text": [
      "Warning message:\n",
      "\"'newdata' had 7 rows but variables found have 23 rows\"\n"
     ]
    }
   ],
   "source": [
    "a <- data.frame(x_test)\n",
    "y_pred =predict(model, a)"
   ]
  },
  {
   "cell_type": "code",
   "execution_count": 23,
   "metadata": {
    "vscode": {
     "languageId": "r"
    }
   },
   "outputs": [
    {
     "data": {
      "text/plain": [
       "   Min. 1st Qu.  Median    Mean 3rd Qu.    Max. \n",
       "  1.586   3.216   3.687   4.070   5.045   7.542 "
      ]
     },
     "metadata": {},
     "output_type": "display_data"
    }
   ],
   "source": [
    "summary(y_pred)"
   ]
  },
  {
   "cell_type": "code",
   "execution_count": null,
   "metadata": {
    "vscode": {
     "languageId": "r"
    }
   },
   "outputs": [],
   "source": []
  }
 ],
 "metadata": {
  "kernelspec": {
   "display_name": "R",
   "language": "R",
   "name": "ir"
  },
  "language_info": {
   "codemirror_mode": "r",
   "file_extension": ".r",
   "mimetype": "text/x-r-source",
   "name": "R",
   "pygments_lexer": "r",
   "version": "4.1.2"
  },
  "orig_nbformat": 4
 },
 "nbformat": 4,
 "nbformat_minor": 2
}
