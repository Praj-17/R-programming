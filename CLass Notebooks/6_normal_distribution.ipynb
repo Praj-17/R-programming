{
 "cells": [
  {
   "cell_type": "markdown",
   "metadata": {},
   "source": [
    "#Normal Distribution"
   ]
  },
  {
   "cell_type": "code",
   "execution_count": 1,
   "metadata": {},
   "outputs": [
    {
     "name": "stdout",
     "output_type": "stream",
     "text": [
      "Normal                  package:stats                  R Documentation\n",
      "\n",
      "_\bT_\bh_\be _\bN_\bo_\br_\bm_\ba_\bl _\bD_\bi_\bs_\bt_\br_\bi_\bb_\bu_\bt_\bi_\bo_\bn\n",
      "\n",
      "_\bD_\be_\bs_\bc_\br_\bi_\bp_\bt_\bi_\bo_\bn:\n",
      "\n",
      "     Density, distribution function, quantile function and random\n",
      "     generation for the normal distribution with mean equal to 'mean'\n",
      "     and standard deviation equal to 'sd'.\n",
      "\n",
      "_\bU_\bs_\ba_\bg_\be:\n",
      "\n",
      "     dnorm(x, mean = 0, sd = 1, log = FALSE)\n",
      "     pnorm(q, mean = 0, sd = 1, lower.tail = TRUE, log.p = FALSE)\n",
      "     qnorm(p, mean = 0, sd = 1, lower.tail = TRUE, log.p = FALSE)\n",
      "     rnorm(n, mean = 0, sd = 1)\n",
      "     \n",
      "_\bA_\br_\bg_\bu_\bm_\be_\bn_\bt_\bs:\n",
      "\n",
      "    x, q: vector of quantiles.\n",
      "\n",
      "       p: vector of probabilities.\n",
      "\n",
      "       n: number of observations. If 'length(n) > 1', the length is\n",
      "          taken to be the number required.\n",
      "\n",
      "    mean: vector of means.\n",
      "\n",
      "      sd: vector of standard deviations.\n",
      "\n",
      "log, log.p: logical; if TRUE, probabilities p are given as log(p).\n",
      "\n",
      "lower.tail: logical; if TRUE (default), probabilities are P[X <= x]\n",
      "          otherwise, P[X > x].\n",
      "\n",
      "_\bD_\be_\bt_\ba_\bi_\bl_\bs:\n",
      "\n",
      "     If 'mean' or 'sd' are not specified they assume the default values\n",
      "     of '0' and '1', respectively.\n",
      "\n",
      "     The normal distribution has density\n",
      "\n",
      "            f(x) = 1/(sqrt(2 pi) sigma) e^-((x - mu)^2/(2 sigma^2))     \n",
      "     \n",
      "     where mu is the mean of the distribution and sigma the standard\n",
      "     deviation.\n",
      "\n",
      "_\bV_\ba_\bl_\bu_\be:\n",
      "\n",
      "     'dnorm' gives the density, 'pnorm' gives the distribution\n",
      "     function, 'qnorm' gives the quantile function, and 'rnorm'\n",
      "     generates random deviates.\n",
      "\n",
      "     The length of the result is determined by 'n' for 'rnorm', and is\n",
      "     the maximum of the lengths of the numerical arguments for the\n",
      "     other functions.\n",
      "\n",
      "     The numerical arguments other than 'n' are recycled to the length\n",
      "     of the result.  Only the first elements of the logical arguments\n",
      "     are used.\n",
      "\n",
      "     For 'sd = 0' this gives the limit as 'sd' decreases to 0, a point\n",
      "     mass at 'mu'.  'sd < 0' is an error and returns 'NaN'.\n",
      "\n",
      "_\bS_\bo_\bu_\br_\bc_\be:\n",
      "\n",
      "     For 'pnorm', based on\n",
      "\n",
      "     Cody, W. D. (1993) Algorithm 715: SPECFUN - A portable FORTRAN\n",
      "     package of special function routines and test drivers.  _ACM\n",
      "     Transactions on Mathematical Software_ *19*, 22-32.\n",
      "\n",
      "     For 'qnorm', the code is a C translation of\n",
      "\n",
      "     Wichura, M. J. (1988) Algorithm AS 241: The percentage points of\n",
      "     the normal distribution.  _Applied Statistics_, *37*, 477-484.\n",
      "\n",
      "     which provides precise results up to about 16 digits.\n",
      "\n",
      "     For 'rnorm', see RNG for how to select the algorithm and for\n",
      "     references to the supplied methods.\n",
      "\n",
      "_\bR_\be_\bf_\be_\br_\be_\bn_\bc_\be_\bs:\n",
      "\n",
      "     Becker, R. A., Chambers, J. M. and Wilks, A. R. (1988) _The New S\n",
      "     Language_.  Wadsworth & Brooks/Cole.\n",
      "\n",
      "     Johnson, N. L., Kotz, S. and Balakrishnan, N. (1995) _Continuous\n",
      "     Univariate Distributions_, volume 1, chapter 13.  Wiley, New York.\n",
      "\n",
      "_\bS_\be_\be _\bA_\bl_\bs_\bo:\n",
      "\n",
      "     Distributions for other standard distributions, including 'dlnorm'\n",
      "     for the _Log_normal distribution.\n",
      "\n",
      "_\bE_\bx_\ba_\bm_\bp_\bl_\be_\bs:\n",
      "\n",
      "     require(graphics)\n",
      "     \n",
      "     dnorm(0) == 1/sqrt(2*pi)\n",
      "     dnorm(1) == exp(-1/2)/sqrt(2*pi)\n",
      "     dnorm(1) == 1/sqrt(2*pi*exp(1))\n",
      "     \n",
      "     ## Using \"log = TRUE\" for an extended range :\n",
      "     par(mfrow = c(2,1))\n",
      "     plot(function(x) dnorm(x, log = TRUE), -60, 50,\n",
      "          main = \"log { Normal density }\")\n",
      "     curve(log(dnorm(x)), add = TRUE, col = \"red\", lwd = 2)\n",
      "     mtext(\"dnorm(x, log=TRUE)\", adj = 0)\n",
      "     mtext(\"log(dnorm(x))\", col = \"red\", adj = 1)\n",
      "     \n",
      "     plot(function(x) pnorm(x, log.p = TRUE), -50, 10,\n",
      "          main = \"log { Normal Cumulative }\")\n",
      "     curve(log(pnorm(x)), add = TRUE, col = \"red\", lwd = 2)\n",
      "     mtext(\"pnorm(x, log=TRUE)\", adj = 0)\n",
      "     mtext(\"log(pnorm(x))\", col = \"red\", adj = 1)\n",
      "     \n",
      "     ## if you want the so-called 'error function'\n",
      "     erf <- function(x) 2 * pnorm(x * sqrt(2)) - 1\n",
      "     ## (see Abramowitz and Stegun 29.2.29)\n",
      "     ## and the so-called 'complementary error function'\n",
      "     erfc <- function(x) 2 * pnorm(x * sqrt(2), lower = FALSE)\n",
      "     ## and the inverses\n",
      "     erfinv <- function (x) qnorm((1 + x)/2)/sqrt(2)\n",
      "     erfcinv <- function (x) qnorm(x/2, lower = FALSE)/sqrt(2)\n",
      "     "
     ]
    }
   ],
   "source": [
    "help(dnorm)"
   ]
  },
  {
   "cell_type": "code",
   "execution_count": 3,
   "metadata": {},
   "outputs": [
    {
     "data": {
      "text/html": [
       "<style>\n",
       ".list-inline {list-style: none; margin:0; padding: 0}\n",
       ".list-inline>li {display: inline-block}\n",
       ".list-inline>li:not(:last-child)::after {content: \"\\00b7\"; padding: 0 .5ex}\n",
       "</style>\n",
       "<ol class=list-inline><li>-20</li><li>-19.9</li><li>-19.8</li><li>-19.7</li><li>-19.6</li><li>-19.5</li><li>-19.4</li><li>-19.3</li><li>-19.2</li><li>-19.1</li><li>-19</li><li>-18.9</li><li>-18.8</li><li>-18.7</li><li>-18.6</li><li>-18.5</li><li>-18.4</li><li>-18.3</li><li>-18.2</li><li>-18.1</li><li>-18</li><li>-17.9</li><li>-17.8</li><li>-17.7</li><li>-17.6</li><li>-17.5</li><li>-17.4</li><li>-17.3</li><li>-17.2</li><li>-17.1</li><li>-17</li><li>-16.9</li><li>-16.8</li><li>-16.7</li><li>-16.6</li><li>-16.5</li><li>-16.4</li><li>-16.3</li><li>-16.2</li><li>-16.1</li><li>-16</li><li>-15.9</li><li>-15.8</li><li>-15.7</li><li>-15.6</li><li>-15.5</li><li>-15.4</li><li>-15.3</li><li>-15.2</li><li>-15.1</li><li>-15</li><li>-14.9</li><li>-14.8</li><li>-14.7</li><li>-14.6</li><li>-14.5</li><li>-14.4</li><li>-14.3</li><li>-14.2</li><li>-14.1</li><li>-14</li><li>-13.9</li><li>-13.8</li><li>-13.7</li><li>-13.6</li><li>-13.5</li><li>-13.4</li><li>-13.3</li><li>-13.2</li><li>-13.1</li><li>-13</li><li>-12.9</li><li>-12.8</li><li>-12.7</li><li>-12.6</li><li>-12.5</li><li>-12.4</li><li>-12.3</li><li>-12.2</li><li>-12.1</li><li>-12</li><li>-11.9</li><li>-11.8</li><li>-11.7</li><li>-11.6</li><li>-11.5</li><li>-11.4</li><li>-11.3</li><li>-11.2</li><li>-11.1</li><li>-11</li><li>-10.9</li><li>-10.8</li><li>-10.7</li><li>-10.6</li><li>-10.5</li><li>-10.4</li><li>-10.3</li><li>-10.2</li><li>-10.1</li><li>-10</li><li>-9.9</li><li>-9.8</li><li>-9.7</li><li>-9.6</li><li>-9.5</li><li>-9.4</li><li>-9.3</li><li>-9.2</li><li>-9.1</li><li>-9</li><li>-8.9</li><li>-8.8</li><li>-8.7</li><li>-8.6</li><li>-8.5</li><li>-8.4</li><li>-8.3</li><li>-8.2</li><li>-8.1</li><li>-8</li><li>-7.9</li><li>-7.8</li><li>-7.7</li><li>-7.6</li><li>-7.5</li><li>-7.4</li><li>-7.3</li><li>-7.2</li><li>-7.1</li><li>-7</li><li>-6.9</li><li>-6.8</li><li>-6.7</li><li>-6.6</li><li>-6.5</li><li>-6.4</li><li>-6.3</li><li>-6.2</li><li>-6.1</li><li>-6</li><li>-5.9</li><li>-5.8</li><li>-5.7</li><li>-5.6</li><li>-5.5</li><li>-5.4</li><li>-5.3</li><li>-5.2</li><li>-5.1</li><li>-5</li><li>-4.9</li><li>-4.8</li><li>-4.7</li><li>-4.6</li><li>-4.5</li><li>-4.4</li><li>-4.3</li><li>-4.2</li><li>-4.1</li><li>-4</li><li>-3.9</li><li>-3.8</li><li>-3.7</li><li>-3.6</li><li>-3.5</li><li>-3.4</li><li>-3.3</li><li>-3.2</li><li>-3.1</li><li>-3</li><li>-2.9</li><li>-2.8</li><li>-2.7</li><li>-2.6</li><li>-2.5</li><li>-2.4</li><li>-2.3</li><li>-2.2</li><li>-2.1</li><li>-2</li><li>-1.9</li><li>-1.8</li><li>-1.7</li><li>-1.6</li><li>-1.5</li><li>-1.4</li><li>-1.3</li><li>-1.2</li><li>-1.1</li><li>-1</li><li>-0.899999999999999</li><li>-0.799999999999997</li><li>-0.699999999999999</li><li>-0.599999999999998</li><li>-0.5</li><li>-0.399999999999999</li><li>-0.299999999999997</li><li>-0.199999999999999</li><li>-0.0999999999999979</li><li>...</li><li>0.100000000000001</li><li>0.200000000000003</li><li>0.300000000000001</li><li>0.400000000000002</li><li>0.5</li><li>0.600000000000001</li><li>0.700000000000003</li><li>0.800000000000001</li><li>0.900000000000002</li><li>1</li><li>1.1</li><li>1.2</li><li>1.3</li><li>1.4</li><li>1.5</li><li>1.6</li><li>1.7</li><li>1.8</li><li>1.9</li><li>2</li><li>2.1</li><li>2.2</li><li>2.3</li><li>2.4</li><li>2.5</li><li>2.6</li><li>2.7</li><li>2.8</li><li>2.9</li><li>3</li><li>3.1</li><li>3.2</li><li>3.3</li><li>3.4</li><li>3.5</li><li>3.6</li><li>3.7</li><li>3.8</li><li>3.9</li><li>4</li><li>4.1</li><li>4.2</li><li>4.3</li><li>4.4</li><li>4.5</li><li>4.6</li><li>4.7</li><li>4.8</li><li>4.9</li><li>5</li><li>5.1</li><li>5.2</li><li>5.3</li><li>5.4</li><li>5.5</li><li>5.6</li><li>5.7</li><li>5.8</li><li>5.9</li><li>6</li><li>6.1</li><li>6.2</li><li>6.3</li><li>6.4</li><li>6.5</li><li>6.6</li><li>6.7</li><li>6.8</li><li>6.9</li><li>7</li><li>7.1</li><li>7.2</li><li>7.3</li><li>7.4</li><li>7.5</li><li>7.6</li><li>7.7</li><li>7.8</li><li>7.9</li><li>8</li><li>8.1</li><li>8.2</li><li>8.3</li><li>8.4</li><li>8.5</li><li>8.6</li><li>8.7</li><li>8.8</li><li>8.9</li><li>9</li><li>9.1</li><li>9.2</li><li>9.3</li><li>9.4</li><li>9.5</li><li>9.6</li><li>9.7</li><li>9.8</li><li>9.9</li><li>10</li><li>10.1</li><li>10.2</li><li>10.3</li><li>10.4</li><li>10.5</li><li>10.6</li><li>10.7</li><li>10.8</li><li>10.9</li><li>11</li><li>11.1</li><li>11.2</li><li>11.3</li><li>11.4</li><li>11.5</li><li>11.6</li><li>11.7</li><li>11.8</li><li>11.9</li><li>12</li><li>12.1</li><li>12.2</li><li>12.3</li><li>12.4</li><li>12.5</li><li>12.6</li><li>12.7</li><li>12.8</li><li>12.9</li><li>13</li><li>13.1</li><li>13.2</li><li>13.3</li><li>13.4</li><li>13.5</li><li>13.6</li><li>13.7</li><li>13.8</li><li>13.9</li><li>14</li><li>14.1</li><li>14.2</li><li>14.3</li><li>14.4</li><li>14.5</li><li>14.6</li><li>14.7</li><li>14.8</li><li>14.9</li><li>15</li><li>15.1</li><li>15.2</li><li>15.3</li><li>15.4</li><li>15.5</li><li>15.6</li><li>15.7</li><li>15.8</li><li>15.9</li><li>16</li><li>16.1</li><li>16.2</li><li>16.3</li><li>16.4</li><li>16.5</li><li>16.6</li><li>16.7</li><li>16.8</li><li>16.9</li><li>17</li><li>17.1</li><li>17.2</li><li>17.3</li><li>17.4</li><li>17.5</li><li>17.6</li><li>17.7</li><li>17.8</li><li>17.9</li><li>18</li><li>18.1</li><li>18.2</li><li>18.3</li><li>18.4</li><li>18.5</li><li>18.6</li><li>18.7</li><li>18.8</li><li>18.9</li><li>19</li><li>19.1</li><li>19.2</li><li>19.3</li><li>19.4</li><li>19.5</li><li>19.6</li><li>19.7</li><li>19.8</li><li>19.9</li><li>20</li></ol>\n"
      ],
      "text/latex": [
       "\\begin{enumerate*}\n",
       "\\item -20\n",
       "\\item -19.9\n",
       "\\item -19.8\n",
       "\\item -19.7\n",
       "\\item -19.6\n",
       "\\item -19.5\n",
       "\\item -19.4\n",
       "\\item -19.3\n",
       "\\item -19.2\n",
       "\\item -19.1\n",
       "\\item -19\n",
       "\\item -18.9\n",
       "\\item -18.8\n",
       "\\item -18.7\n",
       "\\item -18.6\n",
       "\\item -18.5\n",
       "\\item -18.4\n",
       "\\item -18.3\n",
       "\\item -18.2\n",
       "\\item -18.1\n",
       "\\item -18\n",
       "\\item -17.9\n",
       "\\item -17.8\n",
       "\\item -17.7\n",
       "\\item -17.6\n",
       "\\item -17.5\n",
       "\\item -17.4\n",
       "\\item -17.3\n",
       "\\item -17.2\n",
       "\\item -17.1\n",
       "\\item -17\n",
       "\\item -16.9\n",
       "\\item -16.8\n",
       "\\item -16.7\n",
       "\\item -16.6\n",
       "\\item -16.5\n",
       "\\item -16.4\n",
       "\\item -16.3\n",
       "\\item -16.2\n",
       "\\item -16.1\n",
       "\\item -16\n",
       "\\item -15.9\n",
       "\\item -15.8\n",
       "\\item -15.7\n",
       "\\item -15.6\n",
       "\\item -15.5\n",
       "\\item -15.4\n",
       "\\item -15.3\n",
       "\\item -15.2\n",
       "\\item -15.1\n",
       "\\item -15\n",
       "\\item -14.9\n",
       "\\item -14.8\n",
       "\\item -14.7\n",
       "\\item -14.6\n",
       "\\item -14.5\n",
       "\\item -14.4\n",
       "\\item -14.3\n",
       "\\item -14.2\n",
       "\\item -14.1\n",
       "\\item -14\n",
       "\\item -13.9\n",
       "\\item -13.8\n",
       "\\item -13.7\n",
       "\\item -13.6\n",
       "\\item -13.5\n",
       "\\item -13.4\n",
       "\\item -13.3\n",
       "\\item -13.2\n",
       "\\item -13.1\n",
       "\\item -13\n",
       "\\item -12.9\n",
       "\\item -12.8\n",
       "\\item -12.7\n",
       "\\item -12.6\n",
       "\\item -12.5\n",
       "\\item -12.4\n",
       "\\item -12.3\n",
       "\\item -12.2\n",
       "\\item -12.1\n",
       "\\item -12\n",
       "\\item -11.9\n",
       "\\item -11.8\n",
       "\\item -11.7\n",
       "\\item -11.6\n",
       "\\item -11.5\n",
       "\\item -11.4\n",
       "\\item -11.3\n",
       "\\item -11.2\n",
       "\\item -11.1\n",
       "\\item -11\n",
       "\\item -10.9\n",
       "\\item -10.8\n",
       "\\item -10.7\n",
       "\\item -10.6\n",
       "\\item -10.5\n",
       "\\item -10.4\n",
       "\\item -10.3\n",
       "\\item -10.2\n",
       "\\item -10.1\n",
       "\\item -10\n",
       "\\item -9.9\n",
       "\\item -9.8\n",
       "\\item -9.7\n",
       "\\item -9.6\n",
       "\\item -9.5\n",
       "\\item -9.4\n",
       "\\item -9.3\n",
       "\\item -9.2\n",
       "\\item -9.1\n",
       "\\item -9\n",
       "\\item -8.9\n",
       "\\item -8.8\n",
       "\\item -8.7\n",
       "\\item -8.6\n",
       "\\item -8.5\n",
       "\\item -8.4\n",
       "\\item -8.3\n",
       "\\item -8.2\n",
       "\\item -8.1\n",
       "\\item -8\n",
       "\\item -7.9\n",
       "\\item -7.8\n",
       "\\item -7.7\n",
       "\\item -7.6\n",
       "\\item -7.5\n",
       "\\item -7.4\n",
       "\\item -7.3\n",
       "\\item -7.2\n",
       "\\item -7.1\n",
       "\\item -7\n",
       "\\item -6.9\n",
       "\\item -6.8\n",
       "\\item -6.7\n",
       "\\item -6.6\n",
       "\\item -6.5\n",
       "\\item -6.4\n",
       "\\item -6.3\n",
       "\\item -6.2\n",
       "\\item -6.1\n",
       "\\item -6\n",
       "\\item -5.9\n",
       "\\item -5.8\n",
       "\\item -5.7\n",
       "\\item -5.6\n",
       "\\item -5.5\n",
       "\\item -5.4\n",
       "\\item -5.3\n",
       "\\item -5.2\n",
       "\\item -5.1\n",
       "\\item -5\n",
       "\\item -4.9\n",
       "\\item -4.8\n",
       "\\item -4.7\n",
       "\\item -4.6\n",
       "\\item -4.5\n",
       "\\item -4.4\n",
       "\\item -4.3\n",
       "\\item -4.2\n",
       "\\item -4.1\n",
       "\\item -4\n",
       "\\item -3.9\n",
       "\\item -3.8\n",
       "\\item -3.7\n",
       "\\item -3.6\n",
       "\\item -3.5\n",
       "\\item -3.4\n",
       "\\item -3.3\n",
       "\\item -3.2\n",
       "\\item -3.1\n",
       "\\item -3\n",
       "\\item -2.9\n",
       "\\item -2.8\n",
       "\\item -2.7\n",
       "\\item -2.6\n",
       "\\item -2.5\n",
       "\\item -2.4\n",
       "\\item -2.3\n",
       "\\item -2.2\n",
       "\\item -2.1\n",
       "\\item -2\n",
       "\\item -1.9\n",
       "\\item -1.8\n",
       "\\item -1.7\n",
       "\\item -1.6\n",
       "\\item -1.5\n",
       "\\item -1.4\n",
       "\\item -1.3\n",
       "\\item -1.2\n",
       "\\item -1.1\n",
       "\\item -1\n",
       "\\item -0.899999999999999\n",
       "\\item -0.799999999999997\n",
       "\\item -0.699999999999999\n",
       "\\item -0.599999999999998\n",
       "\\item -0.5\n",
       "\\item -0.399999999999999\n",
       "\\item -0.299999999999997\n",
       "\\item -0.199999999999999\n",
       "\\item -0.0999999999999979\n",
       "\\item ...\n",
       "\\item 0.100000000000001\n",
       "\\item 0.200000000000003\n",
       "\\item 0.300000000000001\n",
       "\\item 0.400000000000002\n",
       "\\item 0.5\n",
       "\\item 0.600000000000001\n",
       "\\item 0.700000000000003\n",
       "\\item 0.800000000000001\n",
       "\\item 0.900000000000002\n",
       "\\item 1\n",
       "\\item 1.1\n",
       "\\item 1.2\n",
       "\\item 1.3\n",
       "\\item 1.4\n",
       "\\item 1.5\n",
       "\\item 1.6\n",
       "\\item 1.7\n",
       "\\item 1.8\n",
       "\\item 1.9\n",
       "\\item 2\n",
       "\\item 2.1\n",
       "\\item 2.2\n",
       "\\item 2.3\n",
       "\\item 2.4\n",
       "\\item 2.5\n",
       "\\item 2.6\n",
       "\\item 2.7\n",
       "\\item 2.8\n",
       "\\item 2.9\n",
       "\\item 3\n",
       "\\item 3.1\n",
       "\\item 3.2\n",
       "\\item 3.3\n",
       "\\item 3.4\n",
       "\\item 3.5\n",
       "\\item 3.6\n",
       "\\item 3.7\n",
       "\\item 3.8\n",
       "\\item 3.9\n",
       "\\item 4\n",
       "\\item 4.1\n",
       "\\item 4.2\n",
       "\\item 4.3\n",
       "\\item 4.4\n",
       "\\item 4.5\n",
       "\\item 4.6\n",
       "\\item 4.7\n",
       "\\item 4.8\n",
       "\\item 4.9\n",
       "\\item 5\n",
       "\\item 5.1\n",
       "\\item 5.2\n",
       "\\item 5.3\n",
       "\\item 5.4\n",
       "\\item 5.5\n",
       "\\item 5.6\n",
       "\\item 5.7\n",
       "\\item 5.8\n",
       "\\item 5.9\n",
       "\\item 6\n",
       "\\item 6.1\n",
       "\\item 6.2\n",
       "\\item 6.3\n",
       "\\item 6.4\n",
       "\\item 6.5\n",
       "\\item 6.6\n",
       "\\item 6.7\n",
       "\\item 6.8\n",
       "\\item 6.9\n",
       "\\item 7\n",
       "\\item 7.1\n",
       "\\item 7.2\n",
       "\\item 7.3\n",
       "\\item 7.4\n",
       "\\item 7.5\n",
       "\\item 7.6\n",
       "\\item 7.7\n",
       "\\item 7.8\n",
       "\\item 7.9\n",
       "\\item 8\n",
       "\\item 8.1\n",
       "\\item 8.2\n",
       "\\item 8.3\n",
       "\\item 8.4\n",
       "\\item 8.5\n",
       "\\item 8.6\n",
       "\\item 8.7\n",
       "\\item 8.8\n",
       "\\item 8.9\n",
       "\\item 9\n",
       "\\item 9.1\n",
       "\\item 9.2\n",
       "\\item 9.3\n",
       "\\item 9.4\n",
       "\\item 9.5\n",
       "\\item 9.6\n",
       "\\item 9.7\n",
       "\\item 9.8\n",
       "\\item 9.9\n",
       "\\item 10\n",
       "\\item 10.1\n",
       "\\item 10.2\n",
       "\\item 10.3\n",
       "\\item 10.4\n",
       "\\item 10.5\n",
       "\\item 10.6\n",
       "\\item 10.7\n",
       "\\item 10.8\n",
       "\\item 10.9\n",
       "\\item 11\n",
       "\\item 11.1\n",
       "\\item 11.2\n",
       "\\item 11.3\n",
       "\\item 11.4\n",
       "\\item 11.5\n",
       "\\item 11.6\n",
       "\\item 11.7\n",
       "\\item 11.8\n",
       "\\item 11.9\n",
       "\\item 12\n",
       "\\item 12.1\n",
       "\\item 12.2\n",
       "\\item 12.3\n",
       "\\item 12.4\n",
       "\\item 12.5\n",
       "\\item 12.6\n",
       "\\item 12.7\n",
       "\\item 12.8\n",
       "\\item 12.9\n",
       "\\item 13\n",
       "\\item 13.1\n",
       "\\item 13.2\n",
       "\\item 13.3\n",
       "\\item 13.4\n",
       "\\item 13.5\n",
       "\\item 13.6\n",
       "\\item 13.7\n",
       "\\item 13.8\n",
       "\\item 13.9\n",
       "\\item 14\n",
       "\\item 14.1\n",
       "\\item 14.2\n",
       "\\item 14.3\n",
       "\\item 14.4\n",
       "\\item 14.5\n",
       "\\item 14.6\n",
       "\\item 14.7\n",
       "\\item 14.8\n",
       "\\item 14.9\n",
       "\\item 15\n",
       "\\item 15.1\n",
       "\\item 15.2\n",
       "\\item 15.3\n",
       "\\item 15.4\n",
       "\\item 15.5\n",
       "\\item 15.6\n",
       "\\item 15.7\n",
       "\\item 15.8\n",
       "\\item 15.9\n",
       "\\item 16\n",
       "\\item 16.1\n",
       "\\item 16.2\n",
       "\\item 16.3\n",
       "\\item 16.4\n",
       "\\item 16.5\n",
       "\\item 16.6\n",
       "\\item 16.7\n",
       "\\item 16.8\n",
       "\\item 16.9\n",
       "\\item 17\n",
       "\\item 17.1\n",
       "\\item 17.2\n",
       "\\item 17.3\n",
       "\\item 17.4\n",
       "\\item 17.5\n",
       "\\item 17.6\n",
       "\\item 17.7\n",
       "\\item 17.8\n",
       "\\item 17.9\n",
       "\\item 18\n",
       "\\item 18.1\n",
       "\\item 18.2\n",
       "\\item 18.3\n",
       "\\item 18.4\n",
       "\\item 18.5\n",
       "\\item 18.6\n",
       "\\item 18.7\n",
       "\\item 18.8\n",
       "\\item 18.9\n",
       "\\item 19\n",
       "\\item 19.1\n",
       "\\item 19.2\n",
       "\\item 19.3\n",
       "\\item 19.4\n",
       "\\item 19.5\n",
       "\\item 19.6\n",
       "\\item 19.7\n",
       "\\item 19.8\n",
       "\\item 19.9\n",
       "\\item 20\n",
       "\\end{enumerate*}\n"
      ],
      "text/markdown": [
       "1. -20\n",
       "2. -19.9\n",
       "3. -19.8\n",
       "4. -19.7\n",
       "5. -19.6\n",
       "6. -19.5\n",
       "7. -19.4\n",
       "8. -19.3\n",
       "9. -19.2\n",
       "10. -19.1\n",
       "11. -19\n",
       "12. -18.9\n",
       "13. -18.8\n",
       "14. -18.7\n",
       "15. -18.6\n",
       "16. -18.5\n",
       "17. -18.4\n",
       "18. -18.3\n",
       "19. -18.2\n",
       "20. -18.1\n",
       "21. -18\n",
       "22. -17.9\n",
       "23. -17.8\n",
       "24. -17.7\n",
       "25. -17.6\n",
       "26. -17.5\n",
       "27. -17.4\n",
       "28. -17.3\n",
       "29. -17.2\n",
       "30. -17.1\n",
       "31. -17\n",
       "32. -16.9\n",
       "33. -16.8\n",
       "34. -16.7\n",
       "35. -16.6\n",
       "36. -16.5\n",
       "37. -16.4\n",
       "38. -16.3\n",
       "39. -16.2\n",
       "40. -16.1\n",
       "41. -16\n",
       "42. -15.9\n",
       "43. -15.8\n",
       "44. -15.7\n",
       "45. -15.6\n",
       "46. -15.5\n",
       "47. -15.4\n",
       "48. -15.3\n",
       "49. -15.2\n",
       "50. -15.1\n",
       "51. -15\n",
       "52. -14.9\n",
       "53. -14.8\n",
       "54. -14.7\n",
       "55. -14.6\n",
       "56. -14.5\n",
       "57. -14.4\n",
       "58. -14.3\n",
       "59. -14.2\n",
       "60. -14.1\n",
       "61. -14\n",
       "62. -13.9\n",
       "63. -13.8\n",
       "64. -13.7\n",
       "65. -13.6\n",
       "66. -13.5\n",
       "67. -13.4\n",
       "68. -13.3\n",
       "69. -13.2\n",
       "70. -13.1\n",
       "71. -13\n",
       "72. -12.9\n",
       "73. -12.8\n",
       "74. -12.7\n",
       "75. -12.6\n",
       "76. -12.5\n",
       "77. -12.4\n",
       "78. -12.3\n",
       "79. -12.2\n",
       "80. -12.1\n",
       "81. -12\n",
       "82. -11.9\n",
       "83. -11.8\n",
       "84. -11.7\n",
       "85. -11.6\n",
       "86. -11.5\n",
       "87. -11.4\n",
       "88. -11.3\n",
       "89. -11.2\n",
       "90. -11.1\n",
       "91. -11\n",
       "92. -10.9\n",
       "93. -10.8\n",
       "94. -10.7\n",
       "95. -10.6\n",
       "96. -10.5\n",
       "97. -10.4\n",
       "98. -10.3\n",
       "99. -10.2\n",
       "100. -10.1\n",
       "101. -10\n",
       "102. -9.9\n",
       "103. -9.8\n",
       "104. -9.7\n",
       "105. -9.6\n",
       "106. -9.5\n",
       "107. -9.4\n",
       "108. -9.3\n",
       "109. -9.2\n",
       "110. -9.1\n",
       "111. -9\n",
       "112. -8.9\n",
       "113. -8.8\n",
       "114. -8.7\n",
       "115. -8.6\n",
       "116. -8.5\n",
       "117. -8.4\n",
       "118. -8.3\n",
       "119. -8.2\n",
       "120. -8.1\n",
       "121. -8\n",
       "122. -7.9\n",
       "123. -7.8\n",
       "124. -7.7\n",
       "125. -7.6\n",
       "126. -7.5\n",
       "127. -7.4\n",
       "128. -7.3\n",
       "129. -7.2\n",
       "130. -7.1\n",
       "131. -7\n",
       "132. -6.9\n",
       "133. -6.8\n",
       "134. -6.7\n",
       "135. -6.6\n",
       "136. -6.5\n",
       "137. -6.4\n",
       "138. -6.3\n",
       "139. -6.2\n",
       "140. -6.1\n",
       "141. -6\n",
       "142. -5.9\n",
       "143. -5.8\n",
       "144. -5.7\n",
       "145. -5.6\n",
       "146. -5.5\n",
       "147. -5.4\n",
       "148. -5.3\n",
       "149. -5.2\n",
       "150. -5.1\n",
       "151. -5\n",
       "152. -4.9\n",
       "153. -4.8\n",
       "154. -4.7\n",
       "155. -4.6\n",
       "156. -4.5\n",
       "157. -4.4\n",
       "158. -4.3\n",
       "159. -4.2\n",
       "160. -4.1\n",
       "161. -4\n",
       "162. -3.9\n",
       "163. -3.8\n",
       "164. -3.7\n",
       "165. -3.6\n",
       "166. -3.5\n",
       "167. -3.4\n",
       "168. -3.3\n",
       "169. -3.2\n",
       "170. -3.1\n",
       "171. -3\n",
       "172. -2.9\n",
       "173. -2.8\n",
       "174. -2.7\n",
       "175. -2.6\n",
       "176. -2.5\n",
       "177. -2.4\n",
       "178. -2.3\n",
       "179. -2.2\n",
       "180. -2.1\n",
       "181. -2\n",
       "182. -1.9\n",
       "183. -1.8\n",
       "184. -1.7\n",
       "185. -1.6\n",
       "186. -1.5\n",
       "187. -1.4\n",
       "188. -1.3\n",
       "189. -1.2\n",
       "190. -1.1\n",
       "191. -1\n",
       "192. -0.899999999999999\n",
       "193. -0.799999999999997\n",
       "194. -0.699999999999999\n",
       "195. -0.599999999999998\n",
       "196. -0.5\n",
       "197. -0.399999999999999\n",
       "198. -0.299999999999997\n",
       "199. -0.199999999999999\n",
       "200. -0.0999999999999979\n",
       "201. ...\n",
       "202. 0.100000000000001\n",
       "203. 0.200000000000003\n",
       "204. 0.300000000000001\n",
       "205. 0.400000000000002\n",
       "206. 0.5\n",
       "207. 0.600000000000001\n",
       "208. 0.700000000000003\n",
       "209. 0.800000000000001\n",
       "210. 0.900000000000002\n",
       "211. 1\n",
       "212. 1.1\n",
       "213. 1.2\n",
       "214. 1.3\n",
       "215. 1.4\n",
       "216. 1.5\n",
       "217. 1.6\n",
       "218. 1.7\n",
       "219. 1.8\n",
       "220. 1.9\n",
       "221. 2\n",
       "222. 2.1\n",
       "223. 2.2\n",
       "224. 2.3\n",
       "225. 2.4\n",
       "226. 2.5\n",
       "227. 2.6\n",
       "228. 2.7\n",
       "229. 2.8\n",
       "230. 2.9\n",
       "231. 3\n",
       "232. 3.1\n",
       "233. 3.2\n",
       "234. 3.3\n",
       "235. 3.4\n",
       "236. 3.5\n",
       "237. 3.6\n",
       "238. 3.7\n",
       "239. 3.8\n",
       "240. 3.9\n",
       "241. 4\n",
       "242. 4.1\n",
       "243. 4.2\n",
       "244. 4.3\n",
       "245. 4.4\n",
       "246. 4.5\n",
       "247. 4.6\n",
       "248. 4.7\n",
       "249. 4.8\n",
       "250. 4.9\n",
       "251. 5\n",
       "252. 5.1\n",
       "253. 5.2\n",
       "254. 5.3\n",
       "255. 5.4\n",
       "256. 5.5\n",
       "257. 5.6\n",
       "258. 5.7\n",
       "259. 5.8\n",
       "260. 5.9\n",
       "261. 6\n",
       "262. 6.1\n",
       "263. 6.2\n",
       "264. 6.3\n",
       "265. 6.4\n",
       "266. 6.5\n",
       "267. 6.6\n",
       "268. 6.7\n",
       "269. 6.8\n",
       "270. 6.9\n",
       "271. 7\n",
       "272. 7.1\n",
       "273. 7.2\n",
       "274. 7.3\n",
       "275. 7.4\n",
       "276. 7.5\n",
       "277. 7.6\n",
       "278. 7.7\n",
       "279. 7.8\n",
       "280. 7.9\n",
       "281. 8\n",
       "282. 8.1\n",
       "283. 8.2\n",
       "284. 8.3\n",
       "285. 8.4\n",
       "286. 8.5\n",
       "287. 8.6\n",
       "288. 8.7\n",
       "289. 8.8\n",
       "290. 8.9\n",
       "291. 9\n",
       "292. 9.1\n",
       "293. 9.2\n",
       "294. 9.3\n",
       "295. 9.4\n",
       "296. 9.5\n",
       "297. 9.6\n",
       "298. 9.7\n",
       "299. 9.8\n",
       "300. 9.9\n",
       "301. 10\n",
       "302. 10.1\n",
       "303. 10.2\n",
       "304. 10.3\n",
       "305. 10.4\n",
       "306. 10.5\n",
       "307. 10.6\n",
       "308. 10.7\n",
       "309. 10.8\n",
       "310. 10.9\n",
       "311. 11\n",
       "312. 11.1\n",
       "313. 11.2\n",
       "314. 11.3\n",
       "315. 11.4\n",
       "316. 11.5\n",
       "317. 11.6\n",
       "318. 11.7\n",
       "319. 11.8\n",
       "320. 11.9\n",
       "321. 12\n",
       "322. 12.1\n",
       "323. 12.2\n",
       "324. 12.3\n",
       "325. 12.4\n",
       "326. 12.5\n",
       "327. 12.6\n",
       "328. 12.7\n",
       "329. 12.8\n",
       "330. 12.9\n",
       "331. 13\n",
       "332. 13.1\n",
       "333. 13.2\n",
       "334. 13.3\n",
       "335. 13.4\n",
       "336. 13.5\n",
       "337. 13.6\n",
       "338. 13.7\n",
       "339. 13.8\n",
       "340. 13.9\n",
       "341. 14\n",
       "342. 14.1\n",
       "343. 14.2\n",
       "344. 14.3\n",
       "345. 14.4\n",
       "346. 14.5\n",
       "347. 14.6\n",
       "348. 14.7\n",
       "349. 14.8\n",
       "350. 14.9\n",
       "351. 15\n",
       "352. 15.1\n",
       "353. 15.2\n",
       "354. 15.3\n",
       "355. 15.4\n",
       "356. 15.5\n",
       "357. 15.6\n",
       "358. 15.7\n",
       "359. 15.8\n",
       "360. 15.9\n",
       "361. 16\n",
       "362. 16.1\n",
       "363. 16.2\n",
       "364. 16.3\n",
       "365. 16.4\n",
       "366. 16.5\n",
       "367. 16.6\n",
       "368. 16.7\n",
       "369. 16.8\n",
       "370. 16.9\n",
       "371. 17\n",
       "372. 17.1\n",
       "373. 17.2\n",
       "374. 17.3\n",
       "375. 17.4\n",
       "376. 17.5\n",
       "377. 17.6\n",
       "378. 17.7\n",
       "379. 17.8\n",
       "380. 17.9\n",
       "381. 18\n",
       "382. 18.1\n",
       "383. 18.2\n",
       "384. 18.3\n",
       "385. 18.4\n",
       "386. 18.5\n",
       "387. 18.6\n",
       "388. 18.7\n",
       "389. 18.8\n",
       "390. 18.9\n",
       "391. 19\n",
       "392. 19.1\n",
       "393. 19.2\n",
       "394. 19.3\n",
       "395. 19.4\n",
       "396. 19.5\n",
       "397. 19.6\n",
       "398. 19.7\n",
       "399. 19.8\n",
       "400. 19.9\n",
       "401. 20\n",
       "\n",
       "\n"
      ],
      "text/plain": [
       "  [1] -20.0 -19.9 -19.8 -19.7 -19.6 -19.5 -19.4 -19.3 -19.2 -19.1 -19.0 -18.9\n",
       " [13] -18.8 -18.7 -18.6 -18.5 -18.4 -18.3 -18.2 -18.1 -18.0 -17.9 -17.8 -17.7\n",
       " [25] -17.6 -17.5 -17.4 -17.3 -17.2 -17.1 -17.0 -16.9 -16.8 -16.7 -16.6 -16.5\n",
       " [37] -16.4 -16.3 -16.2 -16.1 -16.0 -15.9 -15.8 -15.7 -15.6 -15.5 -15.4 -15.3\n",
       " [49] -15.2 -15.1 -15.0 -14.9 -14.8 -14.7 -14.6 -14.5 -14.4 -14.3 -14.2 -14.1\n",
       " [61] -14.0 -13.9 -13.8 -13.7 -13.6 -13.5 -13.4 -13.3 -13.2 -13.1 -13.0 -12.9\n",
       " [73] -12.8 -12.7 -12.6 -12.5 -12.4 -12.3 -12.2 -12.1 -12.0 -11.9 -11.8 -11.7\n",
       " [85] -11.6 -11.5 -11.4 -11.3 -11.2 -11.1 -11.0 -10.9 -10.8 -10.7 -10.6 -10.5\n",
       " [97] -10.4 -10.3 -10.2 -10.1 -10.0  -9.9  -9.8  -9.7  -9.6  -9.5  -9.4  -9.3\n",
       "[109]  -9.2  -9.1  -9.0  -8.9  -8.8  -8.7  -8.6  -8.5  -8.4  -8.3  -8.2  -8.1\n",
       "[121]  -8.0  -7.9  -7.8  -7.7  -7.6  -7.5  -7.4  -7.3  -7.2  -7.1  -7.0  -6.9\n",
       "[133]  -6.8  -6.7  -6.6  -6.5  -6.4  -6.3  -6.2  -6.1  -6.0  -5.9  -5.8  -5.7\n",
       "[145]  -5.6  -5.5  -5.4  -5.3  -5.2  -5.1  -5.0  -4.9  -4.8  -4.7  -4.6  -4.5\n",
       "[157]  -4.4  -4.3  -4.2  -4.1  -4.0  -3.9  -3.8  -3.7  -3.6  -3.5  -3.4  -3.3\n",
       "[169]  -3.2  -3.1  -3.0  -2.9  -2.8  -2.7  -2.6  -2.5  -2.4  -2.3  -2.2  -2.1\n",
       "[181]  -2.0  -1.9  -1.8  -1.7  -1.6  -1.5  -1.4  -1.3  -1.2  -1.1  -1.0  -0.9\n",
       "[193]  -0.8  -0.7  -0.6  -0.5  -0.4  -0.3  -0.2  -0.1   0.0   0.1   0.2   0.3\n",
       "[205]   0.4   0.5   0.6   0.7   0.8   0.9   1.0   1.1   1.2   1.3   1.4   1.5\n",
       "[217]   1.6   1.7   1.8   1.9   2.0   2.1   2.2   2.3   2.4   2.5   2.6   2.7\n",
       "[229]   2.8   2.9   3.0   3.1   3.2   3.3   3.4   3.5   3.6   3.7   3.8   3.9\n",
       "[241]   4.0   4.1   4.2   4.3   4.4   4.5   4.6   4.7   4.8   4.9   5.0   5.1\n",
       "[253]   5.2   5.3   5.4   5.5   5.6   5.7   5.8   5.9   6.0   6.1   6.2   6.3\n",
       "[265]   6.4   6.5   6.6   6.7   6.8   6.9   7.0   7.1   7.2   7.3   7.4   7.5\n",
       "[277]   7.6   7.7   7.8   7.9   8.0   8.1   8.2   8.3   8.4   8.5   8.6   8.7\n",
       "[289]   8.8   8.9   9.0   9.1   9.2   9.3   9.4   9.5   9.6   9.7   9.8   9.9\n",
       "[301]  10.0  10.1  10.2  10.3  10.4  10.5  10.6  10.7  10.8  10.9  11.0  11.1\n",
       "[313]  11.2  11.3  11.4  11.5  11.6  11.7  11.8  11.9  12.0  12.1  12.2  12.3\n",
       "[325]  12.4  12.5  12.6  12.7  12.8  12.9  13.0  13.1  13.2  13.3  13.4  13.5\n",
       "[337]  13.6  13.7  13.8  13.9  14.0  14.1  14.2  14.3  14.4  14.5  14.6  14.7\n",
       "[349]  14.8  14.9  15.0  15.1  15.2  15.3  15.4  15.5  15.6  15.7  15.8  15.9\n",
       "[361]  16.0  16.1  16.2  16.3  16.4  16.5  16.6  16.7  16.8  16.9  17.0  17.1\n",
       "[373]  17.2  17.3  17.4  17.5  17.6  17.7  17.8  17.9  18.0  18.1  18.2  18.3\n",
       "[385]  18.4  18.5  18.6  18.7  18.8  18.9  19.0  19.1  19.2  19.3  19.4  19.5\n",
       "[397]  19.6  19.7  19.8  19.9  20.0"
      ]
     },
     "metadata": {},
     "output_type": "display_data"
    }
   ],
   "source": [
    "x <- seq(-20,20, by = .1)\n",
    "x "
   ]
  },
  {
   "cell_type": "code",
   "execution_count": 4,
   "metadata": {},
   "outputs": [
    {
     "data": {
      "image/png": "[encoded data removed]",
      "text/plain": [
       "Plot with title \"Normal Distribution\""
      ]
     },
     "metadata": {
      "image/png": {
       "height": 420,
       "width": 420
      }
     },
     "output_type": "display_data"
    }
   ],
   "source": [
    "y = dnorm(x,mean = 0, sd = 5)\n",
    "plot(x,y, main = \"Normal Distribution\", col = \"blue\")"
   ]
  },
  {
   "cell_type": "code",
   "execution_count": 5,
   "metadata": {},
   "outputs": [
    {
     "data": {
      "image/png": "[encoded data removed]",
      "text/plain": [
       "Plot with title \"Normal Distribution\""
      ]
     },
     "metadata": {
      "image/png": {
       "height": 420,
       "width": 420
      }
     },
     "output_type": "display_data"
    }
   ],
   "source": [
    "y = dnorm(x,mean = 5, sd = 5)\n",
    "plot(x,y, main = \"Normal Distribution\", col = \"blue\")"
   ]
  },
  {
   "cell_type": "code",
   "execution_count": 6,
   "metadata": {},
   "outputs": [
    {
     "data": {
      "image/png": "[encoded data removed]",
      "text/plain": [
       "Plot with title \"Normal Distribution\""
      ]
     },
     "metadata": {
      "image/png": {
       "height": 420,
       "width": 420
      }
     },
     "output_type": "display_data"
    }
   ],
   "source": [
    "y = dnorm(x,mean = 10, sd = 5)\n",
    "plot(x,y, main = \"Normal Distribution\", col = \"blue\")"
   ]
  },
  {
   "cell_type": "code",
   "execution_count": 7,
   "metadata": {},
   "outputs": [
    {
     "data": {
      "image/png": "[encoded data removed]",
      "text/plain": [
       "Plot with title \"Normal Distribution\""
      ]
     },
     "metadata": {
      "image/png": {
       "height": 420,
       "width": 420
      }
     },
     "output_type": "display_data"
    }
   ],
   "source": [
    "y = dnorm(x,mean = 0, sd = 0)\n",
    "plot(x,y, main = \"Normal Distribution\", col = \"blue\")"
   ]
  },
  {
   "cell_type": "markdown",
   "metadata": {},
   "source": [
    "## Standard Normal Distribution\n"
   ]
  },
  {
   "cell_type": "code",
   "execution_count": 8,
   "metadata": {},
   "outputs": [
    {
     "data": {
      "image/png": "[encoded data removed]",
      "text/plain": [
       "Plot with title \" stanadard Normal Distribution\""
      ]
     },
     "metadata": {
      "image/png": {
       "height": 420,
       "width": 420
      }
     },
     "output_type": "display_data"
    }
   ],
   "source": [
    "y = dnorm(x,mean = 0, sd = 1)\n",
    "plot(x,y, main = \" stanadard Normal Distribution\", col = \"blue\")"
   ]
  },
  {
   "cell_type": "markdown",
   "metadata": {},
   "source": [
    "# Cumulative probability finctions\n"
   ]
  },
  {
   "cell_type": "code",
   "execution_count": 13,
   "metadata": {},
   "outputs": [
    {
     "data": {
      "image/png": "[encoded data removed]",
      "text/plain": [
       "Plot with title \"pnorm()\""
      ]
     },
     "metadata": {
      "image/png": {
       "height": 420,
       "width": 420
      }
     },
     "output_type": "display_data"
    }
   ],
   "source": [
    "x <- seq(-20,20, by = .1)\n",
    "y = pnorm(x,mean = 5, sd =1)\n",
    "y = plot(x,y,main = \"pnorm()\", col = \"blue\")"
   ]
  },
  {
   "cell_type": "markdown",
   "metadata": {},
   "source": [
    "## Qnorm function\n",
    "it is the inverse of pnorm function\n",
    "it takes the probability value and gives th value, which corresponds to the probabilty value\n",
    "it is useful in finding the percentiles  of a normal "
   ]
  },
  {
   "cell_type": "code",
   "execution_count": 15,
   "metadata": {},
   "outputs": [
    {
     "data": {
      "image/png": "[encoded data removed]",
      "text/plain": [
       "Plot with title \"qnorm\""
      ]
     },
     "metadata": {
      "image/png": {
       "height": 420,
       "width": 420
      }
     },
     "output_type": "display_data"
    }
   ],
   "source": [
    "y = seq(0,1, by = 0.02)\n",
    "x = qnorm(y,mean = 2, sd =1)\n",
    "plot(x,y, main = \"qnorm\", col = \"blue\")\n"
   ]
  },
  {
   "cell_type": "markdown",
   "metadata": {},
   "source": [
    "## Rnorm()\n",
    "rnorm() function in R is used to generate a vecotr of random numnets which are normally distributed"
   ]
  },
  {
   "cell_type": "code",
   "execution_count": 17,
   "metadata": {},
   "outputs": [
    {
     "data": {
      "image/png": "[encoded data removed]",
      "text/plain": [
       "Plot with title \"Norall Distribution\""
      ]
     },
     "metadata": {
      "image/png": {
       "height": 420,
       "width": 420
      }
     },
     "output_type": "display_data"
    }
   ],
   "source": [
    "x = rnorm(70)\n",
    "plot(x, main = \"Norall Distribution\", col = \"darkorange\")"
   ]
  },
  {
   "cell_type": "code",
   "execution_count": 19,
   "metadata": {},
   "outputs": [
    {
     "data": {
      "image/png": "[encoded data removed]",
      "text/plain": [
       "Plot with title \"normal distribution\""
      ]
     },
     "metadata": {
      "image/png": {
       "height": 420,
       "width": 420
      }
     },
     "output_type": "display_data"
    }
   ],
   "source": [
    "x = rnorm(75,5.5,1)\n",
    "plot(x, main = \"normal distribution\", col = \"darkorange\")"
   ]
  },
  {
   "cell_type": "code",
   "execution_count": 20,
   "metadata": {},
   "outputs": [
    {
     "data": {
      "image/png": "[encoded data removed]",
      "text/plain": [
       "Plot with title \"Normal Distribution\""
      ]
     },
     "metadata": {
      "image/png": {
       "height": 420,
       "width": 420
      }
     },
     "output_type": "display_data"
    }
   ],
   "source": [
    "# normal curve for the same\n",
    "\n",
    "x=rnorm(75, 5.5,1)\n",
    "#plot(x, main = \"Normal Distribution\", col = \"darkorange\")\n",
    "\n",
    "y <- dnorm(x, mean(x),sd(x))\n",
    "\n",
    "plot(x,y, main = \"Normal Distribution\", col = \"darkorange\")"
   ]
  },
  {
   "cell_type": "markdown",
   "metadata": {},
   "source": [
    "## Numericals"
   ]
  },
  {
   "cell_type": "code",
   "execution_count": 23,
   "metadata": {},
   "outputs": [
    {
     "data": {
      "text/html": [
       "0.252492537546923"
      ],
      "text/latex": [
       "0.252492537546923"
      ],
      "text/markdown": [
       "0.252492537546923"
      ],
      "text/plain": [
       "[1] 0.2524925"
      ]
     },
     "metadata": {},
     "output_type": "display_data"
    }
   ],
   "source": [
    "x <- seq(-20,20, by = .1)\n",
    " pnorm(110,mean = 100, sd =15, lower.tail = FALSE)\n"
   ]
  },
  {
   "cell_type": "code",
   "execution_count": 24,
   "metadata": {},
   "outputs": [
    {
     "data": {
      "text/html": [
       "0.171335737285515"
      ],
      "text/latex": [
       "0.171335737285515"
      ],
      "text/markdown": [
       "0.171335737285515"
      ],
      "text/plain": [
       "[1] 0.1713357"
      ]
     },
     "metadata": {},
     "output_type": "display_data"
    }
   ],
   "source": [
    "pnorm(0.9489,lower.tail = FALSE)"
   ]
  },
  {
   "cell_type": "code",
   "execution_count": 25,
   "metadata": {},
   "outputs": [
    {
     "data": {
      "text/html": [
       "89.8826537470588"
      ],
      "text/latex": [
       "89.8826537470588"
      ],
      "text/markdown": [
       "89.8826537470588"
      ],
      "text/plain": [
       "[1] 89.88265"
      ]
     },
     "metadata": {},
     "output_type": "display_data"
    }
   ],
   "source": [
    "qnorm(.25,mean = 100, sd = 15, lower.tail = TRUE)"
   ]
  },
  {
   "cell_type": "code",
   "execution_count": 27,
   "metadata": {},
   "outputs": [
    {
     "data": {
      "text/html": [
       "79.99993"
      ],
      "text/latex": [
       "79.99993"
      ],
      "text/markdown": [
       "79.99993"
      ],
      "text/plain": [
       "[1] 79.99993"
      ]
     },
     "metadata": {},
     "output_type": "display_data"
    }
   ],
   "source": [
    "qnorm(0.171335737285515,mean = 67, sd = 13.7, lower.tail = FALSE)"
   ]
  },
  {
   "cell_type": "code",
   "execution_count": null,
   "metadata": {},
   "outputs": [],
   "source": []
  }
 ],
 "metadata": {
  "kernelspec": {
   "display_name": "R",
   "language": "R",
   "name": "ir"
  },
  "language_info": {
   "codemirror_mode": "r",
   "file_extension": ".r",
   "mimetype": "text/x-r-source",
   "name": "R",
   "pygments_lexer": "r",
   "version": "4.1.2"
  },
  "orig_nbformat": 4
 },
 "nbformat": 4,
 "nbformat_minor": 2
}
