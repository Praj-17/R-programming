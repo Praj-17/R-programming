{
 "cells": [
  {
   "cell_type": "markdown",
   "metadata": {},
   "source": [
    "# Hypothesis Testing"
   ]
  },
  {
   "cell_type": "markdown",
   "metadata": {},
   "source": [
    "Creating a sample data for weight of 10 cookies\n",
    "\n",
    "Here we are assuming that the weight of the cookies are normally distributed. and their mean are"
   ]
  },
  {
   "cell_type": "code",
   "execution_count": 1,
   "metadata": {
    "vscode": {
     "languageId": "r"
    }
   },
   "outputs": [
    {
     "name": "stderr",
     "output_type": "stream",
     "text": [
      "Warning message:\n",
      "\"package 'ggpubr' was built under R version 4.1.3\"\n",
      "Loading required package: ggplot2\n",
      "\n"
     ]
    }
   ],
   "source": [
    "library(ggpubr)"
   ]
  },
  {
   "cell_type": "code",
   "execution_count": 2,
   "metadata": {
    "vscode": {
     "languageId": "r"
    }
   },
   "outputs": [
    {
     "data": {
      "text/html": [
       "19.59"
      ],
      "text/latex": [
       "19.59"
      ],
      "text/markdown": [
       "19.59"
      ],
      "text/plain": [
       "[1] 19.59"
      ]
     },
     "metadata": {},
     "output_type": "display_data"
    },
    {
     "data": {
      "text/plain": [
       "   Min. 1st Qu.  Median    Mean 3rd Qu.    Max. \n",
       "  17.50   18.02   19.30   19.59   20.57   22.30 "
      ]
     },
     "metadata": {},
     "output_type": "display_data"
    },
    {
     "name": "stdout",
     "output_type": "stream",
     "text": [
      "Normal                  package:stats                  R Documentation\n",
      "\n",
      "_\bT_\bh_\be _\bN_\bo_\br_\bm_\ba_\bl _\bD_\bi_\bs_\bt_\br_\bi_\bb_\bu_\bt_\bi_\bo_\bn\n",
      "\n",
      "_\bD_\be_\bs_\bc_\br_\bi_\bp_\bt_\bi_\bo_\bn:\n",
      "\n",
      "     Density, distribution function, quantile function and random\n",
      "     generation for the normal distribution with mean equal to 'mean'\n",
      "     and standard deviation equal to 'sd'.\n",
      "\n",
      "_\bU_\bs_\ba_\bg_\be:\n",
      "\n",
      "     dnorm(x, mean = 0, sd = 1, log = FALSE)\n",
      "     pnorm(q, mean = 0, sd = 1, lower.tail = TRUE, log.p = FALSE)\n",
      "     qnorm(p, mean = 0, sd = 1, lower.tail = TRUE, log.p = FALSE)\n",
      "     rnorm(n, mean = 0, sd = 1)\n",
      "     \n",
      "_\bA_\br_\bg_\bu_\bm_\be_\bn_\bt_\bs:\n",
      "\n",
      "    x, q: vector of quantiles.\n",
      "\n",
      "       p: vector of probabilities.\n",
      "\n",
      "       n: number of observations. If 'length(n) > 1', the length is\n",
      "          taken to be the number required.\n",
      "\n",
      "    mean: vector of means.\n",
      "\n",
      "      sd: vector of standard deviations.\n",
      "\n",
      "log, log.p: logical; if TRUE, probabilities p are given as log(p).\n",
      "\n",
      "lower.tail: logical; if TRUE (default), probabilities are P[X <= x]\n",
      "          otherwise, P[X > x].\n",
      "\n",
      "_\bD_\be_\bt_\ba_\bi_\bl_\bs:\n",
      "\n",
      "     If 'mean' or 'sd' are not specified they assume the default values\n",
      "     of '0' and '1', respectively.\n",
      "\n",
      "     The normal distribution has density\n",
      "\n",
      "            f(x) = 1/(sqrt(2 pi) sigma) e^-((x - mu)^2/(2 sigma^2))     \n",
      "     \n",
      "     where mu is the mean of the distribution and sigma the standard\n",
      "     deviation.\n",
      "\n",
      "_\bV_\ba_\bl_\bu_\be:\n",
      "\n",
      "     'dnorm' gives the density, 'pnorm' gives the distribution\n",
      "     function, 'qnorm' gives the quantile function, and 'rnorm'\n",
      "     generates random deviates.\n",
      "\n",
      "     The length of the result is determined by 'n' for 'rnorm', and is\n",
      "     the maximum of the lengths of the numerical arguments for the\n",
      "     other functions.\n",
      "\n",
      "     The numerical arguments other than 'n' are recycled to the length\n",
      "     of the result.  Only the first elements of the logical arguments\n",
      "     are used.\n",
      "\n",
      "     For 'sd = 0' this gives the limit as 'sd' decreases to 0, a point\n",
      "     mass at 'mu'.  'sd < 0' is an error and returns 'NaN'.\n",
      "\n",
      "_\bS_\bo_\bu_\br_\bc_\be:\n",
      "\n",
      "     For 'pnorm', based on\n",
      "\n",
      "     Cody, W. D. (1993) Algorithm 715: SPECFUN - A portable FORTRAN\n",
      "     package of special function routines and test drivers.  _ACM\n",
      "     Transactions on Mathematical Software_ *19*, 22-32.\n",
      "\n",
      "     For 'qnorm', the code is a C translation of\n",
      "\n",
      "     Wichura, M. J. (1988) Algorithm AS 241: The percentage points of\n",
      "     the normal distribution.  _Applied Statistics_, *37*, 477-484.\n",
      "\n",
      "     which provides precise results up to about 16 digits.\n",
      "\n",
      "     For 'rnorm', see RNG for how to select the algorithm and for\n",
      "     references to the supplied methods.\n",
      "\n",
      "_\bR_\be_\bf_\be_\br_\be_\bn_\bc_\be_\bs:\n",
      "\n",
      "     Becker, R. A., Chambers, J. M. and Wilks, A. R. (1988) _The New S\n",
      "     Language_.  Wadsworth & Brooks/Cole.\n",
      "\n",
      "     Johnson, N. L., Kotz, S. and Balakrishnan, N. (1995) _Continuous\n",
      "     Univariate Distributions_, volume 1, chapter 13.  Wiley, New York.\n",
      "\n",
      "_\bS_\be_\be _\bA_\bl_\bs_\bo:\n",
      "\n",
      "     Distributions for other standard distributions, including 'dlnorm'\n",
      "     for the _Log_normal distribution.\n",
      "\n",
      "_\bE_\bx_\ba_\bm_\bp_\bl_\be_\bs:\n",
      "\n",
      "     require(graphics)\n",
      "     \n",
      "     dnorm(0) == 1/sqrt(2*pi)\n",
      "     dnorm(1) == exp(-1/2)/sqrt(2*pi)\n",
      "     dnorm(1) == 1/sqrt(2*pi*exp(1))\n",
      "     \n",
      "     ## Using \"log = TRUE\" for an extended range :\n",
      "     par(mfrow = c(2,1))\n",
      "     plot(function(x) dnorm(x, log = TRUE), -60, 50,\n",
      "          main = \"log { Normal density }\")\n",
      "     curve(log(dnorm(x)), add = TRUE, col = \"red\", lwd = 2)\n",
      "     mtext(\"dnorm(x, log=TRUE)\", adj = 0)\n",
      "     mtext(\"log(dnorm(x))\", col = \"red\", adj = 1)\n",
      "     \n",
      "     plot(function(x) pnorm(x, log.p = TRUE), -50, 10,\n",
      "          main = \"log { Normal Cumulative }\")\n",
      "     curve(log(pnorm(x)), add = TRUE, col = \"red\", lwd = 2)\n",
      "     mtext(\"pnorm(x, log=TRUE)\", adj = 0)\n",
      "     mtext(\"log(pnorm(x))\", col = \"red\", adj = 1)\n",
      "     \n",
      "     ## if you want the so-called 'error function'\n",
      "     erf <- function(x) 2 * pnorm(x * sqrt(2)) - 1\n",
      "     ## (see Abramowitz and Stegun 29.2.29)\n",
      "     ## and the so-called 'complementary error function'\n",
      "     erfc <- function(x) 2 * pnorm(x * sqrt(2), lower = FALSE)\n",
      "     ## and the inverses\n",
      "     erfinv <- function (x) qnorm((1 + x)/2)/sqrt(2)\n",
      "     erfcinv <- function (x) qnorm(x/2, lower = FALSE)/sqrt(2)\n",
      "     "
     ]
    }
   ],
   "source": [
    "help(rnorm)\n",
    "weight = round(rnorm(10,20,2),1)\n",
    "mean(weight)\n",
    "summary(weight)"
   ]
  },
  {
   "cell_type": "code",
   "execution_count": 3,
   "metadata": {
    "vscode": {
     "languageId": "r"
    }
   },
   "outputs": [
    {
     "data": {
      "image/png": "[encoded data removed]",
      "text/plain": [
       "plot without title"
      ]
     },
     "metadata": {
      "image/png": {
       "height": 420,
       "width": 420
      }
     },
     "output_type": "display_data"
    }
   ],
   "source": [
    "ggboxplot(weight, ylab=\"Weight (kg)\", xlab=FALSE, ggtheme= theme_minimal())"
   ]
  },
  {
   "cell_type": "code",
   "execution_count": 4,
   "metadata": {
    "vscode": {
     "languageId": "r"
    }
   },
   "outputs": [
    {
     "name": "stdout",
     "output_type": "stream",
     "text": [
      "t.test                  package:stats                  R Documentation\n",
      "\n",
      "_\bS_\bt_\bu_\bd_\be_\bn_\bt'_\bs _\bt-_\bT_\be_\bs_\bt\n",
      "\n",
      "_\bD_\be_\bs_\bc_\br_\bi_\bp_\bt_\bi_\bo_\bn:\n",
      "\n",
      "     Performs one and two sample t-tests on vectors of data.\n",
      "\n",
      "_\bU_\bs_\ba_\bg_\be:\n",
      "\n",
      "     t.test(x, ...)\n",
      "     \n",
      "     ## Default S3 method:\n",
      "     t.test(x, y = NULL,\n",
      "            alternative = c(\"two.sided\", \"less\", \"greater\"),\n",
      "            mu = 0, paired = FALSE, var.equal = FALSE,\n",
      "            conf.level = 0.95, ...)\n",
      "     \n",
      "     ## S3 method for class 'formula'\n",
      "     t.test(formula, data, subset, na.action, ...)\n",
      "     \n",
      "_\bA_\br_\bg_\bu_\bm_\be_\bn_\bt_\bs:\n",
      "\n",
      "       x: a (non-empty) numeric vector of data values.\n",
      "\n",
      "       y: an optional (non-empty) numeric vector of data values.\n",
      "\n",
      "alternative: a character string specifying the alternative hypothesis,\n",
      "          must be one of '\"two.sided\"' (default), '\"greater\"' or\n",
      "          '\"less\"'.  You can specify just the initial letter.\n",
      "\n",
      "      mu: a number indicating the true value of the mean (or difference\n",
      "          in means if you are performing a two sample test).\n",
      "\n",
      "  paired: a logical indicating whether you want a paired t-test.\n",
      "\n",
      "var.equal: a logical variable indicating whether to treat the two\n",
      "          variances as being equal. If 'TRUE' then the pooled variance\n",
      "          is used to estimate the variance otherwise the Welch (or\n",
      "          Satterthwaite) approximation to the degrees of freedom is\n",
      "          used.\n",
      "\n",
      "conf.level: confidence level of the interval.\n",
      "\n",
      " formula: a formula of the form 'lhs ~ rhs' where 'lhs' is a numeric\n",
      "          variable giving the data values and 'rhs' either '1' for a\n",
      "          one-sample or paired test or a factor with two levels giving\n",
      "          the corresponding groups. If 'lhs' is of class '\"Pair\"' and\n",
      "          'rhs' is '1', a paired test is done\n",
      "\n",
      "    data: an optional matrix or data frame (or similar: see\n",
      "          'model.frame') containing the variables in the formula\n",
      "          'formula'.  By default the variables are taken from\n",
      "          'environment(formula)'.\n",
      "\n",
      "  subset: an optional vector specifying a subset of observations to be\n",
      "          used.\n",
      "\n",
      "na.action: a function which indicates what should happen when the data\n",
      "          contain 'NA's.  Defaults to 'getOption(\"na.action\")'.\n",
      "\n",
      "     ...: further arguments to be passed to or from methods.\n",
      "\n",
      "_\bD_\be_\bt_\ba_\bi_\bl_\bs:\n",
      "\n",
      "     'alternative = \"greater\"' is the alternative that 'x' has a larger\n",
      "     mean than 'y'. For the one-sample case: that the mean is positive.\n",
      "\n",
      "     If 'paired' is 'TRUE' then both 'x' and 'y' must be specified and\n",
      "     they must be the same length.  Missing values are silently removed\n",
      "     (in pairs if 'paired' is 'TRUE').  If 'var.equal' is 'TRUE' then\n",
      "     the pooled estimate of the variance is used.  By default, if\n",
      "     'var.equal' is 'FALSE' then the variance is estimated separately\n",
      "     for both groups and the Welch modification to the degrees of\n",
      "     freedom is used.\n",
      "\n",
      "     If the input data are effectively constant (compared to the larger\n",
      "     of the two means) an error is generated.\n",
      "\n",
      "_\bV_\ba_\bl_\bu_\be:\n",
      "\n",
      "     A list with class '\"htest\"' containing the following components:\n",
      "\n",
      "statistic: the value of the t-statistic.\n",
      "\n",
      "parameter: the degrees of freedom for the t-statistic.\n",
      "\n",
      " p.value: the p-value for the test.\n",
      "\n",
      "conf.int: a confidence interval for the mean appropriate to the\n",
      "          specified alternative hypothesis.\n",
      "\n",
      "estimate: the estimated mean or difference in means depending on\n",
      "          whether it was a one-sample test or a two-sample test.\n",
      "\n",
      "null.value: the specified hypothesized value of the mean or mean\n",
      "          difference depending on whether it was a one-sample test or a\n",
      "          two-sample test.\n",
      "\n",
      "  stderr: the standard error of the mean (difference), used as\n",
      "          denominator in the t-statistic formula.\n",
      "\n",
      "alternative: a character string describing the alternative hypothesis.\n",
      "\n",
      "  method: a character string indicating what type of t-test was\n",
      "          performed.\n",
      "\n",
      "data.name: a character string giving the name(s) of the data.\n",
      "\n",
      "_\bS_\be_\be _\bA_\bl_\bs_\bo:\n",
      "\n",
      "     'prop.test'\n",
      "\n",
      "_\bE_\bx_\ba_\bm_\bp_\bl_\be_\bs:\n",
      "\n",
      "     require(graphics)\n",
      "     \n",
      "     t.test(1:10, y = c(7:20))      # P = .00001855\n",
      "     t.test(1:10, y = c(7:20, 200)) # P = .1245    -- NOT significant anymore\n",
      "     \n",
      "     ## Classical example: Student's sleep data\n",
      "     plot(extra ~ group, data = sleep)\n",
      "     ## Traditional interface\n",
      "     with(sleep, t.test(extra[group == 1], extra[group == 2]))\n",
      "     \n",
      "     ## Formula interface\n",
      "     t.test(extra ~ group, data = sleep)\n",
      "     \n",
      "     ## Formula interface to one-sample test\n",
      "     t.test(extra ~ 1, data = sleep)\n",
      "     \n",
      "     ## Formula interface to paired test\n",
      "     ## The sleep data are actually paired, so could have been in wide format:\n",
      "     sleep2 <- reshape(sleep, direction = \"wide\", \n",
      "                       idvar = \"ID\", timevar = \"group\")\n",
      "     t.test(Pair(extra.1, extra.2) ~ 1, data = sleep2)\n",
      "     "
     ]
    }
   ],
   "source": [
    "help(\"t.test\")"
   ]
  },
  {
   "cell_type": "markdown",
   "metadata": {},
   "source": [
    "#### One sample t-test"
   ]
  },
  {
   "cell_type": "code",
   "execution_count": 11,
   "metadata": {
    "vscode": {
     "languageId": "r"
    }
   },
   "outputs": [
    {
     "data": {
      "text/plain": [
       "\n",
       "\tOne Sample t-test\n",
       "\n",
       "data:  weight\n",
       "t = -9.5127, df = 9, p-value = 5.415e-06\n",
       "alternative hypothesis: true mean is not equal to 25\n",
       "95 percent confidence interval:\n",
       " 18.30348 20.87652\n",
       "sample estimates:\n",
       "mean of x \n",
       "    19.59 \n"
      ]
     },
     "metadata": {},
     "output_type": "display_data"
    }
   ],
   "source": [
    "res = t.test(weight, mu = 25)\n",
    "res"
   ]
  },
  {
   "cell_type": "code",
   "execution_count": 8,
   "metadata": {
    "vscode": {
     "languageId": "r"
    }
   },
   "outputs": [
    {
     "data": {
      "text/plain": [
       "\n",
       "\tOne Sample t-test\n",
       "\n",
       "data:  weight\n",
       "t = -9.5127, df = 9, p-value = 1\n",
       "alternative hypothesis: true mean is greater than 25\n",
       "95 percent confidence interval:\n",
       " 18.54749      Inf\n",
       "sample estimates:\n",
       "mean of x \n",
       "    19.59 \n"
      ]
     },
     "metadata": {},
     "output_type": "display_data"
    }
   ],
   "source": [
    "res = t.test(weight, mu = 25, alternative = \"greater\")\n",
    "res"
   ]
  },
  {
   "cell_type": "code",
   "execution_count": 10,
   "metadata": {
    "vscode": {
     "languageId": "r"
    }
   },
   "outputs": [
    {
     "data": {
      "text/plain": [
       "\n",
       "\tOne Sample t-test\n",
       "\n",
       "data:  weight\n",
       "t = -9.5127, df = 9, p-value = 2.707e-06\n",
       "alternative hypothesis: true mean is less than 25\n",
       "95 percent confidence interval:\n",
       "     -Inf 20.63251\n",
       "sample estimates:\n",
       "mean of x \n",
       "    19.59 \n"
      ]
     },
     "metadata": {},
     "output_type": "display_data"
    }
   ],
   "source": [
    "res = t.test(weight, mu = 25, alternative = \"less\")\n",
    "res"
   ]
  },
  {
   "cell_type": "code",
   "execution_count": 13,
   "metadata": {
    "vscode": {
     "languageId": "r"
    }
   },
   "outputs": [
    {
     "data": {
      "text/html": [
       "5.41450047637596e-06"
      ],
      "text/latex": [
       "5.41450047637596e-06"
      ],
      "text/markdown": [
       "5.41450047637596e-06"
      ],
      "text/plain": [
       "[1] 5.4145e-06"
      ]
     },
     "metadata": {},
     "output_type": "display_data"
    },
    {
     "data": {
      "text/html": [
       "<strong>mean of x:</strong> 19.59"
      ],
      "text/latex": [
       "\\textbf{mean of x:} 19.59"
      ],
      "text/markdown": [
       "**mean of x:** 19.59"
      ],
      "text/plain": [
       "mean of x \n",
       "    19.59 "
      ]
     },
     "metadata": {},
     "output_type": "display_data"
    },
    {
     "data": {
      "text/html": [
       "<style>\n",
       ".list-inline {list-style: none; margin:0; padding: 0}\n",
       ".list-inline>li {display: inline-block}\n",
       ".list-inline>li:not(:last-child)::after {content: \"\\00b7\"; padding: 0 .5ex}\n",
       "</style>\n",
       "<ol class=list-inline><li>18.3034840867894</li><li>20.8765159132106</li></ol>\n"
      ],
      "text/latex": [
       "\\begin{enumerate*}\n",
       "\\item 18.3034840867894\n",
       "\\item 20.8765159132106\n",
       "\\end{enumerate*}\n"
      ],
      "text/markdown": [
       "1. 18.3034840867894\n",
       "2. 20.8765159132106\n",
       "\n",
       "\n"
      ],
      "text/plain": [
       "[1] 18.30348 20.87652\n",
       "attr(,\"conf.level\")\n",
       "[1] 0.95"
      ]
     },
     "metadata": {},
     "output_type": "display_data"
    },
    {
     "data": {
      "text/plain": [
       "NULL"
      ]
     },
     "metadata": {},
     "output_type": "display_data"
    }
   ],
   "source": [
    "res$p.value\n",
    "res$estimate\n",
    "res$conf.int\n",
    "res$STATISTIC\n",
    "\n"
   ]
  },
  {
   "cell_type": "code",
   "execution_count": 14,
   "metadata": {
    "vscode": {
     "languageId": "r"
    }
   },
   "outputs": [
    {
     "name": "stderr",
     "output_type": "stream",
     "text": [
      "Warning message:\n",
      "\"package 'BSDA' was built under R version 4.1.3\"\n",
      "Loading required package: lattice\n",
      "\n",
      "\n",
      "Attaching package: 'BSDA'\n",
      "\n",
      "\n",
      "The following object is masked from 'package:datasets':\n",
      "\n",
      "    Orange\n",
      "\n",
      "\n"
     ]
    }
   ],
   "source": [
    "library(BSDA)"
   ]
  },
  {
   "cell_type": "code",
   "execution_count": 20,
   "metadata": {
    "vscode": {
     "languageId": "r"
    }
   },
   "outputs": [
    {
     "data": {
      "text/html": [
       "<style>\n",
       ".list-inline {list-style: none; margin:0; padding: 0}\n",
       ".list-inline>li {display: inline-block}\n",
       ".list-inline>li:not(:last-child)::after {content: \"\\00b7\"; padding: 0 .5ex}\n",
       "</style>\n",
       "<ol class=list-inline><li>70.4</li><li>71</li><li>74.6</li><li>71.6</li><li>71.8</li><li>74.9</li><li>72.4</li><li>69</li><li>70.1</li><li>70.6</li><li>73.9</li><li>72.2</li><li>72.3</li><li>71.7</li><li>70.4</li><li>75.1</li><li>72.5</li><li>67.6</li><li>72.9</li><li>70.6</li><li>69.4</li><li>71.1</li><li>69.4</li><li>70</li><li>70.2</li><li>68.1</li><li>73.2</li><li>71.8</li><li>69.2</li><li>74</li><li>72.4</li><li>70.9</li><li>73.3</li><li>73.3</li><li>73.1</li><li>72.9</li><li>72.6</li><li>71.4</li><li>70.9</li><li>70.7</li><li>70.1</li><li>71.1</li><li>69</li><li>75.8</li><li>73.9</li><li>69.3</li><li>70.7</li><li>70.6</li><li>73.1</li><li>71.3</li><li>72</li><li>71.4</li><li>71.4</li><li>74.2</li><li>71</li><li>74.5</li><li>68.4</li><li>72.7</li><li>71.7</li><li>71.9</li><li>72.3</li><li>70.5</li><li>70.8</li><li>69.5</li><li>69.4</li><li>72.1</li><li>72.4</li><li>71.6</li><li>73.3</li><li>75.6</li><li>70.5</li><li>66.9</li><li>73.5</li><li>70.1</li><li>70.1</li><li>73.6</li><li>70.9</li><li>69.1</li><li>71.9</li><li>71.2</li><li>71.5</li><li>72.3</li><li>70.8</li><li>72.8</li><li>71.1</li><li>72.2</li><li>73.7</li><li>72.4</li><li>70.8</li><li>73.8</li><li>73.5</li><li>72.6</li><li>72</li><li>70.2</li><li>74.2</li><li>70.3</li><li>75.9</li><li>74.6</li><li>71</li><li>69.4</li></ol>\n"
      ],
      "text/latex": [
       "\\begin{enumerate*}\n",
       "\\item 70.4\n",
       "\\item 71\n",
       "\\item 74.6\n",
       "\\item 71.6\n",
       "\\item 71.8\n",
       "\\item 74.9\n",
       "\\item 72.4\n",
       "\\item 69\n",
       "\\item 70.1\n",
       "\\item 70.6\n",
       "\\item 73.9\n",
       "\\item 72.2\n",
       "\\item 72.3\n",
       "\\item 71.7\n",
       "\\item 70.4\n",
       "\\item 75.1\n",
       "\\item 72.5\n",
       "\\item 67.6\n",
       "\\item 72.9\n",
       "\\item 70.6\n",
       "\\item 69.4\n",
       "\\item 71.1\n",
       "\\item 69.4\n",
       "\\item 70\n",
       "\\item 70.2\n",
       "\\item 68.1\n",
       "\\item 73.2\n",
       "\\item 71.8\n",
       "\\item 69.2\n",
       "\\item 74\n",
       "\\item 72.4\n",
       "\\item 70.9\n",
       "\\item 73.3\n",
       "\\item 73.3\n",
       "\\item 73.1\n",
       "\\item 72.9\n",
       "\\item 72.6\n",
       "\\item 71.4\n",
       "\\item 70.9\n",
       "\\item 70.7\n",
       "\\item 70.1\n",
       "\\item 71.1\n",
       "\\item 69\n",
       "\\item 75.8\n",
       "\\item 73.9\n",
       "\\item 69.3\n",
       "\\item 70.7\n",
       "\\item 70.6\n",
       "\\item 73.1\n",
       "\\item 71.3\n",
       "\\item 72\n",
       "\\item 71.4\n",
       "\\item 71.4\n",
       "\\item 74.2\n",
       "\\item 71\n",
       "\\item 74.5\n",
       "\\item 68.4\n",
       "\\item 72.7\n",
       "\\item 71.7\n",
       "\\item 71.9\n",
       "\\item 72.3\n",
       "\\item 70.5\n",
       "\\item 70.8\n",
       "\\item 69.5\n",
       "\\item 69.4\n",
       "\\item 72.1\n",
       "\\item 72.4\n",
       "\\item 71.6\n",
       "\\item 73.3\n",
       "\\item 75.6\n",
       "\\item 70.5\n",
       "\\item 66.9\n",
       "\\item 73.5\n",
       "\\item 70.1\n",
       "\\item 70.1\n",
       "\\item 73.6\n",
       "\\item 70.9\n",
       "\\item 69.1\n",
       "\\item 71.9\n",
       "\\item 71.2\n",
       "\\item 71.5\n",
       "\\item 72.3\n",
       "\\item 70.8\n",
       "\\item 72.8\n",
       "\\item 71.1\n",
       "\\item 72.2\n",
       "\\item 73.7\n",
       "\\item 72.4\n",
       "\\item 70.8\n",
       "\\item 73.8\n",
       "\\item 73.5\n",
       "\\item 72.6\n",
       "\\item 72\n",
       "\\item 70.2\n",
       "\\item 74.2\n",
       "\\item 70.3\n",
       "\\item 75.9\n",
       "\\item 74.6\n",
       "\\item 71\n",
       "\\item 69.4\n",
       "\\end{enumerate*}\n"
      ],
      "text/markdown": [
       "1. 70.4\n",
       "2. 71\n",
       "3. 74.6\n",
       "4. 71.6\n",
       "5. 71.8\n",
       "6. 74.9\n",
       "7. 72.4\n",
       "8. 69\n",
       "9. 70.1\n",
       "10. 70.6\n",
       "11. 73.9\n",
       "12. 72.2\n",
       "13. 72.3\n",
       "14. 71.7\n",
       "15. 70.4\n",
       "16. 75.1\n",
       "17. 72.5\n",
       "18. 67.6\n",
       "19. 72.9\n",
       "20. 70.6\n",
       "21. 69.4\n",
       "22. 71.1\n",
       "23. 69.4\n",
       "24. 70\n",
       "25. 70.2\n",
       "26. 68.1\n",
       "27. 73.2\n",
       "28. 71.8\n",
       "29. 69.2\n",
       "30. 74\n",
       "31. 72.4\n",
       "32. 70.9\n",
       "33. 73.3\n",
       "34. 73.3\n",
       "35. 73.1\n",
       "36. 72.9\n",
       "37. 72.6\n",
       "38. 71.4\n",
       "39. 70.9\n",
       "40. 70.7\n",
       "41. 70.1\n",
       "42. 71.1\n",
       "43. 69\n",
       "44. 75.8\n",
       "45. 73.9\n",
       "46. 69.3\n",
       "47. 70.7\n",
       "48. 70.6\n",
       "49. 73.1\n",
       "50. 71.3\n",
       "51. 72\n",
       "52. 71.4\n",
       "53. 71.4\n",
       "54. 74.2\n",
       "55. 71\n",
       "56. 74.5\n",
       "57. 68.4\n",
       "58. 72.7\n",
       "59. 71.7\n",
       "60. 71.9\n",
       "61. 72.3\n",
       "62. 70.5\n",
       "63. 70.8\n",
       "64. 69.5\n",
       "65. 69.4\n",
       "66. 72.1\n",
       "67. 72.4\n",
       "68. 71.6\n",
       "69. 73.3\n",
       "70. 75.6\n",
       "71. 70.5\n",
       "72. 66.9\n",
       "73. 73.5\n",
       "74. 70.1\n",
       "75. 70.1\n",
       "76. 73.6\n",
       "77. 70.9\n",
       "78. 69.1\n",
       "79. 71.9\n",
       "80. 71.2\n",
       "81. 71.5\n",
       "82. 72.3\n",
       "83. 70.8\n",
       "84. 72.8\n",
       "85. 71.1\n",
       "86. 72.2\n",
       "87. 73.7\n",
       "88. 72.4\n",
       "89. 70.8\n",
       "90. 73.8\n",
       "91. 73.5\n",
       "92. 72.6\n",
       "93. 72\n",
       "94. 70.2\n",
       "95. 74.2\n",
       "96. 70.3\n",
       "97. 75.9\n",
       "98. 74.6\n",
       "99. 71\n",
       "100. 69.4\n",
       "\n",
       "\n"
      ],
      "text/plain": [
       "  [1] 70.4 71.0 74.6 71.6 71.8 74.9 72.4 69.0 70.1 70.6 73.9 72.2 72.3 71.7 70.4\n",
       " [16] 75.1 72.5 67.6 72.9 70.6 69.4 71.1 69.4 70.0 70.2 68.1 73.2 71.8 69.2 74.0\n",
       " [31] 72.4 70.9 73.3 73.3 73.1 72.9 72.6 71.4 70.9 70.7 70.1 71.1 69.0 75.8 73.9\n",
       " [46] 69.3 70.7 70.6 73.1 71.3 72.0 71.4 71.4 74.2 71.0 74.5 68.4 72.7 71.7 71.9\n",
       " [61] 72.3 70.5 70.8 69.5 69.4 72.1 72.4 71.6 73.3 75.6 70.5 66.9 73.5 70.1 70.1\n",
       " [76] 73.6 70.9 69.1 71.9 71.2 71.5 72.3 70.8 72.8 71.1 72.2 73.7 72.4 70.8 73.8\n",
       " [91] 73.5 72.6 72.0 70.2 74.2 70.3 75.9 74.6 71.0 69.4"
      ]
     },
     "metadata": {},
     "output_type": "display_data"
    }
   ],
   "source": [
    "x = round(rnorm(100,71.5,2),1)\n",
    "x"
   ]
  },
  {
   "cell_type": "code",
   "execution_count": 18,
   "metadata": {
    "vscode": {
     "languageId": "r"
    }
   },
   "outputs": [
    {
     "data": {
      "text/html": [
       "71.589"
      ],
      "text/latex": [
       "71.589"
      ],
      "text/markdown": [
       "71.589"
      ],
      "text/plain": [
       "[1] 71.589"
      ]
     },
     "metadata": {},
     "output_type": "display_data"
    }
   ],
   "source": [
    "mean(x)"
   ]
  },
  {
   "cell_type": "code",
   "execution_count": 19,
   "metadata": {
    "vscode": {
     "languageId": "r"
    }
   },
   "outputs": [
    {
     "data": {
      "image/png": "[encoded data removed]",
      "text/plain": [
       "plot without title"
      ]
     },
     "metadata": {
      "image/png": {
       "height": 420,
       "width": 420
      }
     },
     "output_type": "display_data"
    }
   ],
   "source": [
    "ggboxplot(x, ylab=\"X\", xlab=FALSE, ggtheme= theme_minimal())"
   ]
  },
  {
   "cell_type": "code",
   "execution_count": 23,
   "metadata": {
    "vscode": {
     "languageId": "r"
    }
   },
   "outputs": [],
   "source": [
    "result  = z.test(x, sigma.x = 8.9,mu =70, alternative = \"greater\")"
   ]
  },
  {
   "cell_type": "code",
   "execution_count": 24,
   "metadata": {
    "vscode": {
     "languageId": "r"
    }
   },
   "outputs": [
    {
     "data": {
      "text/html": [
       "5.41450047637596e-06"
      ],
      "text/latex": [
       "5.41450047637596e-06"
      ],
      "text/markdown": [
       "5.41450047637596e-06"
      ],
      "text/plain": [
       "[1] 5.4145e-06"
      ]
     },
     "metadata": {},
     "output_type": "display_data"
    },
    {
     "data": {
      "text/html": [
       "<strong>mean of x:</strong> 19.59"
      ],
      "text/latex": [
       "\\textbf{mean of x:} 19.59"
      ],
      "text/markdown": [
       "**mean of x:** 19.59"
      ],
      "text/plain": [
       "mean of x \n",
       "    19.59 "
      ]
     },
     "metadata": {},
     "output_type": "display_data"
    },
    {
     "data": {
      "text/html": [
       "<style>\n",
       ".list-inline {list-style: none; margin:0; padding: 0}\n",
       ".list-inline>li {display: inline-block}\n",
       ".list-inline>li:not(:last-child)::after {content: \"\\00b7\"; padding: 0 .5ex}\n",
       "</style>\n",
       "<ol class=list-inline><li>18.3034840867894</li><li>20.8765159132106</li></ol>\n"
      ],
      "text/latex": [
       "\\begin{enumerate*}\n",
       "\\item 18.3034840867894\n",
       "\\item 20.8765159132106\n",
       "\\end{enumerate*}\n"
      ],
      "text/markdown": [
       "1. 18.3034840867894\n",
       "2. 20.8765159132106\n",
       "\n",
       "\n"
      ],
      "text/plain": [
       "[1] 18.30348 20.87652\n",
       "attr(,\"conf.level\")\n",
       "[1] 0.95"
      ]
     },
     "metadata": {},
     "output_type": "display_data"
    },
    {
     "data": {
      "text/plain": [
       "NULL"
      ]
     },
     "metadata": {},
     "output_type": "display_data"
    }
   ],
   "source": [
    "res$p.value\n",
    "res$estimate\n",
    "res$conf.int\n",
    "res$STATISTIC"
   ]
  },
  {
   "cell_type": "code",
   "execution_count": null,
   "metadata": {
    "vscode": {
     "languageId": "r"
    }
   },
   "outputs": [],
   "source": []
  }
 ],
 "metadata": {
  "kernelspec": {
   "display_name": "R",
   "language": "R",
   "name": "ir"
  },
  "language_info": {
   "codemirror_mode": "r",
   "file_extension": ".r",
   "mimetype": "text/x-r-source",
   "name": "R",
   "pygments_lexer": "r",
   "version": "4.1.2"
  },
  "orig_nbformat": 4
 },
 "nbformat": 4,
 "nbformat_minor": 2
}
