{
 "cells": [
  {
   "cell_type": "markdown",
   "metadata": {},
   "source": [
    "#Random Experiments"
   ]
  },
  {
   "cell_type": "markdown",
   "metadata": {},
   "source": [
    "install.packages(\"package_you_want\") -- command to download a package in R"
   ]
  },
  {
   "cell_type": "code",
   "execution_count": 2,
   "metadata": {},
   "outputs": [
    {
     "name": "stderr",
     "output_type": "stream",
     "text": [
      "Loading required package: combinat\n",
      "\n",
      "\n",
      "Attaching package: 'combinat'\n",
      "\n",
      "\n",
      "The following object is masked from 'package:utils':\n",
      "\n",
      "    combn\n",
      "\n",
      "\n",
      "Loading required package: fAsianOptions\n",
      "\n",
      "Loading required package: timeDate\n",
      "\n",
      "Loading required package: timeSeries\n",
      "\n",
      "Loading required package: fBasics\n",
      "\n",
      "Loading required package: fOptions\n",
      "\n",
      "\n",
      "Attaching package: 'prob'\n",
      "\n",
      "\n",
      "The following objects are masked from 'package:base':\n",
      "\n",
      "    intersect, setdiff, union\n",
      "\n",
      "\n"
     ]
    }
   ],
   "source": [
    "library(prob)"
   ]
  },
  {
   "cell_type": "code",
   "execution_count": 3,
   "metadata": {},
   "outputs": [
    {
     "data": {
      "text/html": [
       "<table class=\"dataframe\">\n",
       "<caption>A data.frame: 2 × 1</caption>\n",
       "<thead>\n",
       "\t<tr><th scope=col>toss1</th></tr>\n",
       "\t<tr><th scope=col>&lt;fct&gt;</th></tr>\n",
       "</thead>\n",
       "<tbody>\n",
       "\t<tr><td>H</td></tr>\n",
       "\t<tr><td>T</td></tr>\n",
       "</tbody>\n",
       "</table>\n"
      ],
      "text/latex": [
       "A data.frame: 2 × 1\n",
       "\\begin{tabular}{l}\n",
       " toss1\\\\\n",
       " <fct>\\\\\n",
       "\\hline\n",
       "\t H\\\\\n",
       "\t T\\\\\n",
       "\\end{tabular}\n"
      ],
      "text/markdown": [
       "\n",
       "A data.frame: 2 × 1\n",
       "\n",
       "| toss1 &lt;fct&gt; |\n",
       "|---|\n",
       "| H |\n",
       "| T |\n",
       "\n"
      ],
      "text/plain": [
       "  toss1\n",
       "1 H    \n",
       "2 T    "
      ]
     },
     "metadata": {},
     "output_type": "display_data"
    },
    {
     "data": {
      "text/html": [
       "<table class=\"dataframe\">\n",
       "<caption>A data.frame: 4 × 2</caption>\n",
       "<thead>\n",
       "\t<tr><th scope=col>toss1</th><th scope=col>toss2</th></tr>\n",
       "\t<tr><th scope=col>&lt;fct&gt;</th><th scope=col>&lt;fct&gt;</th></tr>\n",
       "</thead>\n",
       "<tbody>\n",
       "\t<tr><td>H</td><td>H</td></tr>\n",
       "\t<tr><td>T</td><td>H</td></tr>\n",
       "\t<tr><td>H</td><td>T</td></tr>\n",
       "\t<tr><td>T</td><td>T</td></tr>\n",
       "</tbody>\n",
       "</table>\n"
      ],
      "text/latex": [
       "A data.frame: 4 × 2\n",
       "\\begin{tabular}{ll}\n",
       " toss1 & toss2\\\\\n",
       " <fct> & <fct>\\\\\n",
       "\\hline\n",
       "\t H & H\\\\\n",
       "\t T & H\\\\\n",
       "\t H & T\\\\\n",
       "\t T & T\\\\\n",
       "\\end{tabular}\n"
      ],
      "text/markdown": [
       "\n",
       "A data.frame: 4 × 2\n",
       "\n",
       "| toss1 &lt;fct&gt; | toss2 &lt;fct&gt; |\n",
       "|---|---|\n",
       "| H | H |\n",
       "| T | H |\n",
       "| H | T |\n",
       "| T | T |\n",
       "\n"
      ],
      "text/plain": [
       "  toss1 toss2\n",
       "1 H     H    \n",
       "2 T     H    \n",
       "3 H     T    \n",
       "4 T     T    "
      ]
     },
     "metadata": {},
     "output_type": "display_data"
    },
    {
     "data": {
      "text/html": [
       "<table class=\"dataframe\">\n",
       "<caption>A data.frame: 8 × 3</caption>\n",
       "<thead>\n",
       "\t<tr><th scope=col>toss1</th><th scope=col>toss2</th><th scope=col>toss3</th></tr>\n",
       "\t<tr><th scope=col>&lt;fct&gt;</th><th scope=col>&lt;fct&gt;</th><th scope=col>&lt;fct&gt;</th></tr>\n",
       "</thead>\n",
       "<tbody>\n",
       "\t<tr><td>H</td><td>H</td><td>H</td></tr>\n",
       "\t<tr><td>T</td><td>H</td><td>H</td></tr>\n",
       "\t<tr><td>H</td><td>T</td><td>H</td></tr>\n",
       "\t<tr><td>T</td><td>T</td><td>H</td></tr>\n",
       "\t<tr><td>H</td><td>H</td><td>T</td></tr>\n",
       "\t<tr><td>T</td><td>H</td><td>T</td></tr>\n",
       "\t<tr><td>H</td><td>T</td><td>T</td></tr>\n",
       "\t<tr><td>T</td><td>T</td><td>T</td></tr>\n",
       "</tbody>\n",
       "</table>\n"
      ],
      "text/latex": [
       "A data.frame: 8 × 3\n",
       "\\begin{tabular}{lll}\n",
       " toss1 & toss2 & toss3\\\\\n",
       " <fct> & <fct> & <fct>\\\\\n",
       "\\hline\n",
       "\t H & H & H\\\\\n",
       "\t T & H & H\\\\\n",
       "\t H & T & H\\\\\n",
       "\t T & T & H\\\\\n",
       "\t H & H & T\\\\\n",
       "\t T & H & T\\\\\n",
       "\t H & T & T\\\\\n",
       "\t T & T & T\\\\\n",
       "\\end{tabular}\n"
      ],
      "text/markdown": [
       "\n",
       "A data.frame: 8 × 3\n",
       "\n",
       "| toss1 &lt;fct&gt; | toss2 &lt;fct&gt; | toss3 &lt;fct&gt; |\n",
       "|---|---|---|\n",
       "| H | H | H |\n",
       "| T | H | H |\n",
       "| H | T | H |\n",
       "| T | T | H |\n",
       "| H | H | T |\n",
       "| T | H | T |\n",
       "| H | T | T |\n",
       "| T | T | T |\n",
       "\n"
      ],
      "text/plain": [
       "  toss1 toss2 toss3\n",
       "1 H     H     H    \n",
       "2 T     H     H    \n",
       "3 H     T     H    \n",
       "4 T     T     H    \n",
       "5 H     H     T    \n",
       "6 T     H     T    \n",
       "7 H     T     T    \n",
       "8 T     T     T    "
      ]
     },
     "metadata": {},
     "output_type": "display_data"
    }
   ],
   "source": [
    "tosscoin(1)\n",
    "tosscoin(2)\n",
    "tosscoin(3)"
   ]
  },
  {
   "cell_type": "code",
   "execution_count": 4,
   "metadata": {},
   "outputs": [
    {
     "data": {
      "text/html": [
       "1"
      ],
      "text/latex": [
       "1"
      ],
      "text/markdown": [
       "1"
      ],
      "text/plain": [
       "[1] 1"
      ]
     },
     "metadata": {},
     "output_type": "display_data"
    },
    {
     "data": {
      "text/html": [
       "2"
      ],
      "text/latex": [
       "2"
      ],
      "text/markdown": [
       "2"
      ],
      "text/plain": [
       "[1] 2"
      ]
     },
     "metadata": {},
     "output_type": "display_data"
    },
    {
     "data": {
      "text/html": [
       "3"
      ],
      "text/latex": [
       "3"
      ],
      "text/markdown": [
       "3"
      ],
      "text/plain": [
       "[1] 3"
      ]
     },
     "metadata": {},
     "output_type": "display_data"
    },
    {
     "data": {
      "text/html": [
       "6"
      ],
      "text/latex": [
       "6"
      ],
      "text/markdown": [
       "6"
      ],
      "text/plain": [
       "[1] 6"
      ]
     },
     "metadata": {},
     "output_type": "display_data"
    },
    {
     "data": {
      "text/html": [
       "36"
      ],
      "text/latex": [
       "36"
      ],
      "text/markdown": [
       "36"
      ],
      "text/plain": [
       "[1] 36"
      ]
     },
     "metadata": {},
     "output_type": "display_data"
    },
    {
     "data": {
      "text/html": [
       "216"
      ],
      "text/latex": [
       "216"
      ],
      "text/markdown": [
       "216"
      ],
      "text/plain": [
       "[1] 216"
      ]
     },
     "metadata": {},
     "output_type": "display_data"
    }
   ],
   "source": [
    "length(rolldie(1))\n",
    "length(rolldie(2))\n",
    "length(rolldie(3))\n",
    "nrow(rolldie(1))\n",
    "nrow(rolldie(2))\n",
    "nrow(rolldie(3))"
   ]
  },
  {
   "cell_type": "code",
   "execution_count": 5,
   "metadata": {},
   "outputs": [
    {
     "data": {
      "text/html": [
       "2"
      ],
      "text/latex": [
       "2"
      ],
      "text/markdown": [
       "2"
      ],
      "text/plain": [
       "[1] 2"
      ]
     },
     "metadata": {},
     "output_type": "display_data"
    },
    {
     "data": {
      "text/html": [
       "52"
      ],
      "text/latex": [
       "52"
      ],
      "text/markdown": [
       "52"
      ],
      "text/plain": [
       "[1] 52"
      ]
     },
     "metadata": {},
     "output_type": "display_data"
    }
   ],
   "source": [
    "df = cards()\n",
    "length(df)\n",
    "nrow(df)\n"
   ]
  },
  {
   "cell_type": "code",
   "execution_count": 15,
   "metadata": {},
   "outputs": [
    {
     "data": {
      "text/html": [
       "<table class=\"dataframe\">\n",
       "<caption>A data.frame: 3 × 2</caption>\n",
       "<thead>\n",
       "\t<tr><th scope=col>X1</th><th scope=col>X2</th></tr>\n",
       "\t<tr><th scope=col>&lt;int&gt;</th><th scope=col>&lt;int&gt;</th></tr>\n",
       "</thead>\n",
       "<tbody>\n",
       "\t<tr><td>1</td><td>2</td></tr>\n",
       "\t<tr><td>1</td><td>3</td></tr>\n",
       "\t<tr><td>2</td><td>3</td></tr>\n",
       "</tbody>\n",
       "</table>\n"
      ],
      "text/latex": [
       "A data.frame: 3 × 2\n",
       "\\begin{tabular}{ll}\n",
       " X1 & X2\\\\\n",
       " <int> & <int>\\\\\n",
       "\\hline\n",
       "\t 1 & 2\\\\\n",
       "\t 1 & 3\\\\\n",
       "\t 2 & 3\\\\\n",
       "\\end{tabular}\n"
      ],
      "text/markdown": [
       "\n",
       "A data.frame: 3 × 2\n",
       "\n",
       "| X1 &lt;int&gt; | X2 &lt;int&gt; |\n",
       "|---|---|\n",
       "| 1 | 2 |\n",
       "| 1 | 3 |\n",
       "| 2 | 3 |\n",
       "\n"
      ],
      "text/plain": [
       "  X1 X2\n",
       "1 1  2 \n",
       "2 1  3 \n",
       "3 2  3 "
      ]
     },
     "metadata": {},
     "output_type": "display_data"
    },
    {
     "data": {
      "text/html": [
       "<table class=\"dataframe\">\n",
       "<caption>A data.frame: 3 × 2</caption>\n",
       "<thead>\n",
       "\t<tr><th scope=col>X1</th><th scope=col>X2</th></tr>\n",
       "\t<tr><th scope=col>&lt;chr&gt;</th><th scope=col>&lt;chr&gt;</th></tr>\n",
       "</thead>\n",
       "<tbody>\n",
       "\t<tr><td>Red </td><td>BLUE </td></tr>\n",
       "\t<tr><td>Red </td><td>WHITE</td></tr>\n",
       "\t<tr><td>BLUE</td><td>WHITE</td></tr>\n",
       "</tbody>\n",
       "</table>\n"
      ],
      "text/latex": [
       "A data.frame: 3 × 2\n",
       "\\begin{tabular}{ll}\n",
       " X1 & X2\\\\\n",
       " <chr> & <chr>\\\\\n",
       "\\hline\n",
       "\t Red  & BLUE \\\\\n",
       "\t Red  & WHITE\\\\\n",
       "\t BLUE & WHITE\\\\\n",
       "\\end{tabular}\n"
      ],
      "text/markdown": [
       "\n",
       "A data.frame: 3 × 2\n",
       "\n",
       "| X1 &lt;chr&gt; | X2 &lt;chr&gt; |\n",
       "|---|---|\n",
       "| Red  | BLUE  |\n",
       "| Red  | WHITE |\n",
       "| BLUE | WHITE |\n",
       "\n"
      ],
      "text/plain": [
       "  X1   X2   \n",
       "1 Red  BLUE \n",
       "2 Red  WHITE\n",
       "3 BLUE WHITE"
      ]
     },
     "metadata": {},
     "output_type": "display_data"
    },
    {
     "data": {
      "text/html": [
       "<table class=\"dataframe\">\n",
       "<caption>A data.frame: 6 × 2</caption>\n",
       "<thead>\n",
       "\t<tr><th scope=col>X1</th><th scope=col>X2</th></tr>\n",
       "\t<tr><th scope=col>&lt;chr&gt;</th><th scope=col>&lt;chr&gt;</th></tr>\n",
       "</thead>\n",
       "<tbody>\n",
       "\t<tr><td>Red  </td><td>BLUE </td></tr>\n",
       "\t<tr><td>BLUE </td><td>Red  </td></tr>\n",
       "\t<tr><td>Red  </td><td>WHITE</td></tr>\n",
       "\t<tr><td>WHITE</td><td>Red  </td></tr>\n",
       "\t<tr><td>BLUE </td><td>WHITE</td></tr>\n",
       "\t<tr><td>WHITE</td><td>BLUE </td></tr>\n",
       "</tbody>\n",
       "</table>\n"
      ],
      "text/latex": [
       "A data.frame: 6 × 2\n",
       "\\begin{tabular}{ll}\n",
       " X1 & X2\\\\\n",
       " <chr> & <chr>\\\\\n",
       "\\hline\n",
       "\t Red   & BLUE \\\\\n",
       "\t BLUE  & Red  \\\\\n",
       "\t Red   & WHITE\\\\\n",
       "\t WHITE & Red  \\\\\n",
       "\t BLUE  & WHITE\\\\\n",
       "\t WHITE & BLUE \\\\\n",
       "\\end{tabular}\n"
      ],
      "text/markdown": [
       "\n",
       "A data.frame: 6 × 2\n",
       "\n",
       "| X1 &lt;chr&gt; | X2 &lt;chr&gt; |\n",
       "|---|---|\n",
       "| Red   | BLUE  |\n",
       "| BLUE  | Red   |\n",
       "| Red   | WHITE |\n",
       "| WHITE | Red   |\n",
       "| BLUE  | WHITE |\n",
       "| WHITE | BLUE  |\n",
       "\n"
      ],
      "text/plain": [
       "  X1    X2   \n",
       "1 Red   BLUE \n",
       "2 BLUE  Red  \n",
       "3 Red   WHITE\n",
       "4 WHITE Red  \n",
       "5 BLUE  WHITE\n",
       "6 WHITE BLUE "
      ]
     },
     "metadata": {},
     "output_type": "display_data"
    }
   ],
   "source": [
    "urnsamples(1:3, size =2 , replace = FALSE, ordered = FALSE)\n",
    "urnsamples(x = c('Red', 'BLUE', 'WHITE'), size =2 , replace = FALSE, ordered = FALSE)\n",
    "urnsamples(x = c('Red', 'BLUE', 'WHITE'), size =2 , replace = FALSE, ordered = TRUE)"
   ]
  },
  {
   "cell_type": "code",
   "execution_count": 7,
   "metadata": {},
   "outputs": [
    {
     "data": {
      "text/html": [
       "<table class=\"dataframe\">\n",
       "<caption>A data.frame: 3 × 2</caption>\n",
       "<thead>\n",
       "\t<tr><th scope=col>X1</th><th scope=col>X2</th></tr>\n",
       "\t<tr><th scope=col>&lt;chr&gt;</th><th scope=col>&lt;chr&gt;</th></tr>\n",
       "</thead>\n",
       "<tbody>\n",
       "\t<tr><td>Red </td><td>BLUE </td></tr>\n",
       "\t<tr><td>Red </td><td>WHITE</td></tr>\n",
       "\t<tr><td>BLUE</td><td>WHITE</td></tr>\n",
       "</tbody>\n",
       "</table>\n"
      ],
      "text/latex": [
       "A data.frame: 3 × 2\n",
       "\\begin{tabular}{ll}\n",
       " X1 & X2\\\\\n",
       " <chr> & <chr>\\\\\n",
       "\\hline\n",
       "\t Red  & BLUE \\\\\n",
       "\t Red  & WHITE\\\\\n",
       "\t BLUE & WHITE\\\\\n",
       "\\end{tabular}\n"
      ],
      "text/markdown": [
       "\n",
       "A data.frame: 3 × 2\n",
       "\n",
       "| X1 &lt;chr&gt; | X2 &lt;chr&gt; |\n",
       "|---|---|\n",
       "| Red  | BLUE  |\n",
       "| Red  | WHITE |\n",
       "| BLUE | WHITE |\n",
       "\n"
      ],
      "text/plain": [
       "  X1   X2   \n",
       "1 Red  BLUE \n",
       "2 Red  WHITE\n",
       "3 BLUE WHITE"
      ]
     },
     "metadata": {},
     "output_type": "display_data"
    }
   ],
   "source": [
    "urnsamples(x = c('Red', 'BLUE', 'WHITE'), size =2 , replace = FALSE, ordered = FALSE)"
   ]
  },
  {
   "cell_type": "code",
   "execution_count": 8,
   "metadata": {},
   "outputs": [
    {
     "data": {
      "text/html": [
       "<table class=\"dataframe\">\n",
       "<caption>A data.frame: 8 × 4</caption>\n",
       "<thead>\n",
       "\t<tr><th scope=col>toss1</th><th scope=col>toss2</th><th scope=col>toss3</th><th scope=col>probs</th></tr>\n",
       "\t<tr><th scope=col>&lt;fct&gt;</th><th scope=col>&lt;fct&gt;</th><th scope=col>&lt;fct&gt;</th><th scope=col>&lt;dbl&gt;</th></tr>\n",
       "</thead>\n",
       "<tbody>\n",
       "\t<tr><td>H</td><td>H</td><td>H</td><td>0.125</td></tr>\n",
       "\t<tr><td>T</td><td>H</td><td>H</td><td>0.125</td></tr>\n",
       "\t<tr><td>H</td><td>T</td><td>H</td><td>0.125</td></tr>\n",
       "\t<tr><td>T</td><td>T</td><td>H</td><td>0.125</td></tr>\n",
       "\t<tr><td>H</td><td>H</td><td>T</td><td>0.125</td></tr>\n",
       "\t<tr><td>T</td><td>H</td><td>T</td><td>0.125</td></tr>\n",
       "\t<tr><td>H</td><td>T</td><td>T</td><td>0.125</td></tr>\n",
       "\t<tr><td>T</td><td>T</td><td>T</td><td>0.125</td></tr>\n",
       "</tbody>\n",
       "</table>\n"
      ],
      "text/latex": [
       "A data.frame: 8 × 4\n",
       "\\begin{tabular}{llll}\n",
       " toss1 & toss2 & toss3 & probs\\\\\n",
       " <fct> & <fct> & <fct> & <dbl>\\\\\n",
       "\\hline\n",
       "\t H & H & H & 0.125\\\\\n",
       "\t T & H & H & 0.125\\\\\n",
       "\t H & T & H & 0.125\\\\\n",
       "\t T & T & H & 0.125\\\\\n",
       "\t H & H & T & 0.125\\\\\n",
       "\t T & H & T & 0.125\\\\\n",
       "\t H & T & T & 0.125\\\\\n",
       "\t T & T & T & 0.125\\\\\n",
       "\\end{tabular}\n"
      ],
      "text/markdown": [
       "\n",
       "A data.frame: 8 × 4\n",
       "\n",
       "| toss1 &lt;fct&gt; | toss2 &lt;fct&gt; | toss3 &lt;fct&gt; | probs &lt;dbl&gt; |\n",
       "|---|---|---|---|\n",
       "| H | H | H | 0.125 |\n",
       "| T | H | H | 0.125 |\n",
       "| H | T | H | 0.125 |\n",
       "| T | T | H | 0.125 |\n",
       "| H | H | T | 0.125 |\n",
       "| T | H | T | 0.125 |\n",
       "| H | T | T | 0.125 |\n",
       "| T | T | T | 0.125 |\n",
       "\n"
      ],
      "text/plain": [
       "  toss1 toss2 toss3 probs\n",
       "1 H     H     H     0.125\n",
       "2 T     H     H     0.125\n",
       "3 H     T     H     0.125\n",
       "4 T     T     H     0.125\n",
       "5 H     H     T     0.125\n",
       "6 T     H     T     0.125\n",
       "7 H     T     T     0.125\n",
       "8 T     T     T     0.125"
      ]
     },
     "metadata": {},
     "output_type": "display_data"
    },
    {
     "data": {
      "text/html": [
       "<table class=\"dataframe\">\n",
       "<caption>A data.frame: 8 × 3</caption>\n",
       "<thead>\n",
       "\t<tr><th scope=col>toss1</th><th scope=col>toss2</th><th scope=col>toss3</th></tr>\n",
       "\t<tr><th scope=col>&lt;fct&gt;</th><th scope=col>&lt;fct&gt;</th><th scope=col>&lt;fct&gt;</th></tr>\n",
       "</thead>\n",
       "<tbody>\n",
       "\t<tr><td>H</td><td>H</td><td>H</td></tr>\n",
       "\t<tr><td>T</td><td>H</td><td>H</td></tr>\n",
       "\t<tr><td>H</td><td>T</td><td>H</td></tr>\n",
       "\t<tr><td>T</td><td>T</td><td>H</td></tr>\n",
       "\t<tr><td>H</td><td>H</td><td>T</td></tr>\n",
       "\t<tr><td>T</td><td>H</td><td>T</td></tr>\n",
       "\t<tr><td>H</td><td>T</td><td>T</td></tr>\n",
       "\t<tr><td>T</td><td>T</td><td>T</td></tr>\n",
       "</tbody>\n",
       "</table>\n"
      ],
      "text/latex": [
       "A data.frame: 8 × 3\n",
       "\\begin{tabular}{lll}\n",
       " toss1 & toss2 & toss3\\\\\n",
       " <fct> & <fct> & <fct>\\\\\n",
       "\\hline\n",
       "\t H & H & H\\\\\n",
       "\t T & H & H\\\\\n",
       "\t H & T & H\\\\\n",
       "\t T & T & H\\\\\n",
       "\t H & H & T\\\\\n",
       "\t T & H & T\\\\\n",
       "\t H & T & T\\\\\n",
       "\t T & T & T\\\\\n",
       "\\end{tabular}\n"
      ],
      "text/markdown": [
       "\n",
       "A data.frame: 8 × 3\n",
       "\n",
       "| toss1 &lt;fct&gt; | toss2 &lt;fct&gt; | toss3 &lt;fct&gt; |\n",
       "|---|---|---|\n",
       "| H | H | H |\n",
       "| T | H | H |\n",
       "| H | T | H |\n",
       "| T | T | H |\n",
       "| H | H | T |\n",
       "| T | H | T |\n",
       "| H | T | T |\n",
       "| T | T | T |\n",
       "\n"
      ],
      "text/plain": [
       "  toss1 toss2 toss3\n",
       "1 H     H     H    \n",
       "2 T     H     H    \n",
       "3 H     T     H    \n",
       "4 T     T     H    \n",
       "5 H     H     T    \n",
       "6 T     H     T    \n",
       "7 H     T     T    \n",
       "8 T     T     T    "
      ]
     },
     "metadata": {},
     "output_type": "display_data"
    }
   ],
   "source": [
    "# Creating sample space for an event \n",
    "s = tosscoin(3, makespace = TRUE)\n",
    "s\n",
    "s = tosscoin(3, makespace = FALSE)\n",
    "s"
   ]
  },
  {
   "cell_type": "code",
   "execution_count": 9,
   "metadata": {},
   "outputs": [
    {
     "data": {
      "text/html": [
       "<style>\n",
       ".list-inline {list-style: none; margin:0; padding: 0}\n",
       ".list-inline>li {display: inline-block}\n",
       ".list-inline>li:not(:last-child)::after {content: \"\\00b7\"; padding: 0 .5ex}\n",
       "</style>\n",
       "<ol class=list-inline><li>H</li><li>H</li><li>T</li></ol>\n",
       "\n",
       "<details>\n",
       "\t<summary style=display:list-item;cursor:pointer>\n",
       "\t\t<strong>Levels</strong>:\n",
       "\t</summary>\n",
       "\t<style>\n",
       "\t.list-inline {list-style: none; margin:0; padding: 0}\n",
       "\t.list-inline>li {display: inline-block}\n",
       "\t.list-inline>li:not(:last-child)::after {content: \"\\00b7\"; padding: 0 .5ex}\n",
       "\t</style>\n",
       "\t<ol class=list-inline><li>'H'</li><li>'T'</li></ol>\n",
       "</details>"
      ],
      "text/latex": [
       "\\begin{enumerate*}\n",
       "\\item H\n",
       "\\item H\n",
       "\\item T\n",
       "\\end{enumerate*}\n",
       "\n",
       "\\emph{Levels}: \\begin{enumerate*}\n",
       "\\item 'H'\n",
       "\\item 'T'\n",
       "\\end{enumerate*}\n"
      ],
      "text/markdown": [
       "1. H\n",
       "2. H\n",
       "3. T\n",
       "\n",
       "\n",
       "\n",
       "**Levels**: 1. 'H'\n",
       "2. 'T'\n",
       "\n",
       "\n"
      ],
      "text/plain": [
       "[1] H H T\n",
       "Levels: H T"
      ]
     },
     "metadata": {},
     "output_type": "display_data"
    },
    {
     "data": {
      "text/html": [
       "<table class=\"dataframe\">\n",
       "<caption>A data.frame: 2 × 3</caption>\n",
       "<thead>\n",
       "\t<tr><th></th><th scope=col>toss1</th><th scope=col>toss2</th><th scope=col>toss3</th></tr>\n",
       "\t<tr><th></th><th scope=col>&lt;fct&gt;</th><th scope=col>&lt;fct&gt;</th><th scope=col>&lt;fct&gt;</th></tr>\n",
       "</thead>\n",
       "<tbody>\n",
       "\t<tr><th scope=row>2</th><td>T</td><td>H</td><td>H</td></tr>\n",
       "\t<tr><th scope=row>4</th><td>T</td><td>T</td><td>H</td></tr>\n",
       "</tbody>\n",
       "</table>\n"
      ],
      "text/latex": [
       "A data.frame: 2 × 3\n",
       "\\begin{tabular}{r|lll}\n",
       "  & toss1 & toss2 & toss3\\\\\n",
       "  & <fct> & <fct> & <fct>\\\\\n",
       "\\hline\n",
       "\t2 & T & H & H\\\\\n",
       "\t4 & T & T & H\\\\\n",
       "\\end{tabular}\n"
      ],
      "text/markdown": [
       "\n",
       "A data.frame: 2 × 3\n",
       "\n",
       "| <!--/--> | toss1 &lt;fct&gt; | toss2 &lt;fct&gt; | toss3 &lt;fct&gt; |\n",
       "|---|---|---|---|\n",
       "| 2 | T | H | H |\n",
       "| 4 | T | T | H |\n",
       "\n"
      ],
      "text/plain": [
       "  toss1 toss2 toss3\n",
       "2 T     H     H    \n",
       "4 T     T     H    "
      ]
     },
     "metadata": {},
     "output_type": "display_data"
    }
   ],
   "source": [
    "s[c(1:3),2]\n",
    "s[c(2,4),]"
   ]
  },
  {
   "cell_type": "code",
   "execution_count": 17,
   "metadata": {},
   "outputs": [
    {
     "data": {
      "text/html": [
       "<table class=\"dataframe\">\n",
       "<caption>A data.frame: 52 × 2</caption>\n",
       "<thead>\n",
       "\t<tr><th scope=col>rank</th><th scope=col>suit</th></tr>\n",
       "\t<tr><th scope=col>&lt;fct&gt;</th><th scope=col>&lt;fct&gt;</th></tr>\n",
       "</thead>\n",
       "<tbody>\n",
       "\t<tr><td>2 </td><td>Club   </td></tr>\n",
       "\t<tr><td>3 </td><td>Club   </td></tr>\n",
       "\t<tr><td>4 </td><td>Club   </td></tr>\n",
       "\t<tr><td>5 </td><td>Club   </td></tr>\n",
       "\t<tr><td>6 </td><td>Club   </td></tr>\n",
       "\t<tr><td>7 </td><td>Club   </td></tr>\n",
       "\t<tr><td>8 </td><td>Club   </td></tr>\n",
       "\t<tr><td>9 </td><td>Club   </td></tr>\n",
       "\t<tr><td>10</td><td>Club   </td></tr>\n",
       "\t<tr><td>J </td><td>Club   </td></tr>\n",
       "\t<tr><td>Q </td><td>Club   </td></tr>\n",
       "\t<tr><td>K </td><td>Club   </td></tr>\n",
       "\t<tr><td>A </td><td>Club   </td></tr>\n",
       "\t<tr><td>2 </td><td>Diamond</td></tr>\n",
       "\t<tr><td>3 </td><td>Diamond</td></tr>\n",
       "\t<tr><td>4 </td><td>Diamond</td></tr>\n",
       "\t<tr><td>5 </td><td>Diamond</td></tr>\n",
       "\t<tr><td>6 </td><td>Diamond</td></tr>\n",
       "\t<tr><td>7 </td><td>Diamond</td></tr>\n",
       "\t<tr><td>8 </td><td>Diamond</td></tr>\n",
       "\t<tr><td>9 </td><td>Diamond</td></tr>\n",
       "\t<tr><td>10</td><td>Diamond</td></tr>\n",
       "\t<tr><td>J </td><td>Diamond</td></tr>\n",
       "\t<tr><td>Q </td><td>Diamond</td></tr>\n",
       "\t<tr><td>K </td><td>Diamond</td></tr>\n",
       "\t<tr><td>A </td><td>Diamond</td></tr>\n",
       "\t<tr><td>2 </td><td>Heart  </td></tr>\n",
       "\t<tr><td>3 </td><td>Heart  </td></tr>\n",
       "\t<tr><td>4 </td><td>Heart  </td></tr>\n",
       "\t<tr><td>5 </td><td>Heart  </td></tr>\n",
       "\t<tr><td>6 </td><td>Heart  </td></tr>\n",
       "\t<tr><td>7 </td><td>Heart  </td></tr>\n",
       "\t<tr><td>8 </td><td>Heart  </td></tr>\n",
       "\t<tr><td>9 </td><td>Heart  </td></tr>\n",
       "\t<tr><td>10</td><td>Heart  </td></tr>\n",
       "\t<tr><td>J </td><td>Heart  </td></tr>\n",
       "\t<tr><td>Q </td><td>Heart  </td></tr>\n",
       "\t<tr><td>K </td><td>Heart  </td></tr>\n",
       "\t<tr><td>A </td><td>Heart  </td></tr>\n",
       "\t<tr><td>2 </td><td>Spade  </td></tr>\n",
       "\t<tr><td>3 </td><td>Spade  </td></tr>\n",
       "\t<tr><td>4 </td><td>Spade  </td></tr>\n",
       "\t<tr><td>5 </td><td>Spade  </td></tr>\n",
       "\t<tr><td>6 </td><td>Spade  </td></tr>\n",
       "\t<tr><td>7 </td><td>Spade  </td></tr>\n",
       "\t<tr><td>8 </td><td>Spade  </td></tr>\n",
       "\t<tr><td>9 </td><td>Spade  </td></tr>\n",
       "\t<tr><td>10</td><td>Spade  </td></tr>\n",
       "\t<tr><td>J </td><td>Spade  </td></tr>\n",
       "\t<tr><td>Q </td><td>Spade  </td></tr>\n",
       "\t<tr><td>K </td><td>Spade  </td></tr>\n",
       "\t<tr><td>A </td><td>Spade  </td></tr>\n",
       "</tbody>\n",
       "</table>\n"
      ],
      "text/latex": [
       "A data.frame: 52 × 2\n",
       "\\begin{tabular}{ll}\n",
       " rank & suit\\\\\n",
       " <fct> & <fct>\\\\\n",
       "\\hline\n",
       "\t 2  & Club   \\\\\n",
       "\t 3  & Club   \\\\\n",
       "\t 4  & Club   \\\\\n",
       "\t 5  & Club   \\\\\n",
       "\t 6  & Club   \\\\\n",
       "\t 7  & Club   \\\\\n",
       "\t 8  & Club   \\\\\n",
       "\t 9  & Club   \\\\\n",
       "\t 10 & Club   \\\\\n",
       "\t J  & Club   \\\\\n",
       "\t Q  & Club   \\\\\n",
       "\t K  & Club   \\\\\n",
       "\t A  & Club   \\\\\n",
       "\t 2  & Diamond\\\\\n",
       "\t 3  & Diamond\\\\\n",
       "\t 4  & Diamond\\\\\n",
       "\t 5  & Diamond\\\\\n",
       "\t 6  & Diamond\\\\\n",
       "\t 7  & Diamond\\\\\n",
       "\t 8  & Diamond\\\\\n",
       "\t 9  & Diamond\\\\\n",
       "\t 10 & Diamond\\\\\n",
       "\t J  & Diamond\\\\\n",
       "\t Q  & Diamond\\\\\n",
       "\t K  & Diamond\\\\\n",
       "\t A  & Diamond\\\\\n",
       "\t 2  & Heart  \\\\\n",
       "\t 3  & Heart  \\\\\n",
       "\t 4  & Heart  \\\\\n",
       "\t 5  & Heart  \\\\\n",
       "\t 6  & Heart  \\\\\n",
       "\t 7  & Heart  \\\\\n",
       "\t 8  & Heart  \\\\\n",
       "\t 9  & Heart  \\\\\n",
       "\t 10 & Heart  \\\\\n",
       "\t J  & Heart  \\\\\n",
       "\t Q  & Heart  \\\\\n",
       "\t K  & Heart  \\\\\n",
       "\t A  & Heart  \\\\\n",
       "\t 2  & Spade  \\\\\n",
       "\t 3  & Spade  \\\\\n",
       "\t 4  & Spade  \\\\\n",
       "\t 5  & Spade  \\\\\n",
       "\t 6  & Spade  \\\\\n",
       "\t 7  & Spade  \\\\\n",
       "\t 8  & Spade  \\\\\n",
       "\t 9  & Spade  \\\\\n",
       "\t 10 & Spade  \\\\\n",
       "\t J  & Spade  \\\\\n",
       "\t Q  & Spade  \\\\\n",
       "\t K  & Spade  \\\\\n",
       "\t A  & Spade  \\\\\n",
       "\\end{tabular}\n"
      ],
      "text/markdown": [
       "\n",
       "A data.frame: 52 × 2\n",
       "\n",
       "| rank &lt;fct&gt; | suit &lt;fct&gt; |\n",
       "|---|---|\n",
       "| 2  | Club    |\n",
       "| 3  | Club    |\n",
       "| 4  | Club    |\n",
       "| 5  | Club    |\n",
       "| 6  | Club    |\n",
       "| 7  | Club    |\n",
       "| 8  | Club    |\n",
       "| 9  | Club    |\n",
       "| 10 | Club    |\n",
       "| J  | Club    |\n",
       "| Q  | Club    |\n",
       "| K  | Club    |\n",
       "| A  | Club    |\n",
       "| 2  | Diamond |\n",
       "| 3  | Diamond |\n",
       "| 4  | Diamond |\n",
       "| 5  | Diamond |\n",
       "| 6  | Diamond |\n",
       "| 7  | Diamond |\n",
       "| 8  | Diamond |\n",
       "| 9  | Diamond |\n",
       "| 10 | Diamond |\n",
       "| J  | Diamond |\n",
       "| Q  | Diamond |\n",
       "| K  | Diamond |\n",
       "| A  | Diamond |\n",
       "| 2  | Heart   |\n",
       "| 3  | Heart   |\n",
       "| 4  | Heart   |\n",
       "| 5  | Heart   |\n",
       "| 6  | Heart   |\n",
       "| 7  | Heart   |\n",
       "| 8  | Heart   |\n",
       "| 9  | Heart   |\n",
       "| 10 | Heart   |\n",
       "| J  | Heart   |\n",
       "| Q  | Heart   |\n",
       "| K  | Heart   |\n",
       "| A  | Heart   |\n",
       "| 2  | Spade   |\n",
       "| 3  | Spade   |\n",
       "| 4  | Spade   |\n",
       "| 5  | Spade   |\n",
       "| 6  | Spade   |\n",
       "| 7  | Spade   |\n",
       "| 8  | Spade   |\n",
       "| 9  | Spade   |\n",
       "| 10 | Spade   |\n",
       "| J  | Spade   |\n",
       "| Q  | Spade   |\n",
       "| K  | Spade   |\n",
       "| A  | Spade   |\n",
       "\n"
      ],
      "text/plain": [
       "   rank suit   \n",
       "1  2    Club   \n",
       "2  3    Club   \n",
       "3  4    Club   \n",
       "4  5    Club   \n",
       "5  6    Club   \n",
       "6  7    Club   \n",
       "7  8    Club   \n",
       "8  9    Club   \n",
       "9  10   Club   \n",
       "10 J    Club   \n",
       "11 Q    Club   \n",
       "12 K    Club   \n",
       "13 A    Club   \n",
       "14 2    Diamond\n",
       "15 3    Diamond\n",
       "16 4    Diamond\n",
       "17 5    Diamond\n",
       "18 6    Diamond\n",
       "19 7    Diamond\n",
       "20 8    Diamond\n",
       "21 9    Diamond\n",
       "22 10   Diamond\n",
       "23 J    Diamond\n",
       "24 Q    Diamond\n",
       "25 K    Diamond\n",
       "26 A    Diamond\n",
       "27 2    Heart  \n",
       "28 3    Heart  \n",
       "29 4    Heart  \n",
       "30 5    Heart  \n",
       "31 6    Heart  \n",
       "32 7    Heart  \n",
       "33 8    Heart  \n",
       "34 9    Heart  \n",
       "35 10   Heart  \n",
       "36 J    Heart  \n",
       "37 Q    Heart  \n",
       "38 K    Heart  \n",
       "39 A    Heart  \n",
       "40 2    Spade  \n",
       "41 3    Spade  \n",
       "42 4    Spade  \n",
       "43 5    Spade  \n",
       "44 6    Spade  \n",
       "45 7    Spade  \n",
       "46 8    Spade  \n",
       "47 9    Spade  \n",
       "48 10   Spade  \n",
       "49 J    Spade  \n",
       "50 Q    Spade  \n",
       "51 K    Spade  \n",
       "52 A    Spade  "
      ]
     },
     "metadata": {},
     "output_type": "display_data"
    },
    {
     "name": "stderr",
     "output_type": "stream",
     "text": [
      "Warning message in Ops.factor(rank, 5):\n",
      "\"'<' not meaningful for factors\"\n"
     ]
    },
    {
     "data": {
      "text/html": [
       "<table class=\"dataframe\">\n",
       "<caption>A data.frame: 0 × 2</caption>\n",
       "<thead>\n",
       "\t<tr><th scope=col>rank</th><th scope=col>suit</th></tr>\n",
       "\t<tr><th scope=col>&lt;fct&gt;</th><th scope=col>&lt;fct&gt;</th></tr>\n",
       "</thead>\n",
       "<tbody>\n",
       "</tbody>\n",
       "</table>\n"
      ],
      "text/latex": [
       "A data.frame: 0 × 2\n",
       "\\begin{tabular}{ll}\n",
       " rank & suit\\\\\n",
       " <fct> & <fct>\\\\\n",
       "\\hline\n",
       "\\end{tabular}\n"
      ],
      "text/markdown": [
       "\n",
       "A data.frame: 0 × 2\n",
       "\n",
       "| rank &lt;fct&gt; | suit &lt;fct&gt; |\n",
       "|---|---|\n",
       "\n"
      ],
      "text/plain": [
       "     rank suit"
      ]
     },
     "metadata": {},
     "output_type": "display_data"
    }
   ],
   "source": [
    "s = cards()\n",
    "#This will not be executed since it compares strings(J,Q,K) with the numbers 1:10\n",
    "s\n",
    "e = subset(s, rank < 5&suit == 'Heart')\n"
   ]
  },
  {
   "cell_type": "code",
   "execution_count": 11,
   "metadata": {},
   "outputs": [
    {
     "data": {
      "text/html": [
       "<table class=\"dataframe\">\n",
       "<caption>A data.frame: 52 × 2</caption>\n",
       "<thead>\n",
       "\t<tr><th scope=col>rank</th><th scope=col>suit</th></tr>\n",
       "\t<tr><th scope=col>&lt;fct&gt;</th><th scope=col>&lt;fct&gt;</th></tr>\n",
       "</thead>\n",
       "<tbody>\n",
       "\t<tr><td>2 </td><td>Club   </td></tr>\n",
       "\t<tr><td>3 </td><td>Club   </td></tr>\n",
       "\t<tr><td>4 </td><td>Club   </td></tr>\n",
       "\t<tr><td>5 </td><td>Club   </td></tr>\n",
       "\t<tr><td>6 </td><td>Club   </td></tr>\n",
       "\t<tr><td>7 </td><td>Club   </td></tr>\n",
       "\t<tr><td>8 </td><td>Club   </td></tr>\n",
       "\t<tr><td>9 </td><td>Club   </td></tr>\n",
       "\t<tr><td>10</td><td>Club   </td></tr>\n",
       "\t<tr><td>J </td><td>Club   </td></tr>\n",
       "\t<tr><td>Q </td><td>Club   </td></tr>\n",
       "\t<tr><td>K </td><td>Club   </td></tr>\n",
       "\t<tr><td>A </td><td>Club   </td></tr>\n",
       "\t<tr><td>2 </td><td>Diamond</td></tr>\n",
       "\t<tr><td>3 </td><td>Diamond</td></tr>\n",
       "\t<tr><td>4 </td><td>Diamond</td></tr>\n",
       "\t<tr><td>5 </td><td>Diamond</td></tr>\n",
       "\t<tr><td>6 </td><td>Diamond</td></tr>\n",
       "\t<tr><td>7 </td><td>Diamond</td></tr>\n",
       "\t<tr><td>8 </td><td>Diamond</td></tr>\n",
       "\t<tr><td>9 </td><td>Diamond</td></tr>\n",
       "\t<tr><td>10</td><td>Diamond</td></tr>\n",
       "\t<tr><td>J </td><td>Diamond</td></tr>\n",
       "\t<tr><td>Q </td><td>Diamond</td></tr>\n",
       "\t<tr><td>K </td><td>Diamond</td></tr>\n",
       "\t<tr><td>A </td><td>Diamond</td></tr>\n",
       "\t<tr><td>2 </td><td>Heart  </td></tr>\n",
       "\t<tr><td>3 </td><td>Heart  </td></tr>\n",
       "\t<tr><td>4 </td><td>Heart  </td></tr>\n",
       "\t<tr><td>5 </td><td>Heart  </td></tr>\n",
       "\t<tr><td>6 </td><td>Heart  </td></tr>\n",
       "\t<tr><td>7 </td><td>Heart  </td></tr>\n",
       "\t<tr><td>8 </td><td>Heart  </td></tr>\n",
       "\t<tr><td>9 </td><td>Heart  </td></tr>\n",
       "\t<tr><td>10</td><td>Heart  </td></tr>\n",
       "\t<tr><td>J </td><td>Heart  </td></tr>\n",
       "\t<tr><td>Q </td><td>Heart  </td></tr>\n",
       "\t<tr><td>K </td><td>Heart  </td></tr>\n",
       "\t<tr><td>A </td><td>Heart  </td></tr>\n",
       "\t<tr><td>2 </td><td>Spade  </td></tr>\n",
       "\t<tr><td>3 </td><td>Spade  </td></tr>\n",
       "\t<tr><td>4 </td><td>Spade  </td></tr>\n",
       "\t<tr><td>5 </td><td>Spade  </td></tr>\n",
       "\t<tr><td>6 </td><td>Spade  </td></tr>\n",
       "\t<tr><td>7 </td><td>Spade  </td></tr>\n",
       "\t<tr><td>8 </td><td>Spade  </td></tr>\n",
       "\t<tr><td>9 </td><td>Spade  </td></tr>\n",
       "\t<tr><td>10</td><td>Spade  </td></tr>\n",
       "\t<tr><td>J </td><td>Spade  </td></tr>\n",
       "\t<tr><td>Q </td><td>Spade  </td></tr>\n",
       "\t<tr><td>K </td><td>Spade  </td></tr>\n",
       "\t<tr><td>A </td><td>Spade  </td></tr>\n",
       "</tbody>\n",
       "</table>\n"
      ],
      "text/latex": [
       "A data.frame: 52 × 2\n",
       "\\begin{tabular}{ll}\n",
       " rank & suit\\\\\n",
       " <fct> & <fct>\\\\\n",
       "\\hline\n",
       "\t 2  & Club   \\\\\n",
       "\t 3  & Club   \\\\\n",
       "\t 4  & Club   \\\\\n",
       "\t 5  & Club   \\\\\n",
       "\t 6  & Club   \\\\\n",
       "\t 7  & Club   \\\\\n",
       "\t 8  & Club   \\\\\n",
       "\t 9  & Club   \\\\\n",
       "\t 10 & Club   \\\\\n",
       "\t J  & Club   \\\\\n",
       "\t Q  & Club   \\\\\n",
       "\t K  & Club   \\\\\n",
       "\t A  & Club   \\\\\n",
       "\t 2  & Diamond\\\\\n",
       "\t 3  & Diamond\\\\\n",
       "\t 4  & Diamond\\\\\n",
       "\t 5  & Diamond\\\\\n",
       "\t 6  & Diamond\\\\\n",
       "\t 7  & Diamond\\\\\n",
       "\t 8  & Diamond\\\\\n",
       "\t 9  & Diamond\\\\\n",
       "\t 10 & Diamond\\\\\n",
       "\t J  & Diamond\\\\\n",
       "\t Q  & Diamond\\\\\n",
       "\t K  & Diamond\\\\\n",
       "\t A  & Diamond\\\\\n",
       "\t 2  & Heart  \\\\\n",
       "\t 3  & Heart  \\\\\n",
       "\t 4  & Heart  \\\\\n",
       "\t 5  & Heart  \\\\\n",
       "\t 6  & Heart  \\\\\n",
       "\t 7  & Heart  \\\\\n",
       "\t 8  & Heart  \\\\\n",
       "\t 9  & Heart  \\\\\n",
       "\t 10 & Heart  \\\\\n",
       "\t J  & Heart  \\\\\n",
       "\t Q  & Heart  \\\\\n",
       "\t K  & Heart  \\\\\n",
       "\t A  & Heart  \\\\\n",
       "\t 2  & Spade  \\\\\n",
       "\t 3  & Spade  \\\\\n",
       "\t 4  & Spade  \\\\\n",
       "\t 5  & Spade  \\\\\n",
       "\t 6  & Spade  \\\\\n",
       "\t 7  & Spade  \\\\\n",
       "\t 8  & Spade  \\\\\n",
       "\t 9  & Spade  \\\\\n",
       "\t 10 & Spade  \\\\\n",
       "\t J  & Spade  \\\\\n",
       "\t Q  & Spade  \\\\\n",
       "\t K  & Spade  \\\\\n",
       "\t A  & Spade  \\\\\n",
       "\\end{tabular}\n"
      ],
      "text/markdown": [
       "\n",
       "A data.frame: 52 × 2\n",
       "\n",
       "| rank &lt;fct&gt; | suit &lt;fct&gt; |\n",
       "|---|---|\n",
       "| 2  | Club    |\n",
       "| 3  | Club    |\n",
       "| 4  | Club    |\n",
       "| 5  | Club    |\n",
       "| 6  | Club    |\n",
       "| 7  | Club    |\n",
       "| 8  | Club    |\n",
       "| 9  | Club    |\n",
       "| 10 | Club    |\n",
       "| J  | Club    |\n",
       "| Q  | Club    |\n",
       "| K  | Club    |\n",
       "| A  | Club    |\n",
       "| 2  | Diamond |\n",
       "| 3  | Diamond |\n",
       "| 4  | Diamond |\n",
       "| 5  | Diamond |\n",
       "| 6  | Diamond |\n",
       "| 7  | Diamond |\n",
       "| 8  | Diamond |\n",
       "| 9  | Diamond |\n",
       "| 10 | Diamond |\n",
       "| J  | Diamond |\n",
       "| Q  | Diamond |\n",
       "| K  | Diamond |\n",
       "| A  | Diamond |\n",
       "| 2  | Heart   |\n",
       "| 3  | Heart   |\n",
       "| 4  | Heart   |\n",
       "| 5  | Heart   |\n",
       "| 6  | Heart   |\n",
       "| 7  | Heart   |\n",
       "| 8  | Heart   |\n",
       "| 9  | Heart   |\n",
       "| 10 | Heart   |\n",
       "| J  | Heart   |\n",
       "| Q  | Heart   |\n",
       "| K  | Heart   |\n",
       "| A  | Heart   |\n",
       "| 2  | Spade   |\n",
       "| 3  | Spade   |\n",
       "| 4  | Spade   |\n",
       "| 5  | Spade   |\n",
       "| 6  | Spade   |\n",
       "| 7  | Spade   |\n",
       "| 8  | Spade   |\n",
       "| 9  | Spade   |\n",
       "| 10 | Spade   |\n",
       "| J  | Spade   |\n",
       "| Q  | Spade   |\n",
       "| K  | Spade   |\n",
       "| A  | Spade   |\n",
       "\n"
      ],
      "text/plain": [
       "   rank suit   \n",
       "1  2    Club   \n",
       "2  3    Club   \n",
       "3  4    Club   \n",
       "4  5    Club   \n",
       "5  6    Club   \n",
       "6  7    Club   \n",
       "7  8    Club   \n",
       "8  9    Club   \n",
       "9  10   Club   \n",
       "10 J    Club   \n",
       "11 Q    Club   \n",
       "12 K    Club   \n",
       "13 A    Club   \n",
       "14 2    Diamond\n",
       "15 3    Diamond\n",
       "16 4    Diamond\n",
       "17 5    Diamond\n",
       "18 6    Diamond\n",
       "19 7    Diamond\n",
       "20 8    Diamond\n",
       "21 9    Diamond\n",
       "22 10   Diamond\n",
       "23 J    Diamond\n",
       "24 Q    Diamond\n",
       "25 K    Diamond\n",
       "26 A    Diamond\n",
       "27 2    Heart  \n",
       "28 3    Heart  \n",
       "29 4    Heart  \n",
       "30 5    Heart  \n",
       "31 6    Heart  \n",
       "32 7    Heart  \n",
       "33 8    Heart  \n",
       "34 9    Heart  \n",
       "35 10   Heart  \n",
       "36 J    Heart  \n",
       "37 Q    Heart  \n",
       "38 K    Heart  \n",
       "39 A    Heart  \n",
       "40 2    Spade  \n",
       "41 3    Spade  \n",
       "42 4    Spade  \n",
       "43 5    Spade  \n",
       "44 6    Spade  \n",
       "45 7    Spade  \n",
       "46 8    Spade  \n",
       "47 9    Spade  \n",
       "48 10   Spade  \n",
       "49 J    Spade  \n",
       "50 Q    Spade  \n",
       "51 K    Spade  \n",
       "52 A    Spade  "
      ]
     },
     "metadata": {},
     "output_type": "display_data"
    },
    {
     "data": {
      "text/html": [
       "<table class=\"dataframe\">\n",
       "<caption>A data.frame: 6 × 2</caption>\n",
       "<thead>\n",
       "\t<tr><th></th><th scope=col>rank</th><th scope=col>suit</th></tr>\n",
       "\t<tr><th></th><th scope=col>&lt;fct&gt;</th><th scope=col>&lt;fct&gt;</th></tr>\n",
       "</thead>\n",
       "<tbody>\n",
       "\t<tr><th scope=row>33</th><td>8 </td><td>Heart</td></tr>\n",
       "\t<tr><th scope=row>34</th><td>9 </td><td>Heart</td></tr>\n",
       "\t<tr><th scope=row>35</th><td>10</td><td>Heart</td></tr>\n",
       "\t<tr><th scope=row>36</th><td>J </td><td>Heart</td></tr>\n",
       "\t<tr><th scope=row>37</th><td>Q </td><td>Heart</td></tr>\n",
       "\t<tr><th scope=row>38</th><td>K </td><td>Heart</td></tr>\n",
       "</tbody>\n",
       "</table>\n"
      ],
      "text/latex": [
       "A data.frame: 6 × 2\n",
       "\\begin{tabular}{r|ll}\n",
       "  & rank & suit\\\\\n",
       "  & <fct> & <fct>\\\\\n",
       "\\hline\n",
       "\t33 & 8  & Heart\\\\\n",
       "\t34 & 9  & Heart\\\\\n",
       "\t35 & 10 & Heart\\\\\n",
       "\t36 & J  & Heart\\\\\n",
       "\t37 & Q  & Heart\\\\\n",
       "\t38 & K  & Heart\\\\\n",
       "\\end{tabular}\n"
      ],
      "text/markdown": [
       "\n",
       "A data.frame: 6 × 2\n",
       "\n",
       "| <!--/--> | rank &lt;fct&gt; | suit &lt;fct&gt; |\n",
       "|---|---|---|\n",
       "| 33 | 8  | Heart |\n",
       "| 34 | 9  | Heart |\n",
       "| 35 | 10 | Heart |\n",
       "| 36 | J  | Heart |\n",
       "| 37 | Q  | Heart |\n",
       "| 38 | K  | Heart |\n",
       "\n"
      ],
      "text/plain": [
       "   rank suit \n",
       "33 8    Heart\n",
       "34 9    Heart\n",
       "35 10   Heart\n",
       "36 J    Heart\n",
       "37 Q    Heart\n",
       "38 K    Heart"
      ]
     },
     "metadata": {},
     "output_type": "display_data"
    }
   ],
   "source": [
    "s = cards()\n",
    "s\n",
    "e = subset(s, rank %in% c(8:10, 'J', 'Q', 'K') & suit == \"Heart\")\n",
    "e"
   ]
  },
  {
   "cell_type": "code",
   "execution_count": 19,
   "metadata": {},
   "outputs": [
    {
     "data": {
      "text/html": [
       "<table class=\"dataframe\">\n",
       "<caption>A data.frame: 4 × 3</caption>\n",
       "<thead>\n",
       "\t<tr><th></th><th scope=col>X1</th><th scope=col>X2</th><th scope=col>X3</th></tr>\n",
       "\t<tr><th></th><th scope=col>&lt;int&gt;</th><th scope=col>&lt;int&gt;</th><th scope=col>&lt;int&gt;</th></tr>\n",
       "</thead>\n",
       "<tbody>\n",
       "\t<tr><th scope=row>180</th><td>6</td><td>6</td><td>5</td></tr>\n",
       "\t<tr><th scope=row>210</th><td>6</td><td>5</td><td>6</td></tr>\n",
       "\t<tr><th scope=row>215</th><td>5</td><td>6</td><td>6</td></tr>\n",
       "\t<tr><th scope=row>216</th><td>6</td><td>6</td><td>6</td></tr>\n",
       "</tbody>\n",
       "</table>\n"
      ],
      "text/latex": [
       "A data.frame: 4 × 3\n",
       "\\begin{tabular}{r|lll}\n",
       "  & X1 & X2 & X3\\\\\n",
       "  & <int> & <int> & <int>\\\\\n",
       "\\hline\n",
       "\t180 & 6 & 6 & 5\\\\\n",
       "\t210 & 6 & 5 & 6\\\\\n",
       "\t215 & 5 & 6 & 6\\\\\n",
       "\t216 & 6 & 6 & 6\\\\\n",
       "\\end{tabular}\n"
      ],
      "text/markdown": [
       "\n",
       "A data.frame: 4 × 3\n",
       "\n",
       "| <!--/--> | X1 &lt;int&gt; | X2 &lt;int&gt; | X3 &lt;int&gt; |\n",
       "|---|---|---|---|\n",
       "| 180 | 6 | 6 | 5 |\n",
       "| 210 | 6 | 5 | 6 |\n",
       "| 215 | 5 | 6 | 6 |\n",
       "| 216 | 6 | 6 | 6 |\n",
       "\n"
      ],
      "text/plain": [
       "    X1 X2 X3\n",
       "180 6  6  5 \n",
       "210 6  5  6 \n",
       "215 5  6  6 \n",
       "216 6  6  6 "
      ]
     },
     "metadata": {},
     "output_type": "display_data"
    },
    {
     "data": {
      "text/html": [
       "<table class=\"dataframe\">\n",
       "<caption>A data.frame: 40 × 3</caption>\n",
       "<thead>\n",
       "\t<tr><th></th><th scope=col>X1</th><th scope=col>X2</th><th scope=col>X3</th></tr>\n",
       "\t<tr><th></th><th scope=col>&lt;int&gt;</th><th scope=col>&lt;int&gt;</th><th scope=col>&lt;int&gt;</th></tr>\n",
       "</thead>\n",
       "<tbody>\n",
       "\t<tr><th scope=row>2</th><td>2</td><td>1</td><td>1</td></tr>\n",
       "\t<tr><th scope=row>8</th><td>2</td><td>2</td><td>1</td></tr>\n",
       "\t<tr><th scope=row>14</th><td>2</td><td>3</td><td>1</td></tr>\n",
       "\t<tr><th scope=row>20</th><td>2</td><td>4</td><td>1</td></tr>\n",
       "\t<tr><th scope=row>26</th><td>2</td><td>5</td><td>1</td></tr>\n",
       "\t<tr><th scope=row>32</th><td>2</td><td>6</td><td>1</td></tr>\n",
       "\t<tr><th scope=row>38</th><td>2</td><td>1</td><td>2</td></tr>\n",
       "\t<tr><th scope=row>44</th><td>2</td><td>2</td><td>2</td></tr>\n",
       "\t<tr><th scope=row>50</th><td>2</td><td>3</td><td>2</td></tr>\n",
       "\t<tr><th scope=row>56</th><td>2</td><td>4</td><td>2</td></tr>\n",
       "\t<tr><th scope=row>62</th><td>2</td><td>5</td><td>2</td></tr>\n",
       "\t<tr><th scope=row>68</th><td>2</td><td>6</td><td>2</td></tr>\n",
       "\t<tr><th scope=row>74</th><td>2</td><td>1</td><td>3</td></tr>\n",
       "\t<tr><th scope=row>80</th><td>2</td><td>2</td><td>3</td></tr>\n",
       "\t<tr><th scope=row>86</th><td>2</td><td>3</td><td>3</td></tr>\n",
       "\t<tr><th scope=row>92</th><td>2</td><td>4</td><td>3</td></tr>\n",
       "\t<tr><th scope=row>98</th><td>2</td><td>5</td><td>3</td></tr>\n",
       "\t<tr><th scope=row>104</th><td>2</td><td>6</td><td>3</td></tr>\n",
       "\t<tr><th scope=row>110</th><td>2</td><td>1</td><td>4</td></tr>\n",
       "\t<tr><th scope=row>116</th><td>2</td><td>2</td><td>4</td></tr>\n",
       "\t<tr><th scope=row>122</th><td>2</td><td>3</td><td>4</td></tr>\n",
       "\t<tr><th scope=row>128</th><td>2</td><td>4</td><td>4</td></tr>\n",
       "\t<tr><th scope=row>134</th><td>2</td><td>5</td><td>4</td></tr>\n",
       "\t<tr><th scope=row>140</th><td>2</td><td>6</td><td>4</td></tr>\n",
       "\t<tr><th scope=row>146</th><td>2</td><td>1</td><td>5</td></tr>\n",
       "\t<tr><th scope=row>152</th><td>2</td><td>2</td><td>5</td></tr>\n",
       "\t<tr><th scope=row>158</th><td>2</td><td>3</td><td>5</td></tr>\n",
       "\t<tr><th scope=row>164</th><td>2</td><td>4</td><td>5</td></tr>\n",
       "\t<tr><th scope=row>170</th><td>2</td><td>5</td><td>5</td></tr>\n",
       "\t<tr><th scope=row>176</th><td>2</td><td>6</td><td>5</td></tr>\n",
       "\t<tr><th scope=row>180</th><td>6</td><td>6</td><td>5</td></tr>\n",
       "\t<tr><th scope=row>182</th><td>2</td><td>1</td><td>6</td></tr>\n",
       "\t<tr><th scope=row>188</th><td>2</td><td>2</td><td>6</td></tr>\n",
       "\t<tr><th scope=row>194</th><td>2</td><td>3</td><td>6</td></tr>\n",
       "\t<tr><th scope=row>200</th><td>2</td><td>4</td><td>6</td></tr>\n",
       "\t<tr><th scope=row>206</th><td>2</td><td>5</td><td>6</td></tr>\n",
       "\t<tr><th scope=row>210</th><td>6</td><td>5</td><td>6</td></tr>\n",
       "\t<tr><th scope=row>212</th><td>2</td><td>6</td><td>6</td></tr>\n",
       "\t<tr><th scope=row>215</th><td>5</td><td>6</td><td>6</td></tr>\n",
       "\t<tr><th scope=row>216</th><td>6</td><td>6</td><td>6</td></tr>\n",
       "</tbody>\n",
       "</table>\n"
      ],
      "text/latex": [
       "A data.frame: 40 × 3\n",
       "\\begin{tabular}{r|lll}\n",
       "  & X1 & X2 & X3\\\\\n",
       "  & <int> & <int> & <int>\\\\\n",
       "\\hline\n",
       "\t2 & 2 & 1 & 1\\\\\n",
       "\t8 & 2 & 2 & 1\\\\\n",
       "\t14 & 2 & 3 & 1\\\\\n",
       "\t20 & 2 & 4 & 1\\\\\n",
       "\t26 & 2 & 5 & 1\\\\\n",
       "\t32 & 2 & 6 & 1\\\\\n",
       "\t38 & 2 & 1 & 2\\\\\n",
       "\t44 & 2 & 2 & 2\\\\\n",
       "\t50 & 2 & 3 & 2\\\\\n",
       "\t56 & 2 & 4 & 2\\\\\n",
       "\t62 & 2 & 5 & 2\\\\\n",
       "\t68 & 2 & 6 & 2\\\\\n",
       "\t74 & 2 & 1 & 3\\\\\n",
       "\t80 & 2 & 2 & 3\\\\\n",
       "\t86 & 2 & 3 & 3\\\\\n",
       "\t92 & 2 & 4 & 3\\\\\n",
       "\t98 & 2 & 5 & 3\\\\\n",
       "\t104 & 2 & 6 & 3\\\\\n",
       "\t110 & 2 & 1 & 4\\\\\n",
       "\t116 & 2 & 2 & 4\\\\\n",
       "\t122 & 2 & 3 & 4\\\\\n",
       "\t128 & 2 & 4 & 4\\\\\n",
       "\t134 & 2 & 5 & 4\\\\\n",
       "\t140 & 2 & 6 & 4\\\\\n",
       "\t146 & 2 & 1 & 5\\\\\n",
       "\t152 & 2 & 2 & 5\\\\\n",
       "\t158 & 2 & 3 & 5\\\\\n",
       "\t164 & 2 & 4 & 5\\\\\n",
       "\t170 & 2 & 5 & 5\\\\\n",
       "\t176 & 2 & 6 & 5\\\\\n",
       "\t180 & 6 & 6 & 5\\\\\n",
       "\t182 & 2 & 1 & 6\\\\\n",
       "\t188 & 2 & 2 & 6\\\\\n",
       "\t194 & 2 & 3 & 6\\\\\n",
       "\t200 & 2 & 4 & 6\\\\\n",
       "\t206 & 2 & 5 & 6\\\\\n",
       "\t210 & 6 & 5 & 6\\\\\n",
       "\t212 & 2 & 6 & 6\\\\\n",
       "\t215 & 5 & 6 & 6\\\\\n",
       "\t216 & 6 & 6 & 6\\\\\n",
       "\\end{tabular}\n"
      ],
      "text/markdown": [
       "\n",
       "A data.frame: 40 × 3\n",
       "\n",
       "| <!--/--> | X1 &lt;int&gt; | X2 &lt;int&gt; | X3 &lt;int&gt; |\n",
       "|---|---|---|---|\n",
       "| 2 | 2 | 1 | 1 |\n",
       "| 8 | 2 | 2 | 1 |\n",
       "| 14 | 2 | 3 | 1 |\n",
       "| 20 | 2 | 4 | 1 |\n",
       "| 26 | 2 | 5 | 1 |\n",
       "| 32 | 2 | 6 | 1 |\n",
       "| 38 | 2 | 1 | 2 |\n",
       "| 44 | 2 | 2 | 2 |\n",
       "| 50 | 2 | 3 | 2 |\n",
       "| 56 | 2 | 4 | 2 |\n",
       "| 62 | 2 | 5 | 2 |\n",
       "| 68 | 2 | 6 | 2 |\n",
       "| 74 | 2 | 1 | 3 |\n",
       "| 80 | 2 | 2 | 3 |\n",
       "| 86 | 2 | 3 | 3 |\n",
       "| 92 | 2 | 4 | 3 |\n",
       "| 98 | 2 | 5 | 3 |\n",
       "| 104 | 2 | 6 | 3 |\n",
       "| 110 | 2 | 1 | 4 |\n",
       "| 116 | 2 | 2 | 4 |\n",
       "| 122 | 2 | 3 | 4 |\n",
       "| 128 | 2 | 4 | 4 |\n",
       "| 134 | 2 | 5 | 4 |\n",
       "| 140 | 2 | 6 | 4 |\n",
       "| 146 | 2 | 1 | 5 |\n",
       "| 152 | 2 | 2 | 5 |\n",
       "| 158 | 2 | 3 | 5 |\n",
       "| 164 | 2 | 4 | 5 |\n",
       "| 170 | 2 | 5 | 5 |\n",
       "| 176 | 2 | 6 | 5 |\n",
       "| 180 | 6 | 6 | 5 |\n",
       "| 182 | 2 | 1 | 6 |\n",
       "| 188 | 2 | 2 | 6 |\n",
       "| 194 | 2 | 3 | 6 |\n",
       "| 200 | 2 | 4 | 6 |\n",
       "| 206 | 2 | 5 | 6 |\n",
       "| 210 | 6 | 5 | 6 |\n",
       "| 212 | 2 | 6 | 6 |\n",
       "| 215 | 5 | 6 | 6 |\n",
       "| 216 | 6 | 6 | 6 |\n",
       "\n"
      ],
      "text/plain": [
       "    X1 X2 X3\n",
       "2   2  1  1 \n",
       "8   2  2  1 \n",
       "14  2  3  1 \n",
       "20  2  4  1 \n",
       "26  2  5  1 \n",
       "32  2  6  1 \n",
       "38  2  1  2 \n",
       "44  2  2  2 \n",
       "50  2  3  2 \n",
       "56  2  4  2 \n",
       "62  2  5  2 \n",
       "68  2  6  2 \n",
       "74  2  1  3 \n",
       "80  2  2  3 \n",
       "86  2  3  3 \n",
       "92  2  4  3 \n",
       "98  2  5  3 \n",
       "104 2  6  3 \n",
       "110 2  1  4 \n",
       "116 2  2  4 \n",
       "122 2  3  4 \n",
       "128 2  4  4 \n",
       "134 2  5  4 \n",
       "140 2  6  4 \n",
       "146 2  1  5 \n",
       "152 2  2  5 \n",
       "158 2  3  5 \n",
       "164 2  4  5 \n",
       "170 2  5  5 \n",
       "176 2  6  5 \n",
       "180 6  6  5 \n",
       "182 2  1  6 \n",
       "188 2  2  6 \n",
       "194 2  3  6 \n",
       "200 2  4  6 \n",
       "206 2  5  6 \n",
       "210 6  5  6 \n",
       "212 2  6  6 \n",
       "215 5  6  6 \n",
       "216 6  6  6 "
      ]
     },
     "metadata": {},
     "output_type": "display_data"
    }
   ],
   "source": [
    "subset(rolldie(3), X1+X2+X3 > 16)\n",
    "subset(rolldie(3), X1+X2+X3 > 16 | X1== 2)"
   ]
  },
  {
   "cell_type": "code",
   "execution_count": 21,
   "metadata": {},
   "outputs": [
    {
     "data": {
      "text/html": [
       "<table class=\"dataframe\">\n",
       "<caption>A data.frame: 13 × 2</caption>\n",
       "<thead>\n",
       "\t<tr><th></th><th scope=col>rank</th><th scope=col>suit</th></tr>\n",
       "\t<tr><th></th><th scope=col>&lt;fct&gt;</th><th scope=col>&lt;fct&gt;</th></tr>\n",
       "</thead>\n",
       "<tbody>\n",
       "\t<tr><th scope=row>27</th><td>2 </td><td>Heart</td></tr>\n",
       "\t<tr><th scope=row>28</th><td>3 </td><td>Heart</td></tr>\n",
       "\t<tr><th scope=row>29</th><td>4 </td><td>Heart</td></tr>\n",
       "\t<tr><th scope=row>30</th><td>5 </td><td>Heart</td></tr>\n",
       "\t<tr><th scope=row>31</th><td>6 </td><td>Heart</td></tr>\n",
       "\t<tr><th scope=row>32</th><td>7 </td><td>Heart</td></tr>\n",
       "\t<tr><th scope=row>33</th><td>8 </td><td>Heart</td></tr>\n",
       "\t<tr><th scope=row>34</th><td>9 </td><td>Heart</td></tr>\n",
       "\t<tr><th scope=row>35</th><td>10</td><td>Heart</td></tr>\n",
       "\t<tr><th scope=row>36</th><td>J </td><td>Heart</td></tr>\n",
       "\t<tr><th scope=row>37</th><td>Q </td><td>Heart</td></tr>\n",
       "\t<tr><th scope=row>38</th><td>K </td><td>Heart</td></tr>\n",
       "\t<tr><th scope=row>39</th><td>A </td><td>Heart</td></tr>\n",
       "</tbody>\n",
       "</table>\n"
      ],
      "text/latex": [
       "A data.frame: 13 × 2\n",
       "\\begin{tabular}{r|ll}\n",
       "  & rank & suit\\\\\n",
       "  & <fct> & <fct>\\\\\n",
       "\\hline\n",
       "\t27 & 2  & Heart\\\\\n",
       "\t28 & 3  & Heart\\\\\n",
       "\t29 & 4  & Heart\\\\\n",
       "\t30 & 5  & Heart\\\\\n",
       "\t31 & 6  & Heart\\\\\n",
       "\t32 & 7  & Heart\\\\\n",
       "\t33 & 8  & Heart\\\\\n",
       "\t34 & 9  & Heart\\\\\n",
       "\t35 & 10 & Heart\\\\\n",
       "\t36 & J  & Heart\\\\\n",
       "\t37 & Q  & Heart\\\\\n",
       "\t38 & K  & Heart\\\\\n",
       "\t39 & A  & Heart\\\\\n",
       "\\end{tabular}\n"
      ],
      "text/markdown": [
       "\n",
       "A data.frame: 13 × 2\n",
       "\n",
       "| <!--/--> | rank &lt;fct&gt; | suit &lt;fct&gt; |\n",
       "|---|---|---|\n",
       "| 27 | 2  | Heart |\n",
       "| 28 | 3  | Heart |\n",
       "| 29 | 4  | Heart |\n",
       "| 30 | 5  | Heart |\n",
       "| 31 | 6  | Heart |\n",
       "| 32 | 7  | Heart |\n",
       "| 33 | 8  | Heart |\n",
       "| 34 | 9  | Heart |\n",
       "| 35 | 10 | Heart |\n",
       "| 36 | J  | Heart |\n",
       "| 37 | Q  | Heart |\n",
       "| 38 | K  | Heart |\n",
       "| 39 | A  | Heart |\n",
       "\n"
      ],
      "text/plain": [
       "   rank suit \n",
       "27 2    Heart\n",
       "28 3    Heart\n",
       "29 4    Heart\n",
       "30 5    Heart\n",
       "31 6    Heart\n",
       "32 7    Heart\n",
       "33 8    Heart\n",
       "34 9    Heart\n",
       "35 10   Heart\n",
       "36 J    Heart\n",
       "37 Q    Heart\n",
       "38 K    Heart\n",
       "39 A    Heart"
      ]
     },
     "metadata": {},
     "output_type": "display_data"
    }
   ],
   "source": [
    "s = cards()\n",
    "A = subset(s, suit == 'Heart')\n",
    "B = subset(s, rank %in% 7:9)\n",
    "A"
   ]
  },
  {
   "cell_type": "code",
   "execution_count": 22,
   "metadata": {},
   "outputs": [
    {
     "data": {
      "text/html": [
       "<table class=\"dataframe\">\n",
       "<caption>A data.frame: 2 × 1</caption>\n",
       "<thead>\n",
       "\t<tr><th scope=col>toss1</th></tr>\n",
       "\t<tr><th scope=col>&lt;fct&gt;</th></tr>\n",
       "</thead>\n",
       "<tbody>\n",
       "\t<tr><td>H</td></tr>\n",
       "\t<tr><td>T</td></tr>\n",
       "</tbody>\n",
       "</table>\n"
      ],
      "text/latex": [
       "A data.frame: 2 × 1\n",
       "\\begin{tabular}{l}\n",
       " toss1\\\\\n",
       " <fct>\\\\\n",
       "\\hline\n",
       "\t H\\\\\n",
       "\t T\\\\\n",
       "\\end{tabular}\n"
      ],
      "text/markdown": [
       "\n",
       "A data.frame: 2 × 1\n",
       "\n",
       "| toss1 &lt;fct&gt; |\n",
       "|---|\n",
       "| H |\n",
       "| T |\n",
       "\n"
      ],
      "text/plain": [
       "  toss1\n",
       "1 H    \n",
       "2 T    "
      ]
     },
     "metadata": {},
     "output_type": "display_data"
    }
   ],
   "source": [
    "outcomes = tosscoin(1)\n",
    "outcomes"
   ]
  },
  {
   "cell_type": "code",
   "execution_count": 23,
   "metadata": {},
   "outputs": [],
   "source": [
    "probabilites = c(0.75, 0.3)"
   ]
  },
  {
   "cell_type": "code",
   "execution_count": 24,
   "metadata": {},
   "outputs": [
    {
     "data": {
      "text/html": [
       "<dl>\n",
       "\t<dt>$outcomes</dt>\n",
       "\t\t<dd><dl>\n",
       "\t<dt>$toss1</dt>\n",
       "\t\t<dd><style>\n",
       ".list-inline {list-style: none; margin:0; padding: 0}\n",
       ".list-inline>li {display: inline-block}\n",
       ".list-inline>li:not(:last-child)::after {content: \"\\00b7\"; padding: 0 .5ex}\n",
       "</style>\n",
       "<ol class=list-inline><li>H</li><li>T</li></ol>\n",
       "\n",
       "<details>\n",
       "\t<summary style=display:list-item;cursor:pointer>\n",
       "\t\t<strong>Levels</strong>:\n",
       "\t</summary>\n",
       "\t<style>\n",
       "\t.list-inline {list-style: none; margin:0; padding: 0}\n",
       "\t.list-inline>li {display: inline-block}\n",
       "\t.list-inline>li:not(:last-child)::after {content: \"\\00b7\"; padding: 0 .5ex}\n",
       "\t</style>\n",
       "\t<ol class=list-inline><li>'H'</li><li>'T'</li></ol>\n",
       "</details></dd>\n",
       "\t<dt>[[2]]</dt>\n",
       "\t\t<dd>0.75</dd>\n",
       "\t<dt>[[3]]</dt>\n",
       "\t\t<dd>0.3</dd>\n",
       "</dl>\n",
       "</dd>\n",
       "\t<dt>$probs</dt>\n",
       "\t\t<dd><style>\n",
       ".list-inline {list-style: none; margin:0; padding: 0}\n",
       ".list-inline>li {display: inline-block}\n",
       ".list-inline>li:not(:last-child)::after {content: \"\\00b7\"; padding: 0 .5ex}\n",
       "</style>\n",
       "<ol class=list-inline><li>0.333333333333333</li><li>0.333333333333333</li><li>0.333333333333333</li></ol>\n",
       "</dd>\n",
       "</dl>\n"
      ],
      "text/latex": [
       "\\begin{description}\n",
       "\\item[\\$outcomes] \\begin{description}\n",
       "\\item[\\$toss1] \\begin{enumerate*}\n",
       "\\item H\n",
       "\\item T\n",
       "\\end{enumerate*}\n",
       "\n",
       "\\emph{Levels}: \\begin{enumerate*}\n",
       "\\item 'H'\n",
       "\\item 'T'\n",
       "\\end{enumerate*}\n",
       "\n",
       "\\item[{[[2]]}] 0.75\n",
       "\\item[{[[3]]}] 0.3\n",
       "\\end{description}\n",
       "\n",
       "\\item[\\$probs] \\begin{enumerate*}\n",
       "\\item 0.333333333333333\n",
       "\\item 0.333333333333333\n",
       "\\item 0.333333333333333\n",
       "\\end{enumerate*}\n",
       "\n",
       "\\end{description}\n"
      ],
      "text/markdown": [
       "$outcomes\n",
       ":   $toss1\n",
       ":   1. H\n",
       "2. T\n",
       "\n",
       "\n",
       "\n",
       "**Levels**: 1. 'H'\n",
       "2. 'T'\n",
       "\n",
       "\n",
       "\n",
       "[[2]]\n",
       ":   0.75\n",
       "[[3]]\n",
       ":   0.3\n",
       "\n",
       "\n",
       "\n",
       "$probs\n",
       ":   1. 0.333333333333333\n",
       "2. 0.333333333333333\n",
       "3. 0.333333333333333\n",
       "\n",
       "\n",
       "\n",
       "\n",
       "\n"
      ],
      "text/plain": [
       "$outcomes\n",
       "$outcomes$toss1\n",
       "[1] H T\n",
       "Levels: H T\n",
       "\n",
       "$outcomes[[2]]\n",
       "[1] 0.75\n",
       "\n",
       "$outcomes[[3]]\n",
       "[1] 0.3\n",
       "\n",
       "\n",
       "$probs\n",
       "[1] 0.3333333 0.3333333 0.3333333\n",
       "\n",
       "attr(,\"class\")\n",
       "[1] \"ps\"   \"list\""
      ]
     },
     "metadata": {},
     "output_type": "display_data"
    }
   ],
   "source": [
    "oucomes = tosscoin(1)\n",
    "S = probspace(c(outcomes, probabilites))\n",
    "S"
   ]
  },
  {
   "cell_type": "code",
   "execution_count": 25,
   "metadata": {},
   "outputs": [
    {
     "data": {
      "text/html": [
       "<table class=\"dataframe\">\n",
       "<caption>A data.frame: 2 × 2</caption>\n",
       "<thead>\n",
       "\t<tr><th scope=col>toss1</th><th scope=col>probs</th></tr>\n",
       "\t<tr><th scope=col>&lt;fct&gt;</th><th scope=col>&lt;dbl&gt;</th></tr>\n",
       "</thead>\n",
       "<tbody>\n",
       "\t<tr><td>H</td><td>0.7142857</td></tr>\n",
       "\t<tr><td>T</td><td>0.2857143</td></tr>\n",
       "</tbody>\n",
       "</table>\n"
      ],
      "text/latex": [
       "A data.frame: 2 × 2\n",
       "\\begin{tabular}{ll}\n",
       " toss1 & probs\\\\\n",
       " <fct> & <dbl>\\\\\n",
       "\\hline\n",
       "\t H & 0.7142857\\\\\n",
       "\t T & 0.2857143\\\\\n",
       "\\end{tabular}\n"
      ],
      "text/markdown": [
       "\n",
       "A data.frame: 2 × 2\n",
       "\n",
       "| toss1 &lt;fct&gt; | probs &lt;dbl&gt; |\n",
       "|---|---|\n",
       "| H | 0.7142857 |\n",
       "| T | 0.2857143 |\n",
       "\n"
      ],
      "text/plain": [
       "  toss1 probs    \n",
       "1 H     0.7142857\n",
       "2 T     0.2857143"
      ]
     },
     "metadata": {},
     "output_type": "display_data"
    }
   ],
   "source": [
    "probspace(tosscoin(1), probs = c(0.75,0.3))"
   ]
  },
  {
   "cell_type": "markdown",
   "metadata": {},
   "source": [
    "# Getting probabilitis\n"
   ]
  },
  {
   "cell_type": "code",
   "execution_count": 26,
   "metadata": {},
   "outputs": [
    {
     "data": {
      "text/html": [
       "0.25"
      ],
      "text/latex": [
       "0.25"
      ],
      "text/markdown": [
       "0.25"
      ],
      "text/plain": [
       "[1] 0.25"
      ]
     },
     "metadata": {},
     "output_type": "display_data"
    }
   ],
   "source": [
    "s = cards(makespace = TRUE)\n",
    "A = subset(s, suit == \"Heart\")\n",
    "Prob(A)"
   ]
  },
  {
   "cell_type": "code",
   "execution_count": 27,
   "metadata": {},
   "outputs": [
    {
     "data": {
      "text/html": [
       "<table class=\"dataframe\">\n",
       "<caption>A data.frame: 2 × 2</caption>\n",
       "<thead>\n",
       "\t<tr><th scope=col>toss1</th><th scope=col>probs</th></tr>\n",
       "\t<tr><th scope=col>&lt;fct&gt;</th><th scope=col>&lt;dbl&gt;</th></tr>\n",
       "</thead>\n",
       "<tbody>\n",
       "\t<tr><td>H</td><td>0.5</td></tr>\n",
       "\t<tr><td>T</td><td>0.5</td></tr>\n",
       "</tbody>\n",
       "</table>\n"
      ],
      "text/latex": [
       "A data.frame: 2 × 2\n",
       "\\begin{tabular}{ll}\n",
       " toss1 & probs\\\\\n",
       " <fct> & <dbl>\\\\\n",
       "\\hline\n",
       "\t H & 0.5\\\\\n",
       "\t T & 0.5\\\\\n",
       "\\end{tabular}\n"
      ],
      "text/markdown": [
       "\n",
       "A data.frame: 2 × 2\n",
       "\n",
       "| toss1 &lt;fct&gt; | probs &lt;dbl&gt; |\n",
       "|---|---|\n",
       "| H | 0.5 |\n",
       "| T | 0.5 |\n",
       "\n"
      ],
      "text/plain": [
       "  toss1 probs\n",
       "1 H     0.5  \n",
       "2 T     0.5  "
      ]
     },
     "metadata": {},
     "output_type": "display_data"
    },
    {
     "data": {
      "text/html": [
       "1"
      ],
      "text/latex": [
       "1"
      ],
      "text/markdown": [
       "1"
      ],
      "text/plain": [
       "[1] 1"
      ]
     },
     "metadata": {},
     "output_type": "display_data"
    }
   ],
   "source": [
    "s = tosscoin(1, makespace = TRUE)\n",
    "s\n",
    "Prob(subset(s, toss1 = \"H\"))"
   ]
  },
  {
   "cell_type": "code",
   "execution_count": 28,
   "metadata": {},
   "outputs": [
    {
     "data": {
      "text/html": [
       "<table class=\"dataframe\">\n",
       "<caption>A data.frame: 36 × 3</caption>\n",
       "<thead>\n",
       "\t<tr><th scope=col>X1</th><th scope=col>X2</th><th scope=col>probs</th></tr>\n",
       "\t<tr><th scope=col>&lt;int&gt;</th><th scope=col>&lt;int&gt;</th><th scope=col>&lt;dbl&gt;</th></tr>\n",
       "</thead>\n",
       "<tbody>\n",
       "\t<tr><td>1</td><td>1</td><td>0.02777778</td></tr>\n",
       "\t<tr><td>2</td><td>1</td><td>0.02777778</td></tr>\n",
       "\t<tr><td>3</td><td>1</td><td>0.02777778</td></tr>\n",
       "\t<tr><td>4</td><td>1</td><td>0.02777778</td></tr>\n",
       "\t<tr><td>5</td><td>1</td><td>0.02777778</td></tr>\n",
       "\t<tr><td>6</td><td>1</td><td>0.02777778</td></tr>\n",
       "\t<tr><td>1</td><td>2</td><td>0.02777778</td></tr>\n",
       "\t<tr><td>2</td><td>2</td><td>0.02777778</td></tr>\n",
       "\t<tr><td>3</td><td>2</td><td>0.02777778</td></tr>\n",
       "\t<tr><td>4</td><td>2</td><td>0.02777778</td></tr>\n",
       "\t<tr><td>5</td><td>2</td><td>0.02777778</td></tr>\n",
       "\t<tr><td>6</td><td>2</td><td>0.02777778</td></tr>\n",
       "\t<tr><td>1</td><td>3</td><td>0.02777778</td></tr>\n",
       "\t<tr><td>2</td><td>3</td><td>0.02777778</td></tr>\n",
       "\t<tr><td>3</td><td>3</td><td>0.02777778</td></tr>\n",
       "\t<tr><td>4</td><td>3</td><td>0.02777778</td></tr>\n",
       "\t<tr><td>5</td><td>3</td><td>0.02777778</td></tr>\n",
       "\t<tr><td>6</td><td>3</td><td>0.02777778</td></tr>\n",
       "\t<tr><td>1</td><td>4</td><td>0.02777778</td></tr>\n",
       "\t<tr><td>2</td><td>4</td><td>0.02777778</td></tr>\n",
       "\t<tr><td>3</td><td>4</td><td>0.02777778</td></tr>\n",
       "\t<tr><td>4</td><td>4</td><td>0.02777778</td></tr>\n",
       "\t<tr><td>5</td><td>4</td><td>0.02777778</td></tr>\n",
       "\t<tr><td>6</td><td>4</td><td>0.02777778</td></tr>\n",
       "\t<tr><td>1</td><td>5</td><td>0.02777778</td></tr>\n",
       "\t<tr><td>2</td><td>5</td><td>0.02777778</td></tr>\n",
       "\t<tr><td>3</td><td>5</td><td>0.02777778</td></tr>\n",
       "\t<tr><td>4</td><td>5</td><td>0.02777778</td></tr>\n",
       "\t<tr><td>5</td><td>5</td><td>0.02777778</td></tr>\n",
       "\t<tr><td>6</td><td>5</td><td>0.02777778</td></tr>\n",
       "\t<tr><td>1</td><td>6</td><td>0.02777778</td></tr>\n",
       "\t<tr><td>2</td><td>6</td><td>0.02777778</td></tr>\n",
       "\t<tr><td>3</td><td>6</td><td>0.02777778</td></tr>\n",
       "\t<tr><td>4</td><td>6</td><td>0.02777778</td></tr>\n",
       "\t<tr><td>5</td><td>6</td><td>0.02777778</td></tr>\n",
       "\t<tr><td>6</td><td>6</td><td>0.02777778</td></tr>\n",
       "</tbody>\n",
       "</table>\n"
      ],
      "text/latex": [
       "A data.frame: 36 × 3\n",
       "\\begin{tabular}{lll}\n",
       " X1 & X2 & probs\\\\\n",
       " <int> & <int> & <dbl>\\\\\n",
       "\\hline\n",
       "\t 1 & 1 & 0.02777778\\\\\n",
       "\t 2 & 1 & 0.02777778\\\\\n",
       "\t 3 & 1 & 0.02777778\\\\\n",
       "\t 4 & 1 & 0.02777778\\\\\n",
       "\t 5 & 1 & 0.02777778\\\\\n",
       "\t 6 & 1 & 0.02777778\\\\\n",
       "\t 1 & 2 & 0.02777778\\\\\n",
       "\t 2 & 2 & 0.02777778\\\\\n",
       "\t 3 & 2 & 0.02777778\\\\\n",
       "\t 4 & 2 & 0.02777778\\\\\n",
       "\t 5 & 2 & 0.02777778\\\\\n",
       "\t 6 & 2 & 0.02777778\\\\\n",
       "\t 1 & 3 & 0.02777778\\\\\n",
       "\t 2 & 3 & 0.02777778\\\\\n",
       "\t 3 & 3 & 0.02777778\\\\\n",
       "\t 4 & 3 & 0.02777778\\\\\n",
       "\t 5 & 3 & 0.02777778\\\\\n",
       "\t 6 & 3 & 0.02777778\\\\\n",
       "\t 1 & 4 & 0.02777778\\\\\n",
       "\t 2 & 4 & 0.02777778\\\\\n",
       "\t 3 & 4 & 0.02777778\\\\\n",
       "\t 4 & 4 & 0.02777778\\\\\n",
       "\t 5 & 4 & 0.02777778\\\\\n",
       "\t 6 & 4 & 0.02777778\\\\\n",
       "\t 1 & 5 & 0.02777778\\\\\n",
       "\t 2 & 5 & 0.02777778\\\\\n",
       "\t 3 & 5 & 0.02777778\\\\\n",
       "\t 4 & 5 & 0.02777778\\\\\n",
       "\t 5 & 5 & 0.02777778\\\\\n",
       "\t 6 & 5 & 0.02777778\\\\\n",
       "\t 1 & 6 & 0.02777778\\\\\n",
       "\t 2 & 6 & 0.02777778\\\\\n",
       "\t 3 & 6 & 0.02777778\\\\\n",
       "\t 4 & 6 & 0.02777778\\\\\n",
       "\t 5 & 6 & 0.02777778\\\\\n",
       "\t 6 & 6 & 0.02777778\\\\\n",
       "\\end{tabular}\n"
      ],
      "text/markdown": [
       "\n",
       "A data.frame: 36 × 3\n",
       "\n",
       "| X1 &lt;int&gt; | X2 &lt;int&gt; | probs &lt;dbl&gt; |\n",
       "|---|---|---|\n",
       "| 1 | 1 | 0.02777778 |\n",
       "| 2 | 1 | 0.02777778 |\n",
       "| 3 | 1 | 0.02777778 |\n",
       "| 4 | 1 | 0.02777778 |\n",
       "| 5 | 1 | 0.02777778 |\n",
       "| 6 | 1 | 0.02777778 |\n",
       "| 1 | 2 | 0.02777778 |\n",
       "| 2 | 2 | 0.02777778 |\n",
       "| 3 | 2 | 0.02777778 |\n",
       "| 4 | 2 | 0.02777778 |\n",
       "| 5 | 2 | 0.02777778 |\n",
       "| 6 | 2 | 0.02777778 |\n",
       "| 1 | 3 | 0.02777778 |\n",
       "| 2 | 3 | 0.02777778 |\n",
       "| 3 | 3 | 0.02777778 |\n",
       "| 4 | 3 | 0.02777778 |\n",
       "| 5 | 3 | 0.02777778 |\n",
       "| 6 | 3 | 0.02777778 |\n",
       "| 1 | 4 | 0.02777778 |\n",
       "| 2 | 4 | 0.02777778 |\n",
       "| 3 | 4 | 0.02777778 |\n",
       "| 4 | 4 | 0.02777778 |\n",
       "| 5 | 4 | 0.02777778 |\n",
       "| 6 | 4 | 0.02777778 |\n",
       "| 1 | 5 | 0.02777778 |\n",
       "| 2 | 5 | 0.02777778 |\n",
       "| 3 | 5 | 0.02777778 |\n",
       "| 4 | 5 | 0.02777778 |\n",
       "| 5 | 5 | 0.02777778 |\n",
       "| 6 | 5 | 0.02777778 |\n",
       "| 1 | 6 | 0.02777778 |\n",
       "| 2 | 6 | 0.02777778 |\n",
       "| 3 | 6 | 0.02777778 |\n",
       "| 4 | 6 | 0.02777778 |\n",
       "| 5 | 6 | 0.02777778 |\n",
       "| 6 | 6 | 0.02777778 |\n",
       "\n"
      ],
      "text/plain": [
       "   X1 X2 probs     \n",
       "1  1  1  0.02777778\n",
       "2  2  1  0.02777778\n",
       "3  3  1  0.02777778\n",
       "4  4  1  0.02777778\n",
       "5  5  1  0.02777778\n",
       "6  6  1  0.02777778\n",
       "7  1  2  0.02777778\n",
       "8  2  2  0.02777778\n",
       "9  3  2  0.02777778\n",
       "10 4  2  0.02777778\n",
       "11 5  2  0.02777778\n",
       "12 6  2  0.02777778\n",
       "13 1  3  0.02777778\n",
       "14 2  3  0.02777778\n",
       "15 3  3  0.02777778\n",
       "16 4  3  0.02777778\n",
       "17 5  3  0.02777778\n",
       "18 6  3  0.02777778\n",
       "19 1  4  0.02777778\n",
       "20 2  4  0.02777778\n",
       "21 3  4  0.02777778\n",
       "22 4  4  0.02777778\n",
       "23 5  4  0.02777778\n",
       "24 6  4  0.02777778\n",
       "25 1  5  0.02777778\n",
       "26 2  5  0.02777778\n",
       "27 3  5  0.02777778\n",
       "28 4  5  0.02777778\n",
       "29 5  5  0.02777778\n",
       "30 6  5  0.02777778\n",
       "31 1  6  0.02777778\n",
       "32 2  6  0.02777778\n",
       "33 3  6  0.02777778\n",
       "34 4  6  0.02777778\n",
       "35 5  6  0.02777778\n",
       "36 6  6  0.02777778"
      ]
     },
     "metadata": {},
     "output_type": "display_data"
    },
    {
     "data": {
      "text/html": [
       "0.166666666666667"
      ],
      "text/latex": [
       "0.166666666666667"
      ],
      "text/markdown": [
       "0.166666666666667"
      ],
      "text/plain": [
       "[1] 0.1666667"
      ]
     },
     "metadata": {},
     "output_type": "display_data"
    }
   ],
   "source": [
    "s = rolldie(2, makespace = TRUE);\n",
    "s\n",
    "event = subset(s, X1+X2<5);\n",
    "Prob(event)"
   ]
  },
  {
   "cell_type": "markdown",
   "metadata": {},
   "source": [
    "#### Conditional Probability"
   ]
  },
  {
   "cell_type": "code",
   "execution_count": 29,
   "metadata": {},
   "outputs": [
    {
     "data": {
      "text/html": [
       "<table class=\"dataframe\">\n",
       "<caption>A data.frame: 36 × 3</caption>\n",
       "<thead>\n",
       "\t<tr><th scope=col>X1</th><th scope=col>X2</th><th scope=col>probs</th></tr>\n",
       "\t<tr><th scope=col>&lt;int&gt;</th><th scope=col>&lt;int&gt;</th><th scope=col>&lt;dbl&gt;</th></tr>\n",
       "</thead>\n",
       "<tbody>\n",
       "\t<tr><td>1</td><td>1</td><td>0.02777778</td></tr>\n",
       "\t<tr><td>2</td><td>1</td><td>0.02777778</td></tr>\n",
       "\t<tr><td>3</td><td>1</td><td>0.02777778</td></tr>\n",
       "\t<tr><td>4</td><td>1</td><td>0.02777778</td></tr>\n",
       "\t<tr><td>5</td><td>1</td><td>0.02777778</td></tr>\n",
       "\t<tr><td>6</td><td>1</td><td>0.02777778</td></tr>\n",
       "\t<tr><td>1</td><td>2</td><td>0.02777778</td></tr>\n",
       "\t<tr><td>2</td><td>2</td><td>0.02777778</td></tr>\n",
       "\t<tr><td>3</td><td>2</td><td>0.02777778</td></tr>\n",
       "\t<tr><td>4</td><td>2</td><td>0.02777778</td></tr>\n",
       "\t<tr><td>5</td><td>2</td><td>0.02777778</td></tr>\n",
       "\t<tr><td>6</td><td>2</td><td>0.02777778</td></tr>\n",
       "\t<tr><td>1</td><td>3</td><td>0.02777778</td></tr>\n",
       "\t<tr><td>2</td><td>3</td><td>0.02777778</td></tr>\n",
       "\t<tr><td>3</td><td>3</td><td>0.02777778</td></tr>\n",
       "\t<tr><td>4</td><td>3</td><td>0.02777778</td></tr>\n",
       "\t<tr><td>5</td><td>3</td><td>0.02777778</td></tr>\n",
       "\t<tr><td>6</td><td>3</td><td>0.02777778</td></tr>\n",
       "\t<tr><td>1</td><td>4</td><td>0.02777778</td></tr>\n",
       "\t<tr><td>2</td><td>4</td><td>0.02777778</td></tr>\n",
       "\t<tr><td>3</td><td>4</td><td>0.02777778</td></tr>\n",
       "\t<tr><td>4</td><td>4</td><td>0.02777778</td></tr>\n",
       "\t<tr><td>5</td><td>4</td><td>0.02777778</td></tr>\n",
       "\t<tr><td>6</td><td>4</td><td>0.02777778</td></tr>\n",
       "\t<tr><td>1</td><td>5</td><td>0.02777778</td></tr>\n",
       "\t<tr><td>2</td><td>5</td><td>0.02777778</td></tr>\n",
       "\t<tr><td>3</td><td>5</td><td>0.02777778</td></tr>\n",
       "\t<tr><td>4</td><td>5</td><td>0.02777778</td></tr>\n",
       "\t<tr><td>5</td><td>5</td><td>0.02777778</td></tr>\n",
       "\t<tr><td>6</td><td>5</td><td>0.02777778</td></tr>\n",
       "\t<tr><td>1</td><td>6</td><td>0.02777778</td></tr>\n",
       "\t<tr><td>2</td><td>6</td><td>0.02777778</td></tr>\n",
       "\t<tr><td>3</td><td>6</td><td>0.02777778</td></tr>\n",
       "\t<tr><td>4</td><td>6</td><td>0.02777778</td></tr>\n",
       "\t<tr><td>5</td><td>6</td><td>0.02777778</td></tr>\n",
       "\t<tr><td>6</td><td>6</td><td>0.02777778</td></tr>\n",
       "</tbody>\n",
       "</table>\n"
      ],
      "text/latex": [
       "A data.frame: 36 × 3\n",
       "\\begin{tabular}{lll}\n",
       " X1 & X2 & probs\\\\\n",
       " <int> & <int> & <dbl>\\\\\n",
       "\\hline\n",
       "\t 1 & 1 & 0.02777778\\\\\n",
       "\t 2 & 1 & 0.02777778\\\\\n",
       "\t 3 & 1 & 0.02777778\\\\\n",
       "\t 4 & 1 & 0.02777778\\\\\n",
       "\t 5 & 1 & 0.02777778\\\\\n",
       "\t 6 & 1 & 0.02777778\\\\\n",
       "\t 1 & 2 & 0.02777778\\\\\n",
       "\t 2 & 2 & 0.02777778\\\\\n",
       "\t 3 & 2 & 0.02777778\\\\\n",
       "\t 4 & 2 & 0.02777778\\\\\n",
       "\t 5 & 2 & 0.02777778\\\\\n",
       "\t 6 & 2 & 0.02777778\\\\\n",
       "\t 1 & 3 & 0.02777778\\\\\n",
       "\t 2 & 3 & 0.02777778\\\\\n",
       "\t 3 & 3 & 0.02777778\\\\\n",
       "\t 4 & 3 & 0.02777778\\\\\n",
       "\t 5 & 3 & 0.02777778\\\\\n",
       "\t 6 & 3 & 0.02777778\\\\\n",
       "\t 1 & 4 & 0.02777778\\\\\n",
       "\t 2 & 4 & 0.02777778\\\\\n",
       "\t 3 & 4 & 0.02777778\\\\\n",
       "\t 4 & 4 & 0.02777778\\\\\n",
       "\t 5 & 4 & 0.02777778\\\\\n",
       "\t 6 & 4 & 0.02777778\\\\\n",
       "\t 1 & 5 & 0.02777778\\\\\n",
       "\t 2 & 5 & 0.02777778\\\\\n",
       "\t 3 & 5 & 0.02777778\\\\\n",
       "\t 4 & 5 & 0.02777778\\\\\n",
       "\t 5 & 5 & 0.02777778\\\\\n",
       "\t 6 & 5 & 0.02777778\\\\\n",
       "\t 1 & 6 & 0.02777778\\\\\n",
       "\t 2 & 6 & 0.02777778\\\\\n",
       "\t 3 & 6 & 0.02777778\\\\\n",
       "\t 4 & 6 & 0.02777778\\\\\n",
       "\t 5 & 6 & 0.02777778\\\\\n",
       "\t 6 & 6 & 0.02777778\\\\\n",
       "\\end{tabular}\n"
      ],
      "text/markdown": [
       "\n",
       "A data.frame: 36 × 3\n",
       "\n",
       "| X1 &lt;int&gt; | X2 &lt;int&gt; | probs &lt;dbl&gt; |\n",
       "|---|---|---|\n",
       "| 1 | 1 | 0.02777778 |\n",
       "| 2 | 1 | 0.02777778 |\n",
       "| 3 | 1 | 0.02777778 |\n",
       "| 4 | 1 | 0.02777778 |\n",
       "| 5 | 1 | 0.02777778 |\n",
       "| 6 | 1 | 0.02777778 |\n",
       "| 1 | 2 | 0.02777778 |\n",
       "| 2 | 2 | 0.02777778 |\n",
       "| 3 | 2 | 0.02777778 |\n",
       "| 4 | 2 | 0.02777778 |\n",
       "| 5 | 2 | 0.02777778 |\n",
       "| 6 | 2 | 0.02777778 |\n",
       "| 1 | 3 | 0.02777778 |\n",
       "| 2 | 3 | 0.02777778 |\n",
       "| 3 | 3 | 0.02777778 |\n",
       "| 4 | 3 | 0.02777778 |\n",
       "| 5 | 3 | 0.02777778 |\n",
       "| 6 | 3 | 0.02777778 |\n",
       "| 1 | 4 | 0.02777778 |\n",
       "| 2 | 4 | 0.02777778 |\n",
       "| 3 | 4 | 0.02777778 |\n",
       "| 4 | 4 | 0.02777778 |\n",
       "| 5 | 4 | 0.02777778 |\n",
       "| 6 | 4 | 0.02777778 |\n",
       "| 1 | 5 | 0.02777778 |\n",
       "| 2 | 5 | 0.02777778 |\n",
       "| 3 | 5 | 0.02777778 |\n",
       "| 4 | 5 | 0.02777778 |\n",
       "| 5 | 5 | 0.02777778 |\n",
       "| 6 | 5 | 0.02777778 |\n",
       "| 1 | 6 | 0.02777778 |\n",
       "| 2 | 6 | 0.02777778 |\n",
       "| 3 | 6 | 0.02777778 |\n",
       "| 4 | 6 | 0.02777778 |\n",
       "| 5 | 6 | 0.02777778 |\n",
       "| 6 | 6 | 0.02777778 |\n",
       "\n"
      ],
      "text/plain": [
       "   X1 X2 probs     \n",
       "1  1  1  0.02777778\n",
       "2  2  1  0.02777778\n",
       "3  3  1  0.02777778\n",
       "4  4  1  0.02777778\n",
       "5  5  1  0.02777778\n",
       "6  6  1  0.02777778\n",
       "7  1  2  0.02777778\n",
       "8  2  2  0.02777778\n",
       "9  3  2  0.02777778\n",
       "10 4  2  0.02777778\n",
       "11 5  2  0.02777778\n",
       "12 6  2  0.02777778\n",
       "13 1  3  0.02777778\n",
       "14 2  3  0.02777778\n",
       "15 3  3  0.02777778\n",
       "16 4  3  0.02777778\n",
       "17 5  3  0.02777778\n",
       "18 6  3  0.02777778\n",
       "19 1  4  0.02777778\n",
       "20 2  4  0.02777778\n",
       "21 3  4  0.02777778\n",
       "22 4  4  0.02777778\n",
       "23 5  4  0.02777778\n",
       "24 6  4  0.02777778\n",
       "25 1  5  0.02777778\n",
       "26 2  5  0.02777778\n",
       "27 3  5  0.02777778\n",
       "28 4  5  0.02777778\n",
       "29 5  5  0.02777778\n",
       "30 6  5  0.02777778\n",
       "31 1  6  0.02777778\n",
       "32 2  6  0.02777778\n",
       "33 3  6  0.02777778\n",
       "34 4  6  0.02777778\n",
       "35 5  6  0.02777778\n",
       "36 6  6  0.02777778"
      ]
     },
     "metadata": {},
     "output_type": "display_data"
    }
   ],
   "source": [
    "s = rolldie(2, makespace = TRUE)\n",
    "s"
   ]
  },
  {
   "cell_type": "code",
   "execution_count": 33,
   "metadata": {},
   "outputs": [
    {
     "data": {
      "text/html": [
       "<table class=\"dataframe\">\n",
       "<caption>A data.frame: 6 × 3</caption>\n",
       "<thead>\n",
       "\t<tr><th></th><th scope=col>X1</th><th scope=col>X2</th><th scope=col>probs</th></tr>\n",
       "\t<tr><th></th><th scope=col>&lt;int&gt;</th><th scope=col>&lt;int&gt;</th><th scope=col>&lt;dbl&gt;</th></tr>\n",
       "</thead>\n",
       "<tbody>\n",
       "\t<tr><th scope=row>1</th><td>1</td><td>1</td><td>0.02777778</td></tr>\n",
       "\t<tr><th scope=row>8</th><td>2</td><td>2</td><td>0.02777778</td></tr>\n",
       "\t<tr><th scope=row>15</th><td>3</td><td>3</td><td>0.02777778</td></tr>\n",
       "\t<tr><th scope=row>22</th><td>4</td><td>4</td><td>0.02777778</td></tr>\n",
       "\t<tr><th scope=row>29</th><td>5</td><td>5</td><td>0.02777778</td></tr>\n",
       "\t<tr><th scope=row>36</th><td>6</td><td>6</td><td>0.02777778</td></tr>\n",
       "</tbody>\n",
       "</table>\n"
      ],
      "text/latex": [
       "A data.frame: 6 × 3\n",
       "\\begin{tabular}{r|lll}\n",
       "  & X1 & X2 & probs\\\\\n",
       "  & <int> & <int> & <dbl>\\\\\n",
       "\\hline\n",
       "\t1 & 1 & 1 & 0.02777778\\\\\n",
       "\t8 & 2 & 2 & 0.02777778\\\\\n",
       "\t15 & 3 & 3 & 0.02777778\\\\\n",
       "\t22 & 4 & 4 & 0.02777778\\\\\n",
       "\t29 & 5 & 5 & 0.02777778\\\\\n",
       "\t36 & 6 & 6 & 0.02777778\\\\\n",
       "\\end{tabular}\n"
      ],
      "text/markdown": [
       "\n",
       "A data.frame: 6 × 3\n",
       "\n",
       "| <!--/--> | X1 &lt;int&gt; | X2 &lt;int&gt; | probs &lt;dbl&gt; |\n",
       "|---|---|---|---|\n",
       "| 1 | 1 | 1 | 0.02777778 |\n",
       "| 8 | 2 | 2 | 0.02777778 |\n",
       "| 15 | 3 | 3 | 0.02777778 |\n",
       "| 22 | 4 | 4 | 0.02777778 |\n",
       "| 29 | 5 | 5 | 0.02777778 |\n",
       "| 36 | 6 | 6 | 0.02777778 |\n",
       "\n"
      ],
      "text/plain": [
       "   X1 X2 probs     \n",
       "1  1  1  0.02777778\n",
       "8  2  2  0.02777778\n",
       "15 3  3  0.02777778\n",
       "22 4  4  0.02777778\n",
       "29 5  5  0.02777778\n",
       "36 6  6  0.02777778"
      ]
     },
     "metadata": {},
     "output_type": "display_data"
    },
    {
     "data": {
      "text/html": [
       "<table class=\"dataframe\">\n",
       "<caption>A data.frame: 21 × 3</caption>\n",
       "<thead>\n",
       "\t<tr><th></th><th scope=col>X1</th><th scope=col>X2</th><th scope=col>probs</th></tr>\n",
       "\t<tr><th></th><th scope=col>&lt;int&gt;</th><th scope=col>&lt;int&gt;</th><th scope=col>&lt;dbl&gt;</th></tr>\n",
       "</thead>\n",
       "<tbody>\n",
       "\t<tr><th scope=row>1</th><td>1</td><td>1</td><td>0.02777778</td></tr>\n",
       "\t<tr><th scope=row>2</th><td>2</td><td>1</td><td>0.02777778</td></tr>\n",
       "\t<tr><th scope=row>3</th><td>3</td><td>1</td><td>0.02777778</td></tr>\n",
       "\t<tr><th scope=row>4</th><td>4</td><td>1</td><td>0.02777778</td></tr>\n",
       "\t<tr><th scope=row>5</th><td>5</td><td>1</td><td>0.02777778</td></tr>\n",
       "\t<tr><th scope=row>6</th><td>6</td><td>1</td><td>0.02777778</td></tr>\n",
       "\t<tr><th scope=row>7</th><td>1</td><td>2</td><td>0.02777778</td></tr>\n",
       "\t<tr><th scope=row>8</th><td>2</td><td>2</td><td>0.02777778</td></tr>\n",
       "\t<tr><th scope=row>9</th><td>3</td><td>2</td><td>0.02777778</td></tr>\n",
       "\t<tr><th scope=row>10</th><td>4</td><td>2</td><td>0.02777778</td></tr>\n",
       "\t<tr><th scope=row>11</th><td>5</td><td>2</td><td>0.02777778</td></tr>\n",
       "\t<tr><th scope=row>13</th><td>1</td><td>3</td><td>0.02777778</td></tr>\n",
       "\t<tr><th scope=row>14</th><td>2</td><td>3</td><td>0.02777778</td></tr>\n",
       "\t<tr><th scope=row>15</th><td>3</td><td>3</td><td>0.02777778</td></tr>\n",
       "\t<tr><th scope=row>16</th><td>4</td><td>3</td><td>0.02777778</td></tr>\n",
       "\t<tr><th scope=row>19</th><td>1</td><td>4</td><td>0.02777778</td></tr>\n",
       "\t<tr><th scope=row>20</th><td>2</td><td>4</td><td>0.02777778</td></tr>\n",
       "\t<tr><th scope=row>21</th><td>3</td><td>4</td><td>0.02777778</td></tr>\n",
       "\t<tr><th scope=row>25</th><td>1</td><td>5</td><td>0.02777778</td></tr>\n",
       "\t<tr><th scope=row>26</th><td>2</td><td>5</td><td>0.02777778</td></tr>\n",
       "\t<tr><th scope=row>31</th><td>1</td><td>6</td><td>0.02777778</td></tr>\n",
       "</tbody>\n",
       "</table>\n"
      ],
      "text/latex": [
       "A data.frame: 21 × 3\n",
       "\\begin{tabular}{r|lll}\n",
       "  & X1 & X2 & probs\\\\\n",
       "  & <int> & <int> & <dbl>\\\\\n",
       "\\hline\n",
       "\t1 & 1 & 1 & 0.02777778\\\\\n",
       "\t2 & 2 & 1 & 0.02777778\\\\\n",
       "\t3 & 3 & 1 & 0.02777778\\\\\n",
       "\t4 & 4 & 1 & 0.02777778\\\\\n",
       "\t5 & 5 & 1 & 0.02777778\\\\\n",
       "\t6 & 6 & 1 & 0.02777778\\\\\n",
       "\t7 & 1 & 2 & 0.02777778\\\\\n",
       "\t8 & 2 & 2 & 0.02777778\\\\\n",
       "\t9 & 3 & 2 & 0.02777778\\\\\n",
       "\t10 & 4 & 2 & 0.02777778\\\\\n",
       "\t11 & 5 & 2 & 0.02777778\\\\\n",
       "\t13 & 1 & 3 & 0.02777778\\\\\n",
       "\t14 & 2 & 3 & 0.02777778\\\\\n",
       "\t15 & 3 & 3 & 0.02777778\\\\\n",
       "\t16 & 4 & 3 & 0.02777778\\\\\n",
       "\t19 & 1 & 4 & 0.02777778\\\\\n",
       "\t20 & 2 & 4 & 0.02777778\\\\\n",
       "\t21 & 3 & 4 & 0.02777778\\\\\n",
       "\t25 & 1 & 5 & 0.02777778\\\\\n",
       "\t26 & 2 & 5 & 0.02777778\\\\\n",
       "\t31 & 1 & 6 & 0.02777778\\\\\n",
       "\\end{tabular}\n"
      ],
      "text/markdown": [
       "\n",
       "A data.frame: 21 × 3\n",
       "\n",
       "| <!--/--> | X1 &lt;int&gt; | X2 &lt;int&gt; | probs &lt;dbl&gt; |\n",
       "|---|---|---|---|\n",
       "| 1 | 1 | 1 | 0.02777778 |\n",
       "| 2 | 2 | 1 | 0.02777778 |\n",
       "| 3 | 3 | 1 | 0.02777778 |\n",
       "| 4 | 4 | 1 | 0.02777778 |\n",
       "| 5 | 5 | 1 | 0.02777778 |\n",
       "| 6 | 6 | 1 | 0.02777778 |\n",
       "| 7 | 1 | 2 | 0.02777778 |\n",
       "| 8 | 2 | 2 | 0.02777778 |\n",
       "| 9 | 3 | 2 | 0.02777778 |\n",
       "| 10 | 4 | 2 | 0.02777778 |\n",
       "| 11 | 5 | 2 | 0.02777778 |\n",
       "| 13 | 1 | 3 | 0.02777778 |\n",
       "| 14 | 2 | 3 | 0.02777778 |\n",
       "| 15 | 3 | 3 | 0.02777778 |\n",
       "| 16 | 4 | 3 | 0.02777778 |\n",
       "| 19 | 1 | 4 | 0.02777778 |\n",
       "| 20 | 2 | 4 | 0.02777778 |\n",
       "| 21 | 3 | 4 | 0.02777778 |\n",
       "| 25 | 1 | 5 | 0.02777778 |\n",
       "| 26 | 2 | 5 | 0.02777778 |\n",
       "| 31 | 1 | 6 | 0.02777778 |\n",
       "\n"
      ],
      "text/plain": [
       "   X1 X2 probs     \n",
       "1  1  1  0.02777778\n",
       "2  2  1  0.02777778\n",
       "3  3  1  0.02777778\n",
       "4  4  1  0.02777778\n",
       "5  5  1  0.02777778\n",
       "6  6  1  0.02777778\n",
       "7  1  2  0.02777778\n",
       "8  2  2  0.02777778\n",
       "9  3  2  0.02777778\n",
       "10 4  2  0.02777778\n",
       "11 5  2  0.02777778\n",
       "13 1  3  0.02777778\n",
       "14 2  3  0.02777778\n",
       "15 3  3  0.02777778\n",
       "16 4  3  0.02777778\n",
       "19 1  4  0.02777778\n",
       "20 2  4  0.02777778\n",
       "21 3  4  0.02777778\n",
       "25 1  5  0.02777778\n",
       "26 2  5  0.02777778\n",
       "31 1  6  0.02777778"
      ]
     },
     "metadata": {},
     "output_type": "display_data"
    }
   ],
   "source": [
    "A = subset(s, X1 == X2)\n",
    "B = subset(s, X1 + X2<8)\n",
    "A\n",
    "B\n"
   ]
  },
  {
   "cell_type": "code",
   "execution_count": 34,
   "metadata": {},
   "outputs": [
    {
     "data": {
      "text/html": [
       "0.142857142857143"
      ],
      "text/latex": [
       "0.142857142857143"
      ],
      "text/markdown": [
       "0.142857142857143"
      ],
      "text/plain": [
       "[1] 0.1428571"
      ]
     },
     "metadata": {},
     "output_type": "display_data"
    },
    {
     "data": {
      "text/html": [
       "0.5"
      ],
      "text/latex": [
       "0.5"
      ],
      "text/markdown": [
       "0.5"
      ],
      "text/plain": [
       "[1] 0.5"
      ]
     },
     "metadata": {},
     "output_type": "display_data"
    }
   ],
   "source": [
    "Prob(A, given = B)\n",
    "Prob(B, given = A)"
   ]
  },
  {
   "cell_type": "code",
   "execution_count": 35,
   "metadata": {},
   "outputs": [
    {
     "data": {
      "text/html": [
       "0.0238095238095238"
      ],
      "text/latex": [
       "0.0238095238095238"
      ],
      "text/markdown": [
       "0.0238095238095238"
      ],
      "text/plain": [
       "[1] 0.02380952"
      ]
     },
     "metadata": {},
     "output_type": "display_data"
    }
   ],
   "source": [
    "(Prob(intersect(A, B))*Prob(A))/Prob(B)"
   ]
  },
  {
   "cell_type": "code",
   "execution_count": null,
   "metadata": {},
   "outputs": [],
   "source": []
  }
 ],
 "metadata": {
  "kernelspec": {
   "display_name": "R",
   "language": "R",
   "name": "ir"
  },
  "language_info": {
   "codemirror_mode": "r",
   "file_extension": ".r",
   "mimetype": "text/x-r-source",
   "name": "R",
   "pygments_lexer": "r",
   "version": "4.1.2"
  },
  "orig_nbformat": 4
 },
 "nbformat": 4,
 "nbformat_minor": 2
}
