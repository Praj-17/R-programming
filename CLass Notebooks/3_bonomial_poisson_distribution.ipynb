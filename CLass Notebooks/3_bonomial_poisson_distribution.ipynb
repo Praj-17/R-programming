{
 "cells": [
  {
   "cell_type": "code",
   "execution_count": 11,
   "metadata": {},
   "outputs": [
    {
     "data": {
      "text/html": [
       "<style>\n",
       ".list-inline {list-style: none; margin:0; padding: 0}\n",
       ".list-inline>li {display: inline-block}\n",
       ".list-inline>li:not(:last-child)::after {content: \"\\00b7\"; padding: 0 .5ex}\n",
       "</style>\n",
       "<ol class=list-inline><li>0.125</li><li>0.375</li><li>0.375</li><li>0.125</li></ol>\n"
      ],
      "text/latex": [
       "\\begin{enumerate*}\n",
       "\\item 0.125\n",
       "\\item 0.375\n",
       "\\item 0.375\n",
       "\\item 0.125\n",
       "\\end{enumerate*}\n"
      ],
      "text/markdown": [
       "1. 0.125\n",
       "2. 0.375\n",
       "3. 0.375\n",
       "4. 0.125\n",
       "\n",
       "\n"
      ],
      "text/plain": [
       "[1] 0.125 0.375 0.375 0.125"
      ]
     },
     "metadata": {},
     "output_type": "display_data"
    },
    {
     "data": {
      "text/html": [
       "<style>\n",
       ".list-inline {list-style: none; margin:0; padding: 0}\n",
       ".list-inline>li {display: inline-block}\n",
       ".list-inline>li:not(:last-child)::after {content: \"\\00b7\"; padding: 0 .5ex}\n",
       "</style>\n",
       "<ol class=list-inline><li>0.125</li><li>0.5</li><li>0.875</li><li>1</li></ol>\n"
      ],
      "text/latex": [
       "\\begin{enumerate*}\n",
       "\\item 0.125\n",
       "\\item 0.5\n",
       "\\item 0.875\n",
       "\\item 1\n",
       "\\end{enumerate*}\n"
      ],
      "text/markdown": [
       "1. 0.125\n",
       "2. 0.5\n",
       "3. 0.875\n",
       "4. 1\n",
       "\n",
       "\n"
      ],
      "text/plain": [
       "[1] 0.125 0.500 0.875 1.000"
      ]
     },
     "metadata": {},
     "output_type": "display_data"
    },
    {
     "data": {
      "text/html": [
       "<style>\n",
       ".list-inline {list-style: none; margin:0; padding: 0}\n",
       ".list-inline>li {display: inline-block}\n",
       ".list-inline>li:not(:last-child)::after {content: \"\\00b7\"; padding: 0 .5ex}\n",
       "</style>\n",
       "<ol class=list-inline><li>2</li><li>2</li><li>1</li><li>0</li><li>1</li><li>2</li><li>1</li><li>3</li><li>0</li><li>0</li></ol>\n"
      ],
      "text/latex": [
       "\\begin{enumerate*}\n",
       "\\item 2\n",
       "\\item 2\n",
       "\\item 1\n",
       "\\item 0\n",
       "\\item 1\n",
       "\\item 2\n",
       "\\item 1\n",
       "\\item 3\n",
       "\\item 0\n",
       "\\item 0\n",
       "\\end{enumerate*}\n"
      ],
      "text/markdown": [
       "1. 2\n",
       "2. 2\n",
       "3. 1\n",
       "4. 0\n",
       "5. 1\n",
       "6. 2\n",
       "7. 1\n",
       "8. 3\n",
       "9. 0\n",
       "10. 0\n",
       "\n",
       "\n"
      ],
      "text/plain": [
       " [1] 2 2 1 0 1 2 1 3 0 0"
      ]
     },
     "metadata": {},
     "output_type": "display_data"
    }
   ],
   "source": [
    "dbinom(0:3, size = 3, p = 0.5)    #possible values of X\n",
    "\n",
    "pbinom(0:3, size = 3, p = 0.5)\n",
    "\n",
    "rbinom(10, size = 3, p = 0.5)    #times the experiment is repeated"
   ]
  },
  {
   "cell_type": "code",
   "execution_count": 12,
   "metadata": {},
   "outputs": [
    {
     "data": {
      "image/png": "[encoded data removed]",
      "text/plain": [
       "Plot with title \"Bernoulli PDF\""
      ]
     },
     "metadata": {
      "image/png": {
       "height": 420,
       "width": 420
      }
     },
     "output_type": "display_data"
    }
   ],
   "source": [
    "barplot(names.arg = 0:3,  #possible values of X\n",
    "        height = pbinom(0:3, size = 3, p = 0.5),\n",
    "        main = \"Bernoulli PDF\", xlab = 'X', ylab = 'Probability')\n",
    "\n"
   ]
  },
  {
   "cell_type": "code",
   "execution_count": 13,
   "metadata": {},
   "outputs": [
    {
     "data": {
      "text/html": [
       "<style>\n",
       ".list-inline {list-style: none; margin:0; padding: 0}\n",
       ".list-inline>li {display: inline-block}\n",
       ".list-inline>li:not(:last-child)::after {content: \"\\00b7\"; padding: 0 .5ex}\n",
       "</style>\n",
       "<ol class=list-inline><li>0.25</li><li>0.5</li><li>0.25</li></ol>\n"
      ],
      "text/latex": [
       "\\begin{enumerate*}\n",
       "\\item 0.25\n",
       "\\item 0.5\n",
       "\\item 0.25\n",
       "\\end{enumerate*}\n"
      ],
      "text/markdown": [
       "1. 0.25\n",
       "2. 0.5\n",
       "3. 0.25\n",
       "\n",
       "\n"
      ],
      "text/plain": [
       "[1] 0.25 0.50 0.25"
      ]
     },
     "metadata": {},
     "output_type": "display_data"
    },
    {
     "data": {
      "text/html": [
       "<style>\n",
       ".list-inline {list-style: none; margin:0; padding: 0}\n",
       ".list-inline>li {display: inline-block}\n",
       ".list-inline>li:not(:last-child)::after {content: \"\\00b7\"; padding: 0 .5ex}\n",
       "</style>\n",
       "<ol class=list-inline><li>0.25</li><li>0.75</li><li>1</li></ol>\n"
      ],
      "text/latex": [
       "\\begin{enumerate*}\n",
       "\\item 0.25\n",
       "\\item 0.75\n",
       "\\item 1\n",
       "\\end{enumerate*}\n"
      ],
      "text/markdown": [
       "1. 0.25\n",
       "2. 0.75\n",
       "3. 1\n",
       "\n",
       "\n"
      ],
      "text/plain": [
       "[1] 0.25 0.75 1.00"
      ]
     },
     "metadata": {},
     "output_type": "display_data"
    },
    {
     "data": {
      "text/html": [
       "<style>\n",
       ".list-inline {list-style: none; margin:0; padding: 0}\n",
       ".list-inline>li {display: inline-block}\n",
       ".list-inline>li:not(:last-child)::after {content: \"\\00b7\"; padding: 0 .5ex}\n",
       "</style>\n",
       "<ol class=list-inline><li>0</li><li>1</li><li>0</li><li>0</li><li>1</li><li>0</li><li>1</li><li>1</li><li>0</li><li>0</li></ol>\n"
      ],
      "text/latex": [
       "\\begin{enumerate*}\n",
       "\\item 0\n",
       "\\item 1\n",
       "\\item 0\n",
       "\\item 0\n",
       "\\item 1\n",
       "\\item 0\n",
       "\\item 1\n",
       "\\item 1\n",
       "\\item 0\n",
       "\\item 0\n",
       "\\end{enumerate*}\n"
      ],
      "text/markdown": [
       "1. 0\n",
       "2. 1\n",
       "3. 0\n",
       "4. 0\n",
       "5. 1\n",
       "6. 0\n",
       "7. 1\n",
       "8. 1\n",
       "9. 0\n",
       "10. 0\n",
       "\n",
       "\n"
      ],
      "text/plain": [
       " [1] 0 1 0 0 1 0 1 1 0 0"
      ]
     },
     "metadata": {},
     "output_type": "display_data"
    }
   ],
   "source": [
    "dbinom(0:2, size = 2, p = 0.5)    #possible values of X\n",
    "\n",
    "pbinom(0:2, size = 2, p = 0.5)\n",
    "\n",
    "rbinom(10, size = 2, p = 0.5)    #times the expr is repeated"
   ]
  },
  {
   "cell_type": "code",
   "execution_count": 14,
   "metadata": {},
   "outputs": [
    {
     "data": {
      "image/png": "[encoded data removed]",
      "text/plain": [
       "Plot with title \"Bernoulli PDF\""
      ]
     },
     "metadata": {
      "image/png": {
       "height": 420,
       "width": 420
      }
     },
     "output_type": "display_data"
    }
   ],
   "source": [
    "barplot(names.arg = 0:2,  #possible values of X\n",
    "        height = dbinom(0:2, size = 2, p = 0.5),\n",
    "        main = \"Bernoulli PDF\", xlab = 'X', ylab = 'Probability')"
   ]
  },
  {
   "cell_type": "code",
   "execution_count": 15,
   "metadata": {},
   "outputs": [
    {
     "data": {
      "text/html": [
       "<style>\n",
       ".list-inline {list-style: none; margin:0; padding: 0}\n",
       ".list-inline>li {display: inline-block}\n",
       ".list-inline>li:not(:last-child)::after {content: \"\\00b7\"; padding: 0 .5ex}\n",
       "</style>\n",
       "<ol class=list-inline><li>0.003171211938934</li><li>0.0211414129262266</li><li>0.0669478075997177</li><li>0.133895615199435</li><li>0.189685454865867</li><li>0.202331151856924</li><li>0.168609293214104</li><li>0.112406195476069</li></ol>\n"
      ],
      "text/latex": [
       "\\begin{enumerate*}\n",
       "\\item 0.003171211938934\n",
       "\\item 0.0211414129262266\n",
       "\\item 0.0669478075997177\n",
       "\\item 0.133895615199435\n",
       "\\item 0.189685454865867\n",
       "\\item 0.202331151856924\n",
       "\\item 0.168609293214104\n",
       "\\item 0.112406195476069\n",
       "\\end{enumerate*}\n"
      ],
      "text/markdown": [
       "1. 0.003171211938934\n",
       "2. 0.0211414129262266\n",
       "3. 0.0669478075997177\n",
       "4. 0.133895615199435\n",
       "5. 0.189685454865867\n",
       "6. 0.202331151856924\n",
       "7. 0.168609293214104\n",
       "8. 0.112406195476069\n",
       "\n",
       "\n"
      ],
      "text/plain": [
       "[1] 0.003171212 0.021141413 0.066947808 0.133895615 0.189685455 0.202331152\n",
       "[7] 0.168609293 0.112406195"
      ]
     },
     "metadata": {},
     "output_type": "display_data"
    },
    {
     "data": {
      "text/html": [
       "0.898188143077277"
      ],
      "text/latex": [
       "0.898188143077277"
      ],
      "text/markdown": [
       "0.898188143077277"
      ],
      "text/plain": [
       "[1] 0.8981881"
      ]
     },
     "metadata": {},
     "output_type": "display_data"
    }
   ],
   "source": [
    "dbinom(x= 0:7, size = 20, p = 0.25)    #possible values of X\n",
    "sum(dbinom(x= 0:7, size = 20, p = 0.25) )\n",
    "\n"
   ]
  },
  {
   "cell_type": "code",
   "execution_count": 16,
   "metadata": {},
   "outputs": [
    {
     "data": {
      "text/html": [
       "<style>\n",
       ".list-inline {list-style: none; margin:0; padding: 0}\n",
       ".list-inline>li {display: inline-block}\n",
       ".list-inline>li:not(:last-child)::after {content: \"\\00b7\"; padding: 0 .5ex}\n",
       "</style>\n",
       "<ol class=list-inline><li>0.003171211938934</li><li>0.0243126248651606</li><li>0.0912604324648783</li><li>0.225156047664314</li><li>0.41484150253018</li><li>0.617172654387105</li><li>0.785781947601208</li><li>0.898188143077277</li></ol>\n"
      ],
      "text/latex": [
       "\\begin{enumerate*}\n",
       "\\item 0.003171211938934\n",
       "\\item 0.0243126248651606\n",
       "\\item 0.0912604324648783\n",
       "\\item 0.225156047664314\n",
       "\\item 0.41484150253018\n",
       "\\item 0.617172654387105\n",
       "\\item 0.785781947601208\n",
       "\\item 0.898188143077277\n",
       "\\end{enumerate*}\n"
      ],
      "text/markdown": [
       "1. 0.003171211938934\n",
       "2. 0.0243126248651606\n",
       "3. 0.0912604324648783\n",
       "4. 0.225156047664314\n",
       "5. 0.41484150253018\n",
       "6. 0.617172654387105\n",
       "7. 0.785781947601208\n",
       "8. 0.898188143077277\n",
       "\n",
       "\n"
      ],
      "text/plain": [
       "[1] 0.003171212 0.024312625 0.091260432 0.225156048 0.414841503 0.617172654\n",
       "[7] 0.785781948 0.898188143"
      ]
     },
     "metadata": {},
     "output_type": "display_data"
    },
    {
     "data": {
      "text/html": [
       "3.05988456452906"
      ],
      "text/latex": [
       "3.05988456452906"
      ],
      "text/markdown": [
       "3.05988456452906"
      ],
      "text/plain": [
       "[1] 3.059885"
      ]
     },
     "metadata": {},
     "output_type": "display_data"
    },
    {
     "data": {
      "text/html": [
       "<style>\n",
       ".list-inline {list-style: none; margin:0; padding: 0}\n",
       ".list-inline>li {display: inline-block}\n",
       ".list-inline>li:not(:last-child)::after {content: \"\\00b7\"; padding: 0 .5ex}\n",
       "</style>\n",
       "<ol class=list-inline><li>7</li><li>4</li><li>4</li><li>8</li><li>5</li><li>8</li><li>5</li><li>4</li><li>3</li><li>8</li><li>6</li><li>8</li><li>3</li><li>2</li><li>9</li><li>5</li><li>9</li><li>5</li><li>5</li><li>3</li></ol>\n"
      ],
      "text/latex": [
       "\\begin{enumerate*}\n",
       "\\item 7\n",
       "\\item 4\n",
       "\\item 4\n",
       "\\item 8\n",
       "\\item 5\n",
       "\\item 8\n",
       "\\item 5\n",
       "\\item 4\n",
       "\\item 3\n",
       "\\item 8\n",
       "\\item 6\n",
       "\\item 8\n",
       "\\item 3\n",
       "\\item 2\n",
       "\\item 9\n",
       "\\item 5\n",
       "\\item 9\n",
       "\\item 5\n",
       "\\item 5\n",
       "\\item 3\n",
       "\\end{enumerate*}\n"
      ],
      "text/markdown": [
       "1. 7\n",
       "2. 4\n",
       "3. 4\n",
       "4. 8\n",
       "5. 5\n",
       "6. 8\n",
       "7. 5\n",
       "8. 4\n",
       "9. 3\n",
       "10. 8\n",
       "11. 6\n",
       "12. 8\n",
       "13. 3\n",
       "14. 2\n",
       "15. 9\n",
       "16. 5\n",
       "17. 9\n",
       "18. 5\n",
       "19. 5\n",
       "20. 3\n",
       "\n",
       "\n"
      ],
      "text/plain": [
       " [1] 7 4 4 8 5 8 5 4 3 8 6 8 3 2 9 5 9 5 5 3"
      ]
     },
     "metadata": {},
     "output_type": "display_data"
    }
   ],
   "source": [
    "pbinom(0:7, size = 20, p = 0.25)\n",
    "sum(pbinom(0:7, size = 20, p = 0.25))\n",
    "\n",
    "rbinom(20, size = 20, p = 0.25)    #times the expr is repeated"
   ]
  },
  {
   "cell_type": "code",
   "execution_count": 17,
   "metadata": {},
   "outputs": [
    {
     "data": {
      "image/png": "[encoded data removed]",
      "text/plain": [
       "Plot with title \"Bernoulli PDF\""
      ]
     },
     "metadata": {
      "image/png": {
       "height": 420,
       "width": 420
      }
     },
     "output_type": "display_data"
    }
   ],
   "source": [
    "barplot(names.arg = 0:2,  #possible values of X\n",
    "        height = dbinom(0:2, size = 2, p = 0.5),\n",
    "        main = \"Bernoulli PDF\", xlab = 'X', ylab = 'Probability')"
   ]
  },
  {
   "cell_type": "markdown",
   "metadata": {},
   "source": [
    "## Practice Problems"
   ]
  },
  {
   "cell_type": "markdown",
   "metadata": {},
   "source": [
    "### Binomial distribution"
   ]
  },
  {
   "cell_type": "markdown",
   "metadata": {},
   "source": [
    "Q1. The probability that a certain kind of component will survive a shock test is 3/4.\n",
    "Find the probability that exactly 2 of the next 4 components tested survive."
   ]
  },
  {
   "cell_type": "code",
   "execution_count": 6,
   "metadata": {},
   "outputs": [
    {
     "data": {
      "text/html": [
       "0.2109375"
      ],
      "text/latex": [
       "0.2109375"
      ],
      "text/markdown": [
       "0.2109375"
      ],
      "text/plain": [
       "[1] 0.2109375"
      ]
     },
     "metadata": {},
     "output_type": "display_data"
    }
   ],
   "source": [
    "dbinom(2, size =4, p = 0.75)\n"
   ]
  },
  {
   "cell_type": "markdown",
   "metadata": {},
   "source": [
    "Q2.The probability that a patient recovers from a rare blood disease is 0.4. If 15 people\n",
    "are known to have contracted this disease, what is the probability that (a) at least\n",
    "10 survive, (b) from 3 to 8 survive, and (c) exactly 5 survive?"
   ]
  },
  {
   "cell_type": "code",
   "execution_count": 11,
   "metadata": {},
   "outputs": [
    {
     "data": {
      "text/html": [
       "0.033833302884352"
      ],
      "text/latex": [
       "0.033833302884352"
      ],
      "text/markdown": [
       "0.033833302884352"
      ],
      "text/plain": [
       "[1] 0.0338333"
      ]
     },
     "metadata": {},
     "output_type": "display_data"
    },
    {
     "data": {
      "text/html": [
       "0.877838591066112"
      ],
      "text/latex": [
       "0.877838591066112"
      ],
      "text/markdown": [
       "0.877838591066112"
      ],
      "text/plain": [
       "[1] 0.8778386"
      ]
     },
     "metadata": {},
     "output_type": "display_data"
    },
    {
     "data": {
      "text/html": [
       "0.185937844764672"
      ],
      "text/latex": [
       "0.185937844764672"
      ],
      "text/markdown": [
       "0.185937844764672"
      ],
      "text/plain": [
       "[1] 0.1859378"
      ]
     },
     "metadata": {},
     "output_type": "display_data"
    }
   ],
   "source": [
    "#A\n",
    " sum(dbinom(10:15, size =15, p = 0.4))\n",
    " #B\n",
    " sum(dbinom(3:8, size =15, p = 0.4))\n",
    " #c\n",
    " sum(dbinom(5, size =15, p = 0.4))"
   ]
  },
  {
   "cell_type": "markdown",
   "metadata": {},
   "source": [
    "Q3. A large chain retailer purchases a certain kind of electronic device from a manu\u0002facturer. The manufacturer indicates that the defective rate of the device is 3%.\n",
    "The inspector randomly picks 20 items from a shipment. What is the proba\u0002bility that there will be at least one defective item among these 20?"
   ]
  },
  {
   "cell_type": "code",
   "execution_count": 17,
   "metadata": {},
   "outputs": [
    {
     "data": {
      "text/html": [
       "0.456205657073253"
      ],
      "text/latex": [
       "0.456205657073253"
      ],
      "text/markdown": [
       "0.456205657073253"
      ],
      "text/plain": [
       "[1] 0.4562057"
      ]
     },
     "metadata": {},
     "output_type": "display_data"
    }
   ],
   "source": [
    "sum(dbinom(1:19, size =20, p = 0.03))\n"
   ]
  },
  {
   "cell_type": "markdown",
   "metadata": {},
   "source": [
    "Q3 . It is conjectured that an impurity exists in 30% of all drinking wells in a certain\n",
    "rural community. In order to gain some insight into the true extent of the problem,\n",
    "it is determined that some testing is necessary. It is too expensive to test all of the\n",
    "wells in the area, so 10 are randomly selected for testing.\n",
    "(a) Using the binomial distribution, what is the probability that exactly 3 wells\n",
    "have the impurity, assuming that the conjecture is correct?\n",
    "(b) What is the probability that more than 3 wells are impure?"
   ]
  },
  {
   "cell_type": "code",
   "execution_count": 21,
   "metadata": {},
   "outputs": [
    {
     "data": {
      "text/html": [
       "0.266827932"
      ],
      "text/latex": [
       "0.266827932"
      ],
      "text/markdown": [
       "0.266827932"
      ],
      "text/plain": [
       "[1] 0.2668279"
      ]
     },
     "metadata": {},
     "output_type": "display_data"
    },
    {
     "data": {
      "text/html": [
       "0.3503892816"
      ],
      "text/latex": [
       "0.3503892816"
      ],
      "text/markdown": [
       "0.3503892816"
      ],
      "text/plain": [
       "[1] 0.3503893"
      ]
     },
     "metadata": {},
     "output_type": "display_data"
    }
   ],
   "source": [
    "#a\n",
    "sum(dbinom(3, size =10, p = 0.3))\n",
    "#b\n",
    "sum(dbinom(4:10, size =10, p = 0.3))\n",
    "\n",
    "\n"
   ]
  },
  {
   "cell_type": "markdown",
   "metadata": {},
   "source": [
    "Q4. Twelve people are given two identical speakers,\n",
    "which they are asked to listen to for differences, if any.\n",
    "Suppose that these people answer simply by guessing.\n",
    "Find the probability that three people claim to have\n",
    "heard a difference between the two speakers"
   ]
  },
  {
   "cell_type": "code",
   "execution_count": 22,
   "metadata": {},
   "outputs": [
    {
     "data": {
      "text/html": [
       "0.0581810955395267"
      ],
      "text/latex": [
       "0.0581810955395267"
      ],
      "text/markdown": [
       "0.0581810955395267"
      ],
      "text/plain": [
       "[1] 0.0581811"
      ]
     },
     "metadata": {},
     "output_type": "display_data"
    }
   ],
   "source": [
    "sum(dbinom(3, size =12, p = 1/12))"
   ]
  },
  {
   "cell_type": "markdown",
   "metadata": {},
   "source": [
    "Q.5 An employee is selected from a staff of 10 to super\u0002vise a certain project by selecting a tag at random from\n",
    "a box containing 10 tags numbered from 1 to 10. Find\n",
    "the formula for the probability distribution of X rep\u0002resenting the number on the tag that is drawn. What\n",
    "is the probability that the number drawn is less than\n",
    "4"
   ]
  },
  {
   "cell_type": "code",
   "execution_count": 23,
   "metadata": {},
   "outputs": [
    {
     "data": {
      "text/html": [
       "0.6496866225"
      ],
      "text/latex": [
       "0.6496866225"
      ],
      "text/markdown": [
       "0.6496866225"
      ],
      "text/plain": [
       "[1] 0.6496866"
      ]
     },
     "metadata": {},
     "output_type": "display_data"
    }
   ],
   "source": [
    "sum(dbinom(1:4, size =10, p = 1/10))"
   ]
  },
  {
   "cell_type": "markdown",
   "metadata": {},
   "source": [
    "Q.6 In a certain city district, the need for money to\n",
    "buy drugs is stated as the reason for 75% of all thefts.\n",
    "Find the probability that among the next 5 theft cases\n",
    "reported in this district,\n",
    "(a) exactly 2 resulted from the need for money to buy\n",
    "drugs;\n",
    "(b) at most 3 resulted from the need for money to buy\n",
    "drugs"
   ]
  },
  {
   "cell_type": "code",
   "execution_count": 24,
   "metadata": {},
   "outputs": [
    {
     "data": {
      "text/html": [
       "0.087890625"
      ],
      "text/latex": [
       "0.087890625"
      ],
      "text/markdown": [
       "0.087890625"
      ],
      "text/plain": [
       "[1] 0.08789063"
      ]
     },
     "metadata": {},
     "output_type": "display_data"
    },
    {
     "data": {
      "text/html": [
       "0.3662109375"
      ],
      "text/latex": [
       "0.3662109375"
      ],
      "text/markdown": [
       "0.3662109375"
      ],
      "text/plain": [
       "[1] 0.3662109"
      ]
     },
     "metadata": {},
     "output_type": "display_data"
    }
   ],
   "source": [
    "#a\n",
    "sum(dbinom(2, size =5, p = 3/4))\n",
    "#b\n",
    "sum(dbinom(1:3, size =5, p = 3/4))\n"
   ]
  },
  {
   "cell_type": "markdown",
   "metadata": {},
   "source": [
    "Q.7 In testing a certain kind of truck tire over rugged\n",
    "terrain, it is found that 25% of the trucks fail to com\u0002plete the test run without a blowout. Of the next 15\n",
    "trucks tested, find the probability that\n",
    "(a) from 3 to 6 have blowouts;\n",
    "(b) fewer than 4 have blowouts;\n",
    "(c) more than 5 have blowouts."
   ]
  },
  {
   "cell_type": "code",
   "execution_count": 25,
   "metadata": {},
   "outputs": [
    {
     "data": {
      "text/html": [
       "0.707291878759861"
      ],
      "text/latex": [
       "0.707291878759861"
      ],
      "text/markdown": [
       "0.707291878759861"
      ],
      "text/plain": [
       "[1] 0.7072919"
      ]
     },
     "metadata": {},
     "output_type": "display_data"
    },
    {
     "data": {
      "text/html": [
       "0.673122480511665"
      ],
      "text/latex": [
       "0.673122480511665"
      ],
      "text/markdown": [
       "0.673122480511665"
      ],
      "text/plain": [
       "[1] 0.6731225"
      ]
     },
     "metadata": {},
     "output_type": "display_data"
    },
    {
     "data": {
      "text/html": [
       "0.313514058478176"
      ],
      "text/latex": [
       "0.313514058478176"
      ],
      "text/markdown": [
       "0.313514058478176"
      ],
      "text/plain": [
       "[1] 0.3135141"
      ]
     },
     "metadata": {},
     "output_type": "display_data"
    }
   ],
   "source": [
    "sum(dbinom(3:6, size =15, p = 1/4))\n",
    "sum(dbinom(1:4, size =15, p = 1/4))\n",
    "sum(dbinom(5:15, size =15, p = 1/4))\n"
   ]
  },
  {
   "cell_type": "markdown",
   "metadata": {},
   "source": [
    "Q. 8 A nationwide survey of college seniors by the\n",
    "University of Michigan revealed that almost 70% dis\u0002approve of daily pot smoking, according to a report in\n",
    "Parade. If 12 seniors are selected at random and asked\n",
    "their opinion, find the probability that the number who\n",
    "disapprove of smoking pot daily is\n",
    "(a) anywhere from 7 to 9;\n",
    "(b) at most 5;\n",
    "(c) not less than 8"
   ]
  },
  {
   "cell_type": "code",
   "execution_count": 26,
   "metadata": {},
   "outputs": [
    {
     "data": {
      "text/html": [
       "0.629335913283"
      ],
      "text/latex": [
       "0.629335913283"
      ],
      "text/markdown": [
       "0.629335913283"
      ],
      "text/plain": [
       "[1] 0.6293359"
      ]
     },
     "metadata": {},
     "output_type": "display_data"
    },
    {
     "data": {
      "text/html": [
       "0.038600311617"
      ],
      "text/latex": [
       "0.038600311617"
      ],
      "text/markdown": [
       "0.038600311617"
      ],
      "text/plain": [
       "[1] 0.03860031"
      ]
     },
     "metadata": {},
     "output_type": "display_data"
    },
    {
     "data": {
      "text/html": [
       "0.72365546953"
      ],
      "text/latex": [
       "0.72365546953"
      ],
      "text/markdown": [
       "0.72365546953"
      ],
      "text/plain": [
       "[1] 0.7236555"
      ]
     },
     "metadata": {},
     "output_type": "display_data"
    }
   ],
   "source": [
    "sum(dbinom(7:9, size =12, p = 0.7))\n",
    "sum(dbinom(1:5, size =12, p = 0.7))\n",
    "sum(dbinom(8:12, size =12, p = 0.7))"
   ]
  },
  {
   "cell_type": "markdown",
   "metadata": {},
   "source": [
    "Q.9 The probability that a patient recovers from a\n",
    "delicate heart operation is 0.9. What is the probabil\u0002ity that exactly 5 of the next 7 patients having this\n",
    "operation survive"
   ]
  },
  {
   "cell_type": "code",
   "execution_count": 29,
   "metadata": {},
   "outputs": [
    {
     "data": {
      "text/html": [
       "0.1240029"
      ],
      "text/latex": [
       "0.1240029"
      ],
      "text/markdown": [
       "0.1240029"
      ],
      "text/plain": [
       "[1] 0.1240029"
      ]
     },
     "metadata": {},
     "output_type": "display_data"
    }
   ],
   "source": [
    "sum(dbinom(5, size =7, p = 0.9))"
   ]
  },
  {
   "cell_type": "markdown",
   "metadata": {},
   "source": [
    "Q.10 A traffic control engineer reports that 75% of the\n",
    "vehicles passing through a checkpoint are from within\n",
    "the state. What is the probability that fewer than 4 of\n",
    "the next 9 vehicles are from out of state"
   ]
  },
  {
   "cell_type": "code",
   "execution_count": 30,
   "metadata": {},
   "outputs": [
    {
     "data": {
      "text/html": [
       "0.0489234924316406"
      ],
      "text/latex": [
       "0.0489234924316406"
      ],
      "text/markdown": [
       "0.0489234924316406"
      ],
      "text/plain": [
       "[1] 0.04892349"
      ]
     },
     "metadata": {},
     "output_type": "display_data"
    }
   ],
   "source": [
    "sum(dbinom(1:4, size =9, p = 3/4))"
   ]
  },
  {
   "cell_type": "markdown",
   "metadata": {},
   "source": [
    "### Poisson Distribution"
   ]
  },
  {
   "cell_type": "markdown",
   "metadata": {},
   "source": [
    "Q1. During a laboratory experiment, the average number of radioactive particles pass\u0002ing through a counter in 1 millisecond is 4. What is the probability that 6 particles\n",
    "enter the counter in a given millisecond?"
   ]
  },
  {
   "cell_type": "code",
   "execution_count": 2,
   "metadata": {},
   "outputs": [
    {
     "data": {
      "text/html": [
       "0.104195634567021"
      ],
      "text/latex": [
       "0.104195634567021"
      ],
      "text/markdown": [
       "0.104195634567021"
      ],
      "text/plain": [
       "[1] 0.1041956"
      ]
     },
     "metadata": {},
     "output_type": "display_data"
    }
   ],
   "source": [
    "dpois(6,4)"
   ]
  },
  {
   "cell_type": "markdown",
   "metadata": {},
   "source": [
    "Q 2 -  An inventory study determines that, on aver\u0002age, demands for a particular item at a warehouse are\n",
    "made 5 times per day. What is the probability that on\n",
    "a given day this item is requested\n",
    "(a) more than 5 times?\n",
    "(b) not at all?"
   ]
  },
  {
   "cell_type": "code",
   "execution_count": 8,
   "metadata": {},
   "outputs": [
    {
     "data": {
      "text/html": [
       "<style>\n",
       ".list-inline {list-style: none; margin:0; padding: 0}\n",
       ".list-inline>li {display: inline-block}\n",
       ".list-inline>li:not(:last-child)::after {content: \"\\00b7\"; padding: 0 .5ex}\n",
       "</style>\n",
       "<ol class=list-inline><li>0.993262053000915</li><li>0.959572318005487</li><li>0.875347980516919</li><li>0.734974084702638</li><li>0.559506714934788</li><li>0.384039345166937</li></ol>\n"
      ],
      "text/latex": [
       "\\begin{enumerate*}\n",
       "\\item 0.993262053000915\n",
       "\\item 0.959572318005487\n",
       "\\item 0.875347980516919\n",
       "\\item 0.734974084702638\n",
       "\\item 0.559506714934788\n",
       "\\item 0.384039345166937\n",
       "\\end{enumerate*}\n"
      ],
      "text/markdown": [
       "1. 0.993262053000915\n",
       "2. 0.959572318005487\n",
       "3. 0.875347980516919\n",
       "4. 0.734974084702638\n",
       "5. 0.559506714934788\n",
       "6. 0.384039345166937\n",
       "\n",
       "\n"
      ],
      "text/plain": [
       "[1] 0.9932621 0.9595723 0.8753480 0.7349741 0.5595067 0.3840393"
      ]
     },
     "metadata": {},
     "output_type": "display_data"
    },
    {
     "data": {
      "text/html": [
       "0.00673794699908547"
      ],
      "text/latex": [
       "0.00673794699908547"
      ],
      "text/markdown": [
       "0.00673794699908547"
      ],
      "text/plain": [
       "[1] 0.006737947"
      ]
     },
     "metadata": {},
     "output_type": "display_data"
    }
   ],
   "source": [
    "#a\n",
    "1 - ppois(0:5,5)\n",
    "#b\n",
    "ppois(0,5)"
   ]
  },
  {
   "cell_type": "markdown",
   "metadata": {},
   "source": [
    "Q .3 On average, 3 traffic accidents per month occur\n",
    "at a certain intersection. What is the probability that\n",
    "in any given month at this intersection\n",
    "(a) exactly 5 accidents will occur?\n",
    "(b) fewer than 3 accidents will occur?\n",
    "(c) at least 2 accidents will occur?"
   ]
  },
  {
   "cell_type": "code",
   "execution_count": 11,
   "metadata": {},
   "outputs": [
    {
     "data": {
      "text/html": [
       "0.100818813444924"
      ],
      "text/latex": [
       "0.100818813444924"
      ],
      "text/markdown": [
       "0.100818813444924"
      ],
      "text/plain": [
       "[1] 0.1008188"
      ]
     },
     "metadata": {},
     "output_type": "display_data"
    },
    {
     "data": {
      "text/html": [
       "<style>\n",
       ".list-inline {list-style: none; margin:0; padding: 0}\n",
       ".list-inline>li {display: inline-block}\n",
       ".list-inline>li:not(:last-child)::after {content: \"\\00b7\"; padding: 0 .5ex}\n",
       "</style>\n",
       "<ol class=list-inline><li>0.199148273471456</li><li>0.423190081126844</li></ol>\n"
      ],
      "text/latex": [
       "\\begin{enumerate*}\n",
       "\\item 0.199148273471456\n",
       "\\item 0.423190081126844\n",
       "\\end{enumerate*}\n"
      ],
      "text/markdown": [
       "1. 0.199148273471456\n",
       "2. 0.423190081126844\n",
       "\n",
       "\n"
      ],
      "text/plain": [
       "[1] 0.1991483 0.4231901"
      ]
     },
     "metadata": {},
     "output_type": "display_data"
    },
    {
     "data": {
      "text/html": [
       "<style>\n",
       ".list-inline {list-style: none; margin:0; padding: 0}\n",
       ".list-inline>li {display: inline-block}\n",
       ".list-inline>li:not(:last-child)::after {content: \"\\00b7\"; padding: 0 .5ex}\n",
       "</style>\n",
       "<ol class=list-inline><li>0.800851726528544</li><li>0.576809918873156</li></ol>\n"
      ],
      "text/latex": [
       "\\begin{enumerate*}\n",
       "\\item 0.800851726528544\n",
       "\\item 0.576809918873156\n",
       "\\end{enumerate*}\n"
      ],
      "text/markdown": [
       "1. 0.800851726528544\n",
       "2. 0.576809918873156\n",
       "\n",
       "\n"
      ],
      "text/plain": [
       "[1] 0.8008517 0.5768099"
      ]
     },
     "metadata": {},
     "output_type": "display_data"
    }
   ],
   "source": [
    "#a\n",
    "dpois(5,3)\n",
    "#b\n",
    "ppois(1:2,3)\n",
    "#c\n",
    "1 - ppois(1:2,3)"
   ]
  },
  {
   "cell_type": "markdown",
   "metadata": {},
   "source": [
    "Q. 4 on average, a textbook author makes two word\u0002processing errors per page on the first draft of her text\u0002book. What is the probability that on the next page\n",
    "she will make\n",
    "(a) 4 or more errors?\n",
    "(b) no errors?"
   ]
  },
  {
   "cell_type": "code",
   "execution_count": 12,
   "metadata": {},
   "outputs": [
    {
     "data": {
      "text/html": [
       "0.142876539501453"
      ],
      "text/latex": [
       "0.142876539501453"
      ],
      "text/markdown": [
       "0.142876539501453"
      ],
      "text/plain": [
       "[1] 0.1428765"
      ]
     },
     "metadata": {},
     "output_type": "display_data"
    },
    {
     "data": {
      "text/html": [
       "0.135335283236613"
      ],
      "text/latex": [
       "0.135335283236613"
      ],
      "text/markdown": [
       "0.135335283236613"
      ],
      "text/plain": [
       "[1] 0.1353353"
      ]
     },
     "metadata": {},
     "output_type": "display_data"
    }
   ],
   "source": [
    "#a\n",
    "1 - ppois(3,2)\n",
    "#b\n",
    "ppois(0,2)"
   ]
  },
  {
   "cell_type": "code",
   "execution_count": null,
   "metadata": {},
   "outputs": [],
   "source": [
    "Q .5 A certain area of the eastern United States is,\n",
    "on average, hit by 6 hurricanes a year. Find the prob\u0002ability that in a given year that area will be hit by\n",
    "(a) fewer than 4 hurricanes;\n",
    "(b) anywhere from 6 to 8 hurricanes"
   ]
  },
  {
   "cell_type": "code",
   "execution_count": 13,
   "metadata": {},
   "outputs": [
    {
     "data": {
      "text/html": [
       "<style>\n",
       ".list-inline {list-style: none; margin:0; padding: 0}\n",
       ".list-inline>li {display: inline-block}\n",
       ".list-inline>li:not(:last-child)::after {content: \"\\00b7\"; padding: 0 .5ex}\n",
       "</style>\n",
       "<ol class=list-inline><li>0.00247875217666636</li><li>0.0173512652366645</li><li>0.061968804416659</li><li>0.151203882776648</li></ol>\n"
      ],
      "text/latex": [
       "\\begin{enumerate*}\n",
       "\\item 0.00247875217666636\n",
       "\\item 0.0173512652366645\n",
       "\\item 0.061968804416659\n",
       "\\item 0.151203882776648\n",
       "\\end{enumerate*}\n"
      ],
      "text/markdown": [
       "1. 0.00247875217666636\n",
       "2. 0.0173512652366645\n",
       "3. 0.061968804416659\n",
       "4. 0.151203882776648\n",
       "\n",
       "\n"
      ],
      "text/plain": [
       "[1] 0.002478752 0.017351265 0.061968804 0.151203883"
      ]
     },
     "metadata": {},
     "output_type": "display_data"
    },
    {
     "data": {
      "text/html": [
       "<style>\n",
       ".list-inline {list-style: none; margin:0; padding: 0}\n",
       ".list-inline>li {display: inline-block}\n",
       ".list-inline>li:not(:last-child)::after {content: \"\\00b7\"; padding: 0 .5ex}\n",
       "</style>\n",
       "<ol class=list-inline><li>0.606302782412591</li><li>0.743979760453717</li><li>0.847237493984561</li></ol>\n"
      ],
      "text/latex": [
       "\\begin{enumerate*}\n",
       "\\item 0.606302782412591\n",
       "\\item 0.743979760453717\n",
       "\\item 0.847237493984561\n",
       "\\end{enumerate*}\n"
      ],
      "text/markdown": [
       "1. 0.606302782412591\n",
       "2. 0.743979760453717\n",
       "3. 0.847237493984561\n",
       "\n",
       "\n"
      ],
      "text/plain": [
       "[1] 0.6063028 0.7439798 0.8472375"
      ]
     },
     "metadata": {},
     "output_type": "display_data"
    }
   ],
   "source": [
    "#a\n",
    "ppois(0:3,6)\n",
    "#b\n",
    "ppois(6:8, 6)"
   ]
  },
  {
   "cell_type": "code",
   "execution_count": null,
   "metadata": {},
   "outputs": [],
   "source": [
    "Q .6 The average number of field mice per acre in\n",
    "a 5-acre wheat field is estimated to be 12. Find the\n",
    "probability that fewer than 7 field mice are found on a given acre;\n"
   ]
  },
  {
   "cell_type": "code",
   "execution_count": 16,
   "metadata": {},
   "outputs": [
    {
     "data": {
      "text/html": [
       "0.988405920741136"
      ],
      "text/latex": [
       "0.988405920741136"
      ],
      "text/markdown": [
       "0.988405920741136"
      ],
      "text/plain": [
       "[1] 0.9884059"
      ]
     },
     "metadata": {},
     "output_type": "display_data"
    }
   ],
   "source": [
    "\n",
    "ppois(6,12/5)\n"
   ]
  },
  {
   "cell_type": "markdown",
   "metadata": {},
   "source": [
    "Q .7 The average number of particles radiated out of an experiment is 500 per second  find the probability that more than 300 particles get radiated within in 0.5 seconds"
   ]
  },
  {
   "cell_type": "code",
   "execution_count": 19,
   "metadata": {},
   "outputs": [
    {
     "data": {
      "text/html": [
       "<style>\n",
       ".list-inline {list-style: none; margin:0; padding: 0}\n",
       ".list-inline>li {display: inline-block}\n",
       ".list-inline>li:not(:last-child)::after {content: \"\\00b7\"; padding: 0 .5ex}\n",
       "</style>\n",
       "<ol class=list-inline><li>1</li><li>1</li><li>1</li><li>1</li><li>1</li><li>1</li><li>1</li><li>1</li><li>1</li><li>1</li><li>1</li><li>1</li><li>1</li><li>1</li><li>1</li><li>1</li><li>1</li><li>1</li><li>1</li><li>1</li><li>1</li><li>1</li><li>1</li><li>1</li><li>1</li><li>1</li><li>1</li><li>1</li><li>1</li><li>1</li><li>1</li><li>1</li><li>1</li><li>1</li><li>1</li><li>1</li><li>1</li><li>1</li><li>1</li><li>1</li><li>1</li><li>1</li><li>1</li><li>1</li><li>1</li><li>1</li><li>1</li><li>1</li><li>1</li><li>1</li><li>1</li><li>1</li><li>1</li><li>1</li><li>1</li><li>1</li><li>1</li><li>1</li><li>1</li><li>1</li><li>1</li><li>1</li><li>1</li><li>1</li><li>1</li><li>1</li><li>1</li><li>1</li><li>1</li><li>1</li><li>1</li><li>1</li><li>1</li><li>1</li><li>1</li><li>1</li><li>1</li><li>1</li><li>1</li><li>1</li><li>1</li><li>1</li><li>1</li><li>1</li><li>1</li><li>1</li><li>1</li><li>1</li><li>1</li><li>1</li><li>1</li><li>1</li><li>1</li><li>1</li><li>1</li><li>1</li><li>1</li><li>1</li><li>1</li><li>1</li><li>1</li><li>1</li><li>1</li><li>1</li><li>1</li><li>1</li><li>1</li><li>1</li><li>1</li><li>1</li><li>1</li><li>1</li><li>1</li><li>1</li><li>1</li><li>1</li><li>1</li><li>1</li><li>1</li><li>1</li><li>1</li><li>1</li><li>1</li><li>1</li><li>1</li><li>1</li><li>1</li><li>1</li><li>1</li><li>1</li><li>1</li><li>1</li><li>1</li><li>1</li><li>1</li><li>1</li><li>1</li><li>1</li><li>1</li><li>1</li><li>1</li><li>1</li><li>1</li><li>1</li><li>1</li><li>1</li><li>1</li><li>1</li><li>1</li><li>1</li><li>1</li><li>1</li><li>1</li><li>1</li><li>1</li><li>1</li><li>1</li><li>1</li><li>1</li><li>1</li><li>1</li><li>1</li><li>1</li><li>1</li><li>1</li><li>1</li><li>1</li><li>1</li><li>1</li><li>1</li><li>1</li><li>1</li><li>1</li><li>1</li><li>1</li><li>1</li><li>1</li><li>1</li><li>1</li><li>1</li><li>1</li><li>1</li><li>1</li><li>1</li><li>1</li><li>1</li><li>1</li><li>1</li><li>1</li><li>1</li><li>1</li><li>1</li><li>1</li><li>1</li><li>1</li><li>1</li><li>1</li><li>1</li><li>1</li><li>1</li><li>...</li><li>0.99999738466557</li><li>0.99999671645062</li><li>0.999995887399813</li><li>0.999994861346835</li><li>0.999993594614762</li><li>0.999992034599895</li><li>0.999990118119714</li><li>0.999987769492041</li><li>0.999984898309067</li><li>0.999981396866415</li><li>0.999977137203822</li><li>0.999971967710384</li><li>0.999965709243752</li><li>0.999958150709172</li><li>0.999949044041004</li><li>0.999938098526379</li><li>0.999924974408123</li><li>0.999909275702075</li><li>0.999890542162638</li><li>0.999868240329976</li><li>0.999841753592847</li><li>0.999810371202884</li><li>0.999773276179286</li><li>0.999729532047686</li><li>0.99967806836345</li><li>0.999617664978197</li><li>0.999546935018884</li><li>0.999464306561743</li><li>0.999368002998641</li><li>0.999256022111313</li><li>0.999126113889356</li><li>0.998975757150979</li><li>0.998802135051236</li><li>0.998602109590703</li><li>0.998372195268252</li><li>0.998108532054431</li><li>0.997806857896742</li><li>0.997462481004402</li><li>0.997070252197637</li><li>0.996624537644495</li><li>0.996119192346148</li><li>0.995547534768833</li><li>0.994902323056287</li><li>0.994175733289907</li><li>0.993359340293974</li><li>0.992444101509296</li><li>0.991420344479454</li><li>0.990277758508649</li><li>0.989005391057864</li><li>0.987591649445881</li><li>0.98602430841264</li><li>0.984290524083833</li><li>0.98237685484674</li><li>0.98026928960765</li><li>0.977953283850409</li><li>0.975413803853434</li><li>0.972635379349085</li><li>0.969602164824686</li><li>0.96629800956935</li><li>0.962706536465724</li><li>0.958811229411899</li><li>0.954595529137197</li><li>0.950042937047886</li><li>0.945137126606818</li><li>0.939862061616423</li><li>0.934202120639604</li><li>0.92814222666014</li><li>0.921667980955585</li><li>0.914765800033884</li><li>0.9074230543725</li><li>0.899628207598207</li><li>0.891370954659338</li><li>0.882642357472372</li><li>0.873434976473463</li><li>0.863742996474612</li><li>0.853562345215314</li><li>0.842890803014792</li><li>0.831728101968221</li><li>0.820076013193095</li><li>0.807938420719005</li><li>0.795321380725149</li><li>0.782233164963887</li><li>0.768684287364237</li><li>0.754687512984434</li><li>0.740257848675358</li><li>0.725412515024045</li><li>0.710170899365614</li><li>0.694554489879515</li><li>0.678586791018474</li><li>0.662293220752106</li><li>0.645700990338289</li><li>0.628838967560019</li><li>0.61173752458003</li><li>0.594428371766275</li><li>0.57694437902511</li><li>0.559319386342483</li><li>0.541588005374045</li><li>0.523785414040272</li><li>0.50594714617076</li><li>0.488108878301249</li><li>0.470306215756826</li><li>0.452574480154811</li><li>0.434948500431138</li><li>0.417462409435431</li><li>0.400149448053542</li><li>0.38304177870385</li><li>0.366170309917172</li><li>0.349564533552331</li><li>0.333252376023018</li><li>0.317260064719769</li><li>0.301612010607001</li><li>0.286330707762502</li><li>0.271436650409189</li><li>0.256948267769779</li><li>0.24288187685773</li><li>0.229251653105745</li><li>0.216069618529357</li><li>0.203345646930528</li><li>0.1910874854673</li><li>0.179300791752659</li><li>0.167989185500603</li><li>0.157154313611662</li><li>0.146795927484566</li><li>0.136911971256422</li><li>0.12749867961057</li><li>0.118550683749494</li><li>0.110061124109004</li><li>0.102021768388844</li><li>0.0944231334926617</li><li>0.0872546100056977</li><li>0.0805045878899123</li><li>0.0741605821419936</li><li>0.0682093572377548</li><li>0.0626370492749843</li><li>0.0574292848237968</li><li>0.052571295596943</li><li>0.0480480281603938</li><li>0.0438442480149018</li><li>0.0399446374903268</li><li>0.0363338870046093</li><li>0.0329967793468295</li><li>0.0299182667474018</li><li>0.0270835405969159</li><li>0.0244780937674252</li><li>0.0220877755752318</li><li>0.0198988395017947</li><li>0.017897983858799</li><li>0.0160723856443871</li><li>0.0144097278899135</li><li>0.012898220840392</li><li>0.0115266173471784</li><li>0.0102842228786877</li><li>0.00916090057444663</li><li>0.00814707178000518</li><li>0.00723371250573368</li><li>0.00641234625189235</li><li>0.00567503363623589</li><li>0.00501435924944693</li><li>0.00442341614856234</li><li>0.00389578837991544</li><li>0.00342553190162054</li><li>0.00300715425189191</li><li>0.00263559328410445</li><li>0.00230619526301645</li><li>0.00201469258948717</li><li>0.00175718139378978</li><li>0.00153009921063529</li><li>0.00133020292264707</li><li>0.00115454713355378</li><li>0.00100046310803337</li><li>0.000865538392166076</li><li>0.000747597206967376</li><li>0.000644681687596793</li><li>0.0005550340226399</li><li>0.000477079531372993</li><li>0.000409410702148283</li><li>0.000350772201953564</li><li>0.000300046855764236</li><li>0.000256242584443678</li><li>0.000218480281581113</li><li>0.000185982602697643</li><li>0.000158063634584704</li><li>0.000134119408072841</li><li>0.000113619214141325</li><li>9.60976808666025e-05</li><li>8.1147567150941e-05</li><li>6.84132283812477e-05</li><li>5.75847090191761e-05</li><li>4.83924175403994e-05</li><li>4.0602340016016e-05</li><li>3.40117498938142e-05</li><li>2.84453731014267e-05</li><li>2.37519693979671e-05</li><li>1.98012928798175e-05</li><li>1.64813966461175e-05</li><li>1.36962487990999e-05</li><li>1.13636291616537e-05</li><li>9.41327829429017e-06</li><li>7.78527256184436e-06</li><li>6.42860111821353e-06</li></ol>\n"
      ],
      "text/latex": [
       "\\begin{enumerate*}\n",
       "\\item 1\n",
       "\\item 1\n",
       "\\item 1\n",
       "\\item 1\n",
       "\\item 1\n",
       "\\item 1\n",
       "\\item 1\n",
       "\\item 1\n",
       "\\item 1\n",
       "\\item 1\n",
       "\\item 1\n",
       "\\item 1\n",
       "\\item 1\n",
       "\\item 1\n",
       "\\item 1\n",
       "\\item 1\n",
       "\\item 1\n",
       "\\item 1\n",
       "\\item 1\n",
       "\\item 1\n",
       "\\item 1\n",
       "\\item 1\n",
       "\\item 1\n",
       "\\item 1\n",
       "\\item 1\n",
       "\\item 1\n",
       "\\item 1\n",
       "\\item 1\n",
       "\\item 1\n",
       "\\item 1\n",
       "\\item 1\n",
       "\\item 1\n",
       "\\item 1\n",
       "\\item 1\n",
       "\\item 1\n",
       "\\item 1\n",
       "\\item 1\n",
       "\\item 1\n",
       "\\item 1\n",
       "\\item 1\n",
       "\\item 1\n",
       "\\item 1\n",
       "\\item 1\n",
       "\\item 1\n",
       "\\item 1\n",
       "\\item 1\n",
       "\\item 1\n",
       "\\item 1\n",
       "\\item 1\n",
       "\\item 1\n",
       "\\item 1\n",
       "\\item 1\n",
       "\\item 1\n",
       "\\item 1\n",
       "\\item 1\n",
       "\\item 1\n",
       "\\item 1\n",
       "\\item 1\n",
       "\\item 1\n",
       "\\item 1\n",
       "\\item 1\n",
       "\\item 1\n",
       "\\item 1\n",
       "\\item 1\n",
       "\\item 1\n",
       "\\item 1\n",
       "\\item 1\n",
       "\\item 1\n",
       "\\item 1\n",
       "\\item 1\n",
       "\\item 1\n",
       "\\item 1\n",
       "\\item 1\n",
       "\\item 1\n",
       "\\item 1\n",
       "\\item 1\n",
       "\\item 1\n",
       "\\item 1\n",
       "\\item 1\n",
       "\\item 1\n",
       "\\item 1\n",
       "\\item 1\n",
       "\\item 1\n",
       "\\item 1\n",
       "\\item 1\n",
       "\\item 1\n",
       "\\item 1\n",
       "\\item 1\n",
       "\\item 1\n",
       "\\item 1\n",
       "\\item 1\n",
       "\\item 1\n",
       "\\item 1\n",
       "\\item 1\n",
       "\\item 1\n",
       "\\item 1\n",
       "\\item 1\n",
       "\\item 1\n",
       "\\item 1\n",
       "\\item 1\n",
       "\\item 1\n",
       "\\item 1\n",
       "\\item 1\n",
       "\\item 1\n",
       "\\item 1\n",
       "\\item 1\n",
       "\\item 1\n",
       "\\item 1\n",
       "\\item 1\n",
       "\\item 1\n",
       "\\item 1\n",
       "\\item 1\n",
       "\\item 1\n",
       "\\item 1\n",
       "\\item 1\n",
       "\\item 1\n",
       "\\item 1\n",
       "\\item 1\n",
       "\\item 1\n",
       "\\item 1\n",
       "\\item 1\n",
       "\\item 1\n",
       "\\item 1\n",
       "\\item 1\n",
       "\\item 1\n",
       "\\item 1\n",
       "\\item 1\n",
       "\\item 1\n",
       "\\item 1\n",
       "\\item 1\n",
       "\\item 1\n",
       "\\item 1\n",
       "\\item 1\n",
       "\\item 1\n",
       "\\item 1\n",
       "\\item 1\n",
       "\\item 1\n",
       "\\item 1\n",
       "\\item 1\n",
       "\\item 1\n",
       "\\item 1\n",
       "\\item 1\n",
       "\\item 1\n",
       "\\item 1\n",
       "\\item 1\n",
       "\\item 1\n",
       "\\item 1\n",
       "\\item 1\n",
       "\\item 1\n",
       "\\item 1\n",
       "\\item 1\n",
       "\\item 1\n",
       "\\item 1\n",
       "\\item 1\n",
       "\\item 1\n",
       "\\item 1\n",
       "\\item 1\n",
       "\\item 1\n",
       "\\item 1\n",
       "\\item 1\n",
       "\\item 1\n",
       "\\item 1\n",
       "\\item 1\n",
       "\\item 1\n",
       "\\item 1\n",
       "\\item 1\n",
       "\\item 1\n",
       "\\item 1\n",
       "\\item 1\n",
       "\\item 1\n",
       "\\item 1\n",
       "\\item 1\n",
       "\\item 1\n",
       "\\item 1\n",
       "\\item 1\n",
       "\\item 1\n",
       "\\item 1\n",
       "\\item 1\n",
       "\\item 1\n",
       "\\item 1\n",
       "\\item 1\n",
       "\\item 1\n",
       "\\item 1\n",
       "\\item 1\n",
       "\\item 1\n",
       "\\item 1\n",
       "\\item 1\n",
       "\\item 1\n",
       "\\item 1\n",
       "\\item 1\n",
       "\\item 1\n",
       "\\item 1\n",
       "\\item 1\n",
       "\\item 1\n",
       "\\item 1\n",
       "\\item 1\n",
       "\\item 1\n",
       "\\item 1\n",
       "\\item 1\n",
       "\\item 1\n",
       "\\item ...\n",
       "\\item 0.99999738466557\n",
       "\\item 0.99999671645062\n",
       "\\item 0.999995887399813\n",
       "\\item 0.999994861346835\n",
       "\\item 0.999993594614762\n",
       "\\item 0.999992034599895\n",
       "\\item 0.999990118119714\n",
       "\\item 0.999987769492041\n",
       "\\item 0.999984898309067\n",
       "\\item 0.999981396866415\n",
       "\\item 0.999977137203822\n",
       "\\item 0.999971967710384\n",
       "\\item 0.999965709243752\n",
       "\\item 0.999958150709172\n",
       "\\item 0.999949044041004\n",
       "\\item 0.999938098526379\n",
       "\\item 0.999924974408123\n",
       "\\item 0.999909275702075\n",
       "\\item 0.999890542162638\n",
       "\\item 0.999868240329976\n",
       "\\item 0.999841753592847\n",
       "\\item 0.999810371202884\n",
       "\\item 0.999773276179286\n",
       "\\item 0.999729532047686\n",
       "\\item 0.99967806836345\n",
       "\\item 0.999617664978197\n",
       "\\item 0.999546935018884\n",
       "\\item 0.999464306561743\n",
       "\\item 0.999368002998641\n",
       "\\item 0.999256022111313\n",
       "\\item 0.999126113889356\n",
       "\\item 0.998975757150979\n",
       "\\item 0.998802135051236\n",
       "\\item 0.998602109590703\n",
       "\\item 0.998372195268252\n",
       "\\item 0.998108532054431\n",
       "\\item 0.997806857896742\n",
       "\\item 0.997462481004402\n",
       "\\item 0.997070252197637\n",
       "\\item 0.996624537644495\n",
       "\\item 0.996119192346148\n",
       "\\item 0.995547534768833\n",
       "\\item 0.994902323056287\n",
       "\\item 0.994175733289907\n",
       "\\item 0.993359340293974\n",
       "\\item 0.992444101509296\n",
       "\\item 0.991420344479454\n",
       "\\item 0.990277758508649\n",
       "\\item 0.989005391057864\n",
       "\\item 0.987591649445881\n",
       "\\item 0.98602430841264\n",
       "\\item 0.984290524083833\n",
       "\\item 0.98237685484674\n",
       "\\item 0.98026928960765\n",
       "\\item 0.977953283850409\n",
       "\\item 0.975413803853434\n",
       "\\item 0.972635379349085\n",
       "\\item 0.969602164824686\n",
       "\\item 0.96629800956935\n",
       "\\item 0.962706536465724\n",
       "\\item 0.958811229411899\n",
       "\\item 0.954595529137197\n",
       "\\item 0.950042937047886\n",
       "\\item 0.945137126606818\n",
       "\\item 0.939862061616423\n",
       "\\item 0.934202120639604\n",
       "\\item 0.92814222666014\n",
       "\\item 0.921667980955585\n",
       "\\item 0.914765800033884\n",
       "\\item 0.9074230543725\n",
       "\\item 0.899628207598207\n",
       "\\item 0.891370954659338\n",
       "\\item 0.882642357472372\n",
       "\\item 0.873434976473463\n",
       "\\item 0.863742996474612\n",
       "\\item 0.853562345215314\n",
       "\\item 0.842890803014792\n",
       "\\item 0.831728101968221\n",
       "\\item 0.820076013193095\n",
       "\\item 0.807938420719005\n",
       "\\item 0.795321380725149\n",
       "\\item 0.782233164963887\n",
       "\\item 0.768684287364237\n",
       "\\item 0.754687512984434\n",
       "\\item 0.740257848675358\n",
       "\\item 0.725412515024045\n",
       "\\item 0.710170899365614\n",
       "\\item 0.694554489879515\n",
       "\\item 0.678586791018474\n",
       "\\item 0.662293220752106\n",
       "\\item 0.645700990338289\n",
       "\\item 0.628838967560019\n",
       "\\item 0.61173752458003\n",
       "\\item 0.594428371766275\n",
       "\\item 0.57694437902511\n",
       "\\item 0.559319386342483\n",
       "\\item 0.541588005374045\n",
       "\\item 0.523785414040272\n",
       "\\item 0.50594714617076\n",
       "\\item 0.488108878301249\n",
       "\\item 0.470306215756826\n",
       "\\item 0.452574480154811\n",
       "\\item 0.434948500431138\n",
       "\\item 0.417462409435431\n",
       "\\item 0.400149448053542\n",
       "\\item 0.38304177870385\n",
       "\\item 0.366170309917172\n",
       "\\item 0.349564533552331\n",
       "\\item 0.333252376023018\n",
       "\\item 0.317260064719769\n",
       "\\item 0.301612010607001\n",
       "\\item 0.286330707762502\n",
       "\\item 0.271436650409189\n",
       "\\item 0.256948267769779\n",
       "\\item 0.24288187685773\n",
       "\\item 0.229251653105745\n",
       "\\item 0.216069618529357\n",
       "\\item 0.203345646930528\n",
       "\\item 0.1910874854673\n",
       "\\item 0.179300791752659\n",
       "\\item 0.167989185500603\n",
       "\\item 0.157154313611662\n",
       "\\item 0.146795927484566\n",
       "\\item 0.136911971256422\n",
       "\\item 0.12749867961057\n",
       "\\item 0.118550683749494\n",
       "\\item 0.110061124109004\n",
       "\\item 0.102021768388844\n",
       "\\item 0.0944231334926617\n",
       "\\item 0.0872546100056977\n",
       "\\item 0.0805045878899123\n",
       "\\item 0.0741605821419936\n",
       "\\item 0.0682093572377548\n",
       "\\item 0.0626370492749843\n",
       "\\item 0.0574292848237968\n",
       "\\item 0.052571295596943\n",
       "\\item 0.0480480281603938\n",
       "\\item 0.0438442480149018\n",
       "\\item 0.0399446374903268\n",
       "\\item 0.0363338870046093\n",
       "\\item 0.0329967793468295\n",
       "\\item 0.0299182667474018\n",
       "\\item 0.0270835405969159\n",
       "\\item 0.0244780937674252\n",
       "\\item 0.0220877755752318\n",
       "\\item 0.0198988395017947\n",
       "\\item 0.017897983858799\n",
       "\\item 0.0160723856443871\n",
       "\\item 0.0144097278899135\n",
       "\\item 0.012898220840392\n",
       "\\item 0.0115266173471784\n",
       "\\item 0.0102842228786877\n",
       "\\item 0.00916090057444663\n",
       "\\item 0.00814707178000518\n",
       "\\item 0.00723371250573368\n",
       "\\item 0.00641234625189235\n",
       "\\item 0.00567503363623589\n",
       "\\item 0.00501435924944693\n",
       "\\item 0.00442341614856234\n",
       "\\item 0.00389578837991544\n",
       "\\item 0.00342553190162054\n",
       "\\item 0.00300715425189191\n",
       "\\item 0.00263559328410445\n",
       "\\item 0.00230619526301645\n",
       "\\item 0.00201469258948717\n",
       "\\item 0.00175718139378978\n",
       "\\item 0.00153009921063529\n",
       "\\item 0.00133020292264707\n",
       "\\item 0.00115454713355378\n",
       "\\item 0.00100046310803337\n",
       "\\item 0.000865538392166076\n",
       "\\item 0.000747597206967376\n",
       "\\item 0.000644681687596793\n",
       "\\item 0.0005550340226399\n",
       "\\item 0.000477079531372993\n",
       "\\item 0.000409410702148283\n",
       "\\item 0.000350772201953564\n",
       "\\item 0.000300046855764236\n",
       "\\item 0.000256242584443678\n",
       "\\item 0.000218480281581113\n",
       "\\item 0.000185982602697643\n",
       "\\item 0.000158063634584704\n",
       "\\item 0.000134119408072841\n",
       "\\item 0.000113619214141325\n",
       "\\item 9.60976808666025e-05\n",
       "\\item 8.1147567150941e-05\n",
       "\\item 6.84132283812477e-05\n",
       "\\item 5.75847090191761e-05\n",
       "\\item 4.83924175403994e-05\n",
       "\\item 4.0602340016016e-05\n",
       "\\item 3.40117498938142e-05\n",
       "\\item 2.84453731014267e-05\n",
       "\\item 2.37519693979671e-05\n",
       "\\item 1.98012928798175e-05\n",
       "\\item 1.64813966461175e-05\n",
       "\\item 1.36962487990999e-05\n",
       "\\item 1.13636291616537e-05\n",
       "\\item 9.41327829429017e-06\n",
       "\\item 7.78527256184436e-06\n",
       "\\item 6.42860111821353e-06\n",
       "\\end{enumerate*}\n"
      ],
      "text/markdown": [
       "1. 1\n",
       "2. 1\n",
       "3. 1\n",
       "4. 1\n",
       "5. 1\n",
       "6. 1\n",
       "7. 1\n",
       "8. 1\n",
       "9. 1\n",
       "10. 1\n",
       "11. 1\n",
       "12. 1\n",
       "13. 1\n",
       "14. 1\n",
       "15. 1\n",
       "16. 1\n",
       "17. 1\n",
       "18. 1\n",
       "19. 1\n",
       "20. 1\n",
       "21. 1\n",
       "22. 1\n",
       "23. 1\n",
       "24. 1\n",
       "25. 1\n",
       "26. 1\n",
       "27. 1\n",
       "28. 1\n",
       "29. 1\n",
       "30. 1\n",
       "31. 1\n",
       "32. 1\n",
       "33. 1\n",
       "34. 1\n",
       "35. 1\n",
       "36. 1\n",
       "37. 1\n",
       "38. 1\n",
       "39. 1\n",
       "40. 1\n",
       "41. 1\n",
       "42. 1\n",
       "43. 1\n",
       "44. 1\n",
       "45. 1\n",
       "46. 1\n",
       "47. 1\n",
       "48. 1\n",
       "49. 1\n",
       "50. 1\n",
       "51. 1\n",
       "52. 1\n",
       "53. 1\n",
       "54. 1\n",
       "55. 1\n",
       "56. 1\n",
       "57. 1\n",
       "58. 1\n",
       "59. 1\n",
       "60. 1\n",
       "61. 1\n",
       "62. 1\n",
       "63. 1\n",
       "64. 1\n",
       "65. 1\n",
       "66. 1\n",
       "67. 1\n",
       "68. 1\n",
       "69. 1\n",
       "70. 1\n",
       "71. 1\n",
       "72. 1\n",
       "73. 1\n",
       "74. 1\n",
       "75. 1\n",
       "76. 1\n",
       "77. 1\n",
       "78. 1\n",
       "79. 1\n",
       "80. 1\n",
       "81. 1\n",
       "82. 1\n",
       "83. 1\n",
       "84. 1\n",
       "85. 1\n",
       "86. 1\n",
       "87. 1\n",
       "88. 1\n",
       "89. 1\n",
       "90. 1\n",
       "91. 1\n",
       "92. 1\n",
       "93. 1\n",
       "94. 1\n",
       "95. 1\n",
       "96. 1\n",
       "97. 1\n",
       "98. 1\n",
       "99. 1\n",
       "100. 1\n",
       "101. 1\n",
       "102. 1\n",
       "103. 1\n",
       "104. 1\n",
       "105. 1\n",
       "106. 1\n",
       "107. 1\n",
       "108. 1\n",
       "109. 1\n",
       "110. 1\n",
       "111. 1\n",
       "112. 1\n",
       "113. 1\n",
       "114. 1\n",
       "115. 1\n",
       "116. 1\n",
       "117. 1\n",
       "118. 1\n",
       "119. 1\n",
       "120. 1\n",
       "121. 1\n",
       "122. 1\n",
       "123. 1\n",
       "124. 1\n",
       "125. 1\n",
       "126. 1\n",
       "127. 1\n",
       "128. 1\n",
       "129. 1\n",
       "130. 1\n",
       "131. 1\n",
       "132. 1\n",
       "133. 1\n",
       "134. 1\n",
       "135. 1\n",
       "136. 1\n",
       "137. 1\n",
       "138. 1\n",
       "139. 1\n",
       "140. 1\n",
       "141. 1\n",
       "142. 1\n",
       "143. 1\n",
       "144. 1\n",
       "145. 1\n",
       "146. 1\n",
       "147. 1\n",
       "148. 1\n",
       "149. 1\n",
       "150. 1\n",
       "151. 1\n",
       "152. 1\n",
       "153. 1\n",
       "154. 1\n",
       "155. 1\n",
       "156. 1\n",
       "157. 1\n",
       "158. 1\n",
       "159. 1\n",
       "160. 1\n",
       "161. 1\n",
       "162. 1\n",
       "163. 1\n",
       "164. 1\n",
       "165. 1\n",
       "166. 1\n",
       "167. 1\n",
       "168. 1\n",
       "169. 1\n",
       "170. 1\n",
       "171. 1\n",
       "172. 1\n",
       "173. 1\n",
       "174. 1\n",
       "175. 1\n",
       "176. 1\n",
       "177. 1\n",
       "178. 1\n",
       "179. 1\n",
       "180. 1\n",
       "181. 1\n",
       "182. 1\n",
       "183. 1\n",
       "184. 1\n",
       "185. 1\n",
       "186. 1\n",
       "187. 1\n",
       "188. 1\n",
       "189. 1\n",
       "190. 1\n",
       "191. 1\n",
       "192. 1\n",
       "193. 1\n",
       "194. 1\n",
       "195. 1\n",
       "196. 1\n",
       "197. 1\n",
       "198. 1\n",
       "199. 1\n",
       "200. 1\n",
       "201. ...\n",
       "202. 0.99999738466557\n",
       "203. 0.99999671645062\n",
       "204. 0.999995887399813\n",
       "205. 0.999994861346835\n",
       "206. 0.999993594614762\n",
       "207. 0.999992034599895\n",
       "208. 0.999990118119714\n",
       "209. 0.999987769492041\n",
       "210. 0.999984898309067\n",
       "211. 0.999981396866415\n",
       "212. 0.999977137203822\n",
       "213. 0.999971967710384\n",
       "214. 0.999965709243752\n",
       "215. 0.999958150709172\n",
       "216. 0.999949044041004\n",
       "217. 0.999938098526379\n",
       "218. 0.999924974408123\n",
       "219. 0.999909275702075\n",
       "220. 0.999890542162638\n",
       "221. 0.999868240329976\n",
       "222. 0.999841753592847\n",
       "223. 0.999810371202884\n",
       "224. 0.999773276179286\n",
       "225. 0.999729532047686\n",
       "226. 0.99967806836345\n",
       "227. 0.999617664978197\n",
       "228. 0.999546935018884\n",
       "229. 0.999464306561743\n",
       "230. 0.999368002998641\n",
       "231. 0.999256022111313\n",
       "232. 0.999126113889356\n",
       "233. 0.998975757150979\n",
       "234. 0.998802135051236\n",
       "235. 0.998602109590703\n",
       "236. 0.998372195268252\n",
       "237. 0.998108532054431\n",
       "238. 0.997806857896742\n",
       "239. 0.997462481004402\n",
       "240. 0.997070252197637\n",
       "241. 0.996624537644495\n",
       "242. 0.996119192346148\n",
       "243. 0.995547534768833\n",
       "244. 0.994902323056287\n",
       "245. 0.994175733289907\n",
       "246. 0.993359340293974\n",
       "247. 0.992444101509296\n",
       "248. 0.991420344479454\n",
       "249. 0.990277758508649\n",
       "250. 0.989005391057864\n",
       "251. 0.987591649445881\n",
       "252. 0.98602430841264\n",
       "253. 0.984290524083833\n",
       "254. 0.98237685484674\n",
       "255. 0.98026928960765\n",
       "256. 0.977953283850409\n",
       "257. 0.975413803853434\n",
       "258. 0.972635379349085\n",
       "259. 0.969602164824686\n",
       "260. 0.96629800956935\n",
       "261. 0.962706536465724\n",
       "262. 0.958811229411899\n",
       "263. 0.954595529137197\n",
       "264. 0.950042937047886\n",
       "265. 0.945137126606818\n",
       "266. 0.939862061616423\n",
       "267. 0.934202120639604\n",
       "268. 0.92814222666014\n",
       "269. 0.921667980955585\n",
       "270. 0.914765800033884\n",
       "271. 0.9074230543725\n",
       "272. 0.899628207598207\n",
       "273. 0.891370954659338\n",
       "274. 0.882642357472372\n",
       "275. 0.873434976473463\n",
       "276. 0.863742996474612\n",
       "277. 0.853562345215314\n",
       "278. 0.842890803014792\n",
       "279. 0.831728101968221\n",
       "280. 0.820076013193095\n",
       "281. 0.807938420719005\n",
       "282. 0.795321380725149\n",
       "283. 0.782233164963887\n",
       "284. 0.768684287364237\n",
       "285. 0.754687512984434\n",
       "286. 0.740257848675358\n",
       "287. 0.725412515024045\n",
       "288. 0.710170899365614\n",
       "289. 0.694554489879515\n",
       "290. 0.678586791018474\n",
       "291. 0.662293220752106\n",
       "292. 0.645700990338289\n",
       "293. 0.628838967560019\n",
       "294. 0.61173752458003\n",
       "295. 0.594428371766275\n",
       "296. 0.57694437902511\n",
       "297. 0.559319386342483\n",
       "298. 0.541588005374045\n",
       "299. 0.523785414040272\n",
       "300. 0.50594714617076\n",
       "301. 0.488108878301249\n",
       "302. 0.470306215756826\n",
       "303. 0.452574480154811\n",
       "304. 0.434948500431138\n",
       "305. 0.417462409435431\n",
       "306. 0.400149448053542\n",
       "307. 0.38304177870385\n",
       "308. 0.366170309917172\n",
       "309. 0.349564533552331\n",
       "310. 0.333252376023018\n",
       "311. 0.317260064719769\n",
       "312. 0.301612010607001\n",
       "313. 0.286330707762502\n",
       "314. 0.271436650409189\n",
       "315. 0.256948267769779\n",
       "316. 0.24288187685773\n",
       "317. 0.229251653105745\n",
       "318. 0.216069618529357\n",
       "319. 0.203345646930528\n",
       "320. 0.1910874854673\n",
       "321. 0.179300791752659\n",
       "322. 0.167989185500603\n",
       "323. 0.157154313611662\n",
       "324. 0.146795927484566\n",
       "325. 0.136911971256422\n",
       "326. 0.12749867961057\n",
       "327. 0.118550683749494\n",
       "328. 0.110061124109004\n",
       "329. 0.102021768388844\n",
       "330. 0.0944231334926617\n",
       "331. 0.0872546100056977\n",
       "332. 0.0805045878899123\n",
       "333. 0.0741605821419936\n",
       "334. 0.0682093572377548\n",
       "335. 0.0626370492749843\n",
       "336. 0.0574292848237968\n",
       "337. 0.052571295596943\n",
       "338. 0.0480480281603938\n",
       "339. 0.0438442480149018\n",
       "340. 0.0399446374903268\n",
       "341. 0.0363338870046093\n",
       "342. 0.0329967793468295\n",
       "343. 0.0299182667474018\n",
       "344. 0.0270835405969159\n",
       "345. 0.0244780937674252\n",
       "346. 0.0220877755752318\n",
       "347. 0.0198988395017947\n",
       "348. 0.017897983858799\n",
       "349. 0.0160723856443871\n",
       "350. 0.0144097278899135\n",
       "351. 0.012898220840392\n",
       "352. 0.0115266173471784\n",
       "353. 0.0102842228786877\n",
       "354. 0.00916090057444663\n",
       "355. 0.00814707178000518\n",
       "356. 0.00723371250573368\n",
       "357. 0.00641234625189235\n",
       "358. 0.00567503363623589\n",
       "359. 0.00501435924944693\n",
       "360. 0.00442341614856234\n",
       "361. 0.00389578837991544\n",
       "362. 0.00342553190162054\n",
       "363. 0.00300715425189191\n",
       "364. 0.00263559328410445\n",
       "365. 0.00230619526301645\n",
       "366. 0.00201469258948717\n",
       "367. 0.00175718139378978\n",
       "368. 0.00153009921063529\n",
       "369. 0.00133020292264707\n",
       "370. 0.00115454713355378\n",
       "371. 0.00100046310803337\n",
       "372. 0.000865538392166076\n",
       "373. 0.000747597206967376\n",
       "374. 0.000644681687596793\n",
       "375. 0.0005550340226399\n",
       "376. 0.000477079531372993\n",
       "377. 0.000409410702148283\n",
       "378. 0.000350772201953564\n",
       "379. 0.000300046855764236\n",
       "380. 0.000256242584443678\n",
       "381. 0.000218480281581113\n",
       "382. 0.000185982602697643\n",
       "383. 0.000158063634584704\n",
       "384. 0.000134119408072841\n",
       "385. 0.000113619214141325\n",
       "386. 9.60976808666025e-05\n",
       "387. 8.1147567150941e-05\n",
       "388. 6.84132283812477e-05\n",
       "389. 5.75847090191761e-05\n",
       "390. 4.83924175403994e-05\n",
       "391. 4.0602340016016e-05\n",
       "392. 3.40117498938142e-05\n",
       "393. 2.84453731014267e-05\n",
       "394. 2.37519693979671e-05\n",
       "395. 1.98012928798175e-05\n",
       "396. 1.64813966461175e-05\n",
       "397. 1.36962487990999e-05\n",
       "398. 1.13636291616537e-05\n",
       "399. 9.41327829429017e-06\n",
       "400. 7.78527256184436e-06\n",
       "401. 6.42860111821353e-06\n",
       "\n",
       "\n"
      ],
      "text/plain": [
       "  [1] 1.000000e+00 1.000000e+00 1.000000e+00 1.000000e+00 1.000000e+00\n",
       "  [6] 1.000000e+00 1.000000e+00 1.000000e+00 1.000000e+00 1.000000e+00\n",
       " [11] 1.000000e+00 1.000000e+00 1.000000e+00 1.000000e+00 1.000000e+00\n",
       " [16] 1.000000e+00 1.000000e+00 1.000000e+00 1.000000e+00 1.000000e+00\n",
       " [21] 1.000000e+00 1.000000e+00 1.000000e+00 1.000000e+00 1.000000e+00\n",
       " [26] 1.000000e+00 1.000000e+00 1.000000e+00 1.000000e+00 1.000000e+00\n",
       " [31] 1.000000e+00 1.000000e+00 1.000000e+00 1.000000e+00 1.000000e+00\n",
       " [36] 1.000000e+00 1.000000e+00 1.000000e+00 1.000000e+00 1.000000e+00\n",
       " [41] 1.000000e+00 1.000000e+00 1.000000e+00 1.000000e+00 1.000000e+00\n",
       " [46] 1.000000e+00 1.000000e+00 1.000000e+00 1.000000e+00 1.000000e+00\n",
       " [51] 1.000000e+00 1.000000e+00 1.000000e+00 1.000000e+00 1.000000e+00\n",
       " [56] 1.000000e+00 1.000000e+00 1.000000e+00 1.000000e+00 1.000000e+00\n",
       " [61] 1.000000e+00 1.000000e+00 1.000000e+00 1.000000e+00 1.000000e+00\n",
       " [66] 1.000000e+00 1.000000e+00 1.000000e+00 1.000000e+00 1.000000e+00\n",
       " [71] 1.000000e+00 1.000000e+00 1.000000e+00 1.000000e+00 1.000000e+00\n",
       " [76] 1.000000e+00 1.000000e+00 1.000000e+00 1.000000e+00 1.000000e+00\n",
       " [81] 1.000000e+00 1.000000e+00 1.000000e+00 1.000000e+00 1.000000e+00\n",
       " [86] 1.000000e+00 1.000000e+00 1.000000e+00 1.000000e+00 1.000000e+00\n",
       " [91] 1.000000e+00 1.000000e+00 1.000000e+00 1.000000e+00 1.000000e+00\n",
       " [96] 1.000000e+00 1.000000e+00 1.000000e+00 1.000000e+00 1.000000e+00\n",
       "[101] 1.000000e+00 1.000000e+00 1.000000e+00 1.000000e+00 1.000000e+00\n",
       "[106] 1.000000e+00 1.000000e+00 1.000000e+00 1.000000e+00 1.000000e+00\n",
       "[111] 1.000000e+00 1.000000e+00 1.000000e+00 1.000000e+00 1.000000e+00\n",
       "[116] 1.000000e+00 1.000000e+00 1.000000e+00 1.000000e+00 1.000000e+00\n",
       "[121] 1.000000e+00 1.000000e+00 1.000000e+00 1.000000e+00 1.000000e+00\n",
       "[126] 1.000000e+00 1.000000e+00 1.000000e+00 1.000000e+00 1.000000e+00\n",
       "[131] 1.000000e+00 1.000000e+00 1.000000e+00 1.000000e+00 1.000000e+00\n",
       "[136] 1.000000e+00 1.000000e+00 1.000000e+00 1.000000e+00 1.000000e+00\n",
       "[141] 1.000000e+00 1.000000e+00 1.000000e+00 1.000000e+00 1.000000e+00\n",
       "[146] 1.000000e+00 1.000000e+00 1.000000e+00 1.000000e+00 1.000000e+00\n",
       "[151] 1.000000e+00 1.000000e+00 1.000000e+00 1.000000e+00 1.000000e+00\n",
       "[156] 1.000000e+00 1.000000e+00 1.000000e+00 1.000000e+00 1.000000e+00\n",
       "[161] 1.000000e+00 1.000000e+00 1.000000e+00 1.000000e+00 1.000000e+00\n",
       "[166] 1.000000e+00 1.000000e+00 1.000000e+00 1.000000e+00 1.000000e+00\n",
       "[171] 1.000000e+00 1.000000e+00 1.000000e+00 1.000000e+00 1.000000e+00\n",
       "[176] 1.000000e+00 1.000000e+00 1.000000e+00 1.000000e+00 1.000000e+00\n",
       "[181] 1.000000e+00 1.000000e+00 1.000000e+00 1.000000e+00 1.000000e+00\n",
       "[186] 1.000000e+00 1.000000e+00 1.000000e+00 1.000000e+00 1.000000e+00\n",
       "[191] 1.000000e+00 1.000000e+00 1.000000e+00 1.000000e+00 1.000000e+00\n",
       "[196] 1.000000e+00 1.000000e+00 1.000000e+00 1.000000e+00 1.000000e+00\n",
       "[201] 1.000000e+00 1.000000e+00 1.000000e+00 1.000000e+00 1.000000e+00\n",
       "[206] 1.000000e+00 1.000000e+00 1.000000e+00 1.000000e+00 1.000000e+00\n",
       "[211] 1.000000e+00 1.000000e+00 1.000000e+00 1.000000e+00 1.000000e+00\n",
       "[216] 1.000000e+00 1.000000e+00 1.000000e+00 1.000000e+00 1.000000e+00\n",
       "[221] 1.000000e+00 1.000000e+00 1.000000e+00 1.000000e+00 1.000000e+00\n",
       "[226] 1.000000e+00 1.000000e+00 1.000000e+00 1.000000e+00 1.000000e+00\n",
       "[231] 1.000000e+00 1.000000e+00 1.000000e+00 1.000000e+00 1.000000e+00\n",
       "[236] 1.000000e+00 1.000000e+00 1.000000e+00 1.000000e+00 1.000000e+00\n",
       "[241] 1.000000e+00 1.000000e+00 1.000000e+00 1.000000e+00 1.000000e+00\n",
       "[246] 1.000000e+00 1.000000e+00 1.000000e+00 1.000000e+00 1.000000e+00\n",
       "[251] 1.000000e+00 1.000000e+00 1.000000e+00 1.000000e+00 1.000000e+00\n",
       "[256] 1.000000e+00 1.000000e+00 1.000000e+00 1.000000e+00 1.000000e+00\n",
       "[261] 1.000000e+00 1.000000e+00 1.000000e+00 1.000000e+00 1.000000e+00\n",
       "[266] 1.000000e+00 1.000000e+00 1.000000e+00 1.000000e+00 1.000000e+00\n",
       "[271] 1.000000e+00 1.000000e+00 1.000000e+00 1.000000e+00 1.000000e+00\n",
       "[276] 1.000000e+00 1.000000e+00 1.000000e+00 1.000000e+00 1.000000e+00\n",
       "[281] 1.000000e+00 1.000000e+00 1.000000e+00 1.000000e+00 1.000000e+00\n",
       "[286] 1.000000e+00 1.000000e+00 1.000000e+00 1.000000e+00 1.000000e+00\n",
       "[291] 1.000000e+00 1.000000e+00 1.000000e+00 1.000000e+00 1.000000e+00\n",
       "[296] 1.000000e+00 1.000000e+00 1.000000e+00 1.000000e+00 1.000000e+00\n",
       "[301] 1.000000e+00 1.000000e+00 1.000000e+00 1.000000e+00 1.000000e+00\n",
       "[306] 1.000000e+00 1.000000e+00 1.000000e+00 1.000000e+00 1.000000e+00\n",
       "[311] 1.000000e+00 1.000000e+00 1.000000e+00 1.000000e+00 1.000000e+00\n",
       "[316] 1.000000e+00 1.000000e+00 1.000000e+00 1.000000e+00 1.000000e+00\n",
       "[321] 1.000000e+00 1.000000e+00 1.000000e+00 1.000000e+00 1.000000e+00\n",
       "[326] 1.000000e+00 1.000000e+00 1.000000e+00 1.000000e+00 1.000000e+00\n",
       "[331] 1.000000e+00 1.000000e+00 1.000000e+00 1.000000e+00 1.000000e+00\n",
       "[336] 1.000000e+00 1.000000e+00 1.000000e+00 1.000000e+00 1.000000e+00\n",
       "[341] 1.000000e+00 1.000000e+00 1.000000e+00 1.000000e+00 1.000000e+00\n",
       "[346] 1.000000e+00 1.000000e+00 1.000000e+00 1.000000e+00 1.000000e+00\n",
       "[351] 1.000000e+00 1.000000e+00 1.000000e+00 1.000000e+00 1.000000e+00\n",
       "[356] 1.000000e+00 1.000000e+00 1.000000e+00 1.000000e+00 1.000000e+00\n",
       "[361] 1.000000e+00 1.000000e+00 1.000000e+00 1.000000e+00 1.000000e+00\n",
       "[366] 1.000000e+00 1.000000e+00 1.000000e+00 1.000000e+00 1.000000e+00\n",
       "[371] 1.000000e+00 1.000000e+00 1.000000e+00 1.000000e+00 1.000000e+00\n",
       "[376] 1.000000e+00 1.000000e+00 1.000000e+00 1.000000e+00 1.000000e+00\n",
       "[381] 1.000000e+00 1.000000e+00 1.000000e+00 1.000000e+00 1.000000e+00\n",
       "[386] 1.000000e+00 9.999999e-01 9.999999e-01 9.999999e-01 9.999999e-01\n",
       "[391] 9.999998e-01 9.999998e-01 9.999997e-01 9.999996e-01 9.999995e-01\n",
       "[396] 9.999994e-01 9.999992e-01 9.999990e-01 9.999987e-01 9.999984e-01\n",
       "[401] 9.999979e-01 9.999974e-01 9.999967e-01 9.999959e-01 9.999949e-01\n",
       "[406] 9.999936e-01 9.999920e-01 9.999901e-01 9.999878e-01 9.999849e-01\n",
       "[411] 9.999814e-01 9.999771e-01 9.999720e-01 9.999657e-01 9.999582e-01\n",
       "[416] 9.999490e-01 9.999381e-01 9.999250e-01 9.999093e-01 9.998905e-01\n",
       "[421] 9.998682e-01 9.998418e-01 9.998104e-01 9.997733e-01 9.997295e-01\n",
       "[426] 9.996781e-01 9.996177e-01 9.995469e-01 9.994643e-01 9.993680e-01\n",
       "[431] 9.992560e-01 9.991261e-01 9.989758e-01 9.988021e-01 9.986021e-01\n",
       "[436] 9.983722e-01 9.981085e-01 9.978069e-01 9.974625e-01 9.970703e-01\n",
       "[441] 9.966245e-01 9.961192e-01 9.955475e-01 9.949023e-01 9.941757e-01\n",
       "[446] 9.933593e-01 9.924441e-01 9.914203e-01 9.902778e-01 9.890054e-01\n",
       "[451] 9.875916e-01 9.860243e-01 9.842905e-01 9.823769e-01 9.802693e-01\n",
       "[456] 9.779533e-01 9.754138e-01 9.726354e-01 9.696022e-01 9.662980e-01\n",
       "[461] 9.627065e-01 9.588112e-01 9.545955e-01 9.500429e-01 9.451371e-01\n",
       "[466] 9.398621e-01 9.342021e-01 9.281422e-01 9.216680e-01 9.147658e-01\n",
       "[471] 9.074231e-01 8.996282e-01 8.913710e-01 8.826424e-01 8.734350e-01\n",
       "[476] 8.637430e-01 8.535623e-01 8.428908e-01 8.317281e-01 8.200760e-01\n",
       "[481] 8.079384e-01 7.953214e-01 7.822332e-01 7.686843e-01 7.546875e-01\n",
       "[486] 7.402578e-01 7.254125e-01 7.101709e-01 6.945545e-01 6.785868e-01\n",
       "[491] 6.622932e-01 6.457010e-01 6.288390e-01 6.117375e-01 5.944284e-01\n",
       "[496] 5.769444e-01 5.593194e-01 5.415880e-01 5.237854e-01 5.059471e-01\n",
       "[501] 4.881089e-01 4.703062e-01 4.525745e-01 4.349485e-01 4.174624e-01\n",
       "[506] 4.001494e-01 3.830418e-01 3.661703e-01 3.495645e-01 3.332524e-01\n",
       "[511] 3.172601e-01 3.016120e-01 2.863307e-01 2.714367e-01 2.569483e-01\n",
       "[516] 2.428819e-01 2.292517e-01 2.160696e-01 2.033456e-01 1.910875e-01\n",
       "[521] 1.793008e-01 1.679892e-01 1.571543e-01 1.467959e-01 1.369120e-01\n",
       "[526] 1.274987e-01 1.185507e-01 1.100611e-01 1.020218e-01 9.442313e-02\n",
       "[531] 8.725461e-02 8.050459e-02 7.416058e-02 6.820936e-02 6.263705e-02\n",
       "[536] 5.742928e-02 5.257130e-02 4.804803e-02 4.384425e-02 3.994464e-02\n",
       "[541] 3.633389e-02 3.299678e-02 2.991827e-02 2.708354e-02 2.447809e-02\n",
       "[546] 2.208778e-02 1.989884e-02 1.789798e-02 1.607239e-02 1.440973e-02\n",
       "[551] 1.289822e-02 1.152662e-02 1.028422e-02 9.160901e-03 8.147072e-03\n",
       "[556] 7.233713e-03 6.412346e-03 5.675034e-03 5.014359e-03 4.423416e-03\n",
       "[561] 3.895788e-03 3.425532e-03 3.007154e-03 2.635593e-03 2.306195e-03\n",
       "[566] 2.014693e-03 1.757181e-03 1.530099e-03 1.330203e-03 1.154547e-03\n",
       "[571] 1.000463e-03 8.655384e-04 7.475972e-04 6.446817e-04 5.550340e-04\n",
       "[576] 4.770795e-04 4.094107e-04 3.507722e-04 3.000469e-04 2.562426e-04\n",
       "[581] 2.184803e-04 1.859826e-04 1.580636e-04 1.341194e-04 1.136192e-04\n",
       "[586] 9.609768e-05 8.114757e-05 6.841323e-05 5.758471e-05 4.839242e-05\n",
       "[591] 4.060234e-05 3.401175e-05 2.844537e-05 2.375197e-05 1.980129e-05\n",
       "[596] 1.648140e-05 1.369625e-05 1.136363e-05 9.413278e-06 7.785273e-06\n",
       "[601] 6.428601e-06"
      ]
     },
     "metadata": {},
     "output_type": "display_data"
    }
   ],
   "source": [
    "1 - ppois(0:600,500)"
   ]
  },
  {
   "cell_type": "code",
   "execution_count": null,
   "metadata": {},
   "outputs": [],
   "source": [
    "Q. 8 The average number of particles radiated out of an experiment is 500 per second  find the probability that more than 500 particles get radiated within in 1 seconds"
   ]
  },
  {
   "cell_type": "code",
   "execution_count": 20,
   "metadata": {},
   "outputs": [
    {
     "data": {
      "text/html": [
       "<style>\n",
       ".list-inline {list-style: none; margin:0; padding: 0}\n",
       ".list-inline>li {display: inline-block}\n",
       ".list-inline>li:not(:last-child)::after {content: \"\\00b7\"; padding: 0 .5ex}\n",
       "</style>\n",
       "<ol class=list-inline><li>1</li><li>1</li><li>1</li><li>1</li><li>1</li><li>1</li><li>1</li><li>1</li><li>1</li><li>1</li><li>1</li><li>1</li><li>1</li><li>1</li><li>1</li><li>1</li><li>1</li><li>1</li><li>1</li><li>1</li><li>1</li><li>1</li><li>1</li><li>1</li><li>1</li><li>1</li><li>1</li><li>1</li><li>1</li><li>1</li><li>1</li><li>1</li><li>1</li><li>1</li><li>1</li><li>1</li><li>1</li><li>1</li><li>1</li><li>1</li><li>1</li><li>1</li><li>1</li><li>1</li><li>1</li><li>1</li><li>1</li><li>1</li><li>1</li><li>1</li><li>1</li><li>1</li><li>1</li><li>1</li><li>1</li><li>1</li><li>1</li><li>1</li><li>1</li><li>1</li><li>1</li><li>1</li><li>1</li><li>1</li><li>1</li><li>1</li><li>1</li><li>1</li><li>1</li><li>1</li><li>1</li><li>1</li><li>1</li><li>1</li><li>1</li><li>1</li><li>1</li><li>1</li><li>1</li><li>1</li><li>1</li><li>1</li><li>1</li><li>1</li><li>1</li><li>1</li><li>1</li><li>1</li><li>1</li><li>1</li><li>1</li><li>1</li><li>1</li><li>1</li><li>1</li><li>1</li><li>1</li><li>1</li><li>1</li><li>1</li><li>1</li><li>1</li><li>1</li><li>1</li><li>1</li><li>1</li><li>1</li><li>1</li><li>1</li><li>1</li><li>1</li><li>1</li><li>1</li><li>1</li><li>1</li><li>1</li><li>1</li><li>1</li><li>1</li><li>1</li><li>1</li><li>1</li><li>1</li><li>1</li><li>1</li><li>1</li><li>1</li><li>1</li><li>1</li><li>1</li><li>1</li><li>1</li><li>1</li><li>1</li><li>1</li><li>1</li><li>1</li><li>1</li><li>1</li><li>1</li><li>1</li><li>1</li><li>1</li><li>1</li><li>1</li><li>1</li><li>1</li><li>1</li><li>1</li><li>1</li><li>1</li><li>1</li><li>1</li><li>1</li><li>1</li><li>1</li><li>1</li><li>1</li><li>1</li><li>1</li><li>1</li><li>1</li><li>1</li><li>1</li><li>1</li><li>1</li><li>1</li><li>1</li><li>1</li><li>1</li><li>1</li><li>1</li><li>1</li><li>1</li><li>1</li><li>1</li><li>1</li><li>1</li><li>1</li><li>1</li><li>1</li><li>1</li><li>1</li><li>1</li><li>1</li><li>1</li><li>1</li><li>1</li><li>1</li><li>1</li><li>1</li><li>1</li><li>1</li><li>1</li><li>1</li><li>1</li><li>1</li><li>1</li><li>1</li><li>1</li><li>...</li><li>1</li><li>1</li><li>1</li><li>1</li><li>1</li><li>1</li><li>1</li><li>1</li><li>1</li><li>1</li><li>1</li><li>1</li><li>1</li><li>1</li><li>1</li><li>1</li><li>1</li><li>1</li><li>1</li><li>1</li><li>1</li><li>1</li><li>1</li><li>1</li><li>1</li><li>1</li><li>1</li><li>1</li><li>1</li><li>1</li><li>0.999999999999999</li><li>0.999999999999999</li><li>0.999999999999999</li><li>0.999999999999998</li><li>0.999999999999997</li><li>0.999999999999996</li><li>0.999999999999994</li><li>0.999999999999991</li><li>0.999999999999987</li><li>0.999999999999981</li><li>0.999999999999972</li><li>0.999999999999958</li><li>0.999999999999939</li><li>0.99999999999991</li><li>0.999999999999869</li><li>0.99999999999981</li><li>0.999999999999725</li><li>0.999999999999602</li><li>0.999999999999426</li><li>0.999999999999174</li><li>0.999999999998816</li><li>0.999999999998308</li><li>0.999999999997587</li><li>0.99999999999657</li><li>0.999999999995137</li><li>0.999999999993124</li><li>0.999999999990305</li><li>0.999999999986368</li><li>0.999999999980884</li><li>0.999999999973268</li><li>0.999999999962719</li><li>0.99999999994815</li><li>0.999999999928081</li><li>0.999999999900514</li><li>0.999999999862751</li><li>0.999999999811162</li><li>0.999999999740878</li><li>0.999999999645383</li><li>0.999999999515986</li><li>0.999999999341125</li><li>0.999999999105464</li><li>0.999999998788715</li><li>0.999999998364118</li><li>0.999999997796475</li><li>0.999999997039618</li><li>0.999999996033159</li><li>0.999999994698333</li><li>0.999999992932689</li><li>0.999999990603345</li><li>0.999999987538418</li><li>0.999999983516204</li><li>0.999999978251526</li><li>0.999999971378579</li><li>0.999999962429428</li><li>0.999999950807155</li><li>0.999999935752396</li><li>0.999999916301804</li><li>0.999999891236608</li><li>0.999999859019133</li><li>0.999999817714677</li><li>0.999999764895679</li><li>0.999999697524509</li><li>0.999999611810553</li><li>0.999999503036496</li><li>0.999999365347816</li><li>0.999999191498473</li><li>0.999998972544641</li><li>0.999998697477012</li><li>0.999998352780736</li><li>0.99999792191039</li><li>0.99999738466557</li><li>0.99999671645062</li><li>0.999995887399813</li><li>0.999994861346835</li><li>0.999993594614762</li><li>0.999992034599895</li><li>0.999990118119714</li><li>0.999987769492041</li><li>0.999984898309067</li><li>0.999981396866415</li><li>0.999977137203822</li><li>0.999971967710384</li><li>0.999965709243752</li><li>0.999958150709172</li><li>0.999949044041004</li><li>0.999938098526379</li><li>0.999924974408123</li><li>0.999909275702075</li><li>0.999890542162638</li><li>0.999868240329976</li><li>0.999841753592847</li><li>0.999810371202884</li><li>0.999773276179286</li><li>0.999729532047686</li><li>0.99967806836345</li><li>0.999617664978197</li><li>0.999546935018884</li><li>0.999464306561743</li><li>0.999368002998641</li><li>0.999256022111313</li><li>0.999126113889356</li><li>0.998975757150979</li><li>0.998802135051236</li><li>0.998602109590703</li><li>0.998372195268252</li><li>0.998108532054431</li><li>0.997806857896742</li><li>0.997462481004402</li><li>0.997070252197637</li><li>0.996624537644495</li><li>0.996119192346148</li><li>0.995547534768833</li><li>0.994902323056287</li><li>0.994175733289907</li><li>0.993359340293974</li><li>0.992444101509296</li><li>0.991420344479454</li><li>0.990277758508649</li><li>0.989005391057864</li><li>0.987591649445881</li><li>0.98602430841264</li><li>0.984290524083833</li><li>0.98237685484674</li><li>0.98026928960765</li><li>0.977953283850409</li><li>0.975413803853434</li><li>0.972635379349085</li><li>0.969602164824686</li><li>0.96629800956935</li><li>0.962706536465724</li><li>0.958811229411899</li><li>0.954595529137197</li><li>0.950042937047886</li><li>0.945137126606818</li><li>0.939862061616423</li><li>0.934202120639604</li><li>0.92814222666014</li><li>0.921667980955585</li><li>0.914765800033884</li><li>0.9074230543725</li><li>0.899628207598207</li><li>0.891370954659338</li><li>0.882642357472372</li><li>0.873434976473463</li><li>0.863742996474612</li><li>0.853562345215314</li><li>0.842890803014792</li><li>0.831728101968221</li><li>0.820076013193095</li><li>0.807938420719005</li><li>0.795321380725149</li><li>0.782233164963887</li><li>0.768684287364237</li><li>0.754687512984434</li><li>0.740257848675358</li><li>0.725412515024045</li><li>0.710170899365614</li><li>0.694554489879515</li><li>0.678586791018474</li><li>0.662293220752106</li><li>0.645700990338289</li><li>0.628838967560019</li><li>0.61173752458003</li><li>0.594428371766275</li><li>0.57694437902511</li><li>0.559319386342483</li><li>0.541588005374045</li><li>0.523785414040272</li><li>0.50594714617076</li><li>0.488108878301249</li></ol>\n"
      ],
      "text/latex": [
       "\\begin{enumerate*}\n",
       "\\item 1\n",
       "\\item 1\n",
       "\\item 1\n",
       "\\item 1\n",
       "\\item 1\n",
       "\\item 1\n",
       "\\item 1\n",
       "\\item 1\n",
       "\\item 1\n",
       "\\item 1\n",
       "\\item 1\n",
       "\\item 1\n",
       "\\item 1\n",
       "\\item 1\n",
       "\\item 1\n",
       "\\item 1\n",
       "\\item 1\n",
       "\\item 1\n",
       "\\item 1\n",
       "\\item 1\n",
       "\\item 1\n",
       "\\item 1\n",
       "\\item 1\n",
       "\\item 1\n",
       "\\item 1\n",
       "\\item 1\n",
       "\\item 1\n",
       "\\item 1\n",
       "\\item 1\n",
       "\\item 1\n",
       "\\item 1\n",
       "\\item 1\n",
       "\\item 1\n",
       "\\item 1\n",
       "\\item 1\n",
       "\\item 1\n",
       "\\item 1\n",
       "\\item 1\n",
       "\\item 1\n",
       "\\item 1\n",
       "\\item 1\n",
       "\\item 1\n",
       "\\item 1\n",
       "\\item 1\n",
       "\\item 1\n",
       "\\item 1\n",
       "\\item 1\n",
       "\\item 1\n",
       "\\item 1\n",
       "\\item 1\n",
       "\\item 1\n",
       "\\item 1\n",
       "\\item 1\n",
       "\\item 1\n",
       "\\item 1\n",
       "\\item 1\n",
       "\\item 1\n",
       "\\item 1\n",
       "\\item 1\n",
       "\\item 1\n",
       "\\item 1\n",
       "\\item 1\n",
       "\\item 1\n",
       "\\item 1\n",
       "\\item 1\n",
       "\\item 1\n",
       "\\item 1\n",
       "\\item 1\n",
       "\\item 1\n",
       "\\item 1\n",
       "\\item 1\n",
       "\\item 1\n",
       "\\item 1\n",
       "\\item 1\n",
       "\\item 1\n",
       "\\item 1\n",
       "\\item 1\n",
       "\\item 1\n",
       "\\item 1\n",
       "\\item 1\n",
       "\\item 1\n",
       "\\item 1\n",
       "\\item 1\n",
       "\\item 1\n",
       "\\item 1\n",
       "\\item 1\n",
       "\\item 1\n",
       "\\item 1\n",
       "\\item 1\n",
       "\\item 1\n",
       "\\item 1\n",
       "\\item 1\n",
       "\\item 1\n",
       "\\item 1\n",
       "\\item 1\n",
       "\\item 1\n",
       "\\item 1\n",
       "\\item 1\n",
       "\\item 1\n",
       "\\item 1\n",
       "\\item 1\n",
       "\\item 1\n",
       "\\item 1\n",
       "\\item 1\n",
       "\\item 1\n",
       "\\item 1\n",
       "\\item 1\n",
       "\\item 1\n",
       "\\item 1\n",
       "\\item 1\n",
       "\\item 1\n",
       "\\item 1\n",
       "\\item 1\n",
       "\\item 1\n",
       "\\item 1\n",
       "\\item 1\n",
       "\\item 1\n",
       "\\item 1\n",
       "\\item 1\n",
       "\\item 1\n",
       "\\item 1\n",
       "\\item 1\n",
       "\\item 1\n",
       "\\item 1\n",
       "\\item 1\n",
       "\\item 1\n",
       "\\item 1\n",
       "\\item 1\n",
       "\\item 1\n",
       "\\item 1\n",
       "\\item 1\n",
       "\\item 1\n",
       "\\item 1\n",
       "\\item 1\n",
       "\\item 1\n",
       "\\item 1\n",
       "\\item 1\n",
       "\\item 1\n",
       "\\item 1\n",
       "\\item 1\n",
       "\\item 1\n",
       "\\item 1\n",
       "\\item 1\n",
       "\\item 1\n",
       "\\item 1\n",
       "\\item 1\n",
       "\\item 1\n",
       "\\item 1\n",
       "\\item 1\n",
       "\\item 1\n",
       "\\item 1\n",
       "\\item 1\n",
       "\\item 1\n",
       "\\item 1\n",
       "\\item 1\n",
       "\\item 1\n",
       "\\item 1\n",
       "\\item 1\n",
       "\\item 1\n",
       "\\item 1\n",
       "\\item 1\n",
       "\\item 1\n",
       "\\item 1\n",
       "\\item 1\n",
       "\\item 1\n",
       "\\item 1\n",
       "\\item 1\n",
       "\\item 1\n",
       "\\item 1\n",
       "\\item 1\n",
       "\\item 1\n",
       "\\item 1\n",
       "\\item 1\n",
       "\\item 1\n",
       "\\item 1\n",
       "\\item 1\n",
       "\\item 1\n",
       "\\item 1\n",
       "\\item 1\n",
       "\\item 1\n",
       "\\item 1\n",
       "\\item 1\n",
       "\\item 1\n",
       "\\item 1\n",
       "\\item 1\n",
       "\\item 1\n",
       "\\item 1\n",
       "\\item 1\n",
       "\\item 1\n",
       "\\item 1\n",
       "\\item 1\n",
       "\\item 1\n",
       "\\item 1\n",
       "\\item 1\n",
       "\\item 1\n",
       "\\item 1\n",
       "\\item 1\n",
       "\\item 1\n",
       "\\item 1\n",
       "\\item 1\n",
       "\\item ...\n",
       "\\item 1\n",
       "\\item 1\n",
       "\\item 1\n",
       "\\item 1\n",
       "\\item 1\n",
       "\\item 1\n",
       "\\item 1\n",
       "\\item 1\n",
       "\\item 1\n",
       "\\item 1\n",
       "\\item 1\n",
       "\\item 1\n",
       "\\item 1\n",
       "\\item 1\n",
       "\\item 1\n",
       "\\item 1\n",
       "\\item 1\n",
       "\\item 1\n",
       "\\item 1\n",
       "\\item 1\n",
       "\\item 1\n",
       "\\item 1\n",
       "\\item 1\n",
       "\\item 1\n",
       "\\item 1\n",
       "\\item 1\n",
       "\\item 1\n",
       "\\item 1\n",
       "\\item 1\n",
       "\\item 1\n",
       "\\item 0.999999999999999\n",
       "\\item 0.999999999999999\n",
       "\\item 0.999999999999999\n",
       "\\item 0.999999999999998\n",
       "\\item 0.999999999999997\n",
       "\\item 0.999999999999996\n",
       "\\item 0.999999999999994\n",
       "\\item 0.999999999999991\n",
       "\\item 0.999999999999987\n",
       "\\item 0.999999999999981\n",
       "\\item 0.999999999999972\n",
       "\\item 0.999999999999958\n",
       "\\item 0.999999999999939\n",
       "\\item 0.99999999999991\n",
       "\\item 0.999999999999869\n",
       "\\item 0.99999999999981\n",
       "\\item 0.999999999999725\n",
       "\\item 0.999999999999602\n",
       "\\item 0.999999999999426\n",
       "\\item 0.999999999999174\n",
       "\\item 0.999999999998816\n",
       "\\item 0.999999999998308\n",
       "\\item 0.999999999997587\n",
       "\\item 0.99999999999657\n",
       "\\item 0.999999999995137\n",
       "\\item 0.999999999993124\n",
       "\\item 0.999999999990305\n",
       "\\item 0.999999999986368\n",
       "\\item 0.999999999980884\n",
       "\\item 0.999999999973268\n",
       "\\item 0.999999999962719\n",
       "\\item 0.99999999994815\n",
       "\\item 0.999999999928081\n",
       "\\item 0.999999999900514\n",
       "\\item 0.999999999862751\n",
       "\\item 0.999999999811162\n",
       "\\item 0.999999999740878\n",
       "\\item 0.999999999645383\n",
       "\\item 0.999999999515986\n",
       "\\item 0.999999999341125\n",
       "\\item 0.999999999105464\n",
       "\\item 0.999999998788715\n",
       "\\item 0.999999998364118\n",
       "\\item 0.999999997796475\n",
       "\\item 0.999999997039618\n",
       "\\item 0.999999996033159\n",
       "\\item 0.999999994698333\n",
       "\\item 0.999999992932689\n",
       "\\item 0.999999990603345\n",
       "\\item 0.999999987538418\n",
       "\\item 0.999999983516204\n",
       "\\item 0.999999978251526\n",
       "\\item 0.999999971378579\n",
       "\\item 0.999999962429428\n",
       "\\item 0.999999950807155\n",
       "\\item 0.999999935752396\n",
       "\\item 0.999999916301804\n",
       "\\item 0.999999891236608\n",
       "\\item 0.999999859019133\n",
       "\\item 0.999999817714677\n",
       "\\item 0.999999764895679\n",
       "\\item 0.999999697524509\n",
       "\\item 0.999999611810553\n",
       "\\item 0.999999503036496\n",
       "\\item 0.999999365347816\n",
       "\\item 0.999999191498473\n",
       "\\item 0.999998972544641\n",
       "\\item 0.999998697477012\n",
       "\\item 0.999998352780736\n",
       "\\item 0.99999792191039\n",
       "\\item 0.99999738466557\n",
       "\\item 0.99999671645062\n",
       "\\item 0.999995887399813\n",
       "\\item 0.999994861346835\n",
       "\\item 0.999993594614762\n",
       "\\item 0.999992034599895\n",
       "\\item 0.999990118119714\n",
       "\\item 0.999987769492041\n",
       "\\item 0.999984898309067\n",
       "\\item 0.999981396866415\n",
       "\\item 0.999977137203822\n",
       "\\item 0.999971967710384\n",
       "\\item 0.999965709243752\n",
       "\\item 0.999958150709172\n",
       "\\item 0.999949044041004\n",
       "\\item 0.999938098526379\n",
       "\\item 0.999924974408123\n",
       "\\item 0.999909275702075\n",
       "\\item 0.999890542162638\n",
       "\\item 0.999868240329976\n",
       "\\item 0.999841753592847\n",
       "\\item 0.999810371202884\n",
       "\\item 0.999773276179286\n",
       "\\item 0.999729532047686\n",
       "\\item 0.99967806836345\n",
       "\\item 0.999617664978197\n",
       "\\item 0.999546935018884\n",
       "\\item 0.999464306561743\n",
       "\\item 0.999368002998641\n",
       "\\item 0.999256022111313\n",
       "\\item 0.999126113889356\n",
       "\\item 0.998975757150979\n",
       "\\item 0.998802135051236\n",
       "\\item 0.998602109590703\n",
       "\\item 0.998372195268252\n",
       "\\item 0.998108532054431\n",
       "\\item 0.997806857896742\n",
       "\\item 0.997462481004402\n",
       "\\item 0.997070252197637\n",
       "\\item 0.996624537644495\n",
       "\\item 0.996119192346148\n",
       "\\item 0.995547534768833\n",
       "\\item 0.994902323056287\n",
       "\\item 0.994175733289907\n",
       "\\item 0.993359340293974\n",
       "\\item 0.992444101509296\n",
       "\\item 0.991420344479454\n",
       "\\item 0.990277758508649\n",
       "\\item 0.989005391057864\n",
       "\\item 0.987591649445881\n",
       "\\item 0.98602430841264\n",
       "\\item 0.984290524083833\n",
       "\\item 0.98237685484674\n",
       "\\item 0.98026928960765\n",
       "\\item 0.977953283850409\n",
       "\\item 0.975413803853434\n",
       "\\item 0.972635379349085\n",
       "\\item 0.969602164824686\n",
       "\\item 0.96629800956935\n",
       "\\item 0.962706536465724\n",
       "\\item 0.958811229411899\n",
       "\\item 0.954595529137197\n",
       "\\item 0.950042937047886\n",
       "\\item 0.945137126606818\n",
       "\\item 0.939862061616423\n",
       "\\item 0.934202120639604\n",
       "\\item 0.92814222666014\n",
       "\\item 0.921667980955585\n",
       "\\item 0.914765800033884\n",
       "\\item 0.9074230543725\n",
       "\\item 0.899628207598207\n",
       "\\item 0.891370954659338\n",
       "\\item 0.882642357472372\n",
       "\\item 0.873434976473463\n",
       "\\item 0.863742996474612\n",
       "\\item 0.853562345215314\n",
       "\\item 0.842890803014792\n",
       "\\item 0.831728101968221\n",
       "\\item 0.820076013193095\n",
       "\\item 0.807938420719005\n",
       "\\item 0.795321380725149\n",
       "\\item 0.782233164963887\n",
       "\\item 0.768684287364237\n",
       "\\item 0.754687512984434\n",
       "\\item 0.740257848675358\n",
       "\\item 0.725412515024045\n",
       "\\item 0.710170899365614\n",
       "\\item 0.694554489879515\n",
       "\\item 0.678586791018474\n",
       "\\item 0.662293220752106\n",
       "\\item 0.645700990338289\n",
       "\\item 0.628838967560019\n",
       "\\item 0.61173752458003\n",
       "\\item 0.594428371766275\n",
       "\\item 0.57694437902511\n",
       "\\item 0.559319386342483\n",
       "\\item 0.541588005374045\n",
       "\\item 0.523785414040272\n",
       "\\item 0.50594714617076\n",
       "\\item 0.488108878301249\n",
       "\\end{enumerate*}\n"
      ],
      "text/markdown": [
       "1. 1\n",
       "2. 1\n",
       "3. 1\n",
       "4. 1\n",
       "5. 1\n",
       "6. 1\n",
       "7. 1\n",
       "8. 1\n",
       "9. 1\n",
       "10. 1\n",
       "11. 1\n",
       "12. 1\n",
       "13. 1\n",
       "14. 1\n",
       "15. 1\n",
       "16. 1\n",
       "17. 1\n",
       "18. 1\n",
       "19. 1\n",
       "20. 1\n",
       "21. 1\n",
       "22. 1\n",
       "23. 1\n",
       "24. 1\n",
       "25. 1\n",
       "26. 1\n",
       "27. 1\n",
       "28. 1\n",
       "29. 1\n",
       "30. 1\n",
       "31. 1\n",
       "32. 1\n",
       "33. 1\n",
       "34. 1\n",
       "35. 1\n",
       "36. 1\n",
       "37. 1\n",
       "38. 1\n",
       "39. 1\n",
       "40. 1\n",
       "41. 1\n",
       "42. 1\n",
       "43. 1\n",
       "44. 1\n",
       "45. 1\n",
       "46. 1\n",
       "47. 1\n",
       "48. 1\n",
       "49. 1\n",
       "50. 1\n",
       "51. 1\n",
       "52. 1\n",
       "53. 1\n",
       "54. 1\n",
       "55. 1\n",
       "56. 1\n",
       "57. 1\n",
       "58. 1\n",
       "59. 1\n",
       "60. 1\n",
       "61. 1\n",
       "62. 1\n",
       "63. 1\n",
       "64. 1\n",
       "65. 1\n",
       "66. 1\n",
       "67. 1\n",
       "68. 1\n",
       "69. 1\n",
       "70. 1\n",
       "71. 1\n",
       "72. 1\n",
       "73. 1\n",
       "74. 1\n",
       "75. 1\n",
       "76. 1\n",
       "77. 1\n",
       "78. 1\n",
       "79. 1\n",
       "80. 1\n",
       "81. 1\n",
       "82. 1\n",
       "83. 1\n",
       "84. 1\n",
       "85. 1\n",
       "86. 1\n",
       "87. 1\n",
       "88. 1\n",
       "89. 1\n",
       "90. 1\n",
       "91. 1\n",
       "92. 1\n",
       "93. 1\n",
       "94. 1\n",
       "95. 1\n",
       "96. 1\n",
       "97. 1\n",
       "98. 1\n",
       "99. 1\n",
       "100. 1\n",
       "101. 1\n",
       "102. 1\n",
       "103. 1\n",
       "104. 1\n",
       "105. 1\n",
       "106. 1\n",
       "107. 1\n",
       "108. 1\n",
       "109. 1\n",
       "110. 1\n",
       "111. 1\n",
       "112. 1\n",
       "113. 1\n",
       "114. 1\n",
       "115. 1\n",
       "116. 1\n",
       "117. 1\n",
       "118. 1\n",
       "119. 1\n",
       "120. 1\n",
       "121. 1\n",
       "122. 1\n",
       "123. 1\n",
       "124. 1\n",
       "125. 1\n",
       "126. 1\n",
       "127. 1\n",
       "128. 1\n",
       "129. 1\n",
       "130. 1\n",
       "131. 1\n",
       "132. 1\n",
       "133. 1\n",
       "134. 1\n",
       "135. 1\n",
       "136. 1\n",
       "137. 1\n",
       "138. 1\n",
       "139. 1\n",
       "140. 1\n",
       "141. 1\n",
       "142. 1\n",
       "143. 1\n",
       "144. 1\n",
       "145. 1\n",
       "146. 1\n",
       "147. 1\n",
       "148. 1\n",
       "149. 1\n",
       "150. 1\n",
       "151. 1\n",
       "152. 1\n",
       "153. 1\n",
       "154. 1\n",
       "155. 1\n",
       "156. 1\n",
       "157. 1\n",
       "158. 1\n",
       "159. 1\n",
       "160. 1\n",
       "161. 1\n",
       "162. 1\n",
       "163. 1\n",
       "164. 1\n",
       "165. 1\n",
       "166. 1\n",
       "167. 1\n",
       "168. 1\n",
       "169. 1\n",
       "170. 1\n",
       "171. 1\n",
       "172. 1\n",
       "173. 1\n",
       "174. 1\n",
       "175. 1\n",
       "176. 1\n",
       "177. 1\n",
       "178. 1\n",
       "179. 1\n",
       "180. 1\n",
       "181. 1\n",
       "182. 1\n",
       "183. 1\n",
       "184. 1\n",
       "185. 1\n",
       "186. 1\n",
       "187. 1\n",
       "188. 1\n",
       "189. 1\n",
       "190. 1\n",
       "191. 1\n",
       "192. 1\n",
       "193. 1\n",
       "194. 1\n",
       "195. 1\n",
       "196. 1\n",
       "197. 1\n",
       "198. 1\n",
       "199. 1\n",
       "200. 1\n",
       "201. ...\n",
       "202. 1\n",
       "203. 1\n",
       "204. 1\n",
       "205. 1\n",
       "206. 1\n",
       "207. 1\n",
       "208. 1\n",
       "209. 1\n",
       "210. 1\n",
       "211. 1\n",
       "212. 1\n",
       "213. 1\n",
       "214. 1\n",
       "215. 1\n",
       "216. 1\n",
       "217. 1\n",
       "218. 1\n",
       "219. 1\n",
       "220. 1\n",
       "221. 1\n",
       "222. 1\n",
       "223. 1\n",
       "224. 1\n",
       "225. 1\n",
       "226. 1\n",
       "227. 1\n",
       "228. 1\n",
       "229. 1\n",
       "230. 1\n",
       "231. 1\n",
       "232. 0.999999999999999\n",
       "233. 0.999999999999999\n",
       "234. 0.999999999999999\n",
       "235. 0.999999999999998\n",
       "236. 0.999999999999997\n",
       "237. 0.999999999999996\n",
       "238. 0.999999999999994\n",
       "239. 0.999999999999991\n",
       "240. 0.999999999999987\n",
       "241. 0.999999999999981\n",
       "242. 0.999999999999972\n",
       "243. 0.999999999999958\n",
       "244. 0.999999999999939\n",
       "245. 0.99999999999991\n",
       "246. 0.999999999999869\n",
       "247. 0.99999999999981\n",
       "248. 0.999999999999725\n",
       "249. 0.999999999999602\n",
       "250. 0.999999999999426\n",
       "251. 0.999999999999174\n",
       "252. 0.999999999998816\n",
       "253. 0.999999999998308\n",
       "254. 0.999999999997587\n",
       "255. 0.99999999999657\n",
       "256. 0.999999999995137\n",
       "257. 0.999999999993124\n",
       "258. 0.999999999990305\n",
       "259. 0.999999999986368\n",
       "260. 0.999999999980884\n",
       "261. 0.999999999973268\n",
       "262. 0.999999999962719\n",
       "263. 0.99999999994815\n",
       "264. 0.999999999928081\n",
       "265. 0.999999999900514\n",
       "266. 0.999999999862751\n",
       "267. 0.999999999811162\n",
       "268. 0.999999999740878\n",
       "269. 0.999999999645383\n",
       "270. 0.999999999515986\n",
       "271. 0.999999999341125\n",
       "272. 0.999999999105464\n",
       "273. 0.999999998788715\n",
       "274. 0.999999998364118\n",
       "275. 0.999999997796475\n",
       "276. 0.999999997039618\n",
       "277. 0.999999996033159\n",
       "278. 0.999999994698333\n",
       "279. 0.999999992932689\n",
       "280. 0.999999990603345\n",
       "281. 0.999999987538418\n",
       "282. 0.999999983516204\n",
       "283. 0.999999978251526\n",
       "284. 0.999999971378579\n",
       "285. 0.999999962429428\n",
       "286. 0.999999950807155\n",
       "287. 0.999999935752396\n",
       "288. 0.999999916301804\n",
       "289. 0.999999891236608\n",
       "290. 0.999999859019133\n",
       "291. 0.999999817714677\n",
       "292. 0.999999764895679\n",
       "293. 0.999999697524509\n",
       "294. 0.999999611810553\n",
       "295. 0.999999503036496\n",
       "296. 0.999999365347816\n",
       "297. 0.999999191498473\n",
       "298. 0.999998972544641\n",
       "299. 0.999998697477012\n",
       "300. 0.999998352780736\n",
       "301. 0.99999792191039\n",
       "302. 0.99999738466557\n",
       "303. 0.99999671645062\n",
       "304. 0.999995887399813\n",
       "305. 0.999994861346835\n",
       "306. 0.999993594614762\n",
       "307. 0.999992034599895\n",
       "308. 0.999990118119714\n",
       "309. 0.999987769492041\n",
       "310. 0.999984898309067\n",
       "311. 0.999981396866415\n",
       "312. 0.999977137203822\n",
       "313. 0.999971967710384\n",
       "314. 0.999965709243752\n",
       "315. 0.999958150709172\n",
       "316. 0.999949044041004\n",
       "317. 0.999938098526379\n",
       "318. 0.999924974408123\n",
       "319. 0.999909275702075\n",
       "320. 0.999890542162638\n",
       "321. 0.999868240329976\n",
       "322. 0.999841753592847\n",
       "323. 0.999810371202884\n",
       "324. 0.999773276179286\n",
       "325. 0.999729532047686\n",
       "326. 0.99967806836345\n",
       "327. 0.999617664978197\n",
       "328. 0.999546935018884\n",
       "329. 0.999464306561743\n",
       "330. 0.999368002998641\n",
       "331. 0.999256022111313\n",
       "332. 0.999126113889356\n",
       "333. 0.998975757150979\n",
       "334. 0.998802135051236\n",
       "335. 0.998602109590703\n",
       "336. 0.998372195268252\n",
       "337. 0.998108532054431\n",
       "338. 0.997806857896742\n",
       "339. 0.997462481004402\n",
       "340. 0.997070252197637\n",
       "341. 0.996624537644495\n",
       "342. 0.996119192346148\n",
       "343. 0.995547534768833\n",
       "344. 0.994902323056287\n",
       "345. 0.994175733289907\n",
       "346. 0.993359340293974\n",
       "347. 0.992444101509296\n",
       "348. 0.991420344479454\n",
       "349. 0.990277758508649\n",
       "350. 0.989005391057864\n",
       "351. 0.987591649445881\n",
       "352. 0.98602430841264\n",
       "353. 0.984290524083833\n",
       "354. 0.98237685484674\n",
       "355. 0.98026928960765\n",
       "356. 0.977953283850409\n",
       "357. 0.975413803853434\n",
       "358. 0.972635379349085\n",
       "359. 0.969602164824686\n",
       "360. 0.96629800956935\n",
       "361. 0.962706536465724\n",
       "362. 0.958811229411899\n",
       "363. 0.954595529137197\n",
       "364. 0.950042937047886\n",
       "365. 0.945137126606818\n",
       "366. 0.939862061616423\n",
       "367. 0.934202120639604\n",
       "368. 0.92814222666014\n",
       "369. 0.921667980955585\n",
       "370. 0.914765800033884\n",
       "371. 0.9074230543725\n",
       "372. 0.899628207598207\n",
       "373. 0.891370954659338\n",
       "374. 0.882642357472372\n",
       "375. 0.873434976473463\n",
       "376. 0.863742996474612\n",
       "377. 0.853562345215314\n",
       "378. 0.842890803014792\n",
       "379. 0.831728101968221\n",
       "380. 0.820076013193095\n",
       "381. 0.807938420719005\n",
       "382. 0.795321380725149\n",
       "383. 0.782233164963887\n",
       "384. 0.768684287364237\n",
       "385. 0.754687512984434\n",
       "386. 0.740257848675358\n",
       "387. 0.725412515024045\n",
       "388. 0.710170899365614\n",
       "389. 0.694554489879515\n",
       "390. 0.678586791018474\n",
       "391. 0.662293220752106\n",
       "392. 0.645700990338289\n",
       "393. 0.628838967560019\n",
       "394. 0.61173752458003\n",
       "395. 0.594428371766275\n",
       "396. 0.57694437902511\n",
       "397. 0.559319386342483\n",
       "398. 0.541588005374045\n",
       "399. 0.523785414040272\n",
       "400. 0.50594714617076\n",
       "401. 0.488108878301249\n",
       "\n",
       "\n"
      ],
      "text/plain": [
       "  [1] 1.0000000 1.0000000 1.0000000 1.0000000 1.0000000 1.0000000 1.0000000\n",
       "  [8] 1.0000000 1.0000000 1.0000000 1.0000000 1.0000000 1.0000000 1.0000000\n",
       " [15] 1.0000000 1.0000000 1.0000000 1.0000000 1.0000000 1.0000000 1.0000000\n",
       " [22] 1.0000000 1.0000000 1.0000000 1.0000000 1.0000000 1.0000000 1.0000000\n",
       " [29] 1.0000000 1.0000000 1.0000000 1.0000000 1.0000000 1.0000000 1.0000000\n",
       " [36] 1.0000000 1.0000000 1.0000000 1.0000000 1.0000000 1.0000000 1.0000000\n",
       " [43] 1.0000000 1.0000000 1.0000000 1.0000000 1.0000000 1.0000000 1.0000000\n",
       " [50] 1.0000000 1.0000000 1.0000000 1.0000000 1.0000000 1.0000000 1.0000000\n",
       " [57] 1.0000000 1.0000000 1.0000000 1.0000000 1.0000000 1.0000000 1.0000000\n",
       " [64] 1.0000000 1.0000000 1.0000000 1.0000000 1.0000000 1.0000000 1.0000000\n",
       " [71] 1.0000000 1.0000000 1.0000000 1.0000000 1.0000000 1.0000000 1.0000000\n",
       " [78] 1.0000000 1.0000000 1.0000000 1.0000000 1.0000000 1.0000000 1.0000000\n",
       " [85] 1.0000000 1.0000000 1.0000000 1.0000000 1.0000000 1.0000000 1.0000000\n",
       " [92] 1.0000000 1.0000000 1.0000000 1.0000000 1.0000000 1.0000000 1.0000000\n",
       " [99] 1.0000000 1.0000000 1.0000000 1.0000000 1.0000000 1.0000000 1.0000000\n",
       "[106] 1.0000000 1.0000000 1.0000000 1.0000000 1.0000000 1.0000000 1.0000000\n",
       "[113] 1.0000000 1.0000000 1.0000000 1.0000000 1.0000000 1.0000000 1.0000000\n",
       "[120] 1.0000000 1.0000000 1.0000000 1.0000000 1.0000000 1.0000000 1.0000000\n",
       "[127] 1.0000000 1.0000000 1.0000000 1.0000000 1.0000000 1.0000000 1.0000000\n",
       "[134] 1.0000000 1.0000000 1.0000000 1.0000000 1.0000000 1.0000000 1.0000000\n",
       "[141] 1.0000000 1.0000000 1.0000000 1.0000000 1.0000000 1.0000000 1.0000000\n",
       "[148] 1.0000000 1.0000000 1.0000000 1.0000000 1.0000000 1.0000000 1.0000000\n",
       "[155] 1.0000000 1.0000000 1.0000000 1.0000000 1.0000000 1.0000000 1.0000000\n",
       "[162] 1.0000000 1.0000000 1.0000000 1.0000000 1.0000000 1.0000000 1.0000000\n",
       "[169] 1.0000000 1.0000000 1.0000000 1.0000000 1.0000000 1.0000000 1.0000000\n",
       "[176] 1.0000000 1.0000000 1.0000000 1.0000000 1.0000000 1.0000000 1.0000000\n",
       "[183] 1.0000000 1.0000000 1.0000000 1.0000000 1.0000000 1.0000000 1.0000000\n",
       "[190] 1.0000000 1.0000000 1.0000000 1.0000000 1.0000000 1.0000000 1.0000000\n",
       "[197] 1.0000000 1.0000000 1.0000000 1.0000000 1.0000000 1.0000000 1.0000000\n",
       "[204] 1.0000000 1.0000000 1.0000000 1.0000000 1.0000000 1.0000000 1.0000000\n",
       "[211] 1.0000000 1.0000000 1.0000000 1.0000000 1.0000000 1.0000000 1.0000000\n",
       "[218] 1.0000000 1.0000000 1.0000000 1.0000000 1.0000000 1.0000000 1.0000000\n",
       "[225] 1.0000000 1.0000000 1.0000000 1.0000000 1.0000000 1.0000000 1.0000000\n",
       "[232] 1.0000000 1.0000000 1.0000000 1.0000000 1.0000000 1.0000000 1.0000000\n",
       "[239] 1.0000000 1.0000000 1.0000000 1.0000000 1.0000000 1.0000000 1.0000000\n",
       "[246] 1.0000000 1.0000000 1.0000000 1.0000000 1.0000000 1.0000000 1.0000000\n",
       "[253] 1.0000000 1.0000000 1.0000000 1.0000000 1.0000000 1.0000000 1.0000000\n",
       "[260] 1.0000000 1.0000000 1.0000000 1.0000000 1.0000000 1.0000000 1.0000000\n",
       "[267] 1.0000000 1.0000000 1.0000000 1.0000000 1.0000000 1.0000000 1.0000000\n",
       "[274] 1.0000000 1.0000000 1.0000000 1.0000000 1.0000000 1.0000000 1.0000000\n",
       "[281] 1.0000000 1.0000000 1.0000000 1.0000000 1.0000000 1.0000000 1.0000000\n",
       "[288] 1.0000000 1.0000000 1.0000000 1.0000000 1.0000000 1.0000000 1.0000000\n",
       "[295] 1.0000000 1.0000000 1.0000000 1.0000000 1.0000000 1.0000000 1.0000000\n",
       "[302] 1.0000000 1.0000000 1.0000000 1.0000000 1.0000000 1.0000000 1.0000000\n",
       "[309] 1.0000000 1.0000000 1.0000000 1.0000000 1.0000000 1.0000000 1.0000000\n",
       "[316] 1.0000000 1.0000000 1.0000000 1.0000000 1.0000000 1.0000000 1.0000000\n",
       "[323] 1.0000000 1.0000000 1.0000000 1.0000000 1.0000000 1.0000000 1.0000000\n",
       "[330] 1.0000000 1.0000000 1.0000000 1.0000000 1.0000000 1.0000000 1.0000000\n",
       "[337] 1.0000000 1.0000000 1.0000000 1.0000000 1.0000000 1.0000000 1.0000000\n",
       "[344] 1.0000000 1.0000000 1.0000000 1.0000000 1.0000000 1.0000000 1.0000000\n",
       "[351] 1.0000000 1.0000000 1.0000000 1.0000000 1.0000000 1.0000000 1.0000000\n",
       "[358] 1.0000000 1.0000000 1.0000000 1.0000000 1.0000000 1.0000000 1.0000000\n",
       "[365] 1.0000000 1.0000000 1.0000000 1.0000000 1.0000000 1.0000000 1.0000000\n",
       "[372] 1.0000000 1.0000000 1.0000000 1.0000000 1.0000000 1.0000000 1.0000000\n",
       "[379] 1.0000000 1.0000000 1.0000000 1.0000000 1.0000000 1.0000000 1.0000000\n",
       "[386] 1.0000000 0.9999999 0.9999999 0.9999999 0.9999999 0.9999998 0.9999998\n",
       "[393] 0.9999997 0.9999996 0.9999995 0.9999994 0.9999992 0.9999990 0.9999987\n",
       "[400] 0.9999984 0.9999979 0.9999974 0.9999967 0.9999959 0.9999949 0.9999936\n",
       "[407] 0.9999920 0.9999901 0.9999878 0.9999849 0.9999814 0.9999771 0.9999720\n",
       "[414] 0.9999657 0.9999582 0.9999490 0.9999381 0.9999250 0.9999093 0.9998905\n",
       "[421] 0.9998682 0.9998418 0.9998104 0.9997733 0.9997295 0.9996781 0.9996177\n",
       "[428] 0.9995469 0.9994643 0.9993680 0.9992560 0.9991261 0.9989758 0.9988021\n",
       "[435] 0.9986021 0.9983722 0.9981085 0.9978069 0.9974625 0.9970703 0.9966245\n",
       "[442] 0.9961192 0.9955475 0.9949023 0.9941757 0.9933593 0.9924441 0.9914203\n",
       "[449] 0.9902778 0.9890054 0.9875916 0.9860243 0.9842905 0.9823769 0.9802693\n",
       "[456] 0.9779533 0.9754138 0.9726354 0.9696022 0.9662980 0.9627065 0.9588112\n",
       "[463] 0.9545955 0.9500429 0.9451371 0.9398621 0.9342021 0.9281422 0.9216680\n",
       "[470] 0.9147658 0.9074231 0.8996282 0.8913710 0.8826424 0.8734350 0.8637430\n",
       "[477] 0.8535623 0.8428908 0.8317281 0.8200760 0.8079384 0.7953214 0.7822332\n",
       "[484] 0.7686843 0.7546875 0.7402578 0.7254125 0.7101709 0.6945545 0.6785868\n",
       "[491] 0.6622932 0.6457010 0.6288390 0.6117375 0.5944284 0.5769444 0.5593194\n",
       "[498] 0.5415880 0.5237854 0.5059471 0.4881089"
      ]
     },
     "metadata": {},
     "output_type": "display_data"
    }
   ],
   "source": [
    "1 - ppois(0:500,500)"
   ]
  },
  {
   "cell_type": "code",
   "execution_count": null,
   "metadata": {},
   "outputs": [],
   "source": [
    "Q.9 if mean of a random variable in poissson distribution is 25 then what is the standard deviation"
   ]
  },
  {
   "cell_type": "code",
   "execution_count": 21,
   "metadata": {},
   "outputs": [
    {
     "data": {
      "text/html": [
       "5"
      ],
      "text/latex": [
       "5"
      ],
      "text/markdown": [
       "5"
      ],
      "text/plain": [
       "[1] 5"
      ]
     },
     "metadata": {},
     "output_type": "display_data"
    }
   ],
   "source": [
    "# in poisson distribution mean  == varinace\n",
    "mean = varinace = 25\n",
    "\n",
    "standard_deviation = sqrt(varinace)\n",
    "standard_deviation"
   ]
  },
  {
   "cell_type": "code",
   "execution_count": null,
   "metadata": {},
   "outputs": [],
   "source": [
    "Q.10 if mean of a random variable in poissson distribution is 100 then what is the standard deviation"
   ]
  },
  {
   "cell_type": "code",
   "execution_count": 22,
   "metadata": {},
   "outputs": [
    {
     "data": {
      "text/html": [
       "10"
      ],
      "text/latex": [
       "10"
      ],
      "text/markdown": [
       "10"
      ],
      "text/plain": [
       "[1] 10"
      ]
     },
     "metadata": {},
     "output_type": "display_data"
    }
   ],
   "source": [
    "# in poisson distribution mean  == varinace\n",
    "mean = varinace = 100\n",
    "\n",
    "standard_deviation = sqrt(varinace)\n",
    "standard_deviation"
   ]
  },
  {
   "cell_type": "code",
   "execution_count": null,
   "metadata": {},
   "outputs": [],
   "source": []
  }
 ],
 "metadata": {
  "kernelspec": {
   "display_name": "R",
   "language": "R",
   "name": "ir"
  },
  "language_info": {
   "codemirror_mode": "r",
   "file_extension": ".r",
   "mimetype": "text/x-r-source",
   "name": "R",
   "pygments_lexer": "r",
   "version": "4.1.2"
  },
  "orig_nbformat": 4
 },
 "nbformat": 4,
 "nbformat_minor": 2
}
