{
 "cells": [
  {
   "cell_type": "code",
   "execution_count": 11,
   "metadata": {},
   "outputs": [
    {
     "data": {
      "text/html": [
       "<style>\n",
       ".list-inline {list-style: none; margin:0; padding: 0}\n",
       ".list-inline>li {display: inline-block}\n",
       ".list-inline>li:not(:last-child)::after {content: \"\\00b7\"; padding: 0 .5ex}\n",
       "</style>\n",
       "<ol class=list-inline><li>0.125</li><li>0.375</li><li>0.375</li><li>0.125</li></ol>\n"
      ],
      "text/latex": [
       "\\begin{enumerate*}\n",
       "\\item 0.125\n",
       "\\item 0.375\n",
       "\\item 0.375\n",
       "\\item 0.125\n",
       "\\end{enumerate*}\n"
      ],
      "text/markdown": [
       "1. 0.125\n",
       "2. 0.375\n",
       "3. 0.375\n",
       "4. 0.125\n",
       "\n",
       "\n"
      ],
      "text/plain": [
       "[1] 0.125 0.375 0.375 0.125"
      ]
     },
     "metadata": {},
     "output_type": "display_data"
    },
    {
     "data": {
      "text/html": [
       "<style>\n",
       ".list-inline {list-style: none; margin:0; padding: 0}\n",
       ".list-inline>li {display: inline-block}\n",
       ".list-inline>li:not(:last-child)::after {content: \"\\00b7\"; padding: 0 .5ex}\n",
       "</style>\n",
       "<ol class=list-inline><li>0.125</li><li>0.5</li><li>0.875</li><li>1</li></ol>\n"
      ],
      "text/latex": [
       "\\begin{enumerate*}\n",
       "\\item 0.125\n",
       "\\item 0.5\n",
       "\\item 0.875\n",
       "\\item 1\n",
       "\\end{enumerate*}\n"
      ],
      "text/markdown": [
       "1. 0.125\n",
       "2. 0.5\n",
       "3. 0.875\n",
       "4. 1\n",
       "\n",
       "\n"
      ],
      "text/plain": [
       "[1] 0.125 0.500 0.875 1.000"
      ]
     },
     "metadata": {},
     "output_type": "display_data"
    },
    {
     "data": {
      "text/html": [
       "<style>\n",
       ".list-inline {list-style: none; margin:0; padding: 0}\n",
       ".list-inline>li {display: inline-block}\n",
       ".list-inline>li:not(:last-child)::after {content: \"\\00b7\"; padding: 0 .5ex}\n",
       "</style>\n",
       "<ol class=list-inline><li>2</li><li>2</li><li>1</li><li>0</li><li>1</li><li>2</li><li>1</li><li>3</li><li>0</li><li>0</li></ol>\n"
      ],
      "text/latex": [
       "\\begin{enumerate*}\n",
       "\\item 2\n",
       "\\item 2\n",
       "\\item 1\n",
       "\\item 0\n",
       "\\item 1\n",
       "\\item 2\n",
       "\\item 1\n",
       "\\item 3\n",
       "\\item 0\n",
       "\\item 0\n",
       "\\end{enumerate*}\n"
      ],
      "text/markdown": [
       "1. 2\n",
       "2. 2\n",
       "3. 1\n",
       "4. 0\n",
       "5. 1\n",
       "6. 2\n",
       "7. 1\n",
       "8. 3\n",
       "9. 0\n",
       "10. 0\n",
       "\n",
       "\n"
      ],
      "text/plain": [
       " [1] 2 2 1 0 1 2 1 3 0 0"
      ]
     },
     "metadata": {},
     "output_type": "display_data"
    }
   ],
   "source": [
    "dbinom(0:3, size = 3, p = 0.5)    #possible values of X\n",
    "\n",
    "pbinom(0:3, size = 3, p = 0.5)\n",
    "\n",
    "rbinom(10, size = 3, p = 0.5)    #times the experiment is repeated"
   ]
  },
  {
   "cell_type": "code",
   "execution_count": 12,
   "metadata": {},
   "outputs": [
    {
     "data": {
      "image/png": "[encoded data removed]",
      "text/plain": [
       "Plot with title \"Bernoulli PDF\""
      ]
     },
     "metadata": {
      "image/png": {
       "height": 420,
       "width": 420
      }
     },
     "output_type": "display_data"
    }
   ],
   "source": [
    "barplot(names.arg = 0:3,  #possible values of X\n",
    "        height = pbinom(0:3, size = 3, p = 0.5),\n",
    "        main = \"Bernoulli PDF\", xlab = 'X', ylab = 'Probability')\n",
    "\n"
   ]
  },
  {
   "cell_type": "code",
   "execution_count": 13,
   "metadata": {},
   "outputs": [
    {
     "data": {
      "text/html": [
       "<style>\n",
       ".list-inline {list-style: none; margin:0; padding: 0}\n",
       ".list-inline>li {display: inline-block}\n",
       ".list-inline>li:not(:last-child)::after {content: \"\\00b7\"; padding: 0 .5ex}\n",
       "</style>\n",
       "<ol class=list-inline><li>0.25</li><li>0.5</li><li>0.25</li></ol>\n"
      ],
      "text/latex": [
       "\\begin{enumerate*}\n",
       "\\item 0.25\n",
       "\\item 0.5\n",
       "\\item 0.25\n",
       "\\end{enumerate*}\n"
      ],
      "text/markdown": [
       "1. 0.25\n",
       "2. 0.5\n",
       "3. 0.25\n",
       "\n",
       "\n"
      ],
      "text/plain": [
       "[1] 0.25 0.50 0.25"
      ]
     },
     "metadata": {},
     "output_type": "display_data"
    },
    {
     "data": {
      "text/html": [
       "<style>\n",
       ".list-inline {list-style: none; margin:0; padding: 0}\n",
       ".list-inline>li {display: inline-block}\n",
       ".list-inline>li:not(:last-child)::after {content: \"\\00b7\"; padding: 0 .5ex}\n",
       "</style>\n",
       "<ol class=list-inline><li>0.25</li><li>0.75</li><li>1</li></ol>\n"
      ],
      "text/latex": [
       "\\begin{enumerate*}\n",
       "\\item 0.25\n",
       "\\item 0.75\n",
       "\\item 1\n",
       "\\end{enumerate*}\n"
      ],
      "text/markdown": [
       "1. 0.25\n",
       "2. 0.75\n",
       "3. 1\n",
       "\n",
       "\n"
      ],
      "text/plain": [
       "[1] 0.25 0.75 1.00"
      ]
     },
     "metadata": {},
     "output_type": "display_data"
    },
    {
     "data": {
      "text/html": [
       "<style>\n",
       ".list-inline {list-style: none; margin:0; padding: 0}\n",
       ".list-inline>li {display: inline-block}\n",
       ".list-inline>li:not(:last-child)::after {content: \"\\00b7\"; padding: 0 .5ex}\n",
       "</style>\n",
       "<ol class=list-inline><li>0</li><li>1</li><li>0</li><li>0</li><li>1</li><li>0</li><li>1</li><li>1</li><li>0</li><li>0</li></ol>\n"
      ],
      "text/latex": [
       "\\begin{enumerate*}\n",
       "\\item 0\n",
       "\\item 1\n",
       "\\item 0\n",
       "\\item 0\n",
       "\\item 1\n",
       "\\item 0\n",
       "\\item 1\n",
       "\\item 1\n",
       "\\item 0\n",
       "\\item 0\n",
       "\\end{enumerate*}\n"
      ],
      "text/markdown": [
       "1. 0\n",
       "2. 1\n",
       "3. 0\n",
       "4. 0\n",
       "5. 1\n",
       "6. 0\n",
       "7. 1\n",
       "8. 1\n",
       "9. 0\n",
       "10. 0\n",
       "\n",
       "\n"
      ],
      "text/plain": [
       " [1] 0 1 0 0 1 0 1 1 0 0"
      ]
     },
     "metadata": {},
     "output_type": "display_data"
    }
   ],
   "source": [
    "dbinom(0:2, size = 2, p = 0.5)    #possible values of X\n",
    "\n",
    "pbinom(0:2, size = 2, p = 0.5)\n",
    "\n",
    "rbinom(10, size = 2, p = 0.5)    #times the expr is repeated"
   ]
  },
  {
   "cell_type": "code",
   "execution_count": 14,
   "metadata": {},
   "outputs": [
    {
     "data": {
      "image/png": "[encoded data removed]",
      "text/plain": [
       "Plot with title \"Bernoulli PDF\""
      ]
     },
     "metadata": {
      "image/png": {
       "height": 420,
       "width": 420
      }
     },
     "output_type": "display_data"
    }
   ],
   "source": [
    "barplot(names.arg = 0:2,  #possible values of X\n",
    "        height = dbinom(0:2, size = 2, p = 0.5),\n",
    "        main = \"Bernoulli PDF\", xlab = 'X', ylab = 'Probability')"
   ]
  },
  {
   "cell_type": "code",
   "execution_count": 15,
   "metadata": {},
   "outputs": [
    {
     "data": {
      "text/html": [
       "<style>\n",
       ".list-inline {list-style: none; margin:0; padding: 0}\n",
       ".list-inline>li {display: inline-block}\n",
       ".list-inline>li:not(:last-child)::after {content: \"\\00b7\"; padding: 0 .5ex}\n",
       "</style>\n",
       "<ol class=list-inline><li>0.003171211938934</li><li>0.0211414129262266</li><li>0.0669478075997177</li><li>0.133895615199435</li><li>0.189685454865867</li><li>0.202331151856924</li><li>0.168609293214104</li><li>0.112406195476069</li></ol>\n"
      ],
      "text/latex": [
       "\\begin{enumerate*}\n",
       "\\item 0.003171211938934\n",
       "\\item 0.0211414129262266\n",
       "\\item 0.0669478075997177\n",
       "\\item 0.133895615199435\n",
       "\\item 0.189685454865867\n",
       "\\item 0.202331151856924\n",
       "\\item 0.168609293214104\n",
       "\\item 0.112406195476069\n",
       "\\end{enumerate*}\n"
      ],
      "text/markdown": [
       "1. 0.003171211938934\n",
       "2. 0.0211414129262266\n",
       "3. 0.0669478075997177\n",
       "4. 0.133895615199435\n",
       "5. 0.189685454865867\n",
       "6. 0.202331151856924\n",
       "7. 0.168609293214104\n",
       "8. 0.112406195476069\n",
       "\n",
       "\n"
      ],
      "text/plain": [
       "[1] 0.003171212 0.021141413 0.066947808 0.133895615 0.189685455 0.202331152\n",
       "[7] 0.168609293 0.112406195"
      ]
     },
     "metadata": {},
     "output_type": "display_data"
    },
    {
     "data": {
      "text/html": [
       "0.898188143077277"
      ],
      "text/latex": [
       "0.898188143077277"
      ],
      "text/markdown": [
       "0.898188143077277"
      ],
      "text/plain": [
       "[1] 0.8981881"
      ]
     },
     "metadata": {},
     "output_type": "display_data"
    }
   ],
   "source": [
    "dbinom(x= 0:7, size = 20, p = 0.25)    #possible values of X\n",
    "sum(dbinom(x= 0:7, size = 20, p = 0.25) )\n",
    "\n"
   ]
  },
  {
   "cell_type": "code",
   "execution_count": 16,
   "metadata": {},
   "outputs": [
    {
     "data": {
      "text/html": [
       "<style>\n",
       ".list-inline {list-style: none; margin:0; padding: 0}\n",
       ".list-inline>li {display: inline-block}\n",
       ".list-inline>li:not(:last-child)::after {content: \"\\00b7\"; padding: 0 .5ex}\n",
       "</style>\n",
       "<ol class=list-inline><li>0.003171211938934</li><li>0.0243126248651606</li><li>0.0912604324648783</li><li>0.225156047664314</li><li>0.41484150253018</li><li>0.617172654387105</li><li>0.785781947601208</li><li>0.898188143077277</li></ol>\n"
      ],
      "text/latex": [
       "\\begin{enumerate*}\n",
       "\\item 0.003171211938934\n",
       "\\item 0.0243126248651606\n",
       "\\item 0.0912604324648783\n",
       "\\item 0.225156047664314\n",
       "\\item 0.41484150253018\n",
       "\\item 0.617172654387105\n",
       "\\item 0.785781947601208\n",
       "\\item 0.898188143077277\n",
       "\\end{enumerate*}\n"
      ],
      "text/markdown": [
       "1. 0.003171211938934\n",
       "2. 0.0243126248651606\n",
       "3. 0.0912604324648783\n",
       "4. 0.225156047664314\n",
       "5. 0.41484150253018\n",
       "6. 0.617172654387105\n",
       "7. 0.785781947601208\n",
       "8. 0.898188143077277\n",
       "\n",
       "\n"
      ],
      "text/plain": [
       "[1] 0.003171212 0.024312625 0.091260432 0.225156048 0.414841503 0.617172654\n",
       "[7] 0.785781948 0.898188143"
      ]
     },
     "metadata": {},
     "output_type": "display_data"
    },
    {
     "data": {
      "text/html": [
       "3.05988456452906"
      ],
      "text/latex": [
       "3.05988456452906"
      ],
      "text/markdown": [
       "3.05988456452906"
      ],
      "text/plain": [
       "[1] 3.059885"
      ]
     },
     "metadata": {},
     "output_type": "display_data"
    },
    {
     "data": {
      "text/html": [
       "<style>\n",
       ".list-inline {list-style: none; margin:0; padding: 0}\n",
       ".list-inline>li {display: inline-block}\n",
       ".list-inline>li:not(:last-child)::after {content: \"\\00b7\"; padding: 0 .5ex}\n",
       "</style>\n",
       "<ol class=list-inline><li>7</li><li>4</li><li>4</li><li>8</li><li>5</li><li>8</li><li>5</li><li>4</li><li>3</li><li>8</li><li>6</li><li>8</li><li>3</li><li>2</li><li>9</li><li>5</li><li>9</li><li>5</li><li>5</li><li>3</li></ol>\n"
      ],
      "text/latex": [
       "\\begin{enumerate*}\n",
       "\\item 7\n",
       "\\item 4\n",
       "\\item 4\n",
       "\\item 8\n",
       "\\item 5\n",
       "\\item 8\n",
       "\\item 5\n",
       "\\item 4\n",
       "\\item 3\n",
       "\\item 8\n",
       "\\item 6\n",
       "\\item 8\n",
       "\\item 3\n",
       "\\item 2\n",
       "\\item 9\n",
       "\\item 5\n",
       "\\item 9\n",
       "\\item 5\n",
       "\\item 5\n",
       "\\item 3\n",
       "\\end{enumerate*}\n"
      ],
      "text/markdown": [
       "1. 7\n",
       "2. 4\n",
       "3. 4\n",
       "4. 8\n",
       "5. 5\n",
       "6. 8\n",
       "7. 5\n",
       "8. 4\n",
       "9. 3\n",
       "10. 8\n",
       "11. 6\n",
       "12. 8\n",
       "13. 3\n",
       "14. 2\n",
       "15. 9\n",
       "16. 5\n",
       "17. 9\n",
       "18. 5\n",
       "19. 5\n",
       "20. 3\n",
       "\n",
       "\n"
      ],
      "text/plain": [
       " [1] 7 4 4 8 5 8 5 4 3 8 6 8 3 2 9 5 9 5 5 3"
      ]
     },
     "metadata": {},
     "output_type": "display_data"
    }
   ],
   "source": [
    "pbinom(0:7, size = 20, p = 0.25)\n",
    "sum(pbinom(0:7, size = 20, p = 0.25))\n",
    "\n",
    "rbinom(20, size = 20, p = 0.25)    #times the expr is repeated"
   ]
  },
  {
   "cell_type": "code",
   "execution_count": 17,
   "metadata": {},
   "outputs": [
    {
     "data": {
      "image/png": "[encoded data removed]",
      "text/plain": [
       "Plot with title \"Bernoulli PDF\""
      ]
     },
     "metadata": {
      "image/png": {
       "height": 420,
       "width": 420
      }
     },
     "output_type": "display_data"
    }
   ],
   "source": [
    "barplot(names.arg = 0:2,  #possible values of X\n",
    "        height = dbinom(0:2, size = 2, p = 0.5),\n",
    "        main = \"Bernoulli PDF\", xlab = 'X', ylab = 'Probability')"
   ]
  },
  {
   "cell_type": "markdown",
   "metadata": {},
   "source": [
    "## Practice Problems"
   ]
  },
  {
   "cell_type": "markdown",
   "metadata": {},
   "source": [
    "### Binomial distribution"
   ]
  },
  {
   "cell_type": "markdown",
   "metadata": {},
   "source": [
    "Q1. The probability that a certain kind of component will survive a shock test is 3/4.\n",
    "Find the probability that exactly 2 of the next 4 components tested survive."
   ]
  },
  {
   "cell_type": "code",
   "execution_count": 6,
   "metadata": {},
   "outputs": [
    {
     "data": {
      "text/html": [
       "0.2109375"
      ],
      "text/latex": [
       "0.2109375"
      ],
      "text/markdown": [
       "0.2109375"
      ],
      "text/plain": [
       "[1] 0.2109375"
      ]
     },
     "metadata": {},
     "output_type": "display_data"
    }
   ],
   "source": [
    "dbinom(2, size =4, p = 0.75)\n"
   ]
  },
  {
   "cell_type": "markdown",
   "metadata": {},
   "source": [
    "Q2.The probability that a patient recovers from a rare blood disease is 0.4. If 15 people\n",
    "are known to have contracted this disease, what is the probability that (a) at least\n",
    "10 survive, (b) from 3 to 8 survive, and (c) exactly 5 survive?"
   ]
  },
  {
   "cell_type": "code",
   "execution_count": 11,
   "metadata": {},
   "outputs": [
    {
     "data": {
      "text/html": [
       "0.033833302884352"
      ],
      "text/latex": [
       "0.033833302884352"
      ],
      "text/markdown": [
       "0.033833302884352"
      ],
      "text/plain": [
       "[1] 0.0338333"
      ]
     },
     "metadata": {},
     "output_type": "display_data"
    },
    {
     "data": {
      "text/html": [
       "0.877838591066112"
      ],
      "text/latex": [
       "0.877838591066112"
      ],
      "text/markdown": [
       "0.877838591066112"
      ],
      "text/plain": [
       "[1] 0.8778386"
      ]
     },
     "metadata": {},
     "output_type": "display_data"
    },
    {
     "data": {
      "text/html": [
       "0.185937844764672"
      ],
      "text/latex": [
       "0.185937844764672"
      ],
      "text/markdown": [
       "0.185937844764672"
      ],
      "text/plain": [
       "[1] 0.1859378"
      ]
     },
     "metadata": {},
     "output_type": "display_data"
    }
   ],
   "source": [
    "#A\n",
    " sum(dbinom(10:15, size =15, p = 0.4))\n",
    " #B\n",
    " sum(dbinom(3:8, size =15, p = 0.4))\n",
    " #c\n",
    " sum(dbinom(5, size =15, p = 0.4))"
   ]
  },
  {
   "cell_type": "markdown",
   "metadata": {},
   "source": [
    "Q3. A large chain retailer purchases a certain kind of electronic device from a manu\u0002facturer. The manufacturer indicates that the defective rate of the device is 3%.\n",
    "The inspector randomly picks 20 items from a shipment. What is the proba\u0002bility that there will be at least one defective item among these 20?"
   ]
  },
  {
   "cell_type": "code",
   "execution_count": 17,
   "metadata": {},
   "outputs": [
    {
     "data": {
      "text/html": [
       "0.456205657073253"
      ],
      "text/latex": [
       "0.456205657073253"
      ],
      "text/markdown": [
       "0.456205657073253"
      ],
      "text/plain": [
       "[1] 0.4562057"
      ]
     },
     "metadata": {},
     "output_type": "display_data"
    }
   ],
   "source": [
    "sum(dbinom(1:19, size =20, p = 0.03))\n"
   ]
  },
  {
   "cell_type": "markdown",
   "metadata": {},
   "source": [
    "Q3 . It is conjectured that an impurity exists in 30% of all drinking wells in a certain\n",
    "rural community. In order to gain some insight into the true extent of the problem,\n",
    "it is determined that some testing is necessary. It is too expensive to test all of the\n",
    "wells in the area, so 10 are randomly selected for testing.\n",
    "(a) Using the binomial distribution, what is the probability that exactly 3 wells\n",
    "have the impurity, assuming that the conjecture is correct?\n",
    "(b) What is the probability that more than 3 wells are impure?"
   ]
  },
  {
   "cell_type": "code",
   "execution_count": 21,
   "metadata": {},
   "outputs": [
    {
     "data": {
      "text/html": [
       "0.266827932"
      ],
      "text/latex": [
       "0.266827932"
      ],
      "text/markdown": [
       "0.266827932"
      ],
      "text/plain": [
       "[1] 0.2668279"
      ]
     },
     "metadata": {},
     "output_type": "display_data"
    },
    {
     "data": {
      "text/html": [
       "0.3503892816"
      ],
      "text/latex": [
       "0.3503892816"
      ],
      "text/markdown": [
       "0.3503892816"
      ],
      "text/plain": [
       "[1] 0.3503893"
      ]
     },
     "metadata": {},
     "output_type": "display_data"
    }
   ],
   "source": [
    "#a\n",
    "sum(dbinom(3, size =10, p = 0.3))\n",
    "#b\n",
    "sum(dbinom(4:10, size =10, p = 0.3))\n",
    "\n",
    "\n"
   ]
  },
  {
   "cell_type": "markdown",
   "metadata": {},
   "source": [
    "Q4. Twelve people are given two identical speakers,\n",
    "which they are asked to listen to for differences, if any.\n",
    "Suppose that these people answer simply by guessing.\n",
    "Find the probability that three people claim to have\n",
    "heard a difference between the two speakers"
   ]
  },
  {
   "cell_type": "code",
   "execution_count": 22,
   "metadata": {},
   "outputs": [
    {
     "data": {
      "text/html": [
       "0.0581810955395267"
      ],
      "text/latex": [
       "0.0581810955395267"
      ],
      "text/markdown": [
       "0.0581810955395267"
      ],
      "text/plain": [
       "[1] 0.0581811"
      ]
     },
     "metadata": {},
     "output_type": "display_data"
    }
   ],
   "source": [
    "sum(dbinom(3, size =12, p = 1/12))"
   ]
  },
  {
   "cell_type": "markdown",
   "metadata": {},
   "source": [
    "Q.5 An employee is selected from a staff of 10 to super\u0002vise a certain project by selecting a tag at random from\n",
    "a box containing 10 tags numbered from 1 to 10. Find\n",
    "the formula for the probability distribution of X rep\u0002resenting the number on the tag that is drawn. What\n",
    "is the probability that the number drawn is less than\n",
    "4"
   ]
  },
  {
   "cell_type": "code",
   "execution_count": 23,
   "metadata": {},
   "outputs": [
    {
     "data": {
      "text/html": [
       "0.6496866225"
      ],
      "text/latex": [
       "0.6496866225"
      ],
      "text/markdown": [
       "0.6496866225"
      ],
      "text/plain": [
       "[1] 0.6496866"
      ]
     },
     "metadata": {},
     "output_type": "display_data"
    }
   ],
   "source": [
    "sum(dbinom(1:4, size =10, p = 1/10))"
   ]
  },
  {
   "cell_type": "markdown",
   "metadata": {},
   "source": [
    "Q.6 In a certain city district, the need for money to\n",
    "buy drugs is stated as the reason for 75% of all thefts.\n",
    "Find the probability that among the next 5 theft cases\n",
    "reported in this district,\n",
    "(a) exactly 2 resulted from the need for money to buy\n",
    "drugs;\n",
    "(b) at most 3 resulted from the need for money to buy\n",
    "drugs"
   ]
  },
  {
   "cell_type": "code",
   "execution_count": 24,
   "metadata": {},
   "outputs": [
    {
     "data": {
      "text/html": [
       "0.087890625"
      ],
      "text/latex": [
       "0.087890625"
      ],
      "text/markdown": [
       "0.087890625"
      ],
      "text/plain": [
       "[1] 0.08789063"
      ]
     },
     "metadata": {},
     "output_type": "display_data"
    },
    {
     "data": {
      "text/html": [
       "0.3662109375"
      ],
      "text/latex": [
       "0.3662109375"
      ],
      "text/markdown": [
       "0.3662109375"
      ],
      "text/plain": [
       "[1] 0.3662109"
      ]
     },
     "metadata": {},
     "output_type": "display_data"
    }
   ],
   "source": [
    "#a\n",
    "sum(dbinom(2, size =5, p = 3/4))\n",
    "#b\n",
    "sum(dbinom(1:3, size =5, p = 3/4))\n"
   ]
  },
  {
   "cell_type": "markdown",
   "metadata": {},
   "source": [
    "Q.7 In testing a certain kind of truck tire over rugged\n",
    "terrain, it is found that 25% of the trucks fail to com\u0002plete the test run without a blowout. Of the next 15\n",
    "trucks tested, find the probability that\n",
    "(a) from 3 to 6 have blowouts;\n",
    "(b) fewer than 4 have blowouts;\n",
    "(c) more than 5 have blowouts."
   ]
  },
  {
   "cell_type": "code",
   "execution_count": 25,
   "metadata": {},
   "outputs": [
    {
     "data": {
      "text/html": [
       "0.707291878759861"
      ],
      "text/latex": [
       "0.707291878759861"
      ],
      "text/markdown": [
       "0.707291878759861"
      ],
      "text/plain": [
       "[1] 0.7072919"
      ]
     },
     "metadata": {},
     "output_type": "display_data"
    },
    {
     "data": {
      "text/html": [
       "0.673122480511665"
      ],
      "text/latex": [
       "0.673122480511665"
      ],
      "text/markdown": [
       "0.673122480511665"
      ],
      "text/plain": [
       "[1] 0.6731225"
      ]
     },
     "metadata": {},
     "output_type": "display_data"
    },
    {
     "data": {
      "text/html": [
       "0.313514058478176"
      ],
      "text/latex": [
       "0.313514058478176"
      ],
      "text/markdown": [
       "0.313514058478176"
      ],
      "text/plain": [
       "[1] 0.3135141"
      ]
     },
     "metadata": {},
     "output_type": "display_data"
    }
   ],
   "source": [
    "sum(dbinom(3:6, size =15, p = 1/4))\n",
    "sum(dbinom(1:4, size =15, p = 1/4))\n",
    "sum(dbinom(5:15, size =15, p = 1/4))\n"
   ]
  },
  {
   "cell_type": "markdown",
   "metadata": {},
   "source": [
    "Q. 8 A nationwide survey of college seniors by the\n",
    "University of Michigan revealed that almost 70% dis\u0002approve of daily pot smoking, according to a report in\n",
    "Parade. If 12 seniors are selected at random and asked\n",
    "their opinion, find the probability that the number who\n",
    "disapprove of smoking pot daily is\n",
    "(a) anywhere from 7 to 9;\n",
    "(b) at most 5;\n",
    "(c) not less than 8"
   ]
  },
  {
   "cell_type": "code",
   "execution_count": 26,
   "metadata": {},
   "outputs": [
    {
     "data": {
      "text/html": [
       "0.629335913283"
      ],
      "text/latex": [
       "0.629335913283"
      ],
      "text/markdown": [
       "0.629335913283"
      ],
      "text/plain": [
       "[1] 0.6293359"
      ]
     },
     "metadata": {},
     "output_type": "display_data"
    },
    {
     "data": {
      "text/html": [
       "0.038600311617"
      ],
      "text/latex": [
       "0.038600311617"
      ],
      "text/markdown": [
       "0.038600311617"
      ],
      "text/plain": [
       "[1] 0.03860031"
      ]
     },
     "metadata": {},
     "output_type": "display_data"
    },
    {
     "data": {
      "text/html": [
       "0.72365546953"
      ],
      "text/latex": [
       "0.72365546953"
      ],
      "text/markdown": [
       "0.72365546953"
      ],
      "text/plain": [
       "[1] 0.7236555"
      ]
     },
     "metadata": {},
     "output_type": "display_data"
    }
   ],
   "source": [
    "sum(dbinom(7:9, size =12, p = 0.7))\n",
    "sum(dbinom(1:5, size =12, p = 0.7))\n",
    "sum(dbinom(8:12, size =12, p = 0.7))"
   ]
  },
  {
   "cell_type": "markdown",
   "metadata": {},
   "source": [
    "Q.9 The probability that a patient recovers from a\n",
    "delicate heart operation is 0.9. What is the probabil\u0002ity that exactly 5 of the next 7 patients having this\n",
    "operation survive"
   ]
  },
  {
   "cell_type": "code",
   "execution_count": 29,
   "metadata": {},
   "outputs": [
    {
     "data": {
      "text/html": [
       "0.1240029"
      ],
      "text/latex": [
       "0.1240029"
      ],
      "text/markdown": [
       "0.1240029"
      ],
      "text/plain": [
       "[1] 0.1240029"
      ]
     },
     "metadata": {},
     "output_type": "display_data"
    }
   ],
   "source": [
    "sum(dbinom(5, size =7, p = 0.9))"
   ]
  },
  {
   "cell_type": "markdown",
   "metadata": {},
   "source": [
    "Q.10 A traffic control engineer reports that 75% of the\n",
    "vehicles passing through a checkpoint are from within\n",
    "the state. What is the probability that fewer than 4 of\n",
    "the next 9 vehicles are from out of state"
   ]
  },
  {
   "cell_type": "code",
   "execution_count": 30,
   "metadata": {},
   "outputs": [
    {
     "data": {
      "text/html": [
       "0.0489234924316406"
      ],
      "text/latex": [
       "0.0489234924316406"
      ],
      "text/markdown": [
       "0.0489234924316406"
      ],
      "text/plain": [
       "[1] 0.04892349"
      ]
     },
     "metadata": {},
     "output_type": "display_data"
    }
   ],
   "source": [
    "sum(dbinom(1:4, size =9, p = 3/4))"
   ]
  },
  {
   "cell_type": "markdown",
   "metadata": {},
   "source": [
    "### Poisson Distribution"
   ]
  },
  {
   "cell_type": "code",
   "execution_count": null,
   "metadata": {},
   "outputs": [],
   "source": []
  }
 ],
 "metadata": {
  "kernelspec": {
   "display_name": "R",
   "language": "R",
   "name": "ir"
  },
  "language_info": {
   "codemirror_mode": "r",
   "file_extension": ".r",
   "mimetype": "text/x-r-source",
   "name": "R",
   "pygments_lexer": "r",
   "version": "4.1.2"
  },
  "orig_nbformat": 4
 },
 "nbformat": 4,
 "nbformat_minor": 2
}
