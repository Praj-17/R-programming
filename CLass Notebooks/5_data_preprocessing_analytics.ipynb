{
 "cells": [
  {
   "cell_type": "code",
   "execution_count": null,
   "metadata": {
    "vscode": {
     "languageId": "r"
    }
   },
   "outputs": [],
   "source": [
    "library(\"tidyr\")\n",
    "library(\"dplyr\")"
   ]
  },
  {
   "cell_type": "markdown",
   "metadata": {},
   "source": [
    "## Data Preprocessing and Analysis\n",
    "The following libraries are needed to be installed and loaded for the same\n"
   ]
  },
  {
   "cell_type": "code",
   "execution_count": null,
   "metadata": {
    "vscode": {
     "languageId": "r"
    }
   },
   "outputs": [],
   "source": [
    "print(\"Hello world\")"
   ]
  },
  {
   "cell_type": "code",
   "execution_count": null,
   "metadata": {
    "vscode": {
     "languageId": "r"
    }
   },
   "outputs": [],
   "source": [
    "data(\"airquality\")\n",
    "View(airquality)   #here V is capital to view the dataset\n"
   ]
  },
  {
   "cell_type": "code",
   "execution_count": null,
   "metadata": {
    "vscode": {
     "languageId": "r"
    }
   },
   "outputs": [],
   "source": [
    "str(airquality)  #displays the structure of the dataset"
   ]
  },
  {
   "cell_type": "code",
   "execution_count": null,
   "metadata": {
    "vscode": {
     "languageId": "r"
    }
   },
   "outputs": [],
   "source": [
    "#drop rows having NA\n",
    "clean=drop_na(airquality)\n",
    "View(clean)\n",
    "str(clean)\n"
   ]
  },
  {
   "cell_type": "markdown",
   "metadata": {},
   "source": [
    "Hence from the above line we can see that first we had 153 rows and now we have 111 rows after dropping the null/NaN values"
   ]
  },
  {
   "cell_type": "code",
   "execution_count": null,
   "metadata": {
    "vscode": {
     "languageId": "r"
    }
   },
   "outputs": [],
   "source": [
    "#chaninging the datatype of the month coloumn\n",
    "clean$Month=as.factor(clean$Month)\n",
    "str(clean)"
   ]
  },
  {
   "cell_type": "code",
   "execution_count": null,
   "metadata": {
    "vscode": {
     "languageId": "r"
    }
   },
   "outputs": [],
   "source": [
    "#change actual data\n",
    "newclean=clean %>% mutate(Wind=replace(Wind,match(\"9\",Month) & match(\"30\",Day),12))\n",
    "View(newclean)\n",
    "# %>% symbol is called as pipe\n",
    "#all wind values have been changed to 12\n",
    "# Not understood this\n"
   ]
  },
  {
   "cell_type": "code",
   "execution_count": null,
   "metadata": {
    "vscode": {
     "languageId": "r"
    }
   },
   "outputs": [],
   "source": [
    "x = mean(clean$Ozone)\n",
    "View(clean)"
   ]
  },
  {
   "cell_type": "code",
   "execution_count": null,
   "metadata": {
    "vscode": {
     "languageId": "r"
    }
   },
   "outputs": [],
   "source": [
    "#add a new column Quality to the dataset\n",
    "clean$Quality=as.factor(ifelse(clean$Ozone<x,\"Bad\",\"Good\"))\n",
    "count(clean,Quality)\n",
    "count(clean, Ozone)\n",
    "View(clean)"
   ]
  },
  {
   "cell_type": "code",
   "execution_count": null,
   "metadata": {
    "vscode": {
     "languageId": "r"
    }
   },
   "outputs": [],
   "source": [
    "#calculating mean of an array or given data\n",
    "y=mean(c(0,3,4,7,1))\n",
    "print(y)\n",
    "\n",
    "#median\n",
    "y=median(clean$Wind)\n",
    "print(y)"
   ]
  },
  {
   "cell_type": "code",
   "execution_count": null,
   "metadata": {
    "vscode": {
     "languageId": "r"
    }
   },
   "outputs": [],
   "source": [
    "#to calculate mode, R does not provide a standard function\n",
    "\n",
    "#match returns the position of the given element\n",
    "match(2,c(8,3,4,2,1))\n"
   ]
  },
  {
   "cell_type": "code",
   "execution_count": null,
   "metadata": {
    "vscode": {
     "languageId": "r"
    }
   },
   "outputs": [],
   "source": [
    "#calculating mode\n",
    "getmode=function(v){\n",
    "  uniqv=unique(v)\n",
    "  uniqv[which.max(tabulate(match(v,uniqv)))]\n",
    "}"
   ]
  },
  {
   "cell_type": "code",
   "execution_count": null,
   "metadata": {
    "vscode": {
     "languageId": "r"
    }
   },
   "outputs": [],
   "source": [
    "count(clean,Quality)\n",
    "modeQuality=getmode(clean$Quality)\n",
    "print(modeQuality)\n"
   ]
  },
  {
   "cell_type": "code",
   "execution_count": null,
   "metadata": {
    "vscode": {
     "languageId": "r"
    }
   },
   "outputs": [],
   "source": [
    "modeOzone=getmode(clean$Ozone)\n",
    "print(modeOzone)"
   ]
  },
  {
   "cell_type": "markdown",
   "metadata": {},
   "source": [
    "# HomeWork Assignment"
   ]
  },
  {
   "cell_type": "markdown",
   "metadata": {},
   "source": [
    "### Q.1 List the various functions used in various libraries (dplyr, tidyr)"
   ]
  },
  {
   "cell_type": "markdown",
   "metadata": {},
   "source": [
    "The Various functions are \n",
    "1. data() - This function is used to load a particular dataset in a R script.\n",
    "2. View() - View is an inbuilt function within R that is used to show the dataset that is been loaded in the R script.\n",
    "3. str() - This function when given a Data frame , enlists the types, count and name of the enlisted columns\n",
    "4. drop_na() - This function is used to eliminate NULL values from a given column of a Dataframe.It is abel to remove the NaN values from a given table.\n",
    "5. as.dtype()-This function is used when we have to change the datatype of a particular column within a dataframe.\n",
    "    E.G - as.factor(col) - it will change the datatype of that particular column to a factor\n",
    "6. mean() - As the name suggestes this function is used to find the mean of the given columns\n",
    "\n",
    "7. median() - As the name suggestes this function is used to find the median of the given columns\n",
    "8. match()  - match is a special type of function in R, it is a sort of searching function that returns the index of the element wher it founds its match \n",
    "\n",
    "9. Count() - this functio is used to count the actual number of each type of categorical data present within the particular column\n",
    "\n",
    "10.read_csv() - It is used to load a dataset from a CSV\n",
    "\n",
    "11. is.na() -  this function returns a boolean variable, weather a particular value is missing or not\n"
   ]
  },
  {
   "cell_type": "markdown",
   "metadata": {},
   "source": [
    "### Performing Preprocessing and Analytics on IRIS data "
   ]
  },
  {
   "cell_type": "code",
   "execution_count": null,
   "metadata": {
    "vscode": {
     "languageId": "r"
    }
   },
   "outputs": [],
   "source": [
    "View(iris)"
   ]
  },
  {
   "cell_type": "code",
   "execution_count": null,
   "metadata": {
    "vscode": {
     "languageId": "r"
    }
   },
   "outputs": [],
   "source": [
    "str(iris)"
   ]
  },
  {
   "cell_type": "code",
   "execution_count": null,
   "metadata": {
    "vscode": {
     "languageId": "r"
    }
   },
   "outputs": [],
   "source": [
    "clean_iris = drop_na(iris)\n",
    "View(clean_iris)"
   ]
  },
  {
   "cell_type": "code",
   "execution_count": null,
   "metadata": {
    "vscode": {
     "languageId": "r"
    }
   },
   "outputs": [],
   "source": [
    "mean(clean_iris$Sepal.Length)\n",
    "median(clean_iris$Sepal.Length)"
   ]
  },
  {
   "cell_type": "markdown",
   "metadata": {},
   "source": [
    "From the Above code we can observe that the mean and median are very cloase and hence we can conclude that the data is approximately normally distributed  within the Sepal.Lenght Column. \n",
    "\n",
    "We can Determine the same for the other columns as well"
   ]
  },
  {
   "cell_type": "code",
   "execution_count": null,
   "metadata": {
    "vscode": {
     "languageId": "r"
    }
   },
   "outputs": [],
   "source": [
    "mean(clean_iris$Petal.Length)\n",
    "median(clean_iris$Petal.Length)"
   ]
  },
  {
   "cell_type": "code",
   "execution_count": null,
   "metadata": {
    "vscode": {
     "languageId": "r"
    }
   },
   "outputs": [],
   "source": [
    "mean(clean_iris$Sepal.Width)\n",
    "median(clean_iris$Sepal.Width)"
   ]
  },
  {
   "cell_type": "code",
   "execution_count": null,
   "metadata": {
    "vscode": {
     "languageId": "r"
    }
   },
   "outputs": [],
   "source": [
    "mean(clean_iris$Petal.Width)\n",
    "median(clean_iris$Petal.Width)"
   ]
  },
  {
   "cell_type": "markdown",
   "metadata": {},
   "source": [
    "Hence From all above columns we can conlclude that all the columns are almost normally distributed which a very positive sign for a Data Scientist or  statitions"
   ]
  },
  {
   "cell_type": "markdown",
   "metadata": {},
   "source": [
    "Now Once we have made sure that the Data is good now we will proceed further by changing the categorical data into numeric format\n",
    "\n",
    "As we can see in the above dataset there is only one categorical column called as Species.\n",
    "\n",
    "Within the Specis column let us first count how many types of categories are available"
   ]
  },
  {
   "cell_type": "code",
   "execution_count": null,
   "metadata": {
    "vscode": {
     "languageId": "r"
    }
   },
   "outputs": [],
   "source": [
    "count(clean_iris, Species)"
   ]
  },
  {
   "cell_type": "code",
   "execution_count": null,
   "metadata": {
    "vscode": {
     "languageId": "r"
    }
   },
   "outputs": [],
   "source": [
    "#  clean_iris$Species = factor(clean_iris$Species,\n",
    "#                             levels = c('setosa', 'versicolor', 'virginica'),\n",
    "#                             labels = c(1.0,2.0,3.0))"
   ]
  },
  {
   "cell_type": "code",
   "execution_count": null,
   "metadata": {
    "vscode": {
     "languageId": "r"
    }
   },
   "outputs": [],
   "source": [
    "# clean_iris$Species = as.factor(clean_iris$Species)\n",
    "# clean_iris$Species  = as.numeric(clean_iris$Species)"
   ]
  },
  {
   "cell_type": "code",
   "execution_count": null,
   "metadata": {
    "vscode": {
     "languageId": "r"
    }
   },
   "outputs": [],
   "source": []
  },
  {
   "cell_type": "code",
   "execution_count": null,
   "metadata": {
    "vscode": {
     "languageId": "r"
    }
   },
   "outputs": [],
   "source": [
    "View(clean_iris)"
   ]
  },
  {
   "cell_type": "code",
   "execution_count": null,
   "metadata": {
    "vscode": {
     "languageId": "r"
    }
   },
   "outputs": [],
   "source": []
  }
 ],
 "metadata": {
  "kernelspec": {
   "display_name": "R",
   "language": "R",
   "name": "ir"
  },
  "language_info": {
   "codemirror_mode": "r",
   "file_extension": ".r",
   "mimetype": "text/x-r-source",
   "name": "R",
   "pygments_lexer": "r",
   "version": "4.1.2"
  },
  "orig_nbformat": 4
 },
 "nbformat": 4,
 "nbformat_minor": 2
}
